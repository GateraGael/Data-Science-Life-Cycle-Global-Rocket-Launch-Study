{
  "nbformat": 4,
  "nbformat_minor": 0,
  "metadata": {
    "colab": {
      "name": "Aerospace Launch Business Data Analysis",
      "provenance": [],
      "collapsed_sections": [],
      "toc_visible": true,
      "include_colab_link": true
    },
    "kernelspec": {
      "display_name": "Python 3",
      "name": "python3"
    }
  },
  "cells": [
    {
      "cell_type": "markdown",
      "metadata": {
        "id": "view-in-github",
        "colab_type": "text"
      },
      "source": [
        "<a href=\"https://colab.research.google.com/github/AlienDev1/Data-Science-Life-cycle-in-Launch-Business-Analytics/blob/master/Aerospace_Launch_Business_Data_Analysis.ipynb\" target=\"_parent\"><img src=\"https://colab.research.google.com/assets/colab-badge.svg\" alt=\"Open In Colab\"/></a>"
      ]
    },
    {
      "cell_type": "code",
      "metadata": {
        "id": "lV70Zn94BcoF",
        "colab_type": "code",
        "colab": {
          "base_uri": "https://localhost:8080/",
          "height": 125
        },
        "outputId": "9ea79282-e10f-4382-9230-e0c7c918f4d1"
      },
      "source": [
        "# In oder to use personal google drive as a directory for files, it will have to be mounted to the colab notebook.\n",
        "# Only individuals that will be working with the code will have to do this, otherwise it will not be necessary.\n",
        "from google.colab import drive\n",
        "drive.mount('/content/drive')"
      ],
      "execution_count": null,
      "outputs": [
        {
          "output_type": "stream",
          "text": [
            "Go to this URL in a browser: https://accounts.google.com/o/oauth2/auth?client_id=947318989803-6bn6qk8qdgf4n4g3pfee6491hc0brc4i.apps.googleusercontent.com&redirect_uri=urn%3aietf%3awg%3aoauth%3a2.0%3aoob&scope=email%20https%3a%2f%2fwww.googleapis.com%2fauth%2fdocs.test%20https%3a%2f%2fwww.googleapis.com%2fauth%2fdrive%20https%3a%2f%2fwww.googleapis.com%2fauth%2fdrive.photos.readonly%20https%3a%2f%2fwww.googleapis.com%2fauth%2fpeopleapi.readonly&response_type=code\n",
            "\n",
            "Enter your authorization code:\n",
            "4/4AF4NB_j-T4gxDKxXu9YQi82EbXzwF1EKXZDO3nxd_PHnPiiY-oRgUI\n",
            "Mounted at /content/drive\n"
          ],
          "name": "stdout"
        }
      ]
    },
    {
      "cell_type": "markdown",
      "metadata": {
        "id": "fZycoPwkixe2",
        "colab_type": "text"
      },
      "source": [
        "\\\n",
        "\n",
        "# Aerospace Launch Business Data Analysis"
      ]
    },
    {
      "cell_type": "markdown",
      "metadata": {
        "id": "JFwLHML_MmcG",
        "colab_type": "text"
      },
      "source": [
        "# Abstract\n",
        "\n",
        "The exponential advance not only of computational power but also the rapid spread of internet has given independent research groups and personal researchers massive amounts of data previously only available to whomever is able to afford data warehouses. The aforementioned push towards data has created another S.T.E.M. (Science Technology Engineering Mathematics) field that is very much a hot topic in the Tech world. This field is known as Data Science. Data Science, as a profession is a hybrid of software engineering/computer science, statistics, and mathematical modelling. Software knowledge enables researchers to benefit from coding in languages other than de-facto MATLAB to extract and manipulate data from various sources. Once the data is acquired, data analysis and statistical insight is needed to get an intuition of the various trends in the dataset using methods such as resampling methods. Then Machine learning models, such as neural networks which evolved out of various statistical approaches such as Bayesian theorem and Markov chains, can be created for forecasting. Regression-based mathematical models such as Principle Component Analysis (PCA), Least Means Square Error (LMSE) are quite popular in Business Intelligence today for time-series data. This research will be an explorative study with the aim of providing a variety of tools and techniques that are part of the Data Science lifecycle that can prove to be give a massive advantage to researchers in the Aerospace Industry. This lifecycle will be used to study global launch business and applied to various datasets found online."
      ]
    },
    {
      "cell_type": "markdown",
      "metadata": {
        "id": "fVmW5vj4nSd1",
        "colab_type": "text"
      },
      "source": [
        "# Introduction\n",
        "\n",
        "NSBE's Aerospace Special Interest Group, East African Spaceport Feasibility study Team is conducting a study with the purpose defined as to \"Investigate the feasibility of a spaceport in the East African Community (EAC) that could provide low cost, reliable access to space while stimulating African economic and technology advancement [1].\" The purpose of the aformentioned research is rather clear, however, will eventually require various sources of information to prove the \"low cost\", \"reliability\" and other aspects of what would make a spaceport the perfect launchsite for whichever target orbit or applications. One would first be interested in investigating current global launch business and gain insight into the potential cost reduction and potential improvements."
      ]
    },
    {
      "cell_type": "markdown",
      "metadata": {
        "id": "WZ4oHhJ-lQrP",
        "colab_type": "text"
      },
      "source": [
        "# Extract Transform Load (ETL)\n",
        "\n",
        "The Data Science Lifecycle typically starts with Extract, read the data, often from multiple sources; Transform, clearn and structure the data in the desired form;Load, write the data into a database for storage. As defined by Microsoft Azure documentation: \"Extract, transform, and load (ETL) is a data pipeline used to collect data from various sources, transform the data according to business rules, and load it inot a destination data store.[2]\" This launch business data analysis will be using data from Wikipedia's list of rocket launch sites [3], UCS (Union for Concerned Scientists) [4], SpaceX's API [5], and Jonathan McDowell's Launch Log [6] can be used in the writing of a Launch Business case report. "
      ]
    },
    {
      "cell_type": "markdown",
      "metadata": {
        "id": "tHqF7RI0gxIM",
        "colab_type": "text"
      },
      "source": [
        "# Data Source - List of Rocket Launch Sites (Wiki)\n",
        "\n",
        "## Dependecies and Pre-Preprocessing (CSV Module)\n",
        "\n",
        "In this section the preprocessing of the dataset will be done using user defined python functions created using the csv (comma separated values) module to parse the data, the numpy library for the data to be structured as arrarys, and finally create graphs using matplotlib. Some comments will be made regarding the advantages and distanvatages of this methodology."
      ]
    },
    {
      "cell_type": "code",
      "metadata": {
        "id": "25UXr6TFgyCP",
        "colab_type": "code",
        "colab": {
          "base_uri": "https://localhost:8080/",
          "height": 52
        },
        "outputId": "d109649d-9bfc-4153-a148-e94b0938d196"
      },
      "source": [
        "ls"
      ],
      "execution_count": null,
      "outputs": [
        {
          "output_type": "stream",
          "text": [
            "'Aerospace Launch Business Analytics Lifecycle.docx'   \u001b[0m\u001b[01;34mData\u001b[0m/\n",
            "'Aerospace Launch Business Data Analysis'\n"
          ],
          "name": "stdout"
        }
      ]
    },
    {
      "cell_type": "code",
      "metadata": {
        "id": "F2GgTroI3MlT",
        "colab_type": "code",
        "colab": {}
      },
      "source": [
        "import csv\n",
        "import numpy as np"
      ],
      "execution_count": null,
      "outputs": []
    },
    {
      "cell_type": "code",
      "metadata": {
        "id": "5RKpLYL59kyy",
        "colab_type": "code",
        "colab": {}
      },
      "source": [
        "### Creating a function using CSV Module\n",
        "\n",
        "def create_input_matrix(input_file):\n",
        "    # Open the input_file in read mode and output_file in write mode\n",
        "    with open(input_file, 'r', encoding = \"ISO-8859-1\") as read_obj:\n",
        "        # Create a csv.reader object from the input file object\n",
        "        csv_reader = csv.reader(read_obj)\n",
        "        headers = next(csv_reader)\n",
        "        inputs = np.array(list(csv_reader))\n",
        "    return headers, inputs\n",
        "\n",
        "Launch_Sites_Wiki_csv = 'Data/Launch Sites-Wiki.csv'"
      ],
      "execution_count": null,
      "outputs": []
    },
    {
      "cell_type": "code",
      "metadata": {
        "id": "FeDIKUiV9-J8",
        "colab_type": "code",
        "colab": {}
      },
      "source": [
        "# Function Call to create the matrix from the input data\n",
        "Launch_Sites = create_input_matrix(Launch_Sites_Wiki_csv)"
      ],
      "execution_count": null,
      "outputs": []
    },
    {
      "cell_type": "markdown",
      "metadata": {
        "id": "AP-y3JGtmrmS",
        "colab_type": "text"
      },
      "source": [
        "When using the csv module, We are expecting the data to come in as a list of lists. First things first, let's look at the"
      ]
    },
    {
      "cell_type": "code",
      "metadata": {
        "id": "A2BruD1LmnkW",
        "colab_type": "code",
        "colab": {
          "base_uri": "https://localhost:8080/",
          "height": 72
        },
        "outputId": "2b274589-50e1-4933-c731-804924132b5c"
      },
      "source": [
        "Launch_Sites_headers = Launch_Sites[0]\n",
        "Launch_Sites_data = Launch_Sites[1]\n",
        "print(Launch_Sites_headers)\n",
        "print(Launch_Sites_data.shape)"
      ],
      "execution_count": null,
      "outputs": [
        {
          "output_type": "stream",
          "text": [
            "['Continent', 'Country', 'Location', 'Latitude', 'Longitute', 'Year Opened', 'Year Closed', 'Number of rocket launches', 'Heaviest rocket launched', 'Highest achieved Orbit']\n",
            "(110, 10)\n"
          ],
          "name": "stdout"
        }
      ]
    },
    {
      "cell_type": "markdown",
      "metadata": {
        "id": "Q8rh_5WkATys",
        "colab_type": "text"
      },
      "source": [
        "When using the csv module, We are expecting the data to come in as a list of lists. First things first, let's look at the "
      ]
    },
    {
      "cell_type": "code",
      "metadata": {
        "id": "PXztZ_zL_0yU",
        "colab_type": "code",
        "colab": {
          "base_uri": "https://localhost:8080/",
          "height": 35
        },
        "outputId": "5fe4b593-cdb3-4cd8-cf5a-3639d10624e8"
      },
      "source": [
        "# Here we can get all the continents that are part of this dataset by slicing\n",
        "Continents = Launch_Sites_data[:, 0:1]\n",
        "print(type(Continents))\n",
        "# Since we are pulling values from an ndarray, the initial Continents_List will be\n",
        "# a list of lists - a column list or 1 x n vector\n",
        "Continents_List = Continents.tolist()"
      ],
      "execution_count": null,
      "outputs": [
        {
          "output_type": "stream",
          "text": [
            "<class 'numpy.ndarray'>\n"
          ],
          "name": "stdout"
        }
      ]
    },
    {
      "cell_type": "code",
      "metadata": {
        "id": "ZLeKCZyBnbtK",
        "colab_type": "code",
        "colab": {
          "base_uri": "https://localhost:8080/",
          "height": 70
        },
        "outputId": "374820c2-2f1c-40f2-d8d4-6f04db22be38"
      },
      "source": [
        "# Printing the unique values from the the continents list\n",
        "print(len(Continents_List))\n",
        "np.unique(Continents_List)"
      ],
      "execution_count": null,
      "outputs": [
        {
          "output_type": "stream",
          "text": [
            "110\n"
          ],
          "name": "stdout"
        },
        {
          "output_type": "execute_result",
          "data": {
            "text/plain": [
              "array(['', 'Africa', 'Asia', 'Europe', 'North America', 'Ocenia',\n",
              "       'South America'], dtype='<U13')"
            ]
          },
          "metadata": {
            "tags": []
          },
          "execution_count": 19
        }
      ]
    },
    {
      "cell_type": "code",
      "metadata": {
        "id": "Z07GptEjnfP4",
        "colab_type": "code",
        "colab": {
          "base_uri": "https://localhost:8080/",
          "height": 35
        },
        "outputId": "65a6ccbc-80ee-4335-f153-c68d7d13cf33"
      },
      "source": [
        "# Converting the 1 x n vector into a n x 1\n",
        "Continents_List = list(np.concatenate(Continents_List).flat)\n",
        "print(len(Continents_List))"
      ],
      "execution_count": null,
      "outputs": [
        {
          "output_type": "stream",
          "text": [
            "110\n"
          ],
          "name": "stdout"
        }
      ]
    },
    {
      "cell_type": "code",
      "metadata": {
        "id": "TljGvc19nivv",
        "colab_type": "code",
        "colab": {
          "base_uri": "https://localhost:8080/",
          "height": 35
        },
        "outputId": "5ce02ff4-bf2c-4527-ec3b-d063b09ee0a6"
      },
      "source": [
        "Continents_Counts = []\n",
        "Continents_Counts.append(Continents_List.count('Africa'))\n",
        "Continents_Counts.append(Continents_List.count('Asia'))\n",
        "Continents_Counts.append(Continents_List.count('Europe'))\n",
        "Continents_Counts.append(Continents_List.count('North America'))\n",
        "Continents_Counts.append(Continents_List.count('Ocenia'))\n",
        "Continents_Counts.append(Continents_List.count('South America'))\n",
        "print(Continents_Counts)"
      ],
      "execution_count": null,
      "outputs": [
        {
          "output_type": "stream",
          "text": [
            "[8, 38, 26, 16, 5, 16]\n"
          ],
          "name": "stdout"
        }
      ]
    },
    {
      "cell_type": "markdown",
      "metadata": {
        "id": "1CE3ydvunrrx",
        "colab_type": "text"
      },
      "source": [
        "## Launch Sites - Continent Analysis\n",
        "\n",
        "### Bar"
      ]
    },
    {
      "cell_type": "code",
      "metadata": {
        "id": "mEnCiPkPnxu9",
        "colab_type": "code",
        "colab": {}
      },
      "source": [
        "%matplotlib inline\n",
        "import matplotlib.pyplot as plt\n",
        "#matplotlib.rcParams['figure.figsize'] = [width, height]\n",
        "plt.rcParams['figure.figsize'] = [20, 10]"
      ],
      "execution_count": null,
      "outputs": []
    },
    {
      "cell_type": "code",
      "metadata": {
        "id": "F8bdWcf-n2do",
        "colab_type": "code",
        "colab": {
          "base_uri": "https://localhost:8080/",
          "height": 35
        },
        "outputId": "9a005dc1-d0a8-4140-a0e3-9460fc0f195b"
      },
      "source": [
        "x_axis = np.arange(len(Continents_Counts))\n",
        "print(x_axis)"
      ],
      "execution_count": null,
      "outputs": [
        {
          "output_type": "stream",
          "text": [
            "[0 1 2 3 4 5]\n"
          ],
          "name": "stdout"
        }
      ]
    },
    {
      "cell_type": "code",
      "metadata": {
        "id": "5a4zwrs6n_Z9",
        "colab_type": "code",
        "colab": {
          "base_uri": "https://localhost:8080/",
          "height": 612
        },
        "outputId": "69c27f80-0930-4d2e-b251-8a2dd4be9ade"
      },
      "source": [
        "# Telling Matplotlib where we would like to place each of our x-axis headers\n",
        "tick_locations = [value for value in x_axis]\n",
        "plt.xticks(tick_locations, [\"Africa\", \"Asia\", \"Europe\",\"North America\",\"Ocenia\",\"South America\"])\n",
        "# Sets the x limits of the current chart\n",
        "plt.xlim(-0.75, len(x_axis)-0.25)\n",
        "plt.ylim(0, max(Continents_Counts)+5)\n",
        "# Labels and a title\n",
        "plt.title(\"Rocket Launch Sites per continent\")\n",
        "plt.xlabel(\"Continent\")\n",
        "plt.ylabel(\"Count of Launch Sites\")\n",
        "plt.bar(x_axis, Continents_Counts, color='r', alpha=0.5, align=\"center\")"
      ],
      "execution_count": null,
      "outputs": [
        {
          "output_type": "execute_result",
          "data": {
            "text/plain": [
              "<BarContainer object of 6 artists>"
            ]
          },
          "metadata": {
            "tags": []
          },
          "execution_count": 40
        },
        {
          "output_type": "display_data",
          "data": {
            "image/png": "[encoded data removed]",
            "text/plain": [
              "<Figure size 1440x720 with 1 Axes>"
            ]
          },
          "metadata": {
            "tags": [],
            "needs_background": "light"
          }
        }
      ]
    },
    {
      "cell_type": "markdown",
      "metadata": {
        "id": "9nTg6YxepwU3",
        "colab_type": "text"
      },
      "source": [
        "### Pie Chart"
      ]
    },
    {
      "cell_type": "code",
      "metadata": {
        "id": "xM-PQuiPpvJ7",
        "colab_type": "code",
        "colab": {
          "base_uri": "https://localhost:8080/",
          "height": 892
        },
        "outputId": "6cc54285-ac43-423a-92b5-8ce8ee56e700"
      },
      "source": [
        "# Tells matplotlib to seperate the \"Python\" section from the others\n",
        "labels = [\"Africa\",\"Asia\",\"Europe\",\"North America\",\"Ocenia\",\"South America\"]\n",
        "colors = [\"red\",\"blue\",\"orange\",\"lightcoral\",\"lightskyblue\",\"black\"]\n",
        "explode = (0.1, 0, 0.5, 0, 0, 0)\n",
        "plt.pie(Continents_Counts, explode=explode, labels=labels, colors=colors,\n",
        "        autopct=\"%1.1f%%\", shadow=True, startangle=140)"
      ],
      "execution_count": null,
      "outputs": [
        {
          "output_type": "execute_result",
          "data": {
            "text/plain": [
              "([<matplotlib.patches.Wedge at 0x7f8370f7df28>,\n",
              "  <matplotlib.patches.Wedge at 0x7f8370f899b0>,\n",
              "  <matplotlib.patches.Wedge at 0x7f8370f14400>,\n",
              "  <matplotlib.patches.Wedge at 0x7f8370f14e10>,\n",
              "  <matplotlib.patches.Wedge at 0x7f8370f1f860>,\n",
              "  <matplotlib.patches.Wedge at 0x7f8370f2c2b0>],\n",
              " [Text(-1.0712069183896158, 0.5408472409046967, 'Africa'),\n",
              "  Text(-0.7191359693904338, -0.8323721869025186, 'Asia'),\n",
              "  Text(1.4484641278891088, -0.6796702658042673, 'Europe'),\n",
              "  Text(0.7883315511512979, 0.7671592829780454, 'North America'),\n",
              "  Text(0.21179158092715245, 1.0794185130191059, 'Ocenia'),\n",
              "  Text(-0.43999639139884844, 1.0081682278052564, 'South America')],\n",
              " [Text(-0.6248707023939426, 0.315494223861073, '7.3%'),\n",
              "  Text(-0.3922559833038729, -0.4540211928559192, '34.9%'),\n",
              "  Text(0.9958190879237623, -0.46727330774043374, '23.9%'),\n",
              "  Text(0.42999902790070793, 0.4184505179880247, '14.7%'),\n",
              "  Text(0.1155226805057195, 0.5887737343740577, '4.6%'),\n",
              "  Text(-0.23999803167209913, 0.5499099424392307, '14.7%')])"
            ]
          },
          "metadata": {
            "tags": []
          },
          "execution_count": 41
        },
        {
          "output_type": "display_data",
          "data": {
            "image/png": "[encoded data removed]",
            "text/plain": [
              "<Figure size 1440x720 with 1 Axes>"
            ]
          },
          "metadata": {
            "tags": []
          }
        }
      ]
    },
    {
      "cell_type": "markdown",
      "metadata": {
        "id": "TJafr-M-p7nx",
        "colab_type": "text"
      },
      "source": [
        "## Launch Sites -  Countries "
      ]
    },
    {
      "cell_type": "code",
      "metadata": {
        "id": "FiCiaGh3qCjA",
        "colab_type": "code",
        "colab": {
          "base_uri": "https://localhost:8080/",
          "height": 70
        },
        "outputId": "d145b9c4-9031-4f23-b402-7ed18b4da904"
      },
      "source": [
        "# Directly reading the countries Column into a list\n",
        "Countries = list(Launch_Sites_data[:,1])\n",
        "# Checking how many values aer in the list of countries\n",
        "print(len(Countries))\n",
        "# Printing the unique values from the the countries list\n",
        "unique_countries = np.unique(Countries)\n",
        "print(len(unique_countries))\n",
        "print(type(unique_countries))\n"
      ],
      "execution_count": null,
      "outputs": [
        {
          "output_type": "stream",
          "text": [
            "110\n",
            "44\n",
            "<class 'numpy.ndarray'>\n"
          ],
          "name": "stdout"
        }
      ]
    },
    {
      "cell_type": "code",
      "metadata": {
        "id": "wpOHy8ZHqKUq",
        "colab_type": "code",
        "colab": {
          "base_uri": "https://localhost:8080/",
          "height": 35
        },
        "outputId": "55543f99-02f4-4cb5-cf12-d626da4a7bc1"
      },
      "source": [
        "# Counting how many launch site each unique country has\n",
        "countries_counts = []\n",
        "for country in unique_countries:\n",
        "    countries_counts.append(Countries.count(country))\n",
        "print(countries_counts)"
      ],
      "execution_count": null,
      "outputs": [
        {
          "output_type": "stream",
          "text": [
            "[1, 2, 9, 3, 3, 3, 6, 1, 1, 1, 1, 5, 1, 1, 1, 4, 1, 3, 1, 1, 1, 6, 2, 1, 1, 2, 1, 1, 1, 1, 1, 1, 3, 2, 2, 4, 9, 1, 1, 1, 4, 1, 2, 12]\n"
          ],
          "name": "stdout"
        }
      ]
    },
    {
      "cell_type": "markdown",
      "metadata": {
        "id": "v685fQ6Crq68",
        "colab_type": "text"
      },
      "source": [
        "### Countries with at least 2 Spaceports"
      ]
    },
    {
      "cell_type": "code",
      "metadata": {
        "id": "rcYReHH8rlsm",
        "colab_type": "code",
        "colab": {
          "base_uri": "https://localhost:8080/",
          "height": 35
        },
        "outputId": "cf494028-0951-429f-f1fc-18259ffe8c33"
      },
      "source": [
        "# Since we can see from the above list that most coutries have only one\n",
        "# We can only plot those who at least have two launchsites\n",
        "countries_counts_2 = []\n",
        "for country in unique_countries:\n",
        "    if Countries.count(country) >= 2:\n",
        "        countries_counts_2.append(Countries.count(country))\n",
        "    else:\n",
        "        continue\n",
        "print(countries_counts_2)"
      ],
      "execution_count": null,
      "outputs": [
        {
          "output_type": "stream",
          "text": [
            "[2, 9, 3, 3, 3, 6, 5, 4, 3, 6, 2, 2, 3, 2, 2, 4, 9, 4, 2, 12]\n"
          ],
          "name": "stdout"
        }
      ]
    },
    {
      "cell_type": "markdown",
      "metadata": {
        "id": "ujB5bNI5r1Ym",
        "colab_type": "text"
      },
      "source": [
        "### Countries with at least 3 Spaceports"
      ]
    },
    {
      "cell_type": "code",
      "metadata": {
        "id": "MsLL-G09r8cr",
        "colab_type": "code",
        "colab": {
          "base_uri": "https://localhost:8080/",
          "height": 52
        },
        "outputId": "5cd6c153-e2a0-44f2-e0b1-9a2598e01e85"
      },
      "source": [
        "# We can further decrease the sample size to only countries with at least 3\n",
        "# Launch sites\n",
        "# Creating a separate list to store the country names\n",
        "countries_counts_3 = []\n",
        "countries_names_3 = []\n",
        "for country in unique_countries:\n",
        "    if Countries.count(country) >= 3:\n",
        "        countries_counts_3.append(Countries.count(country))\n",
        "        countries_names_3.append(country)\n",
        "    else:\n",
        "        continue\n",
        "print(len(countries_counts_3))\n",
        "print(len(countries_names_3))"
      ],
      "execution_count": null,
      "outputs": [
        {
          "output_type": "stream",
          "text": [
            "14\n",
            "14\n"
          ],
          "name": "stdout"
        }
      ]
    },
    {
      "cell_type": "code",
      "metadata": {
        "id": "7bMsA_EpsbfE",
        "colab_type": "code",
        "colab": {
          "base_uri": "https://localhost:8080/",
          "height": 1000
        },
        "outputId": "f036c1e6-78db-4a5e-ec80-fd5ade941415"
      },
      "source": [
        "# Tells matplotlib to seperate the \"Python\" section from the others\n",
        "labels = countries_names_3\n",
        "colors = [\"red\",\"blue\",\"orange\",\"gold\",\"silver\",\"rebeccapurple\",\n",
        "          \"lightcoral\",\"lightskyblue\",\"black\",\"navy\",\"cyan\",\n",
        "          \"deeppink\",\"greenyellow\",\"honeydew\"]\n",
        "explode = (0.1, 0, 0, 0, 0, 0, 0, 0, 0, 0, 0, 0, 0, 0)\n",
        "plt.pie(countries_counts_3, explode=explode, labels=labels, colors=colors,\n",
        "        autopct=\"%1.1f%%\", shadow=True, startangle=140)"
      ],
      "execution_count": null,
      "outputs": [
        {
          "output_type": "execute_result",
          "data": {
            "text/plain": [
              "([<matplotlib.patches.Wedge at 0x7f8370ee6ba8>,\n",
              "  <matplotlib.patches.Wedge at 0x7f8370ef3668>,\n",
              "  <matplotlib.patches.Wedge at 0x7f8370efc080>,\n",
              "  <matplotlib.patches.Wedge at 0x7f8370efcb00>,\n",
              "  <matplotlib.patches.Wedge at 0x7f8370f085c0>,\n",
              "  <matplotlib.patches.Wedge at 0x7f8370f12048>,\n",
              "  <matplotlib.patches.Wedge at 0x7f8370f12b00>,\n",
              "  <matplotlib.patches.Wedge at 0x7f8370e9d5c0>,\n",
              "  <matplotlib.patches.Wedge at 0x7f8370ea9080>,\n",
              "  <matplotlib.patches.Wedge at 0x7f8370ea9b00>,\n",
              "  <matplotlib.patches.Wedge at 0x7f8370eb25c0>,\n",
              "  <matplotlib.patches.Wedge at 0x7f8370ebe048>,\n",
              "  <matplotlib.patches.Wedge at 0x7f8370ebeb00>,\n",
              "  <matplotlib.patches.Wedge at 0x7f8370ec95c0>],\n",
              " [Text(-1.140566111119611, 0.3729731172155539, 'Argentina'),\n",
              "  Text(-1.0794917973577134, -0.2114177368089385, 'Australia'),\n",
              "  Text(-0.9913871522110822, -0.47660414856650246, 'Brazil'),\n",
              "  Text(-0.8393042290539078, -0.7110333403520721, 'Canada'),\n",
              "  Text(-0.5136678144488953, -0.972700044412097, 'China'),\n",
              "  Text(-0.02075409440172157, -1.0998041951027304, 'Germany'),\n",
              "  Text(0.3908116164381424, -1.0282345454501158, 'India'),\n",
              "  Text(0.6747715549348964, -0.8687251283638238, 'Iran'),\n",
              "  Text(0.9500229038059191, -0.554487585293097, 'Japan'),\n",
              "  Text(1.0882601134094876, -0.1602807710299946, 'Norway'),\n",
              "  Text(1.0874919790026667, 0.16541219908115484, 'Poland'),\n",
              "  Text(0.8393042789827153, 0.7110332814160703, 'Russia'),\n",
              "  Text(0.34189210976673573, 1.0455189071840119, 'Sweden'),\n",
              "  Text(-0.39081158033679214, 1.0282345591715245, 'United States')],\n",
              " [Text(-0.6653302314864397, 0.21756765170907305, '12.2%'),\n",
              "  Text(-0.5888137076496618, -0.11531876553214826, '4.1%'),\n",
              "  Text(-0.540756628478772, -0.2599658992180922, '4.1%'),\n",
              "  Text(-0.45780230675667694, -0.3878363674647666, '4.1%'),\n",
              "  Text(-0.28018244424485195, -0.5305636605884165, '8.1%'),\n",
              "  Text(-0.011320415128211764, -0.5998931973287619, '6.8%'),\n",
              "  Text(0.2131699726026231, -0.560855206609154, '5.4%'),\n",
              "  Text(0.36805721178267076, -0.4738500700166311, '4.1%'),\n",
              "  Text(0.5181943111668649, -0.3024477737962347, '8.1%'),\n",
              "  Text(0.593596425496084, -0.08742587510726978, '4.1%'),\n",
              "  Text(0.5931774430923636, 0.09022483586244809, '5.4%'),\n",
              "  Text(0.4578023339905719, 0.38783633531785644, '12.2%'),\n",
              "  Text(0.1864866053273104, 0.5702830402821882, '5.4%'),\n",
              "  Text(-0.2131699529109775, 0.5608552140935588, '16.2%')])"
            ]
          },
          "metadata": {
            "tags": []
          },
          "execution_count": 42
        },
        {
          "output_type": "display_data",
          "data": {
            "image/png": "[encoded data removed]",
            "text/plain": [
              "<Figure size 1440x720 with 1 Axes>"
            ]
          },
          "metadata": {
            "tags": []
          }
        }
      ]
    },
    {
      "cell_type": "markdown",
      "metadata": {
        "id": "-k63vRdbC2VQ",
        "colab_type": "text"
      },
      "source": [
        "## Interactive Map\n",
        "\n",
        "The interactive map below was created from latitude and longitude values using the Tableau Public software obtained from Wikipedia's list of Rocket Launch Sites page [4]. This is a simple bubble heat map that has the geographic locations of all the launch sites in the world and the which had the most Rocket Launches. If you hover over individual bubbles you can see a field for the year that individual Launch site and a total number of rocket launch sites. During the business case study, the team can do further research on the cost of operabilition for each location and find out the reasons for some of them closing or still operating. Conclusions made will either make a case for or against Spaceport at an Equatorial location. For example, if we look at Spaceports in the Western Hemisphere, the White Sands Missile Range in New Mexico has over 7000 rocket launches to date but it's latitudinal location is at 32 degrees. On the other hand, the Guiana Space center with a latitudinal location of 5.2 only has 200 launches. Why is there such a huge difference in the two ? Maybe specific rockets for specific target orbits are being launched from one location compared to another ? Also if we take a look at the Peenemünde/Greifswalder Oie (54 degrees latitude), was launched from 3000 times. How is this number so high for a Spaceport so far from the Equator ?   Intuitively, one can also ask why it closed in 1945 while being used so frequently at such a early time in Spaceflight ? Was the reason it close an economic factor or other ? Keeping such questions in mind should help in the aid in the formation of further analysis."
      ]
    },
    {
      "cell_type": "markdown",
      "metadata": {
        "id": "s-CgFQOmDIxV",
        "colab_type": "text"
      },
      "source": [
        ""
      ]
    },
    {
      "cell_type": "markdown",
      "metadata": {
        "id": "xwNAQQ1jknhf",
        "colab_type": "text"
      },
      "source": [
        "Link: [Launch Site Analysis](https://public.tableau.com/profile/gael.gatera#!/vizhome/LaunchSiteAnalysis/Sheet1)"
      ]
    },
    {
      "cell_type": "markdown",
      "metadata": {
        "id": "K0YMwF8kBUku",
        "colab_type": "text"
      },
      "source": [
        "# Data Source - Union For Concerned Scientists\n",
        "\n",
        "This is an in-depth databse built by experts at UCS detailing the over 2,218 satellites currently orbiting Earth, including their country of origin, purpose, and other operational details. It is available as a downloadable Excel file, which is updated roughly quarterly. The databse will be used to collect open-source information on the operational specific satellites, their launch sites and other information that will be discussed in the sections below.\n",
        "\n",
        "\n",
        "## Dependencies & Pre-Processing"
      ]
    },
    {
      "cell_type": "code",
      "metadata": {
        "colab_type": "code",
        "id": "Mwu_sWHv4jEo",
        "colab": {}
      },
      "source": [
        "# Install the gspread library to access google spreadsheets in colab\n",
        "!pip install --upgrade --quiet gspread"
      ],
      "execution_count": null,
      "outputs": []
    },
    {
      "cell_type": "code",
      "metadata": {
        "id": "hzh0GSJUB-eT",
        "colab_type": "code",
        "colab": {}
      },
      "source": [
        "import pandas as pd"
      ],
      "execution_count": null,
      "outputs": []
    },
    {
      "cell_type": "code",
      "metadata": {
        "id": "59hmdicfCTz5",
        "colab_type": "code",
        "colab": {
          "base_uri": "https://localhost:8080/",
          "height": 34
        },
        "outputId": "01782680-ee97-4099-8073-106bbc98a4d4"
      },
      "source": [
        "# Making sure you are in the correct directory\n",
        "%cd .."
      ],
      "execution_count": null,
      "outputs": [
        {
          "output_type": "stream",
          "text": [
            "/content/drive/My Drive/Data Science Lifecycle in the Aerospace Industry\n"
          ],
          "name": "stdout"
        }
      ]
    },
    {
      "cell_type": "code",
      "metadata": {
        "id": "nlgDE9K6A8Oi",
        "colab_type": "code",
        "colab": {
          "base_uri": "https://localhost:8080/",
          "height": 34
        },
        "outputId": "c47469b9-7ef5-4f64-d60c-9c49714de192"
      },
      "source": [
        "ls"
      ],
      "execution_count": null,
      "outputs": [
        {
          "output_type": "stream",
          "text": [
            "'Aerospace Launch Business Data Analysis'   \u001b[0m\u001b[01;34mData\u001b[0m/\n"
          ],
          "name": "stdout"
        }
      ]
    },
    {
      "cell_type": "code",
      "metadata": {
        "id": "5mlHpKgpCfgX",
        "colab_type": "code",
        "colab": {
          "base_uri": "https://localhost:8080/",
          "height": 35
        },
        "outputId": "daf3a6ab-9fcf-47a2-9bdc-bcab476d9f99"
      },
      "source": [
        "# Listing the files in your directory to make sure what you need is there\n",
        "ls"
      ],
      "execution_count": null,
      "outputs": [
        {
          "output_type": "stream",
          "text": [
            "UCS-Satellite-Database-10-1-Cleaned.xlsx\n"
          ],
          "name": "stdout"
        }
      ]
    },
    {
      "cell_type": "markdown",
      "metadata": {
        "id": "wjsxYWJNrWIN",
        "colab_type": "text"
      },
      "source": [
        "The database is downloaded as an excel workbook but had to be converted to a Pandas dataframe which is is a 2-dimensional labeled data structure with columns of potentially different types. Dataframes are great ways to perform operations on rows and columns and is widely used in Data Science statistical analysis of all sorts. We will use the Pandas library to create our dataframe and perform queries for the data that we need."
      ]
    },
    {
      "cell_type": "code",
      "metadata": {
        "id": "jeXq7Lsw_mFE",
        "colab_type": "code",
        "colab": {}
      },
      "source": [
        ""
      ],
      "execution_count": null,
      "outputs": []
    },
    {
      "cell_type": "code",
      "metadata": {
        "id": "UkJ99etLH52A",
        "colab_type": "code",
        "colab": {}
      },
      "source": [
        "# Reading in Database from Union of Concerned Scientist for Analysis\n",
        "UCS_df = pd.read_excel(r'Data/UCS-Satellite-Database-10-1-Cleaned.xlsx')"
      ],
      "execution_count": null,
      "outputs": []
    },
    {
      "cell_type": "code",
      "metadata": {
        "id": "DN3Lb2mDIIT7",
        "colab_type": "code",
        "colab": {
          "base_uri": "https://localhost:8080/",
          "height": 532
        },
        "outputId": "831e9c2b-3fde-463e-9979-bbeec610cdf9"
      },
      "source": [
        "# Looking at the first five rows to get an understanding of the kind of data we will be working with.\n",
        "UCS_df.head()"
      ],
      "execution_count": null,
      "outputs": [
        {
          "output_type": "execute_result",
          "data": {
            "text/html": [
              "<div>\n",
              "<style scoped>\n",
              "    .dataframe tbody tr th:only-of-type {\n",
              "        vertical-align: middle;\n",
              "    }\n",
              "\n",
              "    .dataframe tbody tr th {\n",
              "        vertical-align: top;\n",
              "    }\n",
              "\n",
              "    .dataframe thead th {\n",
              "        text-align: right;\n",
              "    }\n",
              "</style>\n",
              "<table border=\"1\" class=\"dataframe\">\n",
              "  <thead>\n",
              "    <tr style=\"text-align: right;\">\n",
              "      <th></th>\n",
              "      <th>Name of Satellite, Alternate Names</th>\n",
              "      <th>Country/Org of UN Registry</th>\n",
              "      <th>Country of Operator/Owner</th>\n",
              "      <th>Operator/Owner</th>\n",
              "      <th>Users</th>\n",
              "      <th>Purpose</th>\n",
              "      <th>Detailed Purpose</th>\n",
              "      <th>Class of Orbit</th>\n",
              "      <th>Type of Orbit</th>\n",
              "      <th>Longitude of GEO (degrees)</th>\n",
              "      <th>Perigee (km)</th>\n",
              "      <th>Apogee (km)</th>\n",
              "      <th>Eccentricity</th>\n",
              "      <th>Inclination (degrees)</th>\n",
              "      <th>Period (minutes)</th>\n",
              "      <th>Launch Mass (kg.)</th>\n",
              "      <th>Dry Mass (kg.)</th>\n",
              "      <th>Power (watts)</th>\n",
              "      <th>Date of Launch</th>\n",
              "      <th>Expected Lifetime (yrs.)</th>\n",
              "      <th>Contractor</th>\n",
              "      <th>Country of Contractor</th>\n",
              "      <th>Launch Site</th>\n",
              "      <th>Launch Vehicle</th>\n",
              "      <th>COSPAR Number</th>\n",
              "      <th>NORAD Number</th>\n",
              "      <th>Comments</th>\n",
              "      <th>Source Used for Orbital Data</th>\n",
              "    </tr>\n",
              "  </thead>\n",
              "  <tbody>\n",
              "    <tr>\n",
              "      <th>0</th>\n",
              "      <td>3Cat-1</td>\n",
              "      <td>NR</td>\n",
              "      <td>Spain</td>\n",
              "      <td>Universitat Politècnica de Catalunya</td>\n",
              "      <td>Civil</td>\n",
              "      <td>Technology Development</td>\n",
              "      <td>NaN</td>\n",
              "      <td>LEO</td>\n",
              "      <td>NaN</td>\n",
              "      <td>0.0</td>\n",
              "      <td>476</td>\n",
              "      <td>500</td>\n",
              "      <td>0.001750</td>\n",
              "      <td>97.40</td>\n",
              "      <td>95.00</td>\n",
              "      <td>4.0</td>\n",
              "      <td>NaN</td>\n",
              "      <td>NaN</td>\n",
              "      <td>2018-11-29</td>\n",
              "      <td>NaN</td>\n",
              "      <td>Universitat Politècnica de Catalunya</td>\n",
              "      <td>Spain</td>\n",
              "      <td>Satish Dhawan Space Centre</td>\n",
              "      <td>PSLV</td>\n",
              "      <td>2018-096K</td>\n",
              "      <td>43728</td>\n",
              "      <td>Student built.</td>\n",
              "      <td>Estimated</td>\n",
              "    </tr>\n",
              "    <tr>\n",
              "      <th>1</th>\n",
              "      <td>Aalto-1</td>\n",
              "      <td>Finland</td>\n",
              "      <td>Finland</td>\n",
              "      <td>University of Aalto</td>\n",
              "      <td>Civil</td>\n",
              "      <td>Technology Development</td>\n",
              "      <td>NaN</td>\n",
              "      <td>LEO</td>\n",
              "      <td>NaN</td>\n",
              "      <td>0.0</td>\n",
              "      <td>497</td>\n",
              "      <td>517</td>\n",
              "      <td>0.001454</td>\n",
              "      <td>97.45</td>\n",
              "      <td>94.70</td>\n",
              "      <td>4.5</td>\n",
              "      <td>NaN</td>\n",
              "      <td>4.5</td>\n",
              "      <td>2017-06-23</td>\n",
              "      <td>2.0</td>\n",
              "      <td>University of Aalto</td>\n",
              "      <td>Finland</td>\n",
              "      <td>Satish Dhawan Space Centre</td>\n",
              "      <td>PSLV</td>\n",
              "      <td>2017-036L</td>\n",
              "      <td>42775</td>\n",
              "      <td>Technology development and education.</td>\n",
              "      <td>JMSatcat/10_17</td>\n",
              "    </tr>\n",
              "    <tr>\n",
              "      <th>2</th>\n",
              "      <td>AAUSat-4</td>\n",
              "      <td>Denmark</td>\n",
              "      <td>Denmark</td>\n",
              "      <td>University of Aalborg</td>\n",
              "      <td>Civil</td>\n",
              "      <td>Earth Observation</td>\n",
              "      <td>Automatic Identification System (AIS)</td>\n",
              "      <td>LEO</td>\n",
              "      <td>Sun-Synchronous</td>\n",
              "      <td>0.0</td>\n",
              "      <td>442</td>\n",
              "      <td>687</td>\n",
              "      <td>0.017665</td>\n",
              "      <td>98.20</td>\n",
              "      <td>95.90</td>\n",
              "      <td>1.0</td>\n",
              "      <td>NaN</td>\n",
              "      <td>NaN</td>\n",
              "      <td>2016-04-25</td>\n",
              "      <td>NaN</td>\n",
              "      <td>University of Aalborg</td>\n",
              "      <td>Denmark</td>\n",
              "      <td>Guiana Space Center</td>\n",
              "      <td>Soyuz 2.1a</td>\n",
              "      <td>2016-025E</td>\n",
              "      <td>41460</td>\n",
              "      <td>Carries AIS system.</td>\n",
              "      <td>Space50</td>\n",
              "    </tr>\n",
              "    <tr>\n",
              "      <th>3</th>\n",
              "      <td>ABS-2 (Koreasat-8, ST-3)</td>\n",
              "      <td>NR</td>\n",
              "      <td>Multinational</td>\n",
              "      <td>Asia Broadcast Satellite Ltd.</td>\n",
              "      <td>Commercial</td>\n",
              "      <td>Communications</td>\n",
              "      <td>NaN</td>\n",
              "      <td>GEO</td>\n",
              "      <td>NaN</td>\n",
              "      <td>75.0</td>\n",
              "      <td>35778</td>\n",
              "      <td>35793</td>\n",
              "      <td>0.000178</td>\n",
              "      <td>0.08</td>\n",
              "      <td>1436.03</td>\n",
              "      <td>6330.0</td>\n",
              "      <td>NaN</td>\n",
              "      <td>16000</td>\n",
              "      <td>2014-02-06</td>\n",
              "      <td>15.0</td>\n",
              "      <td>Space Systems/Loral</td>\n",
              "      <td>USA</td>\n",
              "      <td>Guiana Space Center</td>\n",
              "      <td>Ariane 5 ECA</td>\n",
              "      <td>2014-006A</td>\n",
              "      <td>39508</td>\n",
              "      <td>32 C-band, 51 Ku-band, and 6 Ka-band transpond...</td>\n",
              "      <td>ZARYA</td>\n",
              "    </tr>\n",
              "    <tr>\n",
              "      <th>4</th>\n",
              "      <td>ABS-2A</td>\n",
              "      <td>NR</td>\n",
              "      <td>Multinational</td>\n",
              "      <td>Asia Broadcast Satellite Ltd.</td>\n",
              "      <td>Commercial</td>\n",
              "      <td>Communications</td>\n",
              "      <td>NaN</td>\n",
              "      <td>GEO</td>\n",
              "      <td>NaN</td>\n",
              "      <td>-75.0</td>\n",
              "      <td>35700</td>\n",
              "      <td>35700</td>\n",
              "      <td>0.000000</td>\n",
              "      <td>0.00</td>\n",
              "      <td>1436.10</td>\n",
              "      <td>1800.0</td>\n",
              "      <td>NaN</td>\n",
              "      <td>NaN</td>\n",
              "      <td>2016-06-15</td>\n",
              "      <td>15.0</td>\n",
              "      <td>Boeing Satellite Systems</td>\n",
              "      <td>USA</td>\n",
              "      <td>Cape Canaveral</td>\n",
              "      <td>Falcon 9</td>\n",
              "      <td>2016-038A</td>\n",
              "      <td>41588</td>\n",
              "      <td>NaN</td>\n",
              "      <td>Estimated</td>\n",
              "    </tr>\n",
              "  </tbody>\n",
              "</table>\n",
              "</div>"
            ],
            "text/plain": [
              "  Name of Satellite, Alternate Names  ... Source Used for Orbital Data\n",
              "0                             3Cat-1  ...                    Estimated\n",
              "1                           Aalto-1   ...               JMSatcat/10_17\n",
              "2                           AAUSat-4  ...                      Space50\n",
              "3           ABS-2 (Koreasat-8, ST-3)  ...                        ZARYA\n",
              "4                             ABS-2A  ...                    Estimated\n",
              "\n",
              "[5 rows x 28 columns]"
            ]
          },
          "metadata": {
            "tags": []
          },
          "execution_count": 14
        }
      ]
    },
    {
      "cell_type": "markdown",
      "metadata": {
        "id": "ELsM_SqAs02C",
        "colab_type": "text"
      },
      "source": [
        "## Max Launch Mass Analysis"
      ]
    },
    {
      "cell_type": "code",
      "metadata": {
        "id": "Tbk9_311Jtf0",
        "colab_type": "code",
        "colab": {
          "base_uri": "https://localhost:8080/",
          "height": 351
        },
        "outputId": "fd21caaa-e71a-4e1e-ea7e-8f9be60f8b28"
      },
      "source": [
        "# Quick statistical description of numerical values.\n",
        "\n",
        "UCS_df.describe()"
      ],
      "execution_count": null,
      "outputs": [
        {
          "output_type": "execute_result",
          "data": {
            "text/html": [
              "<div>\n",
              "<style scoped>\n",
              "    .dataframe tbody tr th:only-of-type {\n",
              "        vertical-align: middle;\n",
              "    }\n",
              "\n",
              "    .dataframe tbody tr th {\n",
              "        vertical-align: top;\n",
              "    }\n",
              "\n",
              "    .dataframe thead th {\n",
              "        text-align: right;\n",
              "    }\n",
              "</style>\n",
              "<table border=\"1\" class=\"dataframe\">\n",
              "  <thead>\n",
              "    <tr style=\"text-align: right;\">\n",
              "      <th></th>\n",
              "      <th>Longitude of GEO (degrees)</th>\n",
              "      <th>Perigee (km)</th>\n",
              "      <th>Apogee (km)</th>\n",
              "      <th>Eccentricity</th>\n",
              "      <th>Inclination (degrees)</th>\n",
              "      <th>Period (minutes)</th>\n",
              "      <th>Launch Mass (kg.)</th>\n",
              "      <th>Expected Lifetime (yrs.)</th>\n",
              "      <th>NORAD Number</th>\n",
              "    </tr>\n",
              "  </thead>\n",
              "  <tbody>\n",
              "    <tr>\n",
              "      <th>count</th>\n",
              "      <td>2216.000000</td>\n",
              "      <td>2218.000000</td>\n",
              "      <td>2218.000000</td>\n",
              "      <td>2218.000000</td>\n",
              "      <td>2218.000000</td>\n",
              "      <td>2218.000000</td>\n",
              "      <td>2051.000000</td>\n",
              "      <td>1141.000000</td>\n",
              "      <td>2218.000000</td>\n",
              "    </tr>\n",
              "    <tr>\n",
              "      <th>mean</th>\n",
              "      <td>5.643100</td>\n",
              "      <td>10728.768711</td>\n",
              "      <td>12183.392696</td>\n",
              "      <td>0.016083</td>\n",
              "      <td>60.509225</td>\n",
              "      <td>508.050406</td>\n",
              "      <td>1504.130804</td>\n",
              "      <td>9.969544</td>\n",
              "      <td>39015.945897</td>\n",
              "    </tr>\n",
              "    <tr>\n",
              "      <th>std</th>\n",
              "      <td>47.689443</td>\n",
              "      <td>15347.973916</td>\n",
              "      <td>20388.299337</td>\n",
              "      <td>0.098612</td>\n",
              "      <td>40.543308</td>\n",
              "      <td>713.712788</td>\n",
              "      <td>2138.592316</td>\n",
              "      <td>4.979366</td>\n",
              "      <td>5806.790874</td>\n",
              "    </tr>\n",
              "    <tr>\n",
              "      <th>min</th>\n",
              "      <td>-179.800000</td>\n",
              "      <td>200.000000</td>\n",
              "      <td>300.000000</td>\n",
              "      <td>0.000000</td>\n",
              "      <td>0.000000</td>\n",
              "      <td>90.520000</td>\n",
              "      <td>1.000000</td>\n",
              "      <td>0.250000</td>\n",
              "      <td>7530.000000</td>\n",
              "    </tr>\n",
              "    <tr>\n",
              "      <th>25%</th>\n",
              "      <td>0.000000</td>\n",
              "      <td>500.000000</td>\n",
              "      <td>541.500000</td>\n",
              "      <td>0.000289</td>\n",
              "      <td>6.120000</td>\n",
              "      <td>95.200000</td>\n",
              "      <td>6.000000</td>\n",
              "      <td>5.000000</td>\n",
              "      <td>37234.750000</td>\n",
              "    </tr>\n",
              "    <tr>\n",
              "      <th>50%</th>\n",
              "      <td>0.000000</td>\n",
              "      <td>634.500000</td>\n",
              "      <td>703.000000</td>\n",
              "      <td>0.000903</td>\n",
              "      <td>74.050000</td>\n",
              "      <td>98.000000</td>\n",
              "      <td>447.000000</td>\n",
              "      <td>10.000000</td>\n",
              "      <td>41182.500000</td>\n",
              "    </tr>\n",
              "    <tr>\n",
              "      <th>75%</th>\n",
              "      <td>0.000000</td>\n",
              "      <td>35314.250000</td>\n",
              "      <td>35786.000000</td>\n",
              "      <td>0.001454</td>\n",
              "      <td>97.500000</td>\n",
              "      <td>1434.865000</td>\n",
              "      <td>2497.500000</td>\n",
              "      <td>15.000000</td>\n",
              "      <td>43221.500000</td>\n",
              "    </tr>\n",
              "    <tr>\n",
              "      <th>max</th>\n",
              "      <td>328.500000</td>\n",
              "      <td>62200.000000</td>\n",
              "      <td>330000.000000</td>\n",
              "      <td>0.957119</td>\n",
              "      <td>143.400000</td>\n",
              "      <td>11520.000000</td>\n",
              "      <td>18000.000000</td>\n",
              "      <td>30.000000</td>\n",
              "      <td>53160.000000</td>\n",
              "    </tr>\n",
              "  </tbody>\n",
              "</table>\n",
              "</div>"
            ],
            "text/plain": [
              "       Longitude of GEO (degrees)  ...  NORAD Number\n",
              "count                 2216.000000  ...   2218.000000\n",
              "mean                     5.643100  ...  39015.945897\n",
              "std                     47.689443  ...   5806.790874\n",
              "min                   -179.800000  ...   7530.000000\n",
              "25%                      0.000000  ...  37234.750000\n",
              "50%                      0.000000  ...  41182.500000\n",
              "75%                      0.000000  ...  43221.500000\n",
              "max                    328.500000  ...  53160.000000\n",
              "\n",
              "[8 rows x 9 columns]"
            ]
          },
          "metadata": {
            "tags": []
          },
          "execution_count": 11
        }
      ]
    },
    {
      "cell_type": "markdown",
      "metadata": {
        "id": "cbYOB1hPi8Iv",
        "colab_type": "text"
      },
      "source": [
        "Since this is a statistical description of the whole database, their values might not be of much significance at all. However, if we look at the max value for Launch Mass, we can see that the mass of the highest vehicle launched had a mass of 18,000 Kilograms. So it would be interest to know what that vehicle was, where it was launch from and other information that could be used in our study."
      ]
    },
    {
      "cell_type": "code",
      "metadata": {
        "id": "ByutkCStkJ4l",
        "colab_type": "code",
        "colab": {}
      },
      "source": [
        "grouped = UCS_df.groupby(['Launch Mass (kg.)', 'Name of Satellite, Alternate Names'])"
      ],
      "execution_count": null,
      "outputs": []
    },
    {
      "cell_type": "code",
      "metadata": {
        "id": "6ocqT6gcplZ8",
        "colab_type": "code",
        "colab": {
          "base_uri": "https://localhost:8080/",
          "height": 1000
        },
        "outputId": "3807641f-055e-4cab-a9ee-0375da19da91"
      },
      "source": [
        "grouped.last()"
      ],
      "execution_count": null,
      "outputs": [
        {
          "output_type": "execute_result",
          "data": {
            "text/html": [
              "<div>\n",
              "<style scoped>\n",
              "    .dataframe tbody tr th:only-of-type {\n",
              "        vertical-align: middle;\n",
              "    }\n",
              "\n",
              "    .dataframe tbody tr th {\n",
              "        vertical-align: top;\n",
              "    }\n",
              "\n",
              "    .dataframe thead th {\n",
              "        text-align: right;\n",
              "    }\n",
              "</style>\n",
              "<table border=\"1\" class=\"dataframe\">\n",
              "  <thead>\n",
              "    <tr style=\"text-align: right;\">\n",
              "      <th></th>\n",
              "      <th></th>\n",
              "      <th>Country/Org of UN Registry</th>\n",
              "      <th>Country of Operator/Owner</th>\n",
              "      <th>Operator/Owner</th>\n",
              "      <th>Users</th>\n",
              "      <th>Purpose</th>\n",
              "      <th>Detailed Purpose</th>\n",
              "      <th>Class of Orbit</th>\n",
              "      <th>Type of Orbit</th>\n",
              "      <th>Longitude of GEO (degrees)</th>\n",
              "      <th>Perigee (km)</th>\n",
              "      <th>Apogee (km)</th>\n",
              "      <th>Eccentricity</th>\n",
              "      <th>Inclination (degrees)</th>\n",
              "      <th>Period (minutes)</th>\n",
              "      <th>Dry Mass (kg.)</th>\n",
              "      <th>Power (watts)</th>\n",
              "      <th>Date of Launch</th>\n",
              "      <th>Expected Lifetime (yrs.)</th>\n",
              "      <th>Contractor</th>\n",
              "      <th>Country of Contractor</th>\n",
              "      <th>Launch Site</th>\n",
              "      <th>Launch Vehicle</th>\n",
              "      <th>COSPAR Number</th>\n",
              "      <th>NORAD Number</th>\n",
              "      <th>Comments</th>\n",
              "      <th>Source Used for Orbital Data</th>\n",
              "    </tr>\n",
              "    <tr>\n",
              "      <th>Launch Mass (kg.)</th>\n",
              "      <th>Name of Satellite, Alternate Names</th>\n",
              "      <th></th>\n",
              "      <th></th>\n",
              "      <th></th>\n",
              "      <th></th>\n",
              "      <th></th>\n",
              "      <th></th>\n",
              "      <th></th>\n",
              "      <th></th>\n",
              "      <th></th>\n",
              "      <th></th>\n",
              "      <th></th>\n",
              "      <th></th>\n",
              "      <th></th>\n",
              "      <th></th>\n",
              "      <th></th>\n",
              "      <th></th>\n",
              "      <th></th>\n",
              "      <th></th>\n",
              "      <th></th>\n",
              "      <th></th>\n",
              "      <th></th>\n",
              "      <th></th>\n",
              "      <th></th>\n",
              "      <th></th>\n",
              "      <th></th>\n",
              "      <th></th>\n",
              "    </tr>\n",
              "  </thead>\n",
              "  <tbody>\n",
              "    <tr>\n",
              "      <th rowspan=\"5\" valign=\"top\">1.0</th>\n",
              "      <th>AAUSat-4</th>\n",
              "      <td>Denmark</td>\n",
              "      <td>Denmark</td>\n",
              "      <td>University of Aalborg</td>\n",
              "      <td>Civil</td>\n",
              "      <td>Earth Observation</td>\n",
              "      <td>Automatic Identification System (AIS)</td>\n",
              "      <td>LEO</td>\n",
              "      <td>Sun-Synchronous</td>\n",
              "      <td>0.0</td>\n",
              "      <td>442</td>\n",
              "      <td>687</td>\n",
              "      <td>0.017665</td>\n",
              "      <td>98.20</td>\n",
              "      <td>95.90</td>\n",
              "      <td>NaN</td>\n",
              "      <td>NaN</td>\n",
              "      <td>2016-04-25</td>\n",
              "      <td>NaN</td>\n",
              "      <td>University of Aalborg</td>\n",
              "      <td>Denmark</td>\n",
              "      <td>Guiana Space Center</td>\n",
              "      <td>Soyuz 2.1a</td>\n",
              "      <td>2016-025E</td>\n",
              "      <td>41460</td>\n",
              "      <td>Carries AIS system.</td>\n",
              "      <td>Space50</td>\n",
              "    </tr>\n",
              "    <tr>\n",
              "      <th>Beesat-9 (Tubsat-17)</th>\n",
              "      <td>Germany</td>\n",
              "      <td>Germany</td>\n",
              "      <td>Technical University, Berlin</td>\n",
              "      <td>Civil</td>\n",
              "      <td>Technology Development</td>\n",
              "      <td>NaN</td>\n",
              "      <td>LEO</td>\n",
              "      <td>Sun-Synchronous</td>\n",
              "      <td>0.0</td>\n",
              "      <td>514</td>\n",
              "      <td>546</td>\n",
              "      <td>0.002319</td>\n",
              "      <td>97.50</td>\n",
              "      <td>95.20</td>\n",
              "      <td>NaN</td>\n",
              "      <td>NaN</td>\n",
              "      <td>2019-07-05</td>\n",
              "      <td>NaN</td>\n",
              "      <td>Technical University Berlin</td>\n",
              "      <td>Germany</td>\n",
              "      <td>Vostochny Cosmodrome</td>\n",
              "      <td>Soyuz 2.1b</td>\n",
              "      <td>2019-038AC</td>\n",
              "      <td>44412</td>\n",
              "      <td>Student built, will test an attitude control s...</td>\n",
              "      <td>JMSatcat/11_19</td>\n",
              "    </tr>\n",
              "    <tr>\n",
              "      <th>BisonSat (Nwist Qwiqway)</th>\n",
              "      <td>NR</td>\n",
              "      <td>USA</td>\n",
              "      <td>Salish Kootenai College</td>\n",
              "      <td>Civil</td>\n",
              "      <td>Earth Observation/Technology Development</td>\n",
              "      <td>Optical Imaging</td>\n",
              "      <td>LEO</td>\n",
              "      <td>Non-Polar Inclined</td>\n",
              "      <td>0.0</td>\n",
              "      <td>497</td>\n",
              "      <td>801</td>\n",
              "      <td>0.021656</td>\n",
              "      <td>64.78</td>\n",
              "      <td>97.70</td>\n",
              "      <td>NaN</td>\n",
              "      <td>NaN</td>\n",
              "      <td>2015-10-08</td>\n",
              "      <td>NaN</td>\n",
              "      <td>Salish Kootenai College</td>\n",
              "      <td>USA</td>\n",
              "      <td>Cape Canaveral</td>\n",
              "      <td>Atlas 5</td>\n",
              "      <td>2015-058E</td>\n",
              "      <td>40968</td>\n",
              "      <td>Mainly a training exercise for students with e...</td>\n",
              "      <td>JM/12_15</td>\n",
              "    </tr>\n",
              "    <tr>\n",
              "      <th>Duchifat-1</th>\n",
              "      <td>NR</td>\n",
              "      <td>Israel</td>\n",
              "      <td>Herzliya Science Center (HSC)</td>\n",
              "      <td>Civil</td>\n",
              "      <td>Communications</td>\n",
              "      <td>NaN</td>\n",
              "      <td>LEO</td>\n",
              "      <td>Sun-Synchronous</td>\n",
              "      <td>0.0</td>\n",
              "      <td>601</td>\n",
              "      <td>623</td>\n",
              "      <td>0.001575</td>\n",
              "      <td>97.97</td>\n",
              "      <td>96.93</td>\n",
              "      <td>NaN</td>\n",
              "      <td>NaN</td>\n",
              "      <td>2014-06-19</td>\n",
              "      <td>NaN</td>\n",
              "      <td>Herzliya Science Center (HSC)</td>\n",
              "      <td>Israel</td>\n",
              "      <td>Dombarovsky Air Base</td>\n",
              "      <td>Dnepr</td>\n",
              "      <td>2014-033M</td>\n",
              "      <td>40021</td>\n",
              "      <td>NaN</td>\n",
              "      <td>NaN</td>\n",
              "    </tr>\n",
              "    <tr>\n",
              "      <th>Exoconnect (D-Star One)</th>\n",
              "      <td>NR (11/19)</td>\n",
              "      <td>Germany</td>\n",
              "      <td>German Orbital Systems</td>\n",
              "      <td>Commercial</td>\n",
              "      <td>Technology Development</td>\n",
              "      <td>NaN</td>\n",
              "      <td>LEO</td>\n",
              "      <td>Sun-Synchronous</td>\n",
              "      <td>0.0</td>\n",
              "      <td>514</td>\n",
              "      <td>547</td>\n",
              "      <td>0.002391</td>\n",
              "      <td>97.50</td>\n",
              "      <td>95.20</td>\n",
              "      <td>NaN</td>\n",
              "      <td>NaN</td>\n",
              "      <td>2019-07-05</td>\n",
              "      <td>NaN</td>\n",
              "      <td>German Orbital Systems</td>\n",
              "      <td>Germany</td>\n",
              "      <td>Vostochny Cosmodrome</td>\n",
              "      <td>Soyuz 2.1b</td>\n",
              "      <td>2019-038AA</td>\n",
              "      <td>44410</td>\n",
              "      <td>NaN</td>\n",
              "      <td>JMSatcat/11_19</td>\n",
              "    </tr>\n",
              "    <tr>\n",
              "      <th>...</th>\n",
              "      <th>...</th>\n",
              "      <td>...</td>\n",
              "      <td>...</td>\n",
              "      <td>...</td>\n",
              "      <td>...</td>\n",
              "      <td>...</td>\n",
              "      <td>...</td>\n",
              "      <td>...</td>\n",
              "      <td>...</td>\n",
              "      <td>...</td>\n",
              "      <td>...</td>\n",
              "      <td>...</td>\n",
              "      <td>...</td>\n",
              "      <td>...</td>\n",
              "      <td>...</td>\n",
              "      <td>...</td>\n",
              "      <td>...</td>\n",
              "      <td>...</td>\n",
              "      <td>...</td>\n",
              "      <td>...</td>\n",
              "      <td>...</td>\n",
              "      <td>...</td>\n",
              "      <td>...</td>\n",
              "      <td>...</td>\n",
              "      <td>...</td>\n",
              "      <td>...</td>\n",
              "      <td>...</td>\n",
              "    </tr>\n",
              "    <tr>\n",
              "      <th>14500.0</th>\n",
              "      <th>Lacrosse/Onyx 5 (Lacrosse-5, NROL 16, USA 182)</th>\n",
              "      <td>USA</td>\n",
              "      <td>USA</td>\n",
              "      <td>National Reconnaissance Office (NRO)</td>\n",
              "      <td>Military</td>\n",
              "      <td>Earth Observation</td>\n",
              "      <td>Radar Imaging</td>\n",
              "      <td>LEO</td>\n",
              "      <td>Non-Polar Inclined</td>\n",
              "      <td>0.0</td>\n",
              "      <td>713</td>\n",
              "      <td>716</td>\n",
              "      <td>0.000212</td>\n",
              "      <td>57.01</td>\n",
              "      <td>99.08</td>\n",
              "      <td>NaN</td>\n",
              "      <td>NaN</td>\n",
              "      <td>2005-04-30</td>\n",
              "      <td>9.0</td>\n",
              "      <td>Lockheed Martin Astronautics</td>\n",
              "      <td>USA</td>\n",
              "      <td>Cape Canaveral</td>\n",
              "      <td>Titan 4B</td>\n",
              "      <td>2005-016A</td>\n",
              "      <td>28646</td>\n",
              "      <td>$1 billion range.</td>\n",
              "      <td>SC - ASCR</td>\n",
              "    </tr>\n",
              "    <tr>\n",
              "      <th rowspan=\"4\" valign=\"top\">18000.0</th>\n",
              "      <th>Keyhole 5 (Advanced KH-11, KH-12-5, Improved Crystal, EIS-3, USA 186)</th>\n",
              "      <td>USA</td>\n",
              "      <td>USA</td>\n",
              "      <td>National Reconnaissance Office (NRO)</td>\n",
              "      <td>Military</td>\n",
              "      <td>Earth Observation</td>\n",
              "      <td>Optical Imaging</td>\n",
              "      <td>LEO</td>\n",
              "      <td>Elliptical</td>\n",
              "      <td>0.0</td>\n",
              "      <td>264</td>\n",
              "      <td>1050</td>\n",
              "      <td>0.055927</td>\n",
              "      <td>97.90</td>\n",
              "      <td>97.00</td>\n",
              "      <td>10000</td>\n",
              "      <td>NaN</td>\n",
              "      <td>2005-10-19</td>\n",
              "      <td>5.0</td>\n",
              "      <td>Lockheed Martin</td>\n",
              "      <td>USA</td>\n",
              "      <td>Vandenberg AFB</td>\n",
              "      <td>Titan IV</td>\n",
              "      <td>2005-042A</td>\n",
              "      <td>28888</td>\n",
              "      <td>$1 billion satellite; last use of Titan IV as ...</td>\n",
              "      <td>JMSR</td>\n",
              "    </tr>\n",
              "    <tr>\n",
              "      <th>Keyhole 6 (NRO L49, Advanced KH-11, KH-12-6, Improved Crystal, USA 224)</th>\n",
              "      <td>USA</td>\n",
              "      <td>USA</td>\n",
              "      <td>National Reconnaissance Office (NRO)</td>\n",
              "      <td>Military</td>\n",
              "      <td>Earth Observation</td>\n",
              "      <td>Optical Imaging</td>\n",
              "      <td>LEO</td>\n",
              "      <td>Elliptical</td>\n",
              "      <td>0.0</td>\n",
              "      <td>200</td>\n",
              "      <td>1000</td>\n",
              "      <td>0.057389</td>\n",
              "      <td>97.80</td>\n",
              "      <td>97.00</td>\n",
              "      <td>10000</td>\n",
              "      <td>NaN</td>\n",
              "      <td>2011-01-20</td>\n",
              "      <td>5.0</td>\n",
              "      <td>Lockheed Martin</td>\n",
              "      <td>USA</td>\n",
              "      <td>Vandenberg AFB</td>\n",
              "      <td>Delta 4 Heavy</td>\n",
              "      <td>2011-002A</td>\n",
              "      <td>37348</td>\n",
              "      <td>Believed to be KH-11 class.</td>\n",
              "      <td>JMSatcat/2_USA</td>\n",
              "    </tr>\n",
              "    <tr>\n",
              "      <th>Keyhole 7 (NRO L65, Advanced KH-11, Improved Crystal, USA 245)</th>\n",
              "      <td>USA</td>\n",
              "      <td>USA</td>\n",
              "      <td>National Reconnaissance Office (NRO)</td>\n",
              "      <td>Military</td>\n",
              "      <td>Earth Observation</td>\n",
              "      <td>Optical Imaging</td>\n",
              "      <td>LEO</td>\n",
              "      <td>Elliptical</td>\n",
              "      <td>102.6</td>\n",
              "      <td>257</td>\n",
              "      <td>997</td>\n",
              "      <td>0.052880</td>\n",
              "      <td>97.80</td>\n",
              "      <td>97.25</td>\n",
              "      <td>10000</td>\n",
              "      <td>NaN</td>\n",
              "      <td>2013-08-28</td>\n",
              "      <td>5.0</td>\n",
              "      <td>Lockheed Martin</td>\n",
              "      <td>USA</td>\n",
              "      <td>Vandenberg AFB</td>\n",
              "      <td>Delta 4 Heavy</td>\n",
              "      <td>2013-043A</td>\n",
              "      <td>39232</td>\n",
              "      <td>Believed to be KH-11 class.</td>\n",
              "      <td>ZARYA</td>\n",
              "    </tr>\n",
              "    <tr>\n",
              "      <th>Keyhole 8 (NRO L71, Advanced KH-11, Improved Crystal Block 5, USA 290)</th>\n",
              "      <td>NR (11/19)</td>\n",
              "      <td>USA</td>\n",
              "      <td>National Reconnaissance Office (NRO)</td>\n",
              "      <td>Military</td>\n",
              "      <td>Earth Observation</td>\n",
              "      <td>Optical Imaging</td>\n",
              "      <td>LEO</td>\n",
              "      <td>Polar</td>\n",
              "      <td>0.0</td>\n",
              "      <td>395</td>\n",
              "      <td>419</td>\n",
              "      <td>0.001771</td>\n",
              "      <td>74.00</td>\n",
              "      <td>92.70</td>\n",
              "      <td>10000</td>\n",
              "      <td>NaN</td>\n",
              "      <td>2019-01-19</td>\n",
              "      <td>5.0</td>\n",
              "      <td>Lockheed Martin</td>\n",
              "      <td>USA</td>\n",
              "      <td>Vandenberg AFB</td>\n",
              "      <td>Delta 4 Heavy</td>\n",
              "      <td>2019-004A</td>\n",
              "      <td>43941</td>\n",
              "      <td>Believed to be KH-11 class, Improved Crystal B...</td>\n",
              "      <td>JMSatcat/3_19</td>\n",
              "    </tr>\n",
              "  </tbody>\n",
              "</table>\n",
              "<p>2046 rows × 26 columns</p>\n",
              "</div>"
            ],
            "text/plain": [
              "                                                                     Country/Org of UN Registry  ... Source Used for Orbital Data\n",
              "Launch Mass (kg.) Name of Satellite, Alternate Names                                             ...                             \n",
              "1.0               AAUSat-4                                                              Denmark  ...                      Space50\n",
              "                  Beesat-9 (Tubsat-17)                                                  Germany  ...               JMSatcat/11_19\n",
              "                  BisonSat (Nwist Qwiqway)                                                   NR  ...                     JM/12_15\n",
              "                  Duchifat-1                                                                 NR  ...                          NaN\n",
              "                  Exoconnect (D-Star One)                                            NR (11/19)  ...               JMSatcat/11_19\n",
              "...                                                                                         ...  ...                          ...\n",
              "14500.0           Lacrosse/Onyx 5 (Lacrosse-5, NROL 16, USA 182)                            USA  ...                    SC - ASCR\n",
              "18000.0           Keyhole 5 (Advanced KH-11, KH-12-5, Improved Cr...                        USA  ...                         JMSR\n",
              "                  Keyhole 6 (NRO L49, Advanced KH-11, KH-12-6, Im...                        USA  ...               JMSatcat/2_USA\n",
              "                  Keyhole 7 (NRO L65, Advanced KH-11, Improved Cr...                        USA  ...                        ZARYA\n",
              "                  Keyhole 8 (NRO L71, Advanced KH-11, Improved Cr...                 NR (11/19)  ...                JMSatcat/3_19\n",
              "\n",
              "[2046 rows x 26 columns]"
            ]
          },
          "metadata": {
            "tags": []
          },
          "execution_count": 38
        }
      ]
    },
    {
      "cell_type": "markdown",
      "metadata": {
        "id": "K_3_HeBSqwxl",
        "colab_type": "text"
      },
      "source": [
        "In the above results we can see that a total of four satellites had a Launch Mass of 18000 kilograms and had similar characteristics. All four were Military Satellites Launched by the United States, all found were Earth Obvservation Satellites, all four were Launched to Lower Earth Orbit, so on and so on. So this means that as we progress in our feasiblity study we can make a case for Military Vehicles as the number one source of potential revenue since they tend to launch heavier vehicles and would benefit the most from the cost savings associated with launching from an Equatorial location. Again, this is simply an example of the versatility that using Python and associated libraries for analytical purposes can help us out."
      ]
    },
    {
      "cell_type": "markdown",
      "metadata": {
        "id": "yEXwLJM2tB3m",
        "colab_type": "text"
      },
      "source": [
        "## Frequently used Launch Sites\n",
        "\n",
        "In order to compare our theoretical spaceport to others, I would be interesting to see which are the most frequently used launch sites in the database that we loaded in and see their geographic locations in the map that we generated above."
      ]
    },
    {
      "cell_type": "code",
      "metadata": {
        "id": "gCN-SPBGKSz5",
        "colab_type": "code",
        "colab": {
          "base_uri": "https://localhost:8080/",
          "height": 527
        },
        "outputId": "46556a06-7332-430b-ab70-d7a14276a8ba"
      },
      "source": [
        "# Doing a value count of all Launch sites \n",
        "UCS_df['Launch Site'].value_counts()"
      ],
      "execution_count": null,
      "outputs": [
        {
          "output_type": "execute_result",
          "data": {
            "text/plain": [
              "Satish Dhawan Space Centre              311\n",
              "Cape Canaveral                          311\n",
              "Baikonur Cosmodrome                     294\n",
              "Guiana Space Center                     273\n",
              "Vandenberg AFB                          245\n",
              "Jiuquan Satellite Launch Center         140\n",
              "Plesetsk Cosmodrome                     107\n",
              "Xichang Satellite Launch Center         106\n",
              "Taiyuan Launch Center                    86\n",
              "Vostochny Cosmodrome                     64\n",
              "Dombarovsky Air Base                     57\n",
              "Tanegashima Space Center                 43\n",
              "International Space Station              33\n",
              "Rocket Lab Launch Complex 1              32\n",
              "Sea Launch Odyssey                       28\n",
              "Wallops Island Flight Facility           27\n",
              "International Space Station - Cygnus     12\n",
              "Uchinoura Space Center                   10\n",
              "Orbital ATK L-1011                        8\n",
              "Cygnus                                    8\n",
              "Yellow Sea Launch Platform                7\n",
              "Palmachim Launch Complex                  5\n",
              "Kodiak Launch Complex                     4\n",
              "Svobodny Cosmodrome                       2\n",
              "Kwajalein Island                          2\n",
              "Wenchang Satellite Launch Center          1\n",
              "Naro Space Center                         1\n",
              "Dragon CRS-17                             1\n",
              "Name: Launch Site, dtype: int64"
            ]
          },
          "metadata": {
            "tags": []
          },
          "execution_count": 41
        }
      ]
    },
    {
      "cell_type": "markdown",
      "metadata": {
        "id": "Cd2Kk-EHuM3H",
        "colab_type": "text"
      },
      "source": [
        "We see that within the top five most used Launch pads there is one that has a position of 45 degree latitude (Baikonur Cosmodrome) in Kazakhstan used by the Russians. So this would be a case against our equatorial launch site. In thing to ask ourselves is which satelittes did they launching from the mentioned location which Launch Masses, what were the target orbits, so on and so on. More in depth analysis can be made which would answer those questions."
      ]
    },
    {
      "cell_type": "markdown",
      "metadata": {
        "id": "yJuPikmbwvwb",
        "colab_type": "text"
      },
      "source": [
        "## Frequent Users and Country of Origin\n",
        "Other points can be made about the most frequent users of Satellites according to the data gathered in this database. In the below query we can see that commercial vehicles are commercial satellites are an overwhelming majority with 1033 satellites. Futher analysis can be made to know which are the heaviest vehicles and where they were launched from to make a case for a potential cost savings for using the East African Spaceport as a solution."
      ]
    },
    {
      "cell_type": "code",
      "metadata": {
        "id": "ITe314cELPQ_",
        "colab_type": "code",
        "colab": {
          "base_uri": "https://localhost:8080/",
          "height": 351
        },
        "outputId": "f0b2cca3-1be6-45a1-a72e-7907c1d6c196"
      },
      "source": [
        "#Grouped by users and counting by countries (this would show which use is more popular in each country)\n",
        "ucs_date_countries = UCS_df.groupby([\"Users\"])[\"Country/Org of UN Registry\"].count()\n",
        "ucs_date_countries"
      ],
      "execution_count": null,
      "outputs": [
        {
          "output_type": "execute_result",
          "data": {
            "text/plain": [
              "Users\n",
              "Civil                              151\n",
              "Civil/Government                     3\n",
              "Civil/Military                       1\n",
              "Commercial                        1033\n",
              "Commercial                           1\n",
              "Commercial/Government                1\n",
              "Commercial/Military                  2\n",
              "Government                         419\n",
              "Government/Civil                    28\n",
              "Government/Commercial              112\n",
              "Government/Commercial/Military       1\n",
              "Government/Military                  5\n",
              "Military                           331\n",
              "Military                             1\n",
              "Military/Civil                       5\n",
              "Military/Commercial                 75\n",
              "Military/Government                 49\n",
              "Name: Country/Org of UN Registry, dtype: int64"
            ]
          },
          "metadata": {
            "tags": []
          },
          "execution_count": 46
        }
      ]
    },
    {
      "cell_type": "markdown",
      "metadata": {
        "id": "BhL6kMJOs6wi",
        "colab_type": "text"
      },
      "source": [
        " ## Data Source - Space X API (Application Program Interface)\n",
        "\n",
        "\n",
        "The SpaceX API is a central location for information of most if not all things related to Space X's missions, rockets and more. Subsequent sections will demonstrate how to extract information from this source. Further explanation of how application program interfaces work is outside the scope of this report but may be searched for individually. \n",
        "\n",
        " #### API Enpoint - Launchpads\n",
        "\n",
        "The basic url for this API is https://api.spacexdata.com/v3/, however different endpoints can be added to the url depending on the desired information. For example, in our case we will want the Launchpds field to know which launchpads where used by different Space X launch vehicles.\n"
      ]
    },
    {
      "cell_type": "code",
      "metadata": {
        "id": "96jaoQNP1BHz",
        "colab_type": "code",
        "colab": {}
      },
      "source": [
        "import requests\n",
        "import json"
      ],
      "execution_count": null,
      "outputs": []
    },
    {
      "cell_type": "code",
      "metadata": {
        "id": "OzszXnEZLhwe",
        "colab_type": "code",
        "colab": {
          "base_uri": "https://localhost:8080/",
          "height": 35
        },
        "outputId": "2045bd14-6cd1-40cd-b207-5d24c6aaeb97"
      },
      "source": [
        "url = \"https://api.spacexdata.com/v3/launchpads\"\n",
        "print(requests.get(url))"
      ],
      "execution_count": null,
      "outputs": [
        {
          "output_type": "stream",
          "text": [
            "<Response [200]>\n"
          ],
          "name": "stdout"
        }
      ]
    },
    {
      "cell_type": "code",
      "metadata": {
        "id": "aGy9fBhILw-c",
        "colab_type": "code",
        "colab": {
          "base_uri": "https://localhost:8080/",
          "height": 55
        },
        "outputId": "4a3d72be-781b-441d-9cbf-cb395cc22d44"
      },
      "source": [
        "# This will convert values from the url into json format (key value pairs) so we can use python to do some analysis with !\n",
        "print(requests.get(url).json())"
      ],
      "execution_count": null,
      "outputs": [
        {
          "output_type": "stream",
          "text": [
            "[{'id': 5, 'name': 'VAFB SLC 3W', 'status': 'retired', 'location': {'name': 'Vandenberg Air Force Base', 'region': 'California', 'latitude': 34.6440904, 'longitude': -120.5931438}, 'vehicles_launched': ['Falcon 1'], 'attempted_launches': 0, 'successful_launches': 0, 'wikipedia': 'https://en.wikipedia.org/wiki/Vandenberg_AFB_Space_Launch_Complex_3', 'details': 'SpaceX original west coast launch pad for Falcon 1. Performed a static fire but was never used for a launch and abandoned due to scheduling conflicts.', 'site_id': 'vafb_slc_3w', 'site_name_long': 'Vandenberg Air Force Base Space Launch Complex 3W'}, {'id': 2, 'name': 'CCAFS SLC 40', 'status': 'active', 'location': {'name': 'Cape Canaveral', 'region': 'Florida', 'latitude': 28.5618571, 'longitude': -80.577366}, 'vehicles_launched': ['Falcon 9'], 'attempted_launches': 52, 'successful_launches': 50, 'wikipedia': 'https://en.wikipedia.org/wiki/Cape_Canaveral_Air_Force_Station_Space_Launch_Complex_40', 'details': 'SpaceX primary Falcon 9 launch pad, where all east coast Falcon 9s launched prior to the AMOS-6 anomaly. Initially used to launch Titan rockets for Lockheed Martin. Back online since CRS-13 on 2017-12-15.', 'site_id': 'ccafs_slc_40', 'site_name_long': 'Cape Canaveral Air Force Station Space Launch Complex 40'}, {'id': 8, 'name': 'STLS', 'status': 'under construction', 'location': {'name': 'Boca Chica Village', 'region': 'Texas', 'latitude': 25.9972641, 'longitude': -97.1560845}, 'vehicles_launched': ['Falcon 9'], 'attempted_launches': 0, 'successful_launches': 0, 'wikipedia': 'https://en.wikipedia.org/wiki/SpaceX_South_Texas_Launch_Site', 'details': 'SpaceX new launch site currently under construction to help keep up with the Falcon 9 and Heavy manifests. Expected to be completed in late 2018. Initially will be limited to 12 flights per year, and only GTO launches.', 'site_id': 'stls', 'site_name_long': 'SpaceX South Texas Launch Site'}, {'id': 1, 'name': 'Kwajalein Atoll', 'status': 'retired', 'location': {'name': 'Omelek Island', 'region': 'Marshall Islands', 'latitude': 9.0477206, 'longitude': 167.7431292}, 'vehicles_launched': ['Falcon 1'], 'attempted_launches': 5, 'successful_launches': 2, 'wikipedia': 'https://en.wikipedia.org/wiki/Omelek_Island', 'details': 'SpaceX original launch site, where all of the Falcon 1 launches occured. Abandoned as SpaceX decided against upgrading the pad to support Falcon 9.', 'site_id': 'kwajalein_atoll', 'site_name_long': 'Kwajalein Atoll Omelek Island'}, {'id': 6, 'name': 'VAFB SLC 4E', 'status': 'active', 'location': {'name': 'Vandenberg Air Force Base', 'region': 'California', 'latitude': 34.632093, 'longitude': -120.610829}, 'vehicles_launched': ['Falcon 9'], 'attempted_launches': 15, 'successful_launches': 15, 'wikipedia': 'https://en.wikipedia.org/wiki/Vandenberg_AFB_Space_Launch_Complex_4', 'details': 'SpaceX primary west coast launch pad for polar orbits and sun synchronous orbits, primarily used for Iridium. Also intended to be capable of launching Falcon Heavy.', 'site_id': 'vafb_slc_4e', 'site_name_long': 'Vandenberg Air Force Base Space Launch Complex 4E'}, {'id': 4, 'name': 'KSC LC 39A', 'status': 'active', 'location': {'name': 'Cape Canaveral', 'region': 'Florida', 'latitude': 28.6080585, 'longitude': -80.6039558}, 'vehicles_launched': ['Falcon 9', 'Falcon Heavy'], 'attempted_launches': 20, 'successful_launches': 20, 'wikipedia': 'https://en.wikipedia.org/wiki/Kennedy_Space_Center_Launch_Complex_39#Launch_Complex_39A', 'details': 'NASA historic launch pad that launched most of the Saturn V and Space Shuttle missions. Initially for Falcon Heavy launches, it is now launching all of SpaceX east coast missions due to the damage from the AMOS-6 anomaly. After SLC-40 repairs are complete, it will be upgraded to support Falcon Heavy, a process which will take about two months. In the future it will launch commercial crew missions and the Interplanetary Transport System.', 'site_id': 'ksc_lc_39a', 'site_name_long': 'Kennedy Space Center Historic Launch Complex 39A'}]\n"
          ],
          "name": "stdout"
        }
      ]
    },
    {
      "cell_type": "code",
      "metadata": {
        "id": "nzvfrw5iL28T",
        "colab_type": "code",
        "colab": {
          "base_uri": "https://localhost:8080/",
          "height": 35
        },
        "outputId": "f7f6810d-ecea-4bb3-a348-de45014fe567"
      },
      "source": [
        "# This chunk of code will let us know in which form is the original data coming in the form as\n",
        "response = requests.get(url).json()\n",
        "type(response)"
      ],
      "execution_count": null,
      "outputs": [
        {
          "output_type": "execute_result",
          "data": {
            "text/plain": [
              "list"
            ]
          },
          "metadata": {
            "tags": []
          },
          "execution_count": 4
        }
      ]
    },
    {
      "cell_type": "code",
      "metadata": {
        "id": "_K8CftOCxNQ5",
        "colab_type": "code",
        "colab": {}
      },
      "source": [
        ""
      ],
      "execution_count": null,
      "outputs": []
    },
    {
      "cell_type": "code",
      "metadata": {
        "id": "R8-DNYaoNn99",
        "colab_type": "code",
        "colab": {
          "base_uri": "https://localhost:8080/",
          "height": 1000
        },
        "outputId": "65d2fc5d-cf8b-42d7-f700-a1044abad6ab"
      },
      "source": [
        "# pretty print the output of the JSON - json.dumps - converts list to string\n",
        "print(json.dumps(response, indent=4, sort_keys=True))"
      ],
      "execution_count": null,
      "outputs": [
        {
          "output_type": "stream",
          "text": [
            "[\n",
            "    {\n",
            "        \"attempted_launches\": 0,\n",
            "        \"details\": \"SpaceX original west coast launch pad for Falcon 1. Performed a static fire but was never used for a launch and abandoned due to scheduling conflicts.\",\n",
            "        \"id\": 5,\n",
            "        \"location\": {\n",
            "            \"latitude\": 34.6440904,\n",
            "            \"longitude\": -120.5931438,\n",
            "            \"name\": \"Vandenberg Air Force Base\",\n",
            "            \"region\": \"California\"\n",
            "        },\n",
            "        \"name\": \"VAFB SLC 3W\",\n",
            "        \"site_id\": \"vafb_slc_3w\",\n",
            "        \"site_name_long\": \"Vandenberg Air Force Base Space Launch Complex 3W\",\n",
            "        \"status\": \"retired\",\n",
            "        \"successful_launches\": 0,\n",
            "        \"vehicles_launched\": [\n",
            "            \"Falcon 1\"\n",
            "        ],\n",
            "        \"wikipedia\": \"https://en.wikipedia.org/wiki/Vandenberg_AFB_Space_Launch_Complex_3\"\n",
            "    },\n",
            "    {\n",
            "        \"attempted_launches\": 52,\n",
            "        \"details\": \"SpaceX primary Falcon 9 launch pad, where all east coast Falcon 9s launched prior to the AMOS-6 anomaly. Initially used to launch Titan rockets for Lockheed Martin. Back online since CRS-13 on 2017-12-15.\",\n",
            "        \"id\": 2,\n",
            "        \"location\": {\n",
            "            \"latitude\": 28.5618571,\n",
            "            \"longitude\": -80.577366,\n",
            "            \"name\": \"Cape Canaveral\",\n",
            "            \"region\": \"Florida\"\n",
            "        },\n",
            "        \"name\": \"CCAFS SLC 40\",\n",
            "        \"site_id\": \"ccafs_slc_40\",\n",
            "        \"site_name_long\": \"Cape Canaveral Air Force Station Space Launch Complex 40\",\n",
            "        \"status\": \"active\",\n",
            "        \"successful_launches\": 50,\n",
            "        \"vehicles_launched\": [\n",
            "            \"Falcon 9\"\n",
            "        ],\n",
            "        \"wikipedia\": \"https://en.wikipedia.org/wiki/Cape_Canaveral_Air_Force_Station_Space_Launch_Complex_40\"\n",
            "    },\n",
            "    {\n",
            "        \"attempted_launches\": 0,\n",
            "        \"details\": \"SpaceX new launch site currently under construction to help keep up with the Falcon 9 and Heavy manifests. Expected to be completed in late 2018. Initially will be limited to 12 flights per year, and only GTO launches.\",\n",
            "        \"id\": 8,\n",
            "        \"location\": {\n",
            "            \"latitude\": 25.9972641,\n",
            "            \"longitude\": -97.1560845,\n",
            "            \"name\": \"Boca Chica Village\",\n",
            "            \"region\": \"Texas\"\n",
            "        },\n",
            "        \"name\": \"STLS\",\n",
            "        \"site_id\": \"stls\",\n",
            "        \"site_name_long\": \"SpaceX South Texas Launch Site\",\n",
            "        \"status\": \"under construction\",\n",
            "        \"successful_launches\": 0,\n",
            "        \"vehicles_launched\": [\n",
            "            \"Falcon 9\"\n",
            "        ],\n",
            "        \"wikipedia\": \"https://en.wikipedia.org/wiki/SpaceX_South_Texas_Launch_Site\"\n",
            "    },\n",
            "    {\n",
            "        \"attempted_launches\": 5,\n",
            "        \"details\": \"SpaceX original launch site, where all of the Falcon 1 launches occured. Abandoned as SpaceX decided against upgrading the pad to support Falcon 9.\",\n",
            "        \"id\": 1,\n",
            "        \"location\": {\n",
            "            \"latitude\": 9.0477206,\n",
            "            \"longitude\": 167.7431292,\n",
            "            \"name\": \"Omelek Island\",\n",
            "            \"region\": \"Marshall Islands\"\n",
            "        },\n",
            "        \"name\": \"Kwajalein Atoll\",\n",
            "        \"site_id\": \"kwajalein_atoll\",\n",
            "        \"site_name_long\": \"Kwajalein Atoll Omelek Island\",\n",
            "        \"status\": \"retired\",\n",
            "        \"successful_launches\": 2,\n",
            "        \"vehicles_launched\": [\n",
            "            \"Falcon 1\"\n",
            "        ],\n",
            "        \"wikipedia\": \"https://en.wikipedia.org/wiki/Omelek_Island\"\n",
            "    },\n",
            "    {\n",
            "        \"attempted_launches\": 15,\n",
            "        \"details\": \"SpaceX primary west coast launch pad for polar orbits and sun synchronous orbits, primarily used for Iridium. Also intended to be capable of launching Falcon Heavy.\",\n",
            "        \"id\": 6,\n",
            "        \"location\": {\n",
            "            \"latitude\": 34.632093,\n",
            "            \"longitude\": -120.610829,\n",
            "            \"name\": \"Vandenberg Air Force Base\",\n",
            "            \"region\": \"California\"\n",
            "        },\n",
            "        \"name\": \"VAFB SLC 4E\",\n",
            "        \"site_id\": \"vafb_slc_4e\",\n",
            "        \"site_name_long\": \"Vandenberg Air Force Base Space Launch Complex 4E\",\n",
            "        \"status\": \"active\",\n",
            "        \"successful_launches\": 15,\n",
            "        \"vehicles_launched\": [\n",
            "            \"Falcon 9\"\n",
            "        ],\n",
            "        \"wikipedia\": \"https://en.wikipedia.org/wiki/Vandenberg_AFB_Space_Launch_Complex_4\"\n",
            "    },\n",
            "    {\n",
            "        \"attempted_launches\": 20,\n",
            "        \"details\": \"NASA historic launch pad that launched most of the Saturn V and Space Shuttle missions. Initially for Falcon Heavy launches, it is now launching all of SpaceX east coast missions due to the damage from the AMOS-6 anomaly. After SLC-40 repairs are complete, it will be upgraded to support Falcon Heavy, a process which will take about two months. In the future it will launch commercial crew missions and the Interplanetary Transport System.\",\n",
            "        \"id\": 4,\n",
            "        \"location\": {\n",
            "            \"latitude\": 28.6080585,\n",
            "            \"longitude\": -80.6039558,\n",
            "            \"name\": \"Cape Canaveral\",\n",
            "            \"region\": \"Florida\"\n",
            "        },\n",
            "        \"name\": \"KSC LC 39A\",\n",
            "        \"site_id\": \"ksc_lc_39a\",\n",
            "        \"site_name_long\": \"Kennedy Space Center Historic Launch Complex 39A\",\n",
            "        \"status\": \"active\",\n",
            "        \"successful_launches\": 20,\n",
            "        \"vehicles_launched\": [\n",
            "            \"Falcon 9\",\n",
            "            \"Falcon Heavy\"\n",
            "        ],\n",
            "        \"wikipedia\": \"https://en.wikipedia.org/wiki/Kennedy_Space_Center_Launch_Complex_39#Launch_Complex_39A\"\n",
            "    }\n",
            "]\n"
          ],
          "name": "stdout"
        }
      ]
    },
    {
      "cell_type": "code",
      "metadata": {
        "id": "bVhCcc7lZX1L",
        "colab_type": "code",
        "colab": {
          "base_uri": "https://localhost:8080/",
          "height": 123
        },
        "outputId": "856e59fe-f70a-4796-cf63-1ec690bb3735"
      },
      "source": [
        "# This piece of code iterations through the list of dictionaies (datatype) to get all the names of the launch pads used by SpaceX.\n",
        "for i in response:\n",
        "  if i['name']:\n",
        "    print(i['name'])"
      ],
      "execution_count": null,
      "outputs": [
        {
          "output_type": "stream",
          "text": [
            "VAFB SLC 3W\n",
            "CCAFS SLC 40\n",
            "STLS\n",
            "Kwajalein Atoll\n",
            "VAFB SLC 4E\n",
            "KSC LC 39A\n"
          ],
          "name": "stdout"
        }
      ]
    },
    {
      "cell_type": "markdown",
      "metadata": {
        "id": "VI325XlbxrfM",
        "colab_type": "text"
      },
      "source": [
        "Here we see that Space X has only used 6 different Launch Pads:\n",
        "\n",
        "1. VAFB SLC 3W - Vandenberg Air Force Base Space Launch Complex 3W\n",
        "2. CCAFS SLC 40 - Cape Canaveral Air Force Station Space Launch Complex 40\n",
        "3. STLS - SpaceX South Texas Launch Site\n",
        "4. Kwajalein Atoll - Kwajalein Atoll Omelek Island\n",
        "5. VAFB SLC 4E - Vandenberg Air Force Base Space Launch Complex 4E\n",
        "6. KSC LC 39A - Kennedy Space Center Historic Launch Complex 39A\n",
        "\n",
        "One thing to note is that the South Texas Launch site is not found in the data scrapped from Wikipedia, therefore hurting the credibility of it as a reliable source of data. A better map with more complete information may be created in later stages of the project."
      ]
    },
    {
      "cell_type": "markdown",
      "metadata": {
        "id": "Rx9my5uIz1wH",
        "colab_type": "text"
      },
      "source": [
        ""
      ]
    },
    {
      "cell_type": "code",
      "metadata": {
        "id": "m5K-iSbq0LYB",
        "colab_type": "code",
        "colab": {
          "base_uri": "https://localhost:8080/",
          "height": 407
        },
        "outputId": "dbd1daae-f13b-43d0-8090-a315e70e8da8"
      },
      "source": [
        "# We can also create another request to get information on a specific launchpad\n",
        "response_ksc_lc39a = requests.get(url + \"/ksc_lc_39a\").json()\n",
        "print(json.dumps(response_ksc_lc39a, indent=4, sort_keys=True))"
      ],
      "execution_count": null,
      "outputs": [
        {
          "output_type": "stream",
          "text": [
            "{\n",
            "    \"attempted_launches\": 20,\n",
            "    \"details\": \"NASA historic launch pad that launched most of the Saturn V and Space Shuttle missions. Initially for Falcon Heavy launches, it is now launching all of SpaceX east coast missions due to the damage from the AMOS-6 anomaly. After SLC-40 repairs are complete, it will be upgraded to support Falcon Heavy, a process which will take about two months. In the future it will launch commercial crew missions and the Interplanetary Transport System.\",\n",
            "    \"id\": 4,\n",
            "    \"location\": {\n",
            "        \"latitude\": 28.6080585,\n",
            "        \"longitude\": -80.6039558,\n",
            "        \"name\": \"Cape Canaveral\",\n",
            "        \"region\": \"Florida\"\n",
            "    },\n",
            "    \"name\": \"KSC LC 39A\",\n",
            "    \"site_id\": \"ksc_lc_39a\",\n",
            "    \"site_name_long\": \"Kennedy Space Center Historic Launch Complex 39A\",\n",
            "    \"status\": \"active\",\n",
            "    \"successful_launches\": 20,\n",
            "    \"vehicles_launched\": [\n",
            "        \"Falcon 9\",\n",
            "        \"Falcon Heavy\"\n",
            "    ],\n",
            "    \"wikipedia\": \"https://en.wikipedia.org/wiki/Kennedy_Space_Center_Launch_Complex_39#Launch_Complex_39A\"\n",
            "}\n"
          ],
          "name": "stdout"
        }
      ]
    },
    {
      "cell_type": "code",
      "metadata": {
        "id": "cWecsxA10WXD",
        "colab_type": "code",
        "colab": {
          "base_uri": "https://localhost:8080/",
          "height": 55
        },
        "outputId": "fedb8b54-325a-4c0d-c87f-3fd4f6c7a9ce"
      },
      "source": [
        "# Specific information within each dictionary can be access as keys\n",
        "response_ksc_lc39a['details']"
      ],
      "execution_count": null,
      "outputs": [
        {
          "output_type": "execute_result",
          "data": {
            "text/plain": [
              "'NASA historic launch pad that launched most of the Saturn V and Space Shuttle missions. Initially for Falcon Heavy launches, it is now launching all of SpaceX east coast missions due to the damage from the AMOS-6 anomaly. After SLC-40 repairs are complete, it will be upgraded to support Falcon Heavy, a process which will take about two months. In the future it will launch commercial crew missions and the Interplanetary Transport System.'"
            ]
          },
          "metadata": {
            "tags": []
          },
          "execution_count": 11
        }
      ]
    },
    {
      "cell_type": "markdown",
      "metadata": {
        "id": "P1rIL66i1J0d",
        "colab_type": "text"
      },
      "source": [
        "### API Endpoint - Rockets\n",
        "In this section we will access a different endpoint within the SpaceX API to find out more information out rockets that are manufactured by Space X. Here we will do separate queries for the Falcon 9 rocket."
      ]
    },
    {
      "cell_type": "code",
      "metadata": {
        "id": "K5GNJPj618fB",
        "colab_type": "code",
        "colab": {
          "base_uri": "https://localhost:8080/",
          "height": 238
        },
        "outputId": "4ddb56f5-a0a8-40c8-fa42-2e06dc8dcbc6"
      },
      "source": [
        "# Performing a GET Request and saving the \n",
        "# API's response within a variable\n",
        "url = \"https://api.spacexdata.com/v2/rockets/falcon9\"\n",
        "response = requests.get(url)\n",
        "response_json = response.json()\n",
        "type(response_json)\n",
        "\n",
        "print(json.dumps(response_json, indent=4, sort_keys=True))"
      ],
      "execution_count": null,
      "outputs": [
        {
          "output_type": "error",
          "ename": "NameError",
          "evalue": "ignored",
          "traceback": [
            "\u001b[0;31m---------------------------------------------------------------------------\u001b[0m",
            "\u001b[0;31mNameError\u001b[0m                                 Traceback (most recent call last)",
            "\u001b[0;32m<ipython-input-1-9cddb3b4be94>\u001b[0m in \u001b[0;36m<module>\u001b[0;34m()\u001b[0m\n\u001b[1;32m      2\u001b[0m \u001b[0;31m# API's response within a variable\u001b[0m\u001b[0;34m\u001b[0m\u001b[0;34m\u001b[0m\u001b[0;34m\u001b[0m\u001b[0m\n\u001b[1;32m      3\u001b[0m \u001b[0murl\u001b[0m \u001b[0;34m=\u001b[0m \u001b[0;34m\"https://api.spacexdata.com/v2/rockets/falcon9\"\u001b[0m\u001b[0;34m\u001b[0m\u001b[0;34m\u001b[0m\u001b[0m\n\u001b[0;32m----> 4\u001b[0;31m \u001b[0mresponse\u001b[0m \u001b[0;34m=\u001b[0m \u001b[0mrequests\u001b[0m\u001b[0;34m.\u001b[0m\u001b[0mget\u001b[0m\u001b[0;34m(\u001b[0m\u001b[0murl\u001b[0m\u001b[0;34m)\u001b[0m\u001b[0;34m\u001b[0m\u001b[0;34m\u001b[0m\u001b[0m\n\u001b[0m\u001b[1;32m      5\u001b[0m \u001b[0mresponse_json\u001b[0m \u001b[0;34m=\u001b[0m \u001b[0mresponse\u001b[0m\u001b[0;34m.\u001b[0m\u001b[0mjson\u001b[0m\u001b[0;34m(\u001b[0m\u001b[0;34m)\u001b[0m\u001b[0;34m\u001b[0m\u001b[0;34m\u001b[0m\u001b[0m\n\u001b[1;32m      6\u001b[0m \u001b[0mtype\u001b[0m\u001b[0;34m(\u001b[0m\u001b[0mresponse_json\u001b[0m\u001b[0;34m)\u001b[0m\u001b[0;34m\u001b[0m\u001b[0;34m\u001b[0m\u001b[0m\n",
            "\u001b[0;31mNameError\u001b[0m: name 'requests' is not defined"
          ]
        }
      ]
    },
    {
      "cell_type": "code",
      "metadata": {
        "id": "qIFIgv5G2_X2",
        "colab_type": "code",
        "colab": {
          "base_uri": "https://localhost:8080/",
          "height": 35
        },
        "outputId": "22e4fd7d-b624-41c5-af0a-26c4a78988bb"
      },
      "source": [
        "# Here we are grabbing a specific value from the dictionary. An interesting fact to know is the average cost per launch of the Falcon 9 in general.\n",
        "print(response_json[\"cost_per_launch\"])"
      ],
      "execution_count": null,
      "outputs": [
        {
          "output_type": "stream",
          "text": [
            "50000000\n"
          ],
          "name": "stdout"
        }
      ]
    },
    {
      "cell_type": "markdown",
      "metadata": {
        "id": "7CwYaPvI3ZX3",
        "colab_type": "text"
      },
      "source": [
        "Interesting fact to note for the future analysis and data gathered either from this source others."
      ]
    },
    {
      "cell_type": "code",
      "metadata": {
        "id": "1A5dm4Uy3YXH",
        "colab_type": "code",
        "colab": {
          "base_uri": "https://localhost:8080/",
          "height": 35
        },
        "outputId": "b7fab4d9-ee0a-413f-c075-425ea7a9f5d6"
      },
      "source": [
        "# Here we can take a look at the number of payloads that the falcon 9 can carry using the only available field \n",
        "# relating to payloads....the 'payload weights' key\n",
        "\n",
        "number_payloads = len(response_json[\"payload_weights\"])\n",
        "print(f\"There are {number_payloads} payloads.\")"
      ],
      "execution_count": null,
      "outputs": [
        {
          "output_type": "stream",
          "text": [
            "There are 3 payloads.\n"
          ],
          "name": "stdout"
        }
      ]
    },
    {
      "cell_type": "code",
      "metadata": {
        "id": "2loiiosg3Yv_",
        "colab_type": "code",
        "colab": {
          "base_uri": "https://localhost:8080/",
          "height": 35
        },
        "outputId": "cd4b649a-7d32-46b3-e1de-348118ecf8f0"
      },
      "source": [
        "# Referencing the values stored within sub-dictionaries and sub-lists\n",
        "payload_weight = response_json[\"payload_weights\"][0][\"kg\"]\n",
        "print(f\"The first payload weighed {payload_weight} Kilograms\")"
      ],
      "execution_count": null,
      "outputs": [
        {
          "output_type": "stream",
          "text": [
            "The first payload weighed 22800 Kilograms\n"
          ],
          "name": "stdout"
        }
      ]
    },
    {
      "cell_type": "markdown",
      "metadata": {
        "id": "vm8gl2xV4w81",
        "colab_type": "text"
      },
      "source": [
        "# Conlusion\n",
        "\n",
        "This uninformal proposal was written using Google Colab, a product of Jupyter notebook and Google Drive products to help developers colaborate on projects such as these with efficiency and removing the need to constantly email latest version of code. This is not as in depth as Git products and their version control capabilities enabled by pushes and pulls but for the purpose of simple analysis that will not be needed. Some of the mentioned points will be explored further and more robust analysis can be done using charts and other methodologies."
      ]
    },
    {
      "cell_type": "markdown",
      "metadata": {
        "id": "IU3Z-lSa2HXA",
        "colab_type": "text"
      },
      "source": [
        "### References"
      ]
    },
    {
      "cell_type": "markdown",
      "metadata": {
        "id": "X4aLR7S81pLQ",
        "colab_type": "text"
      },
      "source": [
        "[1] Dr. Obadiah Kegege, Dr. Ousmane N. Diallo, Enanga D. Fale, Aisha R. Bowe (2013). NSBE Aerospace Special Interest Group: <i> EAC Spaceport Feasiblity Study,</i> Retrieved from: https://www.nsbe-aerospace.org/ </p>"
      ]
    },
    {
      "cell_type": "markdown",
      "metadata": {
        "id": "Ky7XvEctl8qJ",
        "colab_type": "text"
      },
      "source": [
        "[2] https://docs.microsoft.com/en-us/azure/architecture/data-guide/relational-data/etl"
      ]
    },
    {
      "cell_type": "markdown",
      "metadata": {
        "id": "Gq_YaVR30qXQ",
        "colab_type": "text"
      },
      "source": [
        "[3] https://en.wikipedia.org/wiki/List_of_rocket_launch_sites\n",
        "\n",
        "[4] https://www.ucsusa.org/resources/satellite-database#:~:text=Assembled%20by%20experts%20at%20the,currently%20in%20orbit%20around%20Earth.\n",
        "\n",
        "[5] https://docs.spacexdata.com/\n",
        "\n",
        "[6] https://planet4589.org/space/log/launch.html"
      ]
    },
    {
      "cell_type": "markdown",
      "metadata": {
        "colab_type": "text",
        "id": "y8ABxI_U-BvD"
      },
      "source": [
        "[3] r/Spacex (Version 3.1.0), Project_name:\", <i> \"SpaceX-API\" </i>docs: https://documenter.getpostman.com/view/2025350/RWaEzAiG, organization_link:https://github.com/r-spacex, description: Open Source REST API for rocket, core, capsule, pad, and launch data, created and maintained by the developers of the r/SpaceX organization.</p>"
      ]
    },
    {
      "cell_type": "markdown",
      "metadata": {
        "id": "1tKiFvXo8W8T",
        "colab_type": "text"
      },
      "source": [
        "\n",
        "# Launch Logs\n"
      ]
    },
    {
      "cell_type": "code",
      "metadata": {
        "id": "7xFpHb5kBQ18",
        "colab_type": "code",
        "colab": {
          "resources": {
            "http://localhost:8080/nbextensions/google.colab/files.js": {
              "data": "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",
              "ok": true,
              "headers": [
                [
                  "content-type",
                  "application/javascript"
                ]
              ],
              "status": 200,
              "status_text": "OK"
            }
          },
          "base_uri": "https://localhost:8080/",
          "height": 75
        },
        "outputId": "0d067f5f-5206-4f63-e62b-9adcbeb81e89"
      },
      "source": [
        "import pandas as pd\n",
        "from google.colab import files\n",
        "upload = files.upload()\n"
      ],
      "execution_count": null,
      "outputs": [
        {
          "output_type": "display_data",
          "data": {
            "text/html": [
              "\n",
              "     <input type=\"file\" id=\"files-8edb1178-fd85-4c9e-9ae6-3fb748eb6fd9\" name=\"files[]\" multiple disabled\n",
              "        style=\"border:none\" />\n",
              "     <output id=\"result-8edb1178-fd85-4c9e-9ae6-3fb748eb6fd9\">\n",
              "      Upload widget is only available when the cell has been executed in the\n",
              "      current browser session. Please rerun this cell to enable.\n",
              "      </output>\n",
              "      <script src=\"/nbextensions/google.colab/files.js\"></script> "
            ],
            "text/plain": [
              "<IPython.core.display.HTML object>"
            ]
          },
          "metadata": {
            "tags": []
          }
        },
        {
          "output_type": "stream",
          "text": [
            "Saving launchlogy.csv to launchlogy.csv\n"
          ],
          "name": "stdout"
        }
      ]
    },
    {
      "cell_type": "code",
      "metadata": {
        "id": "08RkPCRyYgNk",
        "colab_type": "code",
        "colab": {
          "base_uri": "https://localhost:8080/",
          "height": 206
        },
        "outputId": "9413ac21-d5a3-4f44-fa9d-3b11b10826c6"
      },
      "source": [
        "launchFiles = pd.read_csv('launchlogy.csv')\n",
        "launchFiles.head()"
      ],
      "execution_count": null,
      "outputs": [
        {
          "output_type": "execute_result",
          "data": {
            "text/html": [
              "<div>\n",
              "<style scoped>\n",
              "    .dataframe tbody tr th:only-of-type {\n",
              "        vertical-align: middle;\n",
              "    }\n",
              "\n",
              "    .dataframe tbody tr th {\n",
              "        vertical-align: top;\n",
              "    }\n",
              "\n",
              "    .dataframe thead th {\n",
              "        text-align: right;\n",
              "    }\n",
              "</style>\n",
              "<table border=\"1\" class=\"dataframe\">\n",
              "  <thead>\n",
              "    <tr style=\"text-align: right;\">\n",
              "      <th></th>\n",
              "      <th>Launch Date (UTC)</th>\n",
              "      <th>COSPAR</th>\n",
              "      <th>PL Name</th>\n",
              "      <th>Orig PL Name</th>\n",
              "      <th>SATCAT</th>\n",
              "      <th>LV Type</th>\n",
              "      <th>LV S/N</th>\n",
              "      <th>Site</th>\n",
              "      <th>Suc</th>\n",
              "      <th>Ref</th>\n",
              "    </tr>\n",
              "  </thead>\n",
              "  <tbody>\n",
              "    <tr>\n",
              "      <th>0</th>\n",
              "      <td>#</td>\n",
              "      <td>#</td>\n",
              "      <td>#</td>\n",
              "      <td>#</td>\n",
              "      <td>#</td>\n",
              "      <td>#</td>\n",
              "      <td>#</td>\n",
              "      <td>#</td>\n",
              "      <td>#</td>\n",
              "      <td>#</td>\n",
              "    </tr>\n",
              "    <tr>\n",
              "      <th>1</th>\n",
              "      <td>1957 Oct  4 1928:34</td>\n",
              "      <td>1957 ALP 2</td>\n",
              "      <td>1-y ISZ</td>\n",
              "      <td>PS-1</td>\n",
              "      <td>S00002</td>\n",
              "      <td>Sputnik 8K71PS</td>\n",
              "      <td>M1-PS</td>\n",
              "      <td>NIIP-5   LC1</td>\n",
              "      <td>S</td>\n",
              "      <td>Energiya</td>\n",
              "    </tr>\n",
              "    <tr>\n",
              "      <th>2</th>\n",
              "      <td>1957 Nov  3 0230:42</td>\n",
              "      <td>1957 BET 1</td>\n",
              "      <td>2-y ISZ</td>\n",
              "      <td>PS-2</td>\n",
              "      <td>S00003</td>\n",
              "      <td>Sputnik 8K71PS</td>\n",
              "      <td>M1-2PS</td>\n",
              "      <td>NIIP-5   LC1</td>\n",
              "      <td>S</td>\n",
              "      <td>Grahn-WWW</td>\n",
              "    </tr>\n",
              "    <tr>\n",
              "      <th>3</th>\n",
              "      <td>1958 Feb  1 0347:56</td>\n",
              "      <td>1958 ALP</td>\n",
              "      <td>Explorer 1</td>\n",
              "      <td>Explorer 1</td>\n",
              "      <td>S00004</td>\n",
              "      <td>Jupiter C</td>\n",
              "      <td>RS-29    UE</td>\n",
              "      <td>CC       LC26A</td>\n",
              "      <td>S</td>\n",
              "      <td>JunoFam</td>\n",
              "    </tr>\n",
              "    <tr>\n",
              "      <th>4</th>\n",
              "      <td>1958 Mar 17 1215:41</td>\n",
              "      <td>1958 BET 2</td>\n",
              "      <td>Vanguard I</td>\n",
              "      <td>Vanguard Test Satellite</td>\n",
              "      <td>S00005</td>\n",
              "      <td>Vanguard</td>\n",
              "      <td>TV-4</td>\n",
              "      <td>CC       LC18A</td>\n",
              "      <td>S</td>\n",
              "      <td>SP-4202</td>\n",
              "    </tr>\n",
              "  </tbody>\n",
              "</table>\n",
              "</div>"
            ],
            "text/plain": [
              "     Launch Date (UTC)      COSPAR     PL Name  ...            Site Suc        Ref\n",
              "0                    #           #           #  ...               #   #          #\n",
              "1  1957 Oct  4 1928:34  1957 ALP 2     1-y ISZ  ...    NIIP-5   LC1   S   Energiya\n",
              "2  1957 Nov  3 0230:42  1957 BET 1     2-y ISZ  ...    NIIP-5   LC1   S  Grahn-WWW\n",
              "3  1958 Feb  1 0347:56    1958 ALP  Explorer 1  ...  CC       LC26A   S    JunoFam\n",
              "4  1958 Mar 17 1215:41  1958 BET 2  Vanguard I  ...  CC       LC18A   S    SP-4202\n",
              "\n",
              "[5 rows x 10 columns]"
            ]
          },
          "metadata": {
            "tags": []
          },
          "execution_count": 4
        }
      ]
    },
    {
      "cell_type": "markdown",
      "metadata": {
        "id": "M81bloVQuSWh",
        "colab_type": "text"
      },
      "source": [
        ""
      ]
    }
  ]
}