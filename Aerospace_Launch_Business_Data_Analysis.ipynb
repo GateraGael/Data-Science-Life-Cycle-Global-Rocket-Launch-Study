{
  "nbformat": 4,
  "nbformat_minor": 0,
  "metadata": {
    "colab": {
      "name": "Aerospace Launch Business Data Analysis",
      "provenance": [],
      "collapsed_sections": [],
      "toc_visible": true,
      "include_colab_link": true
    },
    "kernelspec": {
      "display_name": "Python 3",
      "name": "python3"
    }
  },
  "cells": [
    {
      "cell_type": "markdown",
      "metadata": {
        "id": "view-in-github",
        "colab_type": "text"
      },
      "source": [
        "<a href=\"https://colab.research.google.com/github/GateraGael/Data-Science-Life-cycle-in-Launch-Business-Analytics/blob/master/Aerospace_Launch_Business_Data_Analysis.ipynb\" target=\"_parent\"><img src=\"https://colab.research.google.com/assets/colab-badge.svg\" alt=\"Open In Colab\"/></a>"
      ]
    },
    {
      "cell_type": "code",
      "metadata": {
        "colab": {
          "base_uri": "https://localhost:8080/"
        },
        "id": "zb5HNwj-evqG",
        "outputId": "59924cb3-ddf3-4792-955e-dd9c72143c1b"
      },
      "source": [
        "# In oder to use personal google drive as a directory for files, it will have to be mounted to the colab notebook.\n",
        "# Only individuals that will be working with the code will have to do this, otherwise it will not be necessary.\n",
        "import os\n",
        "from google.colab import drive\n",
        "drive.mount('/content/drive')"
      ],
      "execution_count": null,
      "outputs": [
        {
          "output_type": "stream",
          "text": [
            "Drive already mounted at /content/drive; to attempt to forcibly remount, call drive.mount(\"/content/drive\", force_remount=True).\n"
          ],
          "name": "stdout"
        }
      ]
    },
    {
      "cell_type": "code",
      "metadata": {
        "id": "25UXr6TFgyCP"
      },
      "source": [
        "Data_Science_Lifecycle_directory = 'drive/My Drive/Data Science Lifecycle in the Aerospace Industry'\n",
        "All_Data = Data_Science_Lifecycle_directory + '/Data'"
      ],
      "execution_count": null,
      "outputs": []
    },
    {
      "cell_type": "code",
      "metadata": {
        "colab": {
          "base_uri": "https://localhost:8080/"
        },
        "id": "rJFSp44wHjxl",
        "outputId": "a6c1a38b-3ad4-4a64-de62-763aae9a59c2"
      },
      "source": [
        "os.listdir(All_Data)"
      ],
      "execution_count": null,
      "outputs": [
        {
          "output_type": "execute_result",
          "data": {
            "text/plain": [
              "['UCS-Satellite-Database-10-1-Cleaned.xlsx',\n",
              " 'UCS-Satellite-Database-10-1-Cleaned.csv',\n",
              " 'Launch Sites-Wiki.xlsx',\n",
              " 'Launch Sites-Wiki.csv',\n",
              " 'LaunchLog.csv',\n",
              " 'LaunchLog.xlsx',\n",
              " 'UCS_Satellites.xlsx',\n",
              " 'Oscar-Space Agencys_List_2021-03-25.xlsx']"
            ]
          },
          "metadata": {
            "tags": []
          },
          "execution_count": 229
        }
      ]
    },
    {
      "cell_type": "markdown",
      "metadata": {
        "id": "JFwLHML_MmcG"
      },
      "source": [
        "# Abstract\n",
        "\n",
        "The exponential advance not only of computational power but also the rapid spread of internet has given independent research groups and personal researchers massive amounts of data previously only available to whomever is able to afford data warehouses. The aforementioned push towards data has created another S.T.E.M. (Science Technology Engineering Mathematics) field that is very much a hot topic in the Tech world. This field is known as Data Science. Data Science, as a profession is a hybrid of software engineering/computer science, statistics, and mathematical modelling. Software knowledge enables researchers to benefit from coding in languages other than de-facto MATLAB to extract and manipulate data from various sources. Once the data is acquired, data analysis and statistical insight is needed to get an intuition of the various trends in the dataset using methods such as resampling methods. Then Machine learning models, such as neural networks which evolved out of various statistical approaches such as Bayesian theorem and Markov chains, can be created for forecasting. Regression-based mathematical models such as Principle Component Analysis (PCA), Least Means Square Error (LMSE) are quite popular in Business Intelligence today for time-series data. This research will be an explorative study with the aim of providing a variety of tools and techniques that are part of the Data Science lifecycle that can prove to be give a massive advantage to researchers in the Aerospace Industry. This lifecycle will be used to study global launch business and applied to various datasets found online."
      ]
    },
    {
      "cell_type": "markdown",
      "metadata": {
        "id": "fZycoPwkixe2"
      },
      "source": [
        "# Aerospace Launch Business Data Analysis"
      ]
    },
    {
      "cell_type": "markdown",
      "metadata": {
        "id": "fVmW5vj4nSd1"
      },
      "source": [
        "# Introduction\n",
        "\n",
        "NSBE's Aerospace Special Interest Group, East African Spaceport Feasibility study Team is conducting a study with the purpose defined as to \"Investigate the feasibility of a spaceport in the East African Community (EAC) that could provide low cost, reliable access to space while stimulating African economic and technology advancement [1].\" The purpose of the aformentioned research is rather clear, however, will eventually require various sources of information to prove the \"low cost\", \"reliability\" and other aspects of what would make a spaceport the perfect launchsite for whichever target orbit or applications. One would first be interested in investigating current global launch business and gain insight into the potential cost reduction and potential improvements."
      ]
    },
    {
      "cell_type": "markdown",
      "metadata": {
        "id": "WZ4oHhJ-lQrP"
      },
      "source": [
        "# Extract Transform Load (ETL)\n",
        "\n",
        "The Data Science Lifecycle typically starts with Extract, read the data, often from multiple sources; Transform, clean and structure the data in the desired form;Load, write the data into a database for storage. As defined by Microsoft Azure documentation: \"Extract, transform, and load (ETL) is a data pipeline used to collect data from various sources, transform the data according to business rules, and load it inot a destination data store.[2]\" This launch business data analysis will be using data from Wikipedia's list of rocket launch sites [3], UCS (Union for Concerned Scientists) [4], SpaceX's API [5], and Jonathan McDowell's Launch Log [6] can be used in the writing of a Launch Business case report. "
      ]
    },
    {
      "cell_type": "markdown",
      "metadata": {
        "id": "tHqF7RI0gxIM"
      },
      "source": [
        "# Data Source 1 - List of Rocket Launch Sites (Wiki)\n",
        "\n",
        "## Dependecies and Pre-Preprocessing (CSV Module)\n",
        "\n",
        "In this section the preprocessing of the dataset will be done using user defined python functions created using the csv (comma separated values) module to parse the data, the numpy library to structure the data as arrarys, and finally create graphs using matplotlib. Some comments will be made regarding the advantages and distanvatages of this methodology."
      ]
    },
    {
      "cell_type": "code",
      "metadata": {
        "id": "5ANyhL_yMQvS"
      },
      "source": [
        "Launch_Sites_Wiki_Data_csv = All_Data + '/Launch Sites-Wiki.csv'\n",
        "Launch_Sites_Wiki_Data_xlx = All_Data + '/Launch Sites-Wiki.xlsx'"
      ],
      "execution_count": null,
      "outputs": []
    },
    {
      "cell_type": "markdown",
      "metadata": {
        "id": "reoszLFJhLEb"
      },
      "source": [
        "### Extract Method 1"
      ]
    },
    {
      "cell_type": "code",
      "metadata": {
        "id": "5RKpLYL59kyy"
      },
      "source": [
        "# Importing the required modules\n",
        "import csv\n",
        "import numpy as np\n",
        "\n",
        "### Creating a function using CSV Module\n",
        "def create_input_matrix(input_file):\n",
        "\n",
        "    # Open the input_file in read mode and output_file in write mode\n",
        "    with open(input_file, 'r', encoding = \"ISO-8859-1\") as read_obj:\n",
        "        # Create a csv.reader object from the input file object\n",
        "        csv_reader = csv.reader(read_obj)\n",
        "        headers = next(csv_reader)\n",
        "        inputs = np.array(list(csv_reader))\n",
        "    return headers, inputs\n",
        "\n",
        "Launch_Sites_Method1 = create_input_matrix(Launch_Sites_Wiki_Data_csv)"
      ],
      "execution_count": null,
      "outputs": []
    },
    {
      "cell_type": "code",
      "metadata": {
        "colab": {
          "base_uri": "https://localhost:8080/"
        },
        "id": "h0gug1An8hqA",
        "outputId": "d8b13357-1faa-44f0-bc2d-5d92a60bcfbc"
      },
      "source": [
        "Launch_Sites_Method1_headers = Launch_Sites_Method1[0]\n",
        "Launch_Sites_Method1_data = Launch_Sites_Method1[1]\n",
        "print(len(Launch_Sites_Method1_headers))\n",
        "print(Launch_Sites_Method1_data.shape)"
      ],
      "execution_count": null,
      "outputs": [
        {
          "output_type": "stream",
          "text": [
            "10\n",
            "(110, 10)\n"
          ],
          "name": "stdout"
        }
      ]
    },
    {
      "cell_type": "markdown",
      "metadata": {
        "id": "AP-y3JGtmrmS"
      },
      "source": [
        "When using the csv module, We are expecting the data to come in as a list of lists. We can take a look at the headers and the shape of the data in order to know which variables we will use for analysis."
      ]
    },
    {
      "cell_type": "markdown",
      "metadata": {
        "id": "mKWMEGuBhDtQ"
      },
      "source": [
        "### Extract Method 2"
      ]
    },
    {
      "cell_type": "code",
      "metadata": {
        "id": "FeDIKUiV9-J8"
      },
      "source": [
        "import csv\n",
        "import numpy as np\n",
        "\n",
        "### creating a function that converts lists to dictionary to hold our headers\n",
        "def list2dictionary(keylist, valuelist):\n",
        "    dictionary = {keylist[i]:valuelist[i] for i in range(0, len(valuelist),1)}\n",
        "    return dictionary\n",
        "\n",
        "### Creating a function using CSV Module\n",
        "def create_single_numpy_matrix(thefile):\n",
        "    with open(thefile,'r', encoding = \"ISO-8859-1\") as read_obj:\n",
        "        #creates a csv.reader object from the input file object\n",
        "        csv_reader = csv.reader(read_obj)\n",
        "        #read the headers separately\n",
        "        headers = next(csv_reader)\n",
        "        # We want the headers to be dictionary keys with indexes as their values\n",
        "        list_of_indexes_headers = [*range(len(headers))]\n",
        "        headers_dict = list2dictionary(headers, list_of_indexes_headers)\n",
        "        numpy_matrix = np.array(list(csv_reader))\n",
        "    return headers_dict, numpy_matrix\n",
        "\n",
        "#Launch_Sites_Wiki_csv2 = 'Data/Launch Sites-Wiki.csv'\n",
        "\n",
        "# Function Call to create the matrix from the input data\n",
        "Launch_Sites_Method2 = create_single_numpy_matrix(Launch_Sites_Wiki_Data_csv)"
      ],
      "execution_count": null,
      "outputs": []
    },
    {
      "cell_type": "code",
      "metadata": {
        "colab": {
          "base_uri": "https://localhost:8080/"
        },
        "id": "A2BruD1LmnkW",
        "outputId": "488a9e0f-d303-4ea6-c2f8-b0e5ee725bd5"
      },
      "source": [
        "Launch_Sites_Method2_headers = Launch_Sites_Method2[0]\n",
        "Launch_Sites_Method2_data = Launch_Sites_Method2[1]\n",
        "\n",
        "print(Launch_Sites_Method2_headers)\n",
        "print(Launch_Sites_Method2_data.shape)"
      ],
      "execution_count": null,
      "outputs": [
        {
          "output_type": "stream",
          "text": [
            "{'Continent': 0, 'Country': 1, 'Location': 2, 'Latitude': 3, 'Longitute': 4, 'Year Opened': 5, 'Year Closed': 6, 'Number of rocket launches': 7, 'Heaviest rocket launched': 8, 'Highest achieved Orbit': 9}\n",
            "(110, 10)\n"
          ],
          "name": "stdout"
        }
      ]
    },
    {
      "cell_type": "code",
      "metadata": {
        "colab": {
          "base_uri": "https://localhost:8080/"
        },
        "id": "kxGg7Lk1_uQh",
        "outputId": "3ecf2c3a-5a2c-41fd-a9f3-eca18038e35b"
      },
      "source": [
        "Launch_Sites_Method2_headers['Location']"
      ],
      "execution_count": null,
      "outputs": [
        {
          "output_type": "execute_result",
          "data": {
            "text/plain": [
              "2"
            ]
          },
          "metadata": {
            "tags": []
          },
          "execution_count": 24
        }
      ]
    },
    {
      "cell_type": "code",
      "metadata": {
        "colab": {
          "base_uri": "https://localhost:8080/"
        },
        "id": "w_lNA0vz_raJ",
        "outputId": "9dc74f3c-fd97-4df3-a293-c4f95a6dc96d"
      },
      "source": [
        "# Here we can get all the continents that are part of this dataset by slicing\n",
        "Locations = Launch_Sites_Method2_data[:, Launch_Sites_Method2_headers['Location']]\n",
        "print(type(Locations))"
      ],
      "execution_count": null,
      "outputs": [
        {
          "output_type": "stream",
          "text": [
            "<class 'numpy.ndarray'>\n"
          ],
          "name": "stdout"
        }
      ]
    },
    {
      "cell_type": "markdown",
      "metadata": {
        "id": "s32CUUwFtHXP"
      },
      "source": [
        "## Location Analysis"
      ]
    },
    {
      "cell_type": "code",
      "metadata": {
        "colab": {
          "base_uri": "https://localhost:8080/"
        },
        "id": "s_vBUfKotLim",
        "outputId": "f55ebd2b-d2e0-4bea-e250-2b426429010c"
      },
      "source": [
        "# Here we can get all the locations that are part of this dataset by slicing\n",
        "Locations = Launch_Sites_Method2_data[:, 2]\n",
        "print(type(Locations))\n",
        "\n",
        "# Since we are pulling values from an ndarray, the initial Locations_List will be\n",
        "# a list of lists - a column list or 1 x n vector\n",
        "Locations_List = Locations.tolist()\n",
        "\n",
        "# Printing the unique values from the the continents list\n",
        "print(len(Locations_List))\n",
        "np.unique(len(Locations_List))"
      ],
      "execution_count": null,
      "outputs": [
        {
          "output_type": "stream",
          "text": [
            "<class 'numpy.ndarray'>\n",
            "110\n"
          ],
          "name": "stdout"
        },
        {
          "output_type": "execute_result",
          "data": {
            "text/plain": [
              "array([110])"
            ]
          },
          "metadata": {
            "tags": []
          },
          "execution_count": 20
        }
      ]
    },
    {
      "cell_type": "code",
      "metadata": {
        "colab": {
          "base_uri": "https://localhost:8080/"
        },
        "id": "zumRiVK_bjg6",
        "outputId": "5a8b5c74-26d1-4f95-e6e6-8adcb5511ab6"
      },
      "source": [
        "# Here we can get all the continents that are part of this dataset by slicing\n",
        "Locations = Launch_Sites_Method2_data[:, 2]\n",
        "print(type(Locations))"
      ],
      "execution_count": null,
      "outputs": [
        {
          "output_type": "stream",
          "text": [
            "<class 'numpy.ndarray'>\n"
          ],
          "name": "stdout"
        }
      ]
    },
    {
      "cell_type": "markdown",
      "metadata": {
        "id": "n0XFWLz6oV96"
      },
      "source": [
        "## Launch Sites Per Continent Analysis"
      ]
    },
    {
      "cell_type": "code",
      "metadata": {
        "colab": {
          "base_uri": "https://localhost:8080/",
          "height": 35
        },
        "id": "PXztZ_zL_0yU",
        "outputId": "558994a5-362e-4a5b-9f65-06b83bb42346"
      },
      "source": [
        "# Here we can get all the continents that are part of this dataset by slicing\n",
        "Continents = Launch_Sites_data[:, 0]\n",
        "print(type(Continents))"
      ],
      "execution_count": null,
      "outputs": [
        {
          "output_type": "stream",
          "text": [
            "<class 'numpy.ndarray'>\n"
          ],
          "name": "stdout"
        }
      ]
    },
    {
      "cell_type": "code",
      "metadata": {
        "colab": {
          "base_uri": "https://localhost:8080/",
          "height": 35
        },
        "id": "wfOorhrWgGs7",
        "outputId": "de42cd14-e157-40dc-bcc7-c9bc59afc0b8"
      },
      "source": [
        "# Since we are pulling values from an ndarray, the initial Continents_List will be\n",
        "# a 2d numpy array into 1 x n vector and using a list (basic python data type) \n",
        "Continents_list = Continents.tolist()\n",
        "print(type(Continents_list))"
      ],
      "execution_count": null,
      "outputs": [
        {
          "output_type": "stream",
          "text": [
            "<class 'list'>\n"
          ],
          "name": "stdout"
        }
      ]
    },
    {
      "cell_type": "code",
      "metadata": {
        "id": "_05k8oB9h7VQ"
      },
      "source": [
        "#print(frequencies)\n",
        "#print('\\n'.join(''.join('{:4}'.format(item) for item in row) for row in frequencies))\n",
        "#print('\\n'.join(' '.join('{:3}'.format(item) for item in row) for row in matrix))"
      ],
      "execution_count": null,
      "outputs": []
    },
    {
      "cell_type": "code",
      "metadata": {
        "colab": {
          "base_uri": "https://localhost:8080/",
          "height": 140
        },
        "id": "ZLeKCZyBnbtK",
        "outputId": "9586a16b-0688-43f9-a6e8-9799c4b1889a"
      },
      "source": [
        "# Printing the unique values from the the continents list\n",
        "unique, counts = np.unique(Continents, return_counts=True)\n",
        "frequencies = np.asarray((unique, counts)).T\n",
        "\n",
        "for row in frequencies:\n",
        "  print('\\t'.join(map(str, row)))"
      ],
      "execution_count": null,
      "outputs": [
        {
          "output_type": "stream",
          "text": [
            "\t1\n",
            "Africa\t8\n",
            "Asia\t38\n",
            "Europe\t26\n",
            "North America\t16\n",
            "Ocenia\t5\n",
            "South America\t16\n"
          ],
          "name": "stdout"
        }
      ]
    },
    {
      "cell_type": "code",
      "metadata": {
        "colab": {
          "base_uri": "https://localhost:8080/",
          "height": 35
        },
        "id": "Z07GptEjnfP4",
        "outputId": "37b46eae-b50e-4fcb-af59-11494cdc0432"
      },
      "source": [
        "# We can also get unique values and counts by converting back to a list of lists\n",
        "Continents_List = list(np.concatenate(Continents_list).flat)\n",
        "print(len(Continents_List))"
      ],
      "execution_count": null,
      "outputs": [
        {
          "output_type": "stream",
          "text": [
            "110\n"
          ],
          "name": "stdout"
        }
      ]
    },
    {
      "cell_type": "code",
      "metadata": {
        "colab": {
          "base_uri": "https://localhost:8080/",
          "height": 35
        },
        "id": "TljGvc19nivv",
        "outputId": "f041412f-65ce-4c9e-d528-476d84357d68"
      },
      "source": [
        "Continents_Counts = []\n",
        "Continents_Counts.append(Continents_List.count('Africa'))\n",
        "Continents_Counts.append(Continents_List.count('Asia'))\n",
        "Continents_Counts.append(Continents_List.count('Europe'))\n",
        "Continents_Counts.append(Continents_List.count('North America'))\n",
        "Continents_Counts.append(Continents_List.count('Ocenia'))\n",
        "Continents_Counts.append(Continents_List.count('South America'))\n",
        "print(Continents_Counts)"
      ],
      "execution_count": null,
      "outputs": [
        {
          "output_type": "stream",
          "text": [
            "[8, 38, 26, 16, 5, 16]\n"
          ],
          "name": "stdout"
        }
      ]
    },
    {
      "cell_type": "code",
      "metadata": {
        "colab": {
          "base_uri": "https://localhost:8080/",
          "height": 35
        },
        "id": "88KzYHL1n_Gk",
        "outputId": "de4c6143-f1cd-49d3-bab5-d77dd11cbed2"
      },
      "source": [
        "# Here we are confirming that there is a row in the dataset that does not have a value for continent\n",
        "Continents_List.count('')"
      ],
      "execution_count": null,
      "outputs": [
        {
          "output_type": "execute_result",
          "data": {
            "text/plain": [
              "1"
            ]
          },
          "metadata": {
            "tags": []
          },
          "execution_count": 12
        }
      ]
    },
    {
      "cell_type": "markdown",
      "metadata": {
        "id": "NgGk13o2jLgU"
      },
      "source": [
        "The result of the above query can be tabulated below.\n",
        "\n",
        "| Africa \t| Asia \t| Europe \t| North America \t| Ocenia \t| South America \t|\n",
        "|:------:\t|:----:\t|:------:\t|:-------------:\t|:------:\t|:-------------:\t|\n",
        "|    8   \t|  38  \t|   26   \t|       16      \t|    5   \t|       16      \t|\n",
        "\n",
        "**Note** That there are a total number of values in the table but the total counts amounted to 110 which means that there is one row that has a missing entry in continent."
      ]
    },
    {
      "cell_type": "markdown",
      "metadata": {
        "id": "1CE3ydvunrrx"
      },
      "source": [
        "### Plotting - Bar Chart"
      ]
    },
    {
      "cell_type": "code",
      "metadata": {
        "id": "mEnCiPkPnxu9"
      },
      "source": [
        "%matplotlib inline\n",
        "import matplotlib.pyplot as plt\n",
        "#matplotlib.rcParams['figure.figsize'] = [width, height]\n",
        "plt.rcParams['figure.figsize'] = [20, 10]"
      ],
      "execution_count": null,
      "outputs": []
    },
    {
      "cell_type": "code",
      "metadata": {
        "colab": {
          "base_uri": "https://localhost:8080/",
          "height": 34
        },
        "id": "F8bdWcf-n2do",
        "outputId": "bf777cc0-1b62-438b-c167-8fcabeff62d4"
      },
      "source": [
        "x_axis = np.arange(len(Continents_Counts))\n",
        "print(x_axis)"
      ],
      "execution_count": null,
      "outputs": [
        {
          "output_type": "stream",
          "text": [
            "[0 1 2 3 4 5]\n"
          ],
          "name": "stdout"
        }
      ]
    },
    {
      "cell_type": "code",
      "metadata": {
        "colab": {
          "base_uri": "https://localhost:8080/",
          "height": 621
        },
        "id": "5a4zwrs6n_Z9",
        "outputId": "9ac9c415-d955-426f-c873-47f77a604b4d"
      },
      "source": [
        "# Telling Matplotlib where we would like to place each of our x-axis headers\n",
        "tick_locations = [value for value in x_axis]\n",
        "plt.xticks(tick_locations, [\"Africa\", \"Asia\", \"Europe\",\"North America\",\"Ocenia\",\"South America\"])\n",
        "# Sets the x limits of the current chart\n",
        "plt.xlim(-0.75, len(x_axis)-0.25)\n",
        "plt.ylim(0, max(Continents_Counts)+5)\n",
        "# Labels and a title\n",
        "plt.title(\"Rocket Launch Sites per continent\")\n",
        "plt.xlabel(\"Continent\")\n",
        "plt.ylabel(\"Count of Launch Sites\")\n",
        "plt.bar(x_axis, Continents_Counts, color='r', alpha=0.5, align=\"center\");"
      ],
      "execution_count": null,
      "outputs": [
        {
          "output_type": "display_data",
          "data": {
            "image/png": "[encoded data removed]",
            "text/plain": [
              "<Figure size 1440x720 with 1 Axes>"
            ]
          },
          "metadata": {
            "tags": []
          }
        }
      ]
    },
    {
      "cell_type": "markdown",
      "metadata": {
        "id": "9nTg6YxepwU3"
      },
      "source": [
        "### Pie Chart"
      ]
    },
    {
      "cell_type": "code",
      "metadata": {
        "colab": {
          "base_uri": "https://localhost:8080/",
          "height": 575
        },
        "id": "xM-PQuiPpvJ7",
        "outputId": "c9e19cda-9391-44b7-9c2e-f966cfe18a0e"
      },
      "source": [
        "# Tells matplotlib to seperate the \"Python\" section from the others\n",
        "labels = [\"Africa\",\"Asia\",\"Europe\",\"North America\",\"Ocenia\",\"South America\"]\n",
        "colors = [\"red\",\"blue\",\"orange\",\"lightcoral\",\"lightskyblue\",\"black\"]\n",
        "explode = (0.1, 0, 0.5, 0, 0, 0)\n",
        "plt.pie(Continents_Counts, explode=explode, labels=labels, colors=colors, autopct=\"%1.1f%%\", shadow=True, startangle=140);"
      ],
      "execution_count": null,
      "outputs": [
        {
          "output_type": "display_data",
          "data": {
            "image/png": "[encoded data removed]",
            "text/plain": [
              "<Figure size 1440x720 with 1 Axes>"
            ]
          },
          "metadata": {
            "tags": []
          }
        }
      ]
    },
    {
      "cell_type": "markdown",
      "metadata": {
        "id": "TJafr-M-p7nx"
      },
      "source": [
        "## Launch Sites Per Countries Analysis "
      ]
    },
    {
      "cell_type": "code",
      "metadata": {
        "colab": {
          "base_uri": "https://localhost:8080/",
          "height": 52
        },
        "id": "FiCiaGh3qCjA",
        "outputId": "fafc89da-9396-430a-cb40-b47e4afa3ec0"
      },
      "source": [
        "# Directly reading the countries Column into a list\n",
        "Countries = list(Launch_Sites_data[:,1])\n",
        "# Checking how many values are in the list of countries\n",
        "print(len(Countries))\n",
        "# Printing the unique values from the the countries list\n",
        "unique_countries = np.unique(Countries)\n",
        "print(len(unique_countries))"
      ],
      "execution_count": null,
      "outputs": [
        {
          "output_type": "stream",
          "text": [
            "110\n",
            "44\n"
          ],
          "name": "stdout"
        }
      ]
    },
    {
      "cell_type": "code",
      "metadata": {
        "colab": {
          "base_uri": "https://localhost:8080/",
          "height": 35
        },
        "id": "6HD2LeaJot-_",
        "outputId": "b7a78dc9-48b6-485b-e177-870a6aa1c961"
      },
      "source": [
        "# Checking if there are unknown values in the countries column\n",
        "Countries.count('')"
      ],
      "execution_count": null,
      "outputs": [
        {
          "output_type": "execute_result",
          "data": {
            "text/plain": [
              "1"
            ]
          },
          "metadata": {
            "tags": []
          },
          "execution_count": 24
        }
      ]
    },
    {
      "cell_type": "code",
      "metadata": {
        "colab": {
          "base_uri": "https://localhost:8080/",
          "height": 35
        },
        "id": "wpOHy8ZHqKUq",
        "outputId": "a1033917-09fc-4096-bdc2-7d3c18f47c86"
      },
      "source": [
        "# Counting how many launch site each unique country has\n",
        "countries_counts = []\n",
        "for country in unique_countries:\n",
        "  countries_counts.append(Countries.count(country))\n",
        "print(countries_counts)"
      ],
      "execution_count": null,
      "outputs": [
        {
          "output_type": "stream",
          "text": [
            "[1, 2, 9, 3, 3, 3, 6, 1, 1, 1, 1, 5, 1, 1, 1, 4, 1, 3, 1, 1, 1, 6, 2, 1, 1, 2, 1, 1, 1, 1, 1, 1, 3, 2, 2, 4, 9, 1, 1, 1, 4, 1, 2, 12]\n"
          ],
          "name": "stdout"
        }
      ]
    },
    {
      "cell_type": "markdown",
      "metadata": {
        "id": "v685fQ6Crq68"
      },
      "source": [
        "### Countries with at least 2 Spaceports"
      ]
    },
    {
      "cell_type": "code",
      "metadata": {
        "colab": {
          "base_uri": "https://localhost:8080/",
          "height": 34
        },
        "id": "rcYReHH8rlsm",
        "outputId": "b8b74ac8-6c9c-429e-ce9b-629792490088"
      },
      "source": [
        "# Since we can see from the above list that most coutries have only one\n",
        "# We can only plot those who at least have two launchsites\n",
        "countries_counts_2 = []\n",
        "for country in unique_countries:\n",
        "    if Countries.count(country) >= 2:\n",
        "        countries_counts_2.append(Countries.count(country))\n",
        "    else:\n",
        "        continue\n",
        "print(countries_counts_2)"
      ],
      "execution_count": null,
      "outputs": [
        {
          "output_type": "stream",
          "text": [
            "[2, 9, 3, 3, 3, 6, 5, 4, 3, 6, 2, 2, 3, 2, 2, 4, 9, 4, 2, 12]\n"
          ],
          "name": "stdout"
        }
      ]
    },
    {
      "cell_type": "markdown",
      "metadata": {
        "id": "ujB5bNI5r1Ym"
      },
      "source": [
        "### Countries with at least 3 Spaceports"
      ]
    },
    {
      "cell_type": "code",
      "metadata": {
        "colab": {
          "base_uri": "https://localhost:8080/",
          "height": 35
        },
        "id": "MsLL-G09r8cr",
        "outputId": "bfc41d23-ef55-4715-9317-05307ee3573e"
      },
      "source": [
        "# We can further decrease the sample size to only countries with at least 3\n",
        "# Launch sites\n",
        "# Creating a separate list to store the country names\n",
        "countries_counts_3 = []\n",
        "countries_names_3 = []\n",
        "threshold = 3\n",
        "for country in unique_countries:\n",
        "    if Countries.count(country) >= threshold:\n",
        "      countries_counts_3.append(Countries.count(country))\n",
        "      countries_names_3.append(country)\n",
        "    else:\n",
        "      continue\n",
        "print(f\"There are {len(countries_counts_3)} countries with at least {threshold} launch sites !\")"
      ],
      "execution_count": null,
      "outputs": [
        {
          "output_type": "stream",
          "text": [
            "There are 14 countries with at least 3 launch sites !\n"
          ],
          "name": "stdout"
        }
      ]
    },
    {
      "cell_type": "markdown",
      "metadata": {
        "id": "-M1ZUENCubcU"
      },
      "source": [
        "| Country       \t| Launch Sites Counts \t|\n",
        "|---------------\t|---------------------\t|\n",
        "| Argentina     \t| 9                   \t|\n",
        "| Australia     \t| 3                   \t|\n",
        "| Brazil        \t| 3                   \t|\n",
        "| Canada        \t| 3                   \t|\n",
        "| China         \t| 6                   \t|\n",
        "| Germany       \t| 5                   \t|\n",
        "| India         \t| 4                   \t|\n",
        "| Iran          \t| 3                   \t|\n",
        "| Japan         \t| 6                   \t|\n",
        "| Norway        \t| 3                   \t|\n",
        "| Poland        \t| 4                   \t|\n",
        "| Russia        \t| 9                   \t|\n",
        "| Sweden        \t| 4                   \t|\n",
        "| United States \t| 12                  \t|"
      ]
    },
    {
      "cell_type": "code",
      "metadata": {
        "colab": {
          "base_uri": "https://localhost:8080/",
          "height": 575
        },
        "id": "7bMsA_EpsbfE",
        "outputId": "e477b8a0-c15f-4a77-c8ec-4506c90503af"
      },
      "source": [
        "# Tells matplotlib to seperate the \"Python\" section from the others\n",
        "labels = countries_names_3\n",
        "colors = [\"red\",\"blue\",\"orange\",\"gold\",\"silver\",\"rebeccapurple\",\n",
        "          \"lightcoral\",\"lightskyblue\",\"black\",\"navy\",\"cyan\",\n",
        "          \"deeppink\",\"greenyellow\",\"honeydew\"]\n",
        "explode = (0.1, 0, 0, 0, 0, 0, 0, 0, 0, 0, 0, 0, 0, 0)\n",
        "plt.pie(countries_counts_3, explode=explode, labels=labels, \n",
        "        colors=colors, autopct=\"%1.1f%%\", shadow=True, startangle=140);"
      ],
      "execution_count": null,
      "outputs": [
        {
          "output_type": "display_data",
          "data": {
            "image/png": "[encoded data removed]",
            "text/plain": [
              "<Figure size 1440x720 with 1 Axes>"
            ]
          },
          "metadata": {
            "tags": []
          }
        }
      ]
    },
    {
      "cell_type": "markdown",
      "metadata": {
        "id": "9piC-BzIkvCn"
      },
      "source": [
        "## Heaviest Rocket Launches Analysis\n",
        "\n",
        "The 9th column in the dataset showns the heaviest rocket launched per launch site. This should be an important variable to confirm our hypothesis that the heavier rockets are launched as close to the equator."
      ]
    },
    {
      "cell_type": "code",
      "metadata": {
        "colab": {
          "base_uri": "https://localhost:8080/",
          "height": 52
        },
        "id": "00QnoKv4jXYT",
        "outputId": "9ec6ebe8-9dcf-44a6-d268-09a029a08dbb"
      },
      "source": [
        "# Here we can get all the values in the Heaviest_Rocket_Launched column\n",
        "Heaviest_Rocket_Launched = list(Launch_Sites_data[:, 8])\n",
        "print(f\"Total values in column : {len(Heaviest_Rocket_Launched)}\")\n",
        "\n",
        "# Printing the unique values from the the countries list\n",
        "unique_Heaviest_Rocket_Launched = np.unique(Heaviest_Rocket_Launched)\n",
        "print(f\"Unique Heaviest Rocket Launched values : {len(unique_Heaviest_Rocket_Launched)}\")"
      ],
      "execution_count": null,
      "outputs": [
        {
          "output_type": "stream",
          "text": [
            "Total values in column : 110\n",
            "Unique Heaviest Rocket Launched values : 36\n"
          ],
          "name": "stdout"
        }
      ]
    },
    {
      "cell_type": "code",
      "metadata": {
        "colab": {
          "base_uri": "https://localhost:8080/",
          "height": 35
        },
        "id": "KWMoQZiPmhcN",
        "outputId": "2977cdea-4cdc-4b90-acd9-1c7041469f42"
      },
      "source": [
        "# Counting how many launch site each unique country has\n",
        "heavy_rocket_launch_counts = []\n",
        "for rocket in unique_Heaviest_Rocket_Launched:\n",
        "    heavy_rocket_launch_counts.append(Heaviest_Rocket_Launched.count(rocket))\n",
        "print(heavy_rocket_launch_counts)"
      ],
      "execution_count": null,
      "outputs": [
        {
          "output_type": "stream",
          "text": [
            "[1, 1, 1, 1, 1, 1, 1, 1, 1, 1, 1, 1, 1, 1, 1, 1, 1, 1, 1, 1, 1, 1, 1, 1, 1, 2, 1, 1, 1, 1, 1, 1, 1, 1, 1, 74]\n"
          ],
          "name": "stdout"
        }
      ]
    },
    {
      "cell_type": "markdown",
      "metadata": {
        "id": "3UaPt3_Yn1Bc"
      },
      "source": [
        "When taking a look at the count values and see an outlier in the 74 value\n",
        "as a data analyst it is understandable that the data might come is as incomplete\n",
        "As taking a look at the raw data there are several \"unkown\" mispelled unknown\n",
        "values therefore I will do a check on how many those are in order to confirm."
      ]
    },
    {
      "cell_type": "code",
      "metadata": {
        "colab": {
          "base_uri": "https://localhost:8080/",
          "height": 34
        },
        "id": "oYIFjlpzoLBf",
        "outputId": "e1c02976-85b9-4520-a615-77a99cbf94ba"
      },
      "source": [
        "Heaviest_Rocket_Launched.count('Unkown')"
      ],
      "execution_count": null,
      "outputs": [
        {
          "output_type": "execute_result",
          "data": {
            "text/plain": [
              "74"
            ]
          },
          "metadata": {
            "tags": []
          },
          "execution_count": 18
        }
      ]
    },
    {
      "cell_type": "code",
      "metadata": {
        "colab": {
          "base_uri": "https://localhost:8080/",
          "height": 34
        },
        "id": "XXBjhhtvo1v2",
        "outputId": "a06b5f80-86d7-4117-ad7c-2d7bb2f98402"
      },
      "source": [
        "# Removing the 74 value out of the list of counts\n",
        "heavy_rocket_launch_counts.remove(74)\n",
        "print(heavy_rocket_launch_counts)"
      ],
      "execution_count": null,
      "outputs": [
        {
          "output_type": "stream",
          "text": [
            "[1, 1, 1, 1, 1, 1, 1, 1, 1, 1, 1, 1, 1, 1, 1, 1, 1, 1, 1, 1, 1, 1, 1, 1, 1, 2, 1, 1, 1, 1, 1, 1, 1, 1, 1]\n"
          ],
          "name": "stdout"
        }
      ]
    },
    {
      "cell_type": "markdown",
      "metadata": {
        "id": "p4YBixIsqeVW"
      },
      "source": [
        "## Highest achieved Orbit Analysis"
      ]
    },
    {
      "cell_type": "code",
      "metadata": {
        "colab": {
          "base_uri": "https://localhost:8080/",
          "height": 52
        },
        "id": "IUzeK-vIqb7b",
        "outputId": "33b0b5f2-8256-431c-b70b-08b3c601e3ed"
      },
      "source": [
        "# Directly reading the countries Column into a list\n",
        "Highest_achieved_orbit = list(Launch_Sites_data[:,9])\n",
        "\n",
        "# Checking how many values are in the Highest_achieved_orbit\n",
        "print(len(Highest_achieved_orbit))\n",
        "\n",
        "# Printing the unique values from the the countries list\n",
        "unique_Highest_achieved_orbit = np.unique(Highest_achieved_orbit)\n",
        "print(len(unique_Highest_achieved_orbit))"
      ],
      "execution_count": null,
      "outputs": [
        {
          "output_type": "stream",
          "text": [
            "110\n",
            "9\n"
          ],
          "name": "stdout"
        }
      ]
    },
    {
      "cell_type": "code",
      "metadata": {
        "colab": {
          "base_uri": "https://localhost:8080/",
          "height": 203
        },
        "id": "HfbYSNILiBHV",
        "outputId": "7bb9213b-0f6d-40cf-e0d3-e756223e0298"
      },
      "source": [
        "for rocket in unique_Heaviest_Rocket_Launched:\n",
        "    print(rocket)\n",
        "#print(heavy_rocket_launch_counts)"
      ],
      "execution_count": null,
      "outputs": [
        {
          "output_type": "error",
          "ename": "NameError",
          "evalue": "ignored",
          "traceback": [
            "\u001b[0;31m---------------------------------------------------------------------------\u001b[0m",
            "\u001b[0;31mNameError\u001b[0m                                 Traceback (most recent call last)",
            "\u001b[0;32m<ipython-input-1-0ba7a54623da>\u001b[0m in \u001b[0;36m<module>\u001b[0;34m()\u001b[0m\n\u001b[0;32m----> 1\u001b[0;31m \u001b[0;32mfor\u001b[0m \u001b[0mrocket\u001b[0m \u001b[0;32min\u001b[0m \u001b[0munique_Heaviest_Rocket_Launched\u001b[0m\u001b[0;34m:\u001b[0m\u001b[0;34m\u001b[0m\u001b[0;34m\u001b[0m\u001b[0m\n\u001b[0m\u001b[1;32m      2\u001b[0m     \u001b[0mprint\u001b[0m\u001b[0;34m(\u001b[0m\u001b[0mrocket\u001b[0m\u001b[0;34m)\u001b[0m\u001b[0;34m\u001b[0m\u001b[0;34m\u001b[0m\u001b[0m\n\u001b[1;32m      3\u001b[0m \u001b[0;31m#print(heavy_rocket_launch_counts)\u001b[0m\u001b[0;34m\u001b[0m\u001b[0;34m\u001b[0m\u001b[0;34m\u001b[0m\u001b[0m\n",
            "\u001b[0;31mNameError\u001b[0m: name 'unique_Heaviest_Rocket_Launched' is not defined"
          ]
        }
      ]
    },
    {
      "cell_type": "code",
      "metadata": {
        "colab": {
          "base_uri": "https://localhost:8080/",
          "height": 175
        },
        "id": "e5I8n2CnBCHo",
        "outputId": "2cb8cac4-f1b4-4064-e2ce-0c3fe5749ea2"
      },
      "source": [
        "# Here we are checking the frequecies of each highest achieved orbit\n",
        "unique, counts = np.unique(Highest_achieved_orbit, return_counts=True)\n",
        "orbit_frequencies = np.asarray((unique, counts)).T\n",
        "\n",
        "for row in orbit_frequencies:\n",
        "  print('\\t'.join(map(str, row)))"
      ],
      "execution_count": null,
      "outputs": [
        {
          "output_type": "stream",
          "text": [
            "\t1\n",
            "1000 km  \t1\n",
            "1100 km  \t1\n",
            "956 km  \t1\n",
            "Interplanetary  \t6\n",
            "Lunar  \t3\n",
            "Orbital  \t27\n",
            "Suborbital\t13\n",
            "Unkown\t57\n"
          ],
          "name": "stdout"
        }
      ]
    },
    {
      "cell_type": "markdown",
      "metadata": {
        "id": "-k63vRdbC2VQ"
      },
      "source": [
        "## Interactive Map\n",
        "\n",
        "The interactive map below was created from latitude and longitude values using the Tableau Public software obtained from Wikipedia's list of Rocket Launch Sites page [4]. This is a simple bubble heat map that has the geographic locations of all the launch sites in the world and the which had the most Rocket Launches. If you hover over individual bubbles you can see a field for the year that individual Launch site and a total number of rocket launch sites. During the business case study, the team can do further research on the cost of operabilition for each location and find out the reasons for some of them closing or still operating. Conclusions made will either make a case for or against Spaceport at an Equatorial location. For example, if we look at Spaceports in the Western Hemisphere, the White Sands Missile Range in New Mexico has over 7000 rocket launches to date but it's latitudinal location is at 32 degrees. On the other hand, the Guiana Space center with a latitudinal location of 5.2 only has 200 launches. Why is there such a huge difference in the two ? Maybe specific rockets for specific target orbits are being launched from one location compared to another ? Also if we take a look at the Peenemünde/Greifswalder Oie (54 degrees latitude), was launched from 3000 times. How is this number so high for a Spaceport so far from the Equator ?   Intuitively, one can also ask why it closed in 1945 while being used so frequently at such a early time in Spaceflight ? Was the reason it close an economic factor or other ? Keeping such questions in mind should help in the aid in the formation of further analysis."
      ]
    },
    {
      "cell_type": "markdown",
      "metadata": {
        "id": "s-CgFQOmDIxV"
      },
      "source": [
        ""
      ]
    },
    {
      "cell_type": "markdown",
      "metadata": {
        "id": "xwNAQQ1jknhf"
      },
      "source": [
        "Link: [Launch Site Analysis](https://public.tableau.com/profile/gael.gatera#!/vizhome/LaunchSiteAnalysis/Sheet1)"
      ]
    },
    {
      "cell_type": "markdown",
      "metadata": {
        "id": "K0YMwF8kBUku"
      },
      "source": [
        "# Data Source 2 - Union For Concerned Scientists\n",
        "\n",
        "This is an in-depth databse built by experts at UCS detailing the over 2,218 satellites currently orbiting Earth, including their country of origin, purpose, and other operational details. It is available as a downloadable Excel file, which is updated roughly quarterly. The databse will be used to collect open-source information on the operational specific satellites, their launch sites and other information that will be discussed in the sections below."
      ]
    },
    {
      "cell_type": "markdown",
      "metadata": {
        "id": "L0N_hGQSXzVL"
      },
      "source": [
        "## First Look in Pandas\n",
        "\n",
        "The database is downloaded as an excel workbook but had to be converted to a Pandas dataframe which is is a 2-dimensional labeled data structure with columns of potentially different types. Dataframes are great ways to perform operations on rows and columns and is widely used in Data Science statistical analysis of all sorts. We will use the Pandas library to create our dataframe and perform queries for the data that we need."
      ]
    },
    {
      "cell_type": "code",
      "metadata": {
        "id": "Mwu_sWHv4jEo"
      },
      "source": [
        "# Install the gspread library to access google spreadsheets in colab\n",
        "!pip install --upgrade --quiet gspread"
      ],
      "execution_count": null,
      "outputs": []
    },
    {
      "cell_type": "code",
      "metadata": {
        "id": "xTSohww0-lbG",
        "colab": {
          "base_uri": "https://localhost:8080/"
        },
        "outputId": "08b7d026-28d6-4c94-cbd6-f452c498eb35"
      },
      "source": [
        "import pandas as pd\n",
        "\n",
        "# Reading in Database from Union of Concerned Scientist for Analysis\n",
        "Union_Concerned_Scientist_xlx = All_Data + '/UCS-Satellite-Database-10-1-Cleaned.xlsx'\n",
        "Union_Concerned_Scientist_csv = All_Data + '/UCS-Satellite-Database-10-1-Cleaned.csv'\n",
        "\n",
        "UCS_df = pd.read_excel(Union_Concerned_Scientist_xlx)\n",
        "UCS_df.shape"
      ],
      "execution_count": null,
      "outputs": [
        {
          "output_type": "execute_result",
          "data": {
            "text/plain": [
              "(2218, 28)"
            ]
          },
          "metadata": {
            "tags": []
          },
          "execution_count": 6
        }
      ]
    },
    {
      "cell_type": "code",
      "metadata": {
        "id": "lrpBQtczdSKS"
      },
      "source": [
        "price_df.pivot(index='date', columns='ticker', values='open')"
      ],
      "execution_count": null,
      "outputs": []
    },
    {
      "cell_type": "code",
      "metadata": {
        "colab": {
          "base_uri": "https://localhost:8080/",
          "height": 534
        },
        "id": "DN3Lb2mDIIT7",
        "outputId": "6fe279a8-0bd2-4f8e-bddb-544144e313fa"
      },
      "source": [
        "UCS_df.head(5)"
      ],
      "execution_count": null,
      "outputs": [
        {
          "output_type": "execute_result",
          "data": {
            "text/html": [
              "<div>\n",
              "<style scoped>\n",
              "    .dataframe tbody tr th:only-of-type {\n",
              "        vertical-align: middle;\n",
              "    }\n",
              "\n",
              "    .dataframe tbody tr th {\n",
              "        vertical-align: top;\n",
              "    }\n",
              "\n",
              "    .dataframe thead th {\n",
              "        text-align: right;\n",
              "    }\n",
              "</style>\n",
              "<table border=\"1\" class=\"dataframe\">\n",
              "  <thead>\n",
              "    <tr style=\"text-align: right;\">\n",
              "      <th></th>\n",
              "      <th>Name of Satellite, Alternate Names</th>\n",
              "      <th>Country/Org of UN Registry</th>\n",
              "      <th>Country of Operator/Owner</th>\n",
              "      <th>Operator/Owner</th>\n",
              "      <th>Users</th>\n",
              "      <th>Purpose</th>\n",
              "      <th>Detailed Purpose</th>\n",
              "      <th>Class of Orbit</th>\n",
              "      <th>Type of Orbit</th>\n",
              "      <th>Longitude of GEO (degrees)</th>\n",
              "      <th>Perigee (km)</th>\n",
              "      <th>Apogee (km)</th>\n",
              "      <th>Eccentricity</th>\n",
              "      <th>Inclination (degrees)</th>\n",
              "      <th>Period (minutes)</th>\n",
              "      <th>Launch Mass (kg.)</th>\n",
              "      <th>Dry Mass (kg.)</th>\n",
              "      <th>Power (watts)</th>\n",
              "      <th>Date of Launch</th>\n",
              "      <th>Expected Lifetime (yrs.)</th>\n",
              "      <th>Contractor</th>\n",
              "      <th>Country of Contractor</th>\n",
              "      <th>Launch Site</th>\n",
              "      <th>Launch Vehicle</th>\n",
              "      <th>COSPAR Number</th>\n",
              "      <th>NORAD Number</th>\n",
              "      <th>Comments</th>\n",
              "      <th>Source Used for Orbital Data</th>\n",
              "    </tr>\n",
              "  </thead>\n",
              "  <tbody>\n",
              "    <tr>\n",
              "      <th>0</th>\n",
              "      <td>3Cat-1</td>\n",
              "      <td>NR</td>\n",
              "      <td>Spain</td>\n",
              "      <td>Universitat Politècnica de Catalunya</td>\n",
              "      <td>Civil</td>\n",
              "      <td>Technology Development</td>\n",
              "      <td>NaN</td>\n",
              "      <td>LEO</td>\n",
              "      <td>NaN</td>\n",
              "      <td>0.0</td>\n",
              "      <td>476</td>\n",
              "      <td>500</td>\n",
              "      <td>0.001750</td>\n",
              "      <td>97.40</td>\n",
              "      <td>95.00</td>\n",
              "      <td>4.0</td>\n",
              "      <td>NaN</td>\n",
              "      <td>NaN</td>\n",
              "      <td>2018-11-29</td>\n",
              "      <td>NaN</td>\n",
              "      <td>Universitat Politècnica de Catalunya</td>\n",
              "      <td>Spain</td>\n",
              "      <td>Satish Dhawan Space Centre</td>\n",
              "      <td>PSLV</td>\n",
              "      <td>2018-096K</td>\n",
              "      <td>43728</td>\n",
              "      <td>Student built.</td>\n",
              "      <td>Estimated</td>\n",
              "    </tr>\n",
              "    <tr>\n",
              "      <th>1</th>\n",
              "      <td>Aalto-1</td>\n",
              "      <td>Finland</td>\n",
              "      <td>Finland</td>\n",
              "      <td>University of Aalto</td>\n",
              "      <td>Civil</td>\n",
              "      <td>Technology Development</td>\n",
              "      <td>NaN</td>\n",
              "      <td>LEO</td>\n",
              "      <td>NaN</td>\n",
              "      <td>0.0</td>\n",
              "      <td>497</td>\n",
              "      <td>517</td>\n",
              "      <td>0.001454</td>\n",
              "      <td>97.45</td>\n",
              "      <td>94.70</td>\n",
              "      <td>4.5</td>\n",
              "      <td>NaN</td>\n",
              "      <td>4.5</td>\n",
              "      <td>2017-06-23</td>\n",
              "      <td>2.0</td>\n",
              "      <td>University of Aalto</td>\n",
              "      <td>Finland</td>\n",
              "      <td>Satish Dhawan Space Centre</td>\n",
              "      <td>PSLV</td>\n",
              "      <td>2017-036L</td>\n",
              "      <td>42775</td>\n",
              "      <td>Technology development and education.</td>\n",
              "      <td>JMSatcat/10_17</td>\n",
              "    </tr>\n",
              "    <tr>\n",
              "      <th>2</th>\n",
              "      <td>AAUSat-4</td>\n",
              "      <td>Denmark</td>\n",
              "      <td>Denmark</td>\n",
              "      <td>University of Aalborg</td>\n",
              "      <td>Civil</td>\n",
              "      <td>Earth Observation</td>\n",
              "      <td>Automatic Identification System (AIS)</td>\n",
              "      <td>LEO</td>\n",
              "      <td>Sun-Synchronous</td>\n",
              "      <td>0.0</td>\n",
              "      <td>442</td>\n",
              "      <td>687</td>\n",
              "      <td>0.017665</td>\n",
              "      <td>98.20</td>\n",
              "      <td>95.90</td>\n",
              "      <td>1.0</td>\n",
              "      <td>NaN</td>\n",
              "      <td>NaN</td>\n",
              "      <td>2016-04-25</td>\n",
              "      <td>NaN</td>\n",
              "      <td>University of Aalborg</td>\n",
              "      <td>Denmark</td>\n",
              "      <td>Guiana Space Center</td>\n",
              "      <td>Soyuz 2.1a</td>\n",
              "      <td>2016-025E</td>\n",
              "      <td>41460</td>\n",
              "      <td>Carries AIS system.</td>\n",
              "      <td>Space50</td>\n",
              "    </tr>\n",
              "    <tr>\n",
              "      <th>3</th>\n",
              "      <td>ABS-2 (Koreasat-8, ST-3)</td>\n",
              "      <td>NR</td>\n",
              "      <td>Multinational</td>\n",
              "      <td>Asia Broadcast Satellite Ltd.</td>\n",
              "      <td>Commercial</td>\n",
              "      <td>Communications</td>\n",
              "      <td>NaN</td>\n",
              "      <td>GEO</td>\n",
              "      <td>NaN</td>\n",
              "      <td>75.0</td>\n",
              "      <td>35778</td>\n",
              "      <td>35793</td>\n",
              "      <td>0.000178</td>\n",
              "      <td>0.08</td>\n",
              "      <td>1436.03</td>\n",
              "      <td>6330.0</td>\n",
              "      <td>NaN</td>\n",
              "      <td>16000</td>\n",
              "      <td>2014-02-06</td>\n",
              "      <td>15.0</td>\n",
              "      <td>Space Systems/Loral</td>\n",
              "      <td>USA</td>\n",
              "      <td>Guiana Space Center</td>\n",
              "      <td>Ariane 5 ECA</td>\n",
              "      <td>2014-006A</td>\n",
              "      <td>39508</td>\n",
              "      <td>32 C-band, 51 Ku-band, and 6 Ka-band transpond...</td>\n",
              "      <td>ZARYA</td>\n",
              "    </tr>\n",
              "    <tr>\n",
              "      <th>4</th>\n",
              "      <td>ABS-2A</td>\n",
              "      <td>NR</td>\n",
              "      <td>Multinational</td>\n",
              "      <td>Asia Broadcast Satellite Ltd.</td>\n",
              "      <td>Commercial</td>\n",
              "      <td>Communications</td>\n",
              "      <td>NaN</td>\n",
              "      <td>GEO</td>\n",
              "      <td>NaN</td>\n",
              "      <td>-75.0</td>\n",
              "      <td>35700</td>\n",
              "      <td>35700</td>\n",
              "      <td>0.000000</td>\n",
              "      <td>0.00</td>\n",
              "      <td>1436.10</td>\n",
              "      <td>1800.0</td>\n",
              "      <td>NaN</td>\n",
              "      <td>NaN</td>\n",
              "      <td>2016-06-15</td>\n",
              "      <td>15.0</td>\n",
              "      <td>Boeing Satellite Systems</td>\n",
              "      <td>USA</td>\n",
              "      <td>Cape Canaveral</td>\n",
              "      <td>Falcon 9</td>\n",
              "      <td>2016-038A</td>\n",
              "      <td>41588</td>\n",
              "      <td>NaN</td>\n",
              "      <td>Estimated</td>\n",
              "    </tr>\n",
              "  </tbody>\n",
              "</table>\n",
              "</div>"
            ],
            "text/plain": [
              "  Name of Satellite, Alternate Names  ... Source Used for Orbital Data\n",
              "0                             3Cat-1  ...                    Estimated\n",
              "1                           Aalto-1   ...               JMSatcat/10_17\n",
              "2                           AAUSat-4  ...                      Space50\n",
              "3           ABS-2 (Koreasat-8, ST-3)  ...                        ZARYA\n",
              "4                             ABS-2A  ...                    Estimated\n",
              "\n",
              "[5 rows x 28 columns]"
            ]
          },
          "metadata": {
            "tags": []
          },
          "execution_count": 7
        }
      ]
    },
    {
      "cell_type": "markdown",
      "metadata": {
        "id": "DJNBotvfWmWJ"
      },
      "source": [
        "### Pandas.Info"
      ]
    },
    {
      "cell_type": "code",
      "metadata": {
        "colab": {
          "base_uri": "https://localhost:8080/"
        },
        "id": "uxUn9GN0OqnA",
        "outputId": "ea4359d1-4016-420a-902c-fc62d0b43d8f"
      },
      "source": [
        "UCS_df.info()"
      ],
      "execution_count": null,
      "outputs": [
        {
          "output_type": "stream",
          "text": [
            "<class 'pandas.core.frame.DataFrame'>\n",
            "RangeIndex: 2218 entries, 0 to 2217\n",
            "Data columns (total 28 columns):\n",
            " #   Column                              Non-Null Count  Dtype         \n",
            "---  ------                              --------------  -----         \n",
            " 0   Name of Satellite, Alternate Names  2218 non-null   object        \n",
            " 1   Country/Org of UN Registry          2218 non-null   object        \n",
            " 2   Country of Operator/Owner           2218 non-null   object        \n",
            " 3   Operator/Owner                      2218 non-null   object        \n",
            " 4   Users                               2218 non-null   object        \n",
            " 5   Purpose                             2218 non-null   object        \n",
            " 6   Detailed Purpose                    854 non-null    object        \n",
            " 7   Class of Orbit                      2218 non-null   object        \n",
            " 8   Type of Orbit                       1594 non-null   object        \n",
            " 9   Longitude of GEO (degrees)          2216 non-null   float64       \n",
            " 10  Perigee (km)                        2218 non-null   int64         \n",
            " 11  Apogee (km)                         2218 non-null   int64         \n",
            " 12  Eccentricity                        2218 non-null   float64       \n",
            " 13  Inclination (degrees)               2218 non-null   float64       \n",
            " 14  Period (minutes)                    2218 non-null   float64       \n",
            " 15  Launch Mass (kg.)                   2051 non-null   float64       \n",
            " 16  Dry Mass (kg.)                      462 non-null    object        \n",
            " 17  Power (watts)                       616 non-null    object        \n",
            " 18  Date of Launch                      2218 non-null   datetime64[ns]\n",
            " 19  Expected Lifetime (yrs.)            1141 non-null   float64       \n",
            " 20  Contractor                          2218 non-null   object        \n",
            " 21  Country of Contractor               2218 non-null   object        \n",
            " 22  Launch Site                         2218 non-null   object        \n",
            " 23  Launch Vehicle                      2218 non-null   object        \n",
            " 24  COSPAR Number                       2218 non-null   object        \n",
            " 25  NORAD Number                        2218 non-null   int64         \n",
            " 26  Comments                            1365 non-null   object        \n",
            " 27  Source Used for Orbital Data        2063 non-null   object        \n",
            "dtypes: datetime64[ns](1), float64(6), int64(3), object(18)\n",
            "memory usage: 485.3+ KB\n"
          ],
          "name": "stdout"
        }
      ]
    },
    {
      "cell_type": "code",
      "metadata": {
        "colab": {
          "base_uri": "https://localhost:8080/"
        },
        "id": "HJpHO3a2O7Nb",
        "outputId": "d7f0b437-90f6-4055-8fc2-d8d256de4e4d"
      },
      "source": [
        "UCS_df.isnull().sum()"
      ],
      "execution_count": null,
      "outputs": [
        {
          "output_type": "execute_result",
          "data": {
            "text/plain": [
              "Name of Satellite, Alternate Names       0\n",
              "Country/Org of UN Registry               0\n",
              "Country of Operator/Owner                0\n",
              "Operator/Owner                           0\n",
              "Users                                    0\n",
              "Purpose                                  0\n",
              "Detailed Purpose                      1364\n",
              "Class of Orbit                           0\n",
              "Type of Orbit                          624\n",
              "Longitude of GEO (degrees)               2\n",
              "Perigee (km)                             0\n",
              "Apogee (km)                              0\n",
              "Eccentricity                             0\n",
              "Inclination (degrees)                    0\n",
              "Period (minutes)                         0\n",
              "Launch Mass (kg.)                      167\n",
              "Dry Mass (kg.)                        1756\n",
              "Power (watts)                         1602\n",
              "Date of Launch                           0\n",
              "Expected Lifetime (yrs.)              1077\n",
              "Contractor                               0\n",
              "Country of Contractor                    0\n",
              "Launch Site                              0\n",
              "Launch Vehicle                           0\n",
              "COSPAR Number                            0\n",
              "NORAD Number                             0\n",
              "Comments                               853\n",
              "Source Used for Orbital Data           155\n",
              "dtype: int64"
            ]
          },
          "metadata": {
            "tags": []
          },
          "execution_count": 9
        }
      ]
    },
    {
      "cell_type": "markdown",
      "metadata": {
        "id": "nugGN9aSRV1x"
      },
      "source": [
        "### Pandas.Describe"
      ]
    },
    {
      "cell_type": "code",
      "metadata": {
        "colab": {
          "base_uri": "https://localhost:8080/",
          "height": 311
        },
        "id": "Tbk9_311Jtf0",
        "outputId": "7825ae67-4653-4c53-fed1-d2633dcd758d"
      },
      "source": [
        "# Quick statistical description of numerical values.\n",
        "UCS_df.describe()"
      ],
      "execution_count": null,
      "outputs": [
        {
          "output_type": "execute_result",
          "data": {
            "text/html": [
              "<div>\n",
              "<style scoped>\n",
              "    .dataframe tbody tr th:only-of-type {\n",
              "        vertical-align: middle;\n",
              "    }\n",
              "\n",
              "    .dataframe tbody tr th {\n",
              "        vertical-align: top;\n",
              "    }\n",
              "\n",
              "    .dataframe thead th {\n",
              "        text-align: right;\n",
              "    }\n",
              "</style>\n",
              "<table border=\"1\" class=\"dataframe\">\n",
              "  <thead>\n",
              "    <tr style=\"text-align: right;\">\n",
              "      <th></th>\n",
              "      <th>Longitude of GEO (degrees)</th>\n",
              "      <th>Perigee (km)</th>\n",
              "      <th>Apogee (km)</th>\n",
              "      <th>Eccentricity</th>\n",
              "      <th>Inclination (degrees)</th>\n",
              "      <th>Period (minutes)</th>\n",
              "      <th>Launch Mass (kg.)</th>\n",
              "      <th>Expected Lifetime (yrs.)</th>\n",
              "      <th>NORAD Number</th>\n",
              "    </tr>\n",
              "  </thead>\n",
              "  <tbody>\n",
              "    <tr>\n",
              "      <th>count</th>\n",
              "      <td>2216.000000</td>\n",
              "      <td>2218.000000</td>\n",
              "      <td>2218.000000</td>\n",
              "      <td>2218.000000</td>\n",
              "      <td>2218.000000</td>\n",
              "      <td>2218.000000</td>\n",
              "      <td>2051.000000</td>\n",
              "      <td>1141.000000</td>\n",
              "      <td>2218.000000</td>\n",
              "    </tr>\n",
              "    <tr>\n",
              "      <th>mean</th>\n",
              "      <td>5.643100</td>\n",
              "      <td>10728.768711</td>\n",
              "      <td>12183.392696</td>\n",
              "      <td>0.016083</td>\n",
              "      <td>60.509225</td>\n",
              "      <td>508.050406</td>\n",
              "      <td>1504.130804</td>\n",
              "      <td>9.969544</td>\n",
              "      <td>39015.945897</td>\n",
              "    </tr>\n",
              "    <tr>\n",
              "      <th>std</th>\n",
              "      <td>47.689443</td>\n",
              "      <td>15347.973916</td>\n",
              "      <td>20388.299337</td>\n",
              "      <td>0.098612</td>\n",
              "      <td>40.543308</td>\n",
              "      <td>713.712788</td>\n",
              "      <td>2138.592316</td>\n",
              "      <td>4.979366</td>\n",
              "      <td>5806.790874</td>\n",
              "    </tr>\n",
              "    <tr>\n",
              "      <th>min</th>\n",
              "      <td>-179.800000</td>\n",
              "      <td>200.000000</td>\n",
              "      <td>300.000000</td>\n",
              "      <td>0.000000</td>\n",
              "      <td>0.000000</td>\n",
              "      <td>90.520000</td>\n",
              "      <td>1.000000</td>\n",
              "      <td>0.250000</td>\n",
              "      <td>7530.000000</td>\n",
              "    </tr>\n",
              "    <tr>\n",
              "      <th>25%</th>\n",
              "      <td>0.000000</td>\n",
              "      <td>500.000000</td>\n",
              "      <td>541.500000</td>\n",
              "      <td>0.000289</td>\n",
              "      <td>6.120000</td>\n",
              "      <td>95.200000</td>\n",
              "      <td>6.000000</td>\n",
              "      <td>5.000000</td>\n",
              "      <td>37234.750000</td>\n",
              "    </tr>\n",
              "    <tr>\n",
              "      <th>50%</th>\n",
              "      <td>0.000000</td>\n",
              "      <td>634.500000</td>\n",
              "      <td>703.000000</td>\n",
              "      <td>0.000903</td>\n",
              "      <td>74.050000</td>\n",
              "      <td>98.000000</td>\n",
              "      <td>447.000000</td>\n",
              "      <td>10.000000</td>\n",
              "      <td>41182.500000</td>\n",
              "    </tr>\n",
              "    <tr>\n",
              "      <th>75%</th>\n",
              "      <td>0.000000</td>\n",
              "      <td>35314.250000</td>\n",
              "      <td>35786.000000</td>\n",
              "      <td>0.001454</td>\n",
              "      <td>97.500000</td>\n",
              "      <td>1434.865000</td>\n",
              "      <td>2497.500000</td>\n",
              "      <td>15.000000</td>\n",
              "      <td>43221.500000</td>\n",
              "    </tr>\n",
              "    <tr>\n",
              "      <th>max</th>\n",
              "      <td>328.500000</td>\n",
              "      <td>62200.000000</td>\n",
              "      <td>330000.000000</td>\n",
              "      <td>0.957119</td>\n",
              "      <td>143.400000</td>\n",
              "      <td>11520.000000</td>\n",
              "      <td>18000.000000</td>\n",
              "      <td>30.000000</td>\n",
              "      <td>53160.000000</td>\n",
              "    </tr>\n",
              "  </tbody>\n",
              "</table>\n",
              "</div>"
            ],
            "text/plain": [
              "       Longitude of GEO (degrees)  ...  NORAD Number\n",
              "count                 2216.000000  ...   2218.000000\n",
              "mean                     5.643100  ...  39015.945897\n",
              "std                     47.689443  ...   5806.790874\n",
              "min                   -179.800000  ...   7530.000000\n",
              "25%                      0.000000  ...  37234.750000\n",
              "50%                      0.000000  ...  41182.500000\n",
              "75%                      0.000000  ...  43221.500000\n",
              "max                    328.500000  ...  53160.000000\n",
              "\n",
              "[8 rows x 9 columns]"
            ]
          },
          "metadata": {
            "tags": []
          },
          "execution_count": 13
        }
      ]
    },
    {
      "cell_type": "markdown",
      "metadata": {
        "id": "fbpr-6NfXLfT"
      },
      "source": [
        "### Unique Values in each Column"
      ]
    },
    {
      "cell_type": "code",
      "metadata": {
        "colab": {
          "base_uri": "https://localhost:8080/"
        },
        "id": "J1_OTnxwPodA",
        "outputId": "aa69a6bd-5fe7-4a9a-dd49-ed7fe07c8f6f"
      },
      "source": [
        "for column in list(UCS_df.columns):\n",
        "  print(f\"Column -- {column} -- has *** {len(UCS_df[column].unique())} *** amount of unique values\")"
      ],
      "execution_count": null,
      "outputs": [
        {
          "output_type": "stream",
          "text": [
            "Column -- Name of Satellite, Alternate Names -- has *** 2212 *** amount of unique values\n",
            "Column -- Country/Org of UN Registry -- has *** 58 *** amount of unique values\n",
            "Column -- Country of Operator/Owner -- has *** 99 *** amount of unique values\n",
            "Column -- Operator/Owner -- has *** 515 *** amount of unique values\n",
            "Column -- Users -- has *** 17 *** amount of unique values\n",
            "Column -- Purpose -- has *** 24 *** amount of unique values\n",
            "Column -- Detailed Purpose -- has *** 32 *** amount of unique values\n",
            "Column -- Class of Orbit -- has *** 4 *** amount of unique values\n",
            "Column -- Type of Orbit -- has *** 9 *** amount of unique values\n",
            "Column -- Longitude of GEO (degrees) -- has *** 461 *** amount of unique values\n",
            "Column -- Perigee (km) -- has *** 681 *** amount of unique values\n",
            "Column -- Apogee (km) -- has *** 673 *** amount of unique values\n",
            "Column -- Eccentricity -- has *** 1370 *** amount of unique values\n",
            "Column -- Inclination (degrees) -- has *** 403 *** amount of unique values\n",
            "Column -- Period (minutes) -- has *** 549 *** amount of unique values\n",
            "Column -- Launch Mass (kg.) -- has *** 561 *** amount of unique values\n",
            "Column -- Dry Mass (kg.) -- has *** 184 *** amount of unique values\n",
            "Column -- Power (watts) -- has *** 166 *** amount of unique values\n",
            "Column -- Date of Launch -- has *** 964 *** amount of unique values\n",
            "Column -- Expected Lifetime (yrs.) -- has *** 30 *** amount of unique values\n",
            "Column -- Contractor -- has *** 446 *** amount of unique values\n",
            "Column -- Country of Contractor -- has *** 82 *** amount of unique values\n",
            "Column -- Launch Site -- has *** 28 *** amount of unique values\n",
            "Column -- Launch Vehicle -- has *** 149 *** amount of unique values\n",
            "Column -- COSPAR Number -- has *** 2214 *** amount of unique values\n",
            "Column -- NORAD Number -- has *** 2207 *** amount of unique values\n",
            "Column -- Comments -- has *** 1084 *** amount of unique values\n",
            "Column -- Source Used for Orbital Data -- has *** 140 *** amount of unique values\n"
          ],
          "name": "stdout"
        }
      ]
    },
    {
      "cell_type": "markdown",
      "metadata": {
        "id": "xaq9MUWrVq2k"
      },
      "source": [
        "## Country/Org of UN Registry - Analysis"
      ]
    },
    {
      "cell_type": "code",
      "metadata": {
        "colab": {
          "base_uri": "https://localhost:8080/"
        },
        "id": "OkTFwwnBWCbU",
        "outputId": "e46d9e84-3656-44d3-abfa-e95b3696fce0"
      },
      "source": [
        "UCS_df[\"Country/Org of UN Registry\"].value_counts()"
      ],
      "execution_count": null,
      "outputs": [
        {
          "output_type": "execute_result",
          "data": {
            "text/plain": [
              "USA                     704\n",
              "NR                      354\n",
              "NR (11/19)              269\n",
              "China                   238\n",
              "Russia                  157\n",
              "Japan                    71\n",
              "France                   68\n",
              "United Kingdom           58\n",
              "India                    47\n",
              "Germany                  31\n",
              "ESA                      23\n",
              "Canada                   21\n",
              "Luxembourg               19\n",
              "Australia                12\n",
              "Brazil                   12\n",
              "South Korea              12\n",
              "Saudi Arabia             11\n",
              "Italy                     8\n",
              "Norway                    8\n",
              "United Arab Emirates      7\n",
              "Belgium                   6\n",
              "Indonesia                 6\n",
              "EUMETSAT                  6\n",
              "Mexico                    5\n",
              "Algeria                   5\n",
              "Uruguay                   5\n",
              "Spain                     4\n",
              "Denmark                   4\n",
              "Finland                   4\n",
              "Turkey                    3\n",
              "Pakistan                  3\n",
              "Argentina                 3\n",
              "Malaysia                  3\n",
              "Azerbaijan                2\n",
              "Poland                    2\n",
              "Nigeria                   2\n",
              "Belarus                   2\n",
              "Sweden                    2\n",
              "South Africa              2\n",
              "Bolivia                   1\n",
              "Venezuela/China           1\n",
              "China/Sri Lanka           1\n",
              "Bhutan                    1\n",
              "Laos                      1\n",
              "Greece                    1\n",
              "Philippines               1\n",
              "Thailand                  1\n",
              "Chile                     1\n",
              "Austria                   1\n",
              "Lithuania                 1\n",
              "Iraq                      1\n",
              "Inda                      1\n",
              "Peru                      1\n",
              "EUMETSAT/ESA              1\n",
              "Venezuela                 1\n",
              "Colombia                  1\n",
              "Kazakhstan                1\n",
              "Israel                    1\n",
              "Name: Country/Org of UN Registry, dtype: int64"
            ]
          },
          "metadata": {
            "tags": []
          },
          "execution_count": 10
        }
      ]
    },
    {
      "cell_type": "markdown",
      "metadata": {
        "id": "O-41BOzTWUZo"
      },
      "source": [
        "## Users - Analysis"
      ]
    },
    {
      "cell_type": "code",
      "metadata": {
        "colab": {
          "base_uri": "https://localhost:8080/"
        },
        "id": "MGRYzgFPPEut",
        "outputId": "80a56328-18ac-486e-9b96-b9e5c701bc92"
      },
      "source": [
        "UCS_df.Users.value_counts()"
      ],
      "execution_count": null,
      "outputs": [
        {
          "output_type": "execute_result",
          "data": {
            "text/plain": [
              "Commercial                        1033\n",
              "Government                         419\n",
              "Military                           331\n",
              "Civil                              151\n",
              "Government/Commercial              112\n",
              "Military/Commercial                 75\n",
              "Military/Government                 49\n",
              "Government/Civil                    28\n",
              "Government/Military                  5\n",
              "Military/Civil                       5\n",
              "Civil/Government                     3\n",
              "Commercial/Military                  2\n",
              "Military                             1\n",
              "Commercial                           1\n",
              "Civil/Military                       1\n",
              "Government/Commercial/Military       1\n",
              "Commercial/Government                1\n",
              "Name: Users, dtype: int64"
            ]
          },
          "metadata": {
            "tags": []
          },
          "execution_count": 25
        }
      ]
    },
    {
      "cell_type": "markdown",
      "metadata": {
        "id": "cbYOB1hPi8Iv"
      },
      "source": [
        "Since this is a statistical description of the whole database, their values might not be of much significance at all. However, if we look at the max value for Launch Mass, we can see that the mass of the highest vehicle launched had a mass of 18,000 Kilograms. So it would be interest to know what that vehicle was, where it was launch from and other information that could be used in our study."
      ]
    },
    {
      "cell_type": "code",
      "metadata": {
        "id": "7RBlu_LkTFc1"
      },
      "source": [
        "Unique_Purposes = list(UCS_df.Purpose.unique())"
      ],
      "execution_count": null,
      "outputs": []
    },
    {
      "cell_type": "code",
      "metadata": {
        "colab": {
          "base_uri": "https://localhost:8080/",
          "height": 480
        },
        "id": "jCK6rWtNa16y",
        "outputId": "06c66b84-e130-40b8-f913-a580d8424e3c"
      },
      "source": [
        "UCS_df.groupby(\"Country of Operator/Owner\").median()"
      ],
      "execution_count": null,
      "outputs": [
        {
          "output_type": "execute_result",
          "data": {
            "text/html": [
              "<div>\n",
              "<style scoped>\n",
              "    .dataframe tbody tr th:only-of-type {\n",
              "        vertical-align: middle;\n",
              "    }\n",
              "\n",
              "    .dataframe tbody tr th {\n",
              "        vertical-align: top;\n",
              "    }\n",
              "\n",
              "    .dataframe thead th {\n",
              "        text-align: right;\n",
              "    }\n",
              "</style>\n",
              "<table border=\"1\" class=\"dataframe\">\n",
              "  <thead>\n",
              "    <tr style=\"text-align: right;\">\n",
              "      <th></th>\n",
              "      <th>Longitude of GEO (degrees)</th>\n",
              "      <th>Perigee (km)</th>\n",
              "      <th>Apogee (km)</th>\n",
              "      <th>Eccentricity</th>\n",
              "      <th>Inclination (degrees)</th>\n",
              "      <th>Period (minutes)</th>\n",
              "      <th>Launch Mass (kg.)</th>\n",
              "      <th>Expected Lifetime (yrs.)</th>\n",
              "      <th>NORAD Number</th>\n",
              "    </tr>\n",
              "    <tr>\n",
              "      <th>Country of Operator/Owner</th>\n",
              "      <th></th>\n",
              "      <th></th>\n",
              "      <th></th>\n",
              "      <th></th>\n",
              "      <th></th>\n",
              "      <th></th>\n",
              "      <th></th>\n",
              "      <th></th>\n",
              "      <th></th>\n",
              "    </tr>\n",
              "  </thead>\n",
              "  <tbody>\n",
              "    <tr>\n",
              "      <th>Algeria</th>\n",
              "      <td>0.000</td>\n",
              "      <td>661.0</td>\n",
              "      <td>698.0</td>\n",
              "      <td>0.000997</td>\n",
              "      <td>98.200</td>\n",
              "      <td>98.30</td>\n",
              "      <td>117.0</td>\n",
              "      <td>5.0</td>\n",
              "      <td>41786.0</td>\n",
              "    </tr>\n",
              "    <tr>\n",
              "      <th>Argentina</th>\n",
              "      <td>0.000</td>\n",
              "      <td>598.5</td>\n",
              "      <td>650.5</td>\n",
              "      <td>0.001384</td>\n",
              "      <td>97.350</td>\n",
              "      <td>97.35</td>\n",
              "      <td>35.0</td>\n",
              "      <td>15.0</td>\n",
              "      <td>40606.5</td>\n",
              "    </tr>\n",
              "    <tr>\n",
              "      <th>Australia</th>\n",
              "      <td>147.500</td>\n",
              "      <td>35758.0</td>\n",
              "      <td>35786.0</td>\n",
              "      <td>0.000374</td>\n",
              "      <td>0.060</td>\n",
              "      <td>1435.40</td>\n",
              "      <td>2350.0</td>\n",
              "      <td>15.0</td>\n",
              "      <td>41367.0</td>\n",
              "    </tr>\n",
              "    <tr>\n",
              "      <th>Austria</th>\n",
              "      <td>0.000</td>\n",
              "      <td>770.0</td>\n",
              "      <td>784.0</td>\n",
              "      <td>0.000979</td>\n",
              "      <td>98.600</td>\n",
              "      <td>100.30</td>\n",
              "      <td>14.0</td>\n",
              "      <td>NaN</td>\n",
              "      <td>39091.0</td>\n",
              "    </tr>\n",
              "    <tr>\n",
              "      <th>Azerbaijan</th>\n",
              "      <td>45.500</td>\n",
              "      <td>35764.0</td>\n",
              "      <td>35772.0</td>\n",
              "      <td>0.000095</td>\n",
              "      <td>0.030</td>\n",
              "      <td>1436.09</td>\n",
              "      <td>3375.0</td>\n",
              "      <td>15.0</td>\n",
              "      <td>41355.5</td>\n",
              "    </tr>\n",
              "    <tr>\n",
              "      <th>...</th>\n",
              "      <td>...</td>\n",
              "      <td>...</td>\n",
              "      <td>...</td>\n",
              "      <td>...</td>\n",
              "      <td>...</td>\n",
              "      <td>...</td>\n",
              "      <td>...</td>\n",
              "      <td>...</td>\n",
              "      <td>...</td>\n",
              "    </tr>\n",
              "    <tr>\n",
              "      <th>United Arab Emirates</th>\n",
              "      <td>22.065</td>\n",
              "      <td>35753.5</td>\n",
              "      <td>35793.5</td>\n",
              "      <td>0.000655</td>\n",
              "      <td>4.415</td>\n",
              "      <td>1435.96</td>\n",
              "      <td>4487.5</td>\n",
              "      <td>12.0</td>\n",
              "      <td>38832.0</td>\n",
              "    </tr>\n",
              "    <tr>\n",
              "      <th>United Kingdom</th>\n",
              "      <td>0.000</td>\n",
              "      <td>8062.0</td>\n",
              "      <td>8069.0</td>\n",
              "      <td>0.000391</td>\n",
              "      <td>0.120</td>\n",
              "      <td>287.92</td>\n",
              "      <td>650.0</td>\n",
              "      <td>15.0</td>\n",
              "      <td>40350.0</td>\n",
              "    </tr>\n",
              "    <tr>\n",
              "      <th>United Kingdom/ESA</th>\n",
              "      <td>25.000</td>\n",
              "      <td>35786.0</td>\n",
              "      <td>35787.0</td>\n",
              "      <td>0.000012</td>\n",
              "      <td>0.020</td>\n",
              "      <td>1436.09</td>\n",
              "      <td>6650.0</td>\n",
              "      <td>15.0</td>\n",
              "      <td>39215.0</td>\n",
              "    </tr>\n",
              "    <tr>\n",
              "      <th>Venezuela</th>\n",
              "      <td>0.000</td>\n",
              "      <td>629.0</td>\n",
              "      <td>654.0</td>\n",
              "      <td>0.001783</td>\n",
              "      <td>98.020</td>\n",
              "      <td>97.55</td>\n",
              "      <td>1000.0</td>\n",
              "      <td>5.0</td>\n",
              "      <td>38782.0</td>\n",
              "    </tr>\n",
              "    <tr>\n",
              "      <th>Vietnam</th>\n",
              "      <td>65.900</td>\n",
              "      <td>18212.0</td>\n",
              "      <td>18230.5</td>\n",
              "      <td>0.000308</td>\n",
              "      <td>48.690</td>\n",
              "      <td>766.56</td>\n",
              "      <td>1357.5</td>\n",
              "      <td>15.0</td>\n",
              "      <td>38746.0</td>\n",
              "    </tr>\n",
              "  </tbody>\n",
              "</table>\n",
              "<p>99 rows × 9 columns</p>\n",
              "</div>"
            ],
            "text/plain": [
              "                           Longitude of GEO (degrees)  ...  NORAD Number\n",
              "Country of Operator/Owner                              ...              \n",
              "Algeria                                         0.000  ...       41786.0\n",
              "Argentina                                       0.000  ...       40606.5\n",
              "Australia                                     147.500  ...       41367.0\n",
              "Austria                                         0.000  ...       39091.0\n",
              "Azerbaijan                                     45.500  ...       41355.5\n",
              "...                                               ...  ...           ...\n",
              "United Arab Emirates                           22.065  ...       38832.0\n",
              "United Kingdom                                  0.000  ...       40350.0\n",
              "United Kingdom/ESA                             25.000  ...       39215.0\n",
              "Venezuela                                       0.000  ...       38782.0\n",
              "Vietnam                                        65.900  ...       38746.0\n",
              "\n",
              "[99 rows x 9 columns]"
            ]
          },
          "metadata": {
            "tags": []
          },
          "execution_count": 12
        }
      ]
    },
    {
      "cell_type": "code",
      "metadata": {
        "colab": {
          "base_uri": "https://localhost:8080/",
          "height": 480
        },
        "id": "DxGpP1ljbQ_q",
        "outputId": "d797ead6-5afa-4696-a33b-17b7b85b8ff4"
      },
      "source": [
        "UCS_df.groupby(\"Country of Operator/Owner\").mean()"
      ],
      "execution_count": null,
      "outputs": [
        {
          "output_type": "execute_result",
          "data": {
            "text/html": [
              "<div>\n",
              "<style scoped>\n",
              "    .dataframe tbody tr th:only-of-type {\n",
              "        vertical-align: middle;\n",
              "    }\n",
              "\n",
              "    .dataframe tbody tr th {\n",
              "        vertical-align: top;\n",
              "    }\n",
              "\n",
              "    .dataframe thead th {\n",
              "        text-align: right;\n",
              "    }\n",
              "</style>\n",
              "<table border=\"1\" class=\"dataframe\">\n",
              "  <thead>\n",
              "    <tr style=\"text-align: right;\">\n",
              "      <th></th>\n",
              "      <th>Longitude of GEO (degrees)</th>\n",
              "      <th>Perigee (km)</th>\n",
              "      <th>Apogee (km)</th>\n",
              "      <th>Eccentricity</th>\n",
              "      <th>Inclination (degrees)</th>\n",
              "      <th>Period (minutes)</th>\n",
              "      <th>Launch Mass (kg.)</th>\n",
              "      <th>Expected Lifetime (yrs.)</th>\n",
              "      <th>NORAD Number</th>\n",
              "    </tr>\n",
              "    <tr>\n",
              "      <th>Country of Operator/Owner</th>\n",
              "      <th></th>\n",
              "      <th></th>\n",
              "      <th></th>\n",
              "      <th></th>\n",
              "      <th></th>\n",
              "      <th></th>\n",
              "      <th></th>\n",
              "      <th></th>\n",
              "      <th></th>\n",
              "    </tr>\n",
              "  </thead>\n",
              "  <tbody>\n",
              "    <tr>\n",
              "      <th>Algeria</th>\n",
              "      <td>-4.960000</td>\n",
              "      <td>7676.800000</td>\n",
              "      <td>7706.800000</td>\n",
              "      <td>0.001490</td>\n",
              "      <td>78.548000</td>\n",
              "      <td>365.740000</td>\n",
              "      <td>1117.000000</td>\n",
              "      <td>7.500000</td>\n",
              "      <td>41039.400000</td>\n",
              "    </tr>\n",
              "    <tr>\n",
              "      <th>Argentina</th>\n",
              "      <td>-10.914286</td>\n",
              "      <td>5602.500000</td>\n",
              "      <td>5651.000000</td>\n",
              "      <td>0.003311</td>\n",
              "      <td>75.116429</td>\n",
              "      <td>288.002857</td>\n",
              "      <td>654.416667</td>\n",
              "      <td>11.666667</td>\n",
              "      <td>37752.714286</td>\n",
              "    </tr>\n",
              "    <tr>\n",
              "      <th>Australia</th>\n",
              "      <td>90.262500</td>\n",
              "      <td>21075.000000</td>\n",
              "      <td>21125.583333</td>\n",
              "      <td>0.002799</td>\n",
              "      <td>38.544167</td>\n",
              "      <td>877.497500</td>\n",
              "      <td>2344.166667</td>\n",
              "      <td>13.750000</td>\n",
              "      <td>38845.750000</td>\n",
              "    </tr>\n",
              "    <tr>\n",
              "      <th>Austria</th>\n",
              "      <td>0.000000</td>\n",
              "      <td>770.000000</td>\n",
              "      <td>784.000000</td>\n",
              "      <td>0.000979</td>\n",
              "      <td>98.600000</td>\n",
              "      <td>100.300000</td>\n",
              "      <td>14.000000</td>\n",
              "      <td>NaN</td>\n",
              "      <td>39091.000000</td>\n",
              "    </tr>\n",
              "    <tr>\n",
              "      <th>Azerbaijan</th>\n",
              "      <td>45.500000</td>\n",
              "      <td>35764.000000</td>\n",
              "      <td>35772.000000</td>\n",
              "      <td>0.000095</td>\n",
              "      <td>0.030000</td>\n",
              "      <td>1436.090000</td>\n",
              "      <td>3375.000000</td>\n",
              "      <td>15.000000</td>\n",
              "      <td>41355.500000</td>\n",
              "    </tr>\n",
              "    <tr>\n",
              "      <th>...</th>\n",
              "      <td>...</td>\n",
              "      <td>...</td>\n",
              "      <td>...</td>\n",
              "      <td>...</td>\n",
              "      <td>...</td>\n",
              "      <td>...</td>\n",
              "      <td>...</td>\n",
              "      <td>...</td>\n",
              "      <td>...</td>\n",
              "    </tr>\n",
              "    <tr>\n",
              "      <th>United Arab Emirates</th>\n",
              "      <td>27.853750</td>\n",
              "      <td>22563.500000</td>\n",
              "      <td>22593.750000</td>\n",
              "      <td>0.000719</td>\n",
              "      <td>37.746250</td>\n",
              "      <td>933.515000</td>\n",
              "      <td>3351.250000</td>\n",
              "      <td>11.800000</td>\n",
              "      <td>38019.125000</td>\n",
              "    </tr>\n",
              "    <tr>\n",
              "      <th>United Kingdom</th>\n",
              "      <td>8.174921</td>\n",
              "      <td>14698.857143</td>\n",
              "      <td>14717.650794</td>\n",
              "      <td>0.000659</td>\n",
              "      <td>32.992063</td>\n",
              "      <td>603.917302</td>\n",
              "      <td>1606.225806</td>\n",
              "      <td>12.400000</td>\n",
              "      <td>38652.952381</td>\n",
              "    </tr>\n",
              "    <tr>\n",
              "      <th>United Kingdom/ESA</th>\n",
              "      <td>25.000000</td>\n",
              "      <td>35786.000000</td>\n",
              "      <td>35787.000000</td>\n",
              "      <td>0.000012</td>\n",
              "      <td>0.020000</td>\n",
              "      <td>1436.090000</td>\n",
              "      <td>6650.000000</td>\n",
              "      <td>15.000000</td>\n",
              "      <td>39215.000000</td>\n",
              "    </tr>\n",
              "    <tr>\n",
              "      <th>Venezuela</th>\n",
              "      <td>-21.666667</td>\n",
              "      <td>12342.666667</td>\n",
              "      <td>12368.000000</td>\n",
              "      <td>0.001430</td>\n",
              "      <td>65.420000</td>\n",
              "      <td>543.710000</td>\n",
              "      <td>2326.666667</td>\n",
              "      <td>8.333333</td>\n",
              "      <td>38383.333333</td>\n",
              "    </tr>\n",
              "    <tr>\n",
              "      <th>Vietnam</th>\n",
              "      <td>65.942500</td>\n",
              "      <td>18174.000000</td>\n",
              "      <td>18190.750000</td>\n",
              "      <td>0.000563</td>\n",
              "      <td>48.882500</td>\n",
              "      <td>765.955000</td>\n",
              "      <td>1433.875000</td>\n",
              "      <td>11.666667</td>\n",
              "      <td>38548.500000</td>\n",
              "    </tr>\n",
              "  </tbody>\n",
              "</table>\n",
              "<p>99 rows × 9 columns</p>\n",
              "</div>"
            ],
            "text/plain": [
              "                           Longitude of GEO (degrees)  ...  NORAD Number\n",
              "Country of Operator/Owner                              ...              \n",
              "Algeria                                     -4.960000  ...  41039.400000\n",
              "Argentina                                  -10.914286  ...  37752.714286\n",
              "Australia                                   90.262500  ...  38845.750000\n",
              "Austria                                      0.000000  ...  39091.000000\n",
              "Azerbaijan                                  45.500000  ...  41355.500000\n",
              "...                                               ...  ...           ...\n",
              "United Arab Emirates                        27.853750  ...  38019.125000\n",
              "United Kingdom                               8.174921  ...  38652.952381\n",
              "United Kingdom/ESA                          25.000000  ...  39215.000000\n",
              "Venezuela                                  -21.666667  ...  38383.333333\n",
              "Vietnam                                     65.942500  ...  38548.500000\n",
              "\n",
              "[99 rows x 9 columns]"
            ]
          },
          "metadata": {
            "tags": []
          },
          "execution_count": 13
        }
      ]
    },
    {
      "cell_type": "code",
      "metadata": {
        "colab": {
          "base_uri": "https://localhost:8080/",
          "height": 566
        },
        "id": "QOVVU44rbTlf",
        "outputId": "3096415d-48cc-4aaa-9d2e-b29aefed462c"
      },
      "source": [
        "UCS_df.groupby(\"Country of Operator/Owner\").describe()"
      ],
      "execution_count": null,
      "outputs": [
        {
          "output_type": "execute_result",
          "data": {
            "text/html": [
              "<div>\n",
              "<style scoped>\n",
              "    .dataframe tbody tr th:only-of-type {\n",
              "        vertical-align: middle;\n",
              "    }\n",
              "\n",
              "    .dataframe tbody tr th {\n",
              "        vertical-align: top;\n",
              "    }\n",
              "\n",
              "    .dataframe thead tr th {\n",
              "        text-align: left;\n",
              "    }\n",
              "\n",
              "    .dataframe thead tr:last-of-type th {\n",
              "        text-align: right;\n",
              "    }\n",
              "</style>\n",
              "<table border=\"1\" class=\"dataframe\">\n",
              "  <thead>\n",
              "    <tr>\n",
              "      <th></th>\n",
              "      <th colspan=\"8\" halign=\"left\">Longitude of GEO (degrees)</th>\n",
              "      <th colspan=\"8\" halign=\"left\">Perigee (km)</th>\n",
              "      <th colspan=\"8\" halign=\"left\">Apogee (km)</th>\n",
              "      <th colspan=\"8\" halign=\"left\">Eccentricity</th>\n",
              "      <th colspan=\"8\" halign=\"left\">Inclination (degrees)</th>\n",
              "      <th colspan=\"8\" halign=\"left\">Period (minutes)</th>\n",
              "      <th colspan=\"8\" halign=\"left\">Launch Mass (kg.)</th>\n",
              "      <th colspan=\"8\" halign=\"left\">Expected Lifetime (yrs.)</th>\n",
              "      <th colspan=\"8\" halign=\"left\">NORAD Number</th>\n",
              "    </tr>\n",
              "    <tr>\n",
              "      <th></th>\n",
              "      <th>count</th>\n",
              "      <th>mean</th>\n",
              "      <th>std</th>\n",
              "      <th>min</th>\n",
              "      <th>25%</th>\n",
              "      <th>50%</th>\n",
              "      <th>75%</th>\n",
              "      <th>max</th>\n",
              "      <th>count</th>\n",
              "      <th>mean</th>\n",
              "      <th>std</th>\n",
              "      <th>min</th>\n",
              "      <th>25%</th>\n",
              "      <th>50%</th>\n",
              "      <th>75%</th>\n",
              "      <th>max</th>\n",
              "      <th>count</th>\n",
              "      <th>mean</th>\n",
              "      <th>std</th>\n",
              "      <th>min</th>\n",
              "      <th>25%</th>\n",
              "      <th>50%</th>\n",
              "      <th>75%</th>\n",
              "      <th>max</th>\n",
              "      <th>count</th>\n",
              "      <th>mean</th>\n",
              "      <th>std</th>\n",
              "      <th>min</th>\n",
              "      <th>25%</th>\n",
              "      <th>50%</th>\n",
              "      <th>75%</th>\n",
              "      <th>max</th>\n",
              "      <th>count</th>\n",
              "      <th>mean</th>\n",
              "      <th>std</th>\n",
              "      <th>min</th>\n",
              "      <th>25%</th>\n",
              "      <th>50%</th>\n",
              "      <th>75%</th>\n",
              "      <th>max</th>\n",
              "      <th>count</th>\n",
              "      <th>mean</th>\n",
              "      <th>std</th>\n",
              "      <th>min</th>\n",
              "      <th>25%</th>\n",
              "      <th>50%</th>\n",
              "      <th>75%</th>\n",
              "      <th>max</th>\n",
              "      <th>count</th>\n",
              "      <th>mean</th>\n",
              "      <th>std</th>\n",
              "      <th>min</th>\n",
              "      <th>25%</th>\n",
              "      <th>50%</th>\n",
              "      <th>75%</th>\n",
              "      <th>max</th>\n",
              "      <th>count</th>\n",
              "      <th>mean</th>\n",
              "      <th>std</th>\n",
              "      <th>min</th>\n",
              "      <th>25%</th>\n",
              "      <th>50%</th>\n",
              "      <th>75%</th>\n",
              "      <th>max</th>\n",
              "      <th>count</th>\n",
              "      <th>mean</th>\n",
              "      <th>std</th>\n",
              "      <th>min</th>\n",
              "      <th>25%</th>\n",
              "      <th>50%</th>\n",
              "      <th>75%</th>\n",
              "      <th>max</th>\n",
              "    </tr>\n",
              "    <tr>\n",
              "      <th>Country of Operator/Owner</th>\n",
              "      <th></th>\n",
              "      <th></th>\n",
              "      <th></th>\n",
              "      <th></th>\n",
              "      <th></th>\n",
              "      <th></th>\n",
              "      <th></th>\n",
              "      <th></th>\n",
              "      <th></th>\n",
              "      <th></th>\n",
              "      <th></th>\n",
              "      <th></th>\n",
              "      <th></th>\n",
              "      <th></th>\n",
              "      <th></th>\n",
              "      <th></th>\n",
              "      <th></th>\n",
              "      <th></th>\n",
              "      <th></th>\n",
              "      <th></th>\n",
              "      <th></th>\n",
              "      <th></th>\n",
              "      <th></th>\n",
              "      <th></th>\n",
              "      <th></th>\n",
              "      <th></th>\n",
              "      <th></th>\n",
              "      <th></th>\n",
              "      <th></th>\n",
              "      <th></th>\n",
              "      <th></th>\n",
              "      <th></th>\n",
              "      <th></th>\n",
              "      <th></th>\n",
              "      <th></th>\n",
              "      <th></th>\n",
              "      <th></th>\n",
              "      <th></th>\n",
              "      <th></th>\n",
              "      <th></th>\n",
              "      <th></th>\n",
              "      <th></th>\n",
              "      <th></th>\n",
              "      <th></th>\n",
              "      <th></th>\n",
              "      <th></th>\n",
              "      <th></th>\n",
              "      <th></th>\n",
              "      <th></th>\n",
              "      <th></th>\n",
              "      <th></th>\n",
              "      <th></th>\n",
              "      <th></th>\n",
              "      <th></th>\n",
              "      <th></th>\n",
              "      <th></th>\n",
              "      <th></th>\n",
              "      <th></th>\n",
              "      <th></th>\n",
              "      <th></th>\n",
              "      <th></th>\n",
              "      <th></th>\n",
              "      <th></th>\n",
              "      <th></th>\n",
              "      <th></th>\n",
              "      <th></th>\n",
              "      <th></th>\n",
              "      <th></th>\n",
              "      <th></th>\n",
              "      <th></th>\n",
              "      <th></th>\n",
              "      <th></th>\n",
              "    </tr>\n",
              "  </thead>\n",
              "  <tbody>\n",
              "    <tr>\n",
              "      <th>Algeria</th>\n",
              "      <td>5.0</td>\n",
              "      <td>-4.960000</td>\n",
              "      <td>11.090897</td>\n",
              "      <td>-24.80</td>\n",
              "      <td>0.00</td>\n",
              "      <td>0.000</td>\n",
              "      <td>0.0000</td>\n",
              "      <td>0.00</td>\n",
              "      <td>5.0</td>\n",
              "      <td>7676.800000</td>\n",
              "      <td>15690.044509</td>\n",
              "      <td>646.0</td>\n",
              "      <td>661.0</td>\n",
              "      <td>661.0</td>\n",
              "      <td>672.00</td>\n",
              "      <td>35744.0</td>\n",
              "      <td>5.0</td>\n",
              "      <td>7706.800000</td>\n",
              "      <td>15703.468318</td>\n",
              "      <td>660.0</td>\n",
              "      <td>674.00</td>\n",
              "      <td>698.0</td>\n",
              "      <td>704.00</td>\n",
              "      <td>35798.0</td>\n",
              "      <td>5.0</td>\n",
              "      <td>0.001490</td>\n",
              "      <td>0.001275</td>\n",
              "      <td>0.000142</td>\n",
              "      <td>0.000641</td>\n",
              "      <td>0.000997</td>\n",
              "      <td>0.002624</td>\n",
              "      <td>0.003049</td>\n",
              "      <td>5.0</td>\n",
              "      <td>78.548000</td>\n",
              "      <td>43.887328</td>\n",
              "      <td>0.04</td>\n",
              "      <td>98.1000</td>\n",
              "      <td>98.200</td>\n",
              "      <td>98.2000</td>\n",
              "      <td>98.20</td>\n",
              "      <td>5.0</td>\n",
              "      <td>365.740000</td>\n",
              "      <td>598.349491</td>\n",
              "      <td>97.70</td>\n",
              "      <td>98.2000</td>\n",
              "      <td>98.30</td>\n",
              "      <td>98.4000</td>\n",
              "      <td>1436.10</td>\n",
              "      <td>5.0</td>\n",
              "      <td>1117.000000</td>\n",
              "      <td>2296.926098</td>\n",
              "      <td>10.0</td>\n",
              "      <td>103.000</td>\n",
              "      <td>117.0</td>\n",
              "      <td>130.00</td>\n",
              "      <td>5225.0</td>\n",
              "      <td>4.0</td>\n",
              "      <td>7.500000</td>\n",
              "      <td>5.000000</td>\n",
              "      <td>5.0</td>\n",
              "      <td>5.0</td>\n",
              "      <td>5.0</td>\n",
              "      <td>7.5</td>\n",
              "      <td>15.0</td>\n",
              "      <td>5.0</td>\n",
              "      <td>41039.400000</td>\n",
              "      <td>2432.236892</td>\n",
              "      <td>36798.0</td>\n",
              "      <td>41785.00</td>\n",
              "      <td>41786.0</td>\n",
              "      <td>41789.00</td>\n",
              "      <td>43039.0</td>\n",
              "    </tr>\n",
              "    <tr>\n",
              "      <th>Argentina</th>\n",
              "      <td>14.0</td>\n",
              "      <td>-10.914286</td>\n",
              "      <td>27.802237</td>\n",
              "      <td>-81.00</td>\n",
              "      <td>0.00</td>\n",
              "      <td>0.000</td>\n",
              "      <td>0.0000</td>\n",
              "      <td>0.00</td>\n",
              "      <td>14.0</td>\n",
              "      <td>5602.500000</td>\n",
              "      <td>12786.027511</td>\n",
              "      <td>481.0</td>\n",
              "      <td>503.5</td>\n",
              "      <td>598.5</td>\n",
              "      <td>677.00</td>\n",
              "      <td>35786.0</td>\n",
              "      <td>14.0</td>\n",
              "      <td>5651.000000</td>\n",
              "      <td>12772.523418</td>\n",
              "      <td>499.0</td>\n",
              "      <td>516.50</td>\n",
              "      <td>650.5</td>\n",
              "      <td>752.25</td>\n",
              "      <td>35801.0</td>\n",
              "      <td>14.0</td>\n",
              "      <td>0.003311</td>\n",
              "      <td>0.003553</td>\n",
              "      <td>0.000178</td>\n",
              "      <td>0.000725</td>\n",
              "      <td>0.001384</td>\n",
              "      <td>0.004626</td>\n",
              "      <td>0.010921</td>\n",
              "      <td>14.0</td>\n",
              "      <td>75.116429</td>\n",
              "      <td>36.298602</td>\n",
              "      <td>0.01</td>\n",
              "      <td>64.6000</td>\n",
              "      <td>97.350</td>\n",
              "      <td>97.9425</td>\n",
              "      <td>98.20</td>\n",
              "      <td>14.0</td>\n",
              "      <td>288.002857</td>\n",
              "      <td>486.390774</td>\n",
              "      <td>94.41</td>\n",
              "      <td>94.7350</td>\n",
              "      <td>97.35</td>\n",
              "      <td>99.0250</td>\n",
              "      <td>1436.07</td>\n",
              "      <td>12.0</td>\n",
              "      <td>654.416667</td>\n",
              "      <td>1185.247842</td>\n",
              "      <td>2.0</td>\n",
              "      <td>21.750</td>\n",
              "      <td>35.0</td>\n",
              "      <td>438.75</td>\n",
              "      <td>3000.0</td>\n",
              "      <td>3.0</td>\n",
              "      <td>11.666667</td>\n",
              "      <td>5.773503</td>\n",
              "      <td>5.0</td>\n",
              "      <td>10.0</td>\n",
              "      <td>15.0</td>\n",
              "      <td>15.0</td>\n",
              "      <td>15.0</td>\n",
              "      <td>14.0</td>\n",
              "      <td>37752.714286</td>\n",
              "      <td>6530.420017</td>\n",
              "      <td>27606.0</td>\n",
              "      <td>31139.00</td>\n",
              "      <td>40606.5</td>\n",
              "      <td>42459.50</td>\n",
              "      <td>43641.0</td>\n",
              "    </tr>\n",
              "    <tr>\n",
              "      <th>Australia</th>\n",
              "      <td>12.0</td>\n",
              "      <td>90.262500</td>\n",
              "      <td>79.815733</td>\n",
              "      <td>0.00</td>\n",
              "      <td>0.00</td>\n",
              "      <td>147.500</td>\n",
              "      <td>156.0000</td>\n",
              "      <td>164.00</td>\n",
              "      <td>12.0</td>\n",
              "      <td>21075.000000</td>\n",
              "      <td>18162.644136</td>\n",
              "      <td>459.0</td>\n",
              "      <td>495.0</td>\n",
              "      <td>35758.0</td>\n",
              "      <td>35774.00</td>\n",
              "      <td>35790.0</td>\n",
              "      <td>12.0</td>\n",
              "      <td>21125.583333</td>\n",
              "      <td>18129.421118</td>\n",
              "      <td>500.0</td>\n",
              "      <td>572.00</td>\n",
              "      <td>35786.0</td>\n",
              "      <td>35798.25</td>\n",
              "      <td>35802.0</td>\n",
              "      <td>12.0</td>\n",
              "      <td>0.002799</td>\n",
              "      <td>0.007230</td>\n",
              "      <td>0.000095</td>\n",
              "      <td>0.000291</td>\n",
              "      <td>0.000374</td>\n",
              "      <td>0.001455</td>\n",
              "      <td>0.025681</td>\n",
              "      <td>12.0</td>\n",
              "      <td>38.544167</td>\n",
              "      <td>47.770500</td>\n",
              "      <td>0.00</td>\n",
              "      <td>0.0275</td>\n",
              "      <td>0.060</td>\n",
              "      <td>88.0000</td>\n",
              "      <td>97.70</td>\n",
              "      <td>12.0</td>\n",
              "      <td>877.497500</td>\n",
              "      <td>690.084983</td>\n",
              "      <td>95.00</td>\n",
              "      <td>95.9750</td>\n",
              "      <td>1435.40</td>\n",
              "      <td>1436.0850</td>\n",
              "      <td>1436.11</td>\n",
              "      <td>12.0</td>\n",
              "      <td>2344.166667</td>\n",
              "      <td>2478.895789</td>\n",
              "      <td>1.0</td>\n",
              "      <td>4.000</td>\n",
              "      <td>2350.0</td>\n",
              "      <td>3652.50</td>\n",
              "      <td>6440.0</td>\n",
              "      <td>8.0</td>\n",
              "      <td>13.750000</td>\n",
              "      <td>3.535534</td>\n",
              "      <td>5.0</td>\n",
              "      <td>15.0</td>\n",
              "      <td>15.0</td>\n",
              "      <td>15.0</td>\n",
              "      <td>15.0</td>\n",
              "      <td>12.0</td>\n",
              "      <td>38845.750000</td>\n",
              "      <td>5949.564340</td>\n",
              "      <td>27831.0</td>\n",
              "      <td>34880.00</td>\n",
              "      <td>41367.0</td>\n",
              "      <td>43694.50</td>\n",
              "      <td>43809.0</td>\n",
              "    </tr>\n",
              "    <tr>\n",
              "      <th>Austria</th>\n",
              "      <td>1.0</td>\n",
              "      <td>0.000000</td>\n",
              "      <td>NaN</td>\n",
              "      <td>0.00</td>\n",
              "      <td>0.00</td>\n",
              "      <td>0.000</td>\n",
              "      <td>0.0000</td>\n",
              "      <td>0.00</td>\n",
              "      <td>1.0</td>\n",
              "      <td>770.000000</td>\n",
              "      <td>NaN</td>\n",
              "      <td>770.0</td>\n",
              "      <td>770.0</td>\n",
              "      <td>770.0</td>\n",
              "      <td>770.00</td>\n",
              "      <td>770.0</td>\n",
              "      <td>1.0</td>\n",
              "      <td>784.000000</td>\n",
              "      <td>NaN</td>\n",
              "      <td>784.0</td>\n",
              "      <td>784.00</td>\n",
              "      <td>784.0</td>\n",
              "      <td>784.00</td>\n",
              "      <td>784.0</td>\n",
              "      <td>1.0</td>\n",
              "      <td>0.000979</td>\n",
              "      <td>NaN</td>\n",
              "      <td>0.000979</td>\n",
              "      <td>0.000979</td>\n",
              "      <td>0.000979</td>\n",
              "      <td>0.000979</td>\n",
              "      <td>0.000979</td>\n",
              "      <td>1.0</td>\n",
              "      <td>98.600000</td>\n",
              "      <td>NaN</td>\n",
              "      <td>98.60</td>\n",
              "      <td>98.6000</td>\n",
              "      <td>98.600</td>\n",
              "      <td>98.6000</td>\n",
              "      <td>98.60</td>\n",
              "      <td>1.0</td>\n",
              "      <td>100.300000</td>\n",
              "      <td>NaN</td>\n",
              "      <td>100.30</td>\n",
              "      <td>100.3000</td>\n",
              "      <td>100.30</td>\n",
              "      <td>100.3000</td>\n",
              "      <td>100.30</td>\n",
              "      <td>1.0</td>\n",
              "      <td>14.000000</td>\n",
              "      <td>NaN</td>\n",
              "      <td>14.0</td>\n",
              "      <td>14.000</td>\n",
              "      <td>14.0</td>\n",
              "      <td>14.00</td>\n",
              "      <td>14.0</td>\n",
              "      <td>0.0</td>\n",
              "      <td>NaN</td>\n",
              "      <td>NaN</td>\n",
              "      <td>NaN</td>\n",
              "      <td>NaN</td>\n",
              "      <td>NaN</td>\n",
              "      <td>NaN</td>\n",
              "      <td>NaN</td>\n",
              "      <td>1.0</td>\n",
              "      <td>39091.000000</td>\n",
              "      <td>NaN</td>\n",
              "      <td>39091.0</td>\n",
              "      <td>39091.00</td>\n",
              "      <td>39091.0</td>\n",
              "      <td>39091.00</td>\n",
              "      <td>39091.0</td>\n",
              "    </tr>\n",
              "    <tr>\n",
              "      <th>Azerbaijan</th>\n",
              "      <td>2.0</td>\n",
              "      <td>45.500000</td>\n",
              "      <td>0.707107</td>\n",
              "      <td>45.00</td>\n",
              "      <td>45.25</td>\n",
              "      <td>45.500</td>\n",
              "      <td>45.7500</td>\n",
              "      <td>46.00</td>\n",
              "      <td>2.0</td>\n",
              "      <td>35764.000000</td>\n",
              "      <td>19.798990</td>\n",
              "      <td>35750.0</td>\n",
              "      <td>35757.0</td>\n",
              "      <td>35764.0</td>\n",
              "      <td>35771.00</td>\n",
              "      <td>35778.0</td>\n",
              "      <td>2.0</td>\n",
              "      <td>35772.000000</td>\n",
              "      <td>31.112698</td>\n",
              "      <td>35750.0</td>\n",
              "      <td>35761.00</td>\n",
              "      <td>35772.0</td>\n",
              "      <td>35783.00</td>\n",
              "      <td>35794.0</td>\n",
              "      <td>2.0</td>\n",
              "      <td>0.000095</td>\n",
              "      <td>0.000134</td>\n",
              "      <td>0.000000</td>\n",
              "      <td>0.000047</td>\n",
              "      <td>0.000095</td>\n",
              "      <td>0.000142</td>\n",
              "      <td>0.000190</td>\n",
              "      <td>2.0</td>\n",
              "      <td>0.030000</td>\n",
              "      <td>0.014142</td>\n",
              "      <td>0.02</td>\n",
              "      <td>0.0250</td>\n",
              "      <td>0.030</td>\n",
              "      <td>0.0350</td>\n",
              "      <td>0.04</td>\n",
              "      <td>2.0</td>\n",
              "      <td>1436.090000</td>\n",
              "      <td>0.014142</td>\n",
              "      <td>1436.08</td>\n",
              "      <td>1436.0850</td>\n",
              "      <td>1436.09</td>\n",
              "      <td>1436.0950</td>\n",
              "      <td>1436.10</td>\n",
              "      <td>2.0</td>\n",
              "      <td>3375.000000</td>\n",
              "      <td>176.776695</td>\n",
              "      <td>3250.0</td>\n",
              "      <td>3312.500</td>\n",
              "      <td>3375.0</td>\n",
              "      <td>3437.50</td>\n",
              "      <td>3500.0</td>\n",
              "      <td>2.0</td>\n",
              "      <td>15.000000</td>\n",
              "      <td>0.000000</td>\n",
              "      <td>15.0</td>\n",
              "      <td>15.0</td>\n",
              "      <td>15.0</td>\n",
              "      <td>15.0</td>\n",
              "      <td>15.0</td>\n",
              "      <td>2.0</td>\n",
              "      <td>41355.500000</td>\n",
              "      <td>3219.457175</td>\n",
              "      <td>39079.0</td>\n",
              "      <td>40217.25</td>\n",
              "      <td>41355.5</td>\n",
              "      <td>42493.75</td>\n",
              "      <td>43632.0</td>\n",
              "    </tr>\n",
              "    <tr>\n",
              "      <th>...</th>\n",
              "      <td>...</td>\n",
              "      <td>...</td>\n",
              "      <td>...</td>\n",
              "      <td>...</td>\n",
              "      <td>...</td>\n",
              "      <td>...</td>\n",
              "      <td>...</td>\n",
              "      <td>...</td>\n",
              "      <td>...</td>\n",
              "      <td>...</td>\n",
              "      <td>...</td>\n",
              "      <td>...</td>\n",
              "      <td>...</td>\n",
              "      <td>...</td>\n",
              "      <td>...</td>\n",
              "      <td>...</td>\n",
              "      <td>...</td>\n",
              "      <td>...</td>\n",
              "      <td>...</td>\n",
              "      <td>...</td>\n",
              "      <td>...</td>\n",
              "      <td>...</td>\n",
              "      <td>...</td>\n",
              "      <td>...</td>\n",
              "      <td>...</td>\n",
              "      <td>...</td>\n",
              "      <td>...</td>\n",
              "      <td>...</td>\n",
              "      <td>...</td>\n",
              "      <td>...</td>\n",
              "      <td>...</td>\n",
              "      <td>...</td>\n",
              "      <td>...</td>\n",
              "      <td>...</td>\n",
              "      <td>...</td>\n",
              "      <td>...</td>\n",
              "      <td>...</td>\n",
              "      <td>...</td>\n",
              "      <td>...</td>\n",
              "      <td>...</td>\n",
              "      <td>...</td>\n",
              "      <td>...</td>\n",
              "      <td>...</td>\n",
              "      <td>...</td>\n",
              "      <td>...</td>\n",
              "      <td>...</td>\n",
              "      <td>...</td>\n",
              "      <td>...</td>\n",
              "      <td>...</td>\n",
              "      <td>...</td>\n",
              "      <td>...</td>\n",
              "      <td>...</td>\n",
              "      <td>...</td>\n",
              "      <td>...</td>\n",
              "      <td>...</td>\n",
              "      <td>...</td>\n",
              "      <td>...</td>\n",
              "      <td>...</td>\n",
              "      <td>...</td>\n",
              "      <td>...</td>\n",
              "      <td>...</td>\n",
              "      <td>...</td>\n",
              "      <td>...</td>\n",
              "      <td>...</td>\n",
              "      <td>...</td>\n",
              "      <td>...</td>\n",
              "      <td>...</td>\n",
              "      <td>...</td>\n",
              "      <td>...</td>\n",
              "      <td>...</td>\n",
              "      <td>...</td>\n",
              "      <td>...</td>\n",
              "    </tr>\n",
              "    <tr>\n",
              "      <th>United Arab Emirates</th>\n",
              "      <td>8.0</td>\n",
              "      <td>27.853750</td>\n",
              "      <td>39.433082</td>\n",
              "      <td>-20.00</td>\n",
              "      <td>0.00</td>\n",
              "      <td>22.065</td>\n",
              "      <td>48.8250</td>\n",
              "      <td>98.60</td>\n",
              "      <td>8.0</td>\n",
              "      <td>22563.500000</td>\n",
              "      <td>18221.208295</td>\n",
              "      <td>496.0</td>\n",
              "      <td>594.0</td>\n",
              "      <td>35753.5</td>\n",
              "      <td>35768.75</td>\n",
              "      <td>35780.0</td>\n",
              "      <td>8.0</td>\n",
              "      <td>22593.750000</td>\n",
              "      <td>18233.011371</td>\n",
              "      <td>507.0</td>\n",
              "      <td>612.75</td>\n",
              "      <td>35793.5</td>\n",
              "      <td>35807.00</td>\n",
              "      <td>35823.0</td>\n",
              "      <td>8.0</td>\n",
              "      <td>0.000719</td>\n",
              "      <td>0.000461</td>\n",
              "      <td>0.000130</td>\n",
              "      <td>0.000421</td>\n",
              "      <td>0.000655</td>\n",
              "      <td>0.001035</td>\n",
              "      <td>0.001362</td>\n",
              "      <td>8.0</td>\n",
              "      <td>37.746250</td>\n",
              "      <td>49.685787</td>\n",
              "      <td>0.00</td>\n",
              "      <td>0.0300</td>\n",
              "      <td>4.415</td>\n",
              "      <td>97.5750</td>\n",
              "      <td>97.80</td>\n",
              "      <td>8.0</td>\n",
              "      <td>933.515000</td>\n",
              "      <td>693.539652</td>\n",
              "      <td>94.60</td>\n",
              "      <td>96.7400</td>\n",
              "      <td>1435.96</td>\n",
              "      <td>1436.0700</td>\n",
              "      <td>1436.10</td>\n",
              "      <td>8.0</td>\n",
              "      <td>3351.250000</td>\n",
              "      <td>2688.255555</td>\n",
              "      <td>2.0</td>\n",
              "      <td>322.500</td>\n",
              "      <td>4487.5</td>\n",
              "      <td>5425.75</td>\n",
              "      <td>6000.0</td>\n",
              "      <td>5.0</td>\n",
              "      <td>11.800000</td>\n",
              "      <td>4.086563</td>\n",
              "      <td>5.0</td>\n",
              "      <td>12.0</td>\n",
              "      <td>12.0</td>\n",
              "      <td>15.0</td>\n",
              "      <td>15.0</td>\n",
              "      <td>8.0</td>\n",
              "      <td>38019.125000</td>\n",
              "      <td>5508.545191</td>\n",
              "      <td>27825.0</td>\n",
              "      <td>36145.75</td>\n",
              "      <td>38832.0</td>\n",
              "      <td>42306.25</td>\n",
              "      <td>43676.0</td>\n",
              "    </tr>\n",
              "    <tr>\n",
              "      <th>United Kingdom</th>\n",
              "      <td>63.0</td>\n",
              "      <td>8.174921</td>\n",
              "      <td>40.932869</td>\n",
              "      <td>-97.65</td>\n",
              "      <td>0.00</td>\n",
              "      <td>0.000</td>\n",
              "      <td>0.0000</td>\n",
              "      <td>180.00</td>\n",
              "      <td>63.0</td>\n",
              "      <td>14698.857143</td>\n",
              "      <td>15315.735287</td>\n",
              "      <td>404.0</td>\n",
              "      <td>883.5</td>\n",
              "      <td>8062.0</td>\n",
              "      <td>35769.50</td>\n",
              "      <td>35786.0</td>\n",
              "      <td>63.0</td>\n",
              "      <td>14717.650794</td>\n",
              "      <td>15321.617767</td>\n",
              "      <td>410.0</td>\n",
              "      <td>900.00</td>\n",
              "      <td>8069.0</td>\n",
              "      <td>35794.00</td>\n",
              "      <td>35810.0</td>\n",
              "      <td>63.0</td>\n",
              "      <td>0.000659</td>\n",
              "      <td>0.000579</td>\n",
              "      <td>0.000000</td>\n",
              "      <td>0.000242</td>\n",
              "      <td>0.000391</td>\n",
              "      <td>0.001074</td>\n",
              "      <td>0.001923</td>\n",
              "      <td>63.0</td>\n",
              "      <td>32.992063</td>\n",
              "      <td>44.779179</td>\n",
              "      <td>0.00</td>\n",
              "      <td>0.0400</td>\n",
              "      <td>0.120</td>\n",
              "      <td>87.8000</td>\n",
              "      <td>98.60</td>\n",
              "      <td>63.0</td>\n",
              "      <td>603.917302</td>\n",
              "      <td>598.106070</td>\n",
              "      <td>92.60</td>\n",
              "      <td>102.8000</td>\n",
              "      <td>287.92</td>\n",
              "      <td>1436.0700</td>\n",
              "      <td>1436.24</td>\n",
              "      <td>62.0</td>\n",
              "      <td>1606.225806</td>\n",
              "      <td>1990.112083</td>\n",
              "      <td>3.0</td>\n",
              "      <td>220.000</td>\n",
              "      <td>650.0</td>\n",
              "      <td>2068.50</td>\n",
              "      <td>6105.0</td>\n",
              "      <td>25.0</td>\n",
              "      <td>12.400000</td>\n",
              "      <td>3.403430</td>\n",
              "      <td>5.0</td>\n",
              "      <td>10.0</td>\n",
              "      <td>15.0</td>\n",
              "      <td>15.0</td>\n",
              "      <td>15.0</td>\n",
              "      <td>63.0</td>\n",
              "      <td>38652.952381</td>\n",
              "      <td>6267.153942</td>\n",
              "      <td>20776.0</td>\n",
              "      <td>38887.50</td>\n",
              "      <td>40350.0</td>\n",
              "      <td>43232.50</td>\n",
              "      <td>44115.0</td>\n",
              "    </tr>\n",
              "    <tr>\n",
              "      <th>United Kingdom/ESA</th>\n",
              "      <td>1.0</td>\n",
              "      <td>25.000000</td>\n",
              "      <td>NaN</td>\n",
              "      <td>25.00</td>\n",
              "      <td>25.00</td>\n",
              "      <td>25.000</td>\n",
              "      <td>25.0000</td>\n",
              "      <td>25.00</td>\n",
              "      <td>1.0</td>\n",
              "      <td>35786.000000</td>\n",
              "      <td>NaN</td>\n",
              "      <td>35786.0</td>\n",
              "      <td>35786.0</td>\n",
              "      <td>35786.0</td>\n",
              "      <td>35786.00</td>\n",
              "      <td>35786.0</td>\n",
              "      <td>1.0</td>\n",
              "      <td>35787.000000</td>\n",
              "      <td>NaN</td>\n",
              "      <td>35787.0</td>\n",
              "      <td>35787.00</td>\n",
              "      <td>35787.0</td>\n",
              "      <td>35787.00</td>\n",
              "      <td>35787.0</td>\n",
              "      <td>1.0</td>\n",
              "      <td>0.000012</td>\n",
              "      <td>NaN</td>\n",
              "      <td>0.000012</td>\n",
              "      <td>0.000012</td>\n",
              "      <td>0.000012</td>\n",
              "      <td>0.000012</td>\n",
              "      <td>0.000012</td>\n",
              "      <td>1.0</td>\n",
              "      <td>0.020000</td>\n",
              "      <td>NaN</td>\n",
              "      <td>0.02</td>\n",
              "      <td>0.0200</td>\n",
              "      <td>0.020</td>\n",
              "      <td>0.0200</td>\n",
              "      <td>0.02</td>\n",
              "      <td>1.0</td>\n",
              "      <td>1436.090000</td>\n",
              "      <td>NaN</td>\n",
              "      <td>1436.09</td>\n",
              "      <td>1436.0900</td>\n",
              "      <td>1436.09</td>\n",
              "      <td>1436.0900</td>\n",
              "      <td>1436.09</td>\n",
              "      <td>1.0</td>\n",
              "      <td>6650.000000</td>\n",
              "      <td>NaN</td>\n",
              "      <td>6650.0</td>\n",
              "      <td>6650.000</td>\n",
              "      <td>6650.0</td>\n",
              "      <td>6650.00</td>\n",
              "      <td>6650.0</td>\n",
              "      <td>1.0</td>\n",
              "      <td>15.000000</td>\n",
              "      <td>NaN</td>\n",
              "      <td>15.0</td>\n",
              "      <td>15.0</td>\n",
              "      <td>15.0</td>\n",
              "      <td>15.0</td>\n",
              "      <td>15.0</td>\n",
              "      <td>1.0</td>\n",
              "      <td>39215.000000</td>\n",
              "      <td>NaN</td>\n",
              "      <td>39215.0</td>\n",
              "      <td>39215.00</td>\n",
              "      <td>39215.0</td>\n",
              "      <td>39215.00</td>\n",
              "      <td>39215.0</td>\n",
              "    </tr>\n",
              "    <tr>\n",
              "      <th>Venezuela</th>\n",
              "      <td>3.0</td>\n",
              "      <td>-21.666667</td>\n",
              "      <td>37.527767</td>\n",
              "      <td>-65.00</td>\n",
              "      <td>-32.50</td>\n",
              "      <td>0.000</td>\n",
              "      <td>0.0000</td>\n",
              "      <td>0.00</td>\n",
              "      <td>3.0</td>\n",
              "      <td>12342.666667</td>\n",
              "      <td>20294.728289</td>\n",
              "      <td>622.0</td>\n",
              "      <td>625.5</td>\n",
              "      <td>629.0</td>\n",
              "      <td>18203.00</td>\n",
              "      <td>35777.0</td>\n",
              "      <td>3.0</td>\n",
              "      <td>12368.000000</td>\n",
              "      <td>20289.243160</td>\n",
              "      <td>654.0</td>\n",
              "      <td>654.00</td>\n",
              "      <td>654.0</td>\n",
              "      <td>18225.00</td>\n",
              "      <td>35796.0</td>\n",
              "      <td>3.0</td>\n",
              "      <td>0.001430</td>\n",
              "      <td>0.001073</td>\n",
              "      <td>0.000225</td>\n",
              "      <td>0.001004</td>\n",
              "      <td>0.001783</td>\n",
              "      <td>0.002033</td>\n",
              "      <td>0.002283</td>\n",
              "      <td>3.0</td>\n",
              "      <td>65.420000</td>\n",
              "      <td>56.473517</td>\n",
              "      <td>0.21</td>\n",
              "      <td>49.1150</td>\n",
              "      <td>98.020</td>\n",
              "      <td>98.0250</td>\n",
              "      <td>98.03</td>\n",
              "      <td>3.0</td>\n",
              "      <td>543.710000</td>\n",
              "      <td>772.832411</td>\n",
              "      <td>97.48</td>\n",
              "      <td>97.5150</td>\n",
              "      <td>97.55</td>\n",
              "      <td>766.8250</td>\n",
              "      <td>1436.10</td>\n",
              "      <td>3.0</td>\n",
              "      <td>2326.666667</td>\n",
              "      <td>2402.526448</td>\n",
              "      <td>880.0</td>\n",
              "      <td>940.000</td>\n",
              "      <td>1000.0</td>\n",
              "      <td>3050.00</td>\n",
              "      <td>5100.0</td>\n",
              "      <td>3.0</td>\n",
              "      <td>8.333333</td>\n",
              "      <td>5.773503</td>\n",
              "      <td>5.0</td>\n",
              "      <td>5.0</td>\n",
              "      <td>5.0</td>\n",
              "      <td>10.0</td>\n",
              "      <td>15.0</td>\n",
              "      <td>3.0</td>\n",
              "      <td>38383.333333</td>\n",
              "      <td>4782.478576</td>\n",
              "      <td>33414.0</td>\n",
              "      <td>36098.00</td>\n",
              "      <td>38782.0</td>\n",
              "      <td>40868.00</td>\n",
              "      <td>42954.0</td>\n",
              "    </tr>\n",
              "    <tr>\n",
              "      <th>Vietnam</th>\n",
              "      <td>4.0</td>\n",
              "      <td>65.942500</td>\n",
              "      <td>76.143872</td>\n",
              "      <td>0.00</td>\n",
              "      <td>0.00</td>\n",
              "      <td>65.900</td>\n",
              "      <td>131.8425</td>\n",
              "      <td>131.97</td>\n",
              "      <td>4.0</td>\n",
              "      <td>18174.000000</td>\n",
              "      <td>20309.030898</td>\n",
              "      <td>490.0</td>\n",
              "      <td>634.0</td>\n",
              "      <td>18212.0</td>\n",
              "      <td>35752.00</td>\n",
              "      <td>35782.0</td>\n",
              "      <td>4.0</td>\n",
              "      <td>18190.750000</td>\n",
              "      <td>20314.483017</td>\n",
              "      <td>511.0</td>\n",
              "      <td>641.50</td>\n",
              "      <td>18230.5</td>\n",
              "      <td>35779.75</td>\n",
              "      <td>35791.0</td>\n",
              "      <td>4.0</td>\n",
              "      <td>0.000563</td>\n",
              "      <td>0.000655</td>\n",
              "      <td>0.000107</td>\n",
              "      <td>0.000186</td>\n",
              "      <td>0.000308</td>\n",
              "      <td>0.000685</td>\n",
              "      <td>0.001528</td>\n",
              "      <td>4.0</td>\n",
              "      <td>48.882500</td>\n",
              "      <td>56.387937</td>\n",
              "      <td>0.02</td>\n",
              "      <td>0.0650</td>\n",
              "      <td>48.690</td>\n",
              "      <td>97.5075</td>\n",
              "      <td>98.13</td>\n",
              "      <td>4.0</td>\n",
              "      <td>765.955000</td>\n",
              "      <td>773.004524</td>\n",
              "      <td>94.60</td>\n",
              "      <td>97.4725</td>\n",
              "      <td>766.56</td>\n",
              "      <td>1435.0425</td>\n",
              "      <td>1436.10</td>\n",
              "      <td>4.0</td>\n",
              "      <td>1433.875000</td>\n",
              "      <td>1567.661229</td>\n",
              "      <td>50.5</td>\n",
              "      <td>98.875</td>\n",
              "      <td>1357.5</td>\n",
              "      <td>2692.50</td>\n",
              "      <td>2970.0</td>\n",
              "      <td>3.0</td>\n",
              "      <td>11.666667</td>\n",
              "      <td>5.773503</td>\n",
              "      <td>5.0</td>\n",
              "      <td>10.0</td>\n",
              "      <td>15.0</td>\n",
              "      <td>15.0</td>\n",
              "      <td>15.0</td>\n",
              "      <td>4.0</td>\n",
              "      <td>38548.500000</td>\n",
              "      <td>4577.514937</td>\n",
              "      <td>32767.0</td>\n",
              "      <td>36940.75</td>\n",
              "      <td>38746.0</td>\n",
              "      <td>40353.75</td>\n",
              "      <td>43935.0</td>\n",
              "    </tr>\n",
              "  </tbody>\n",
              "</table>\n",
              "<p>99 rows × 72 columns</p>\n",
              "</div>"
            ],
            "text/plain": [
              "                          Longitude of GEO (degrees)  ... NORAD Number\n",
              "                                               count  ...          max\n",
              "Country of Operator/Owner                             ...             \n",
              "Algeria                                          5.0  ...      43039.0\n",
              "Argentina                                       14.0  ...      43641.0\n",
              "Australia                                       12.0  ...      43809.0\n",
              "Austria                                          1.0  ...      39091.0\n",
              "Azerbaijan                                       2.0  ...      43632.0\n",
              "...                                              ...  ...          ...\n",
              "United Arab Emirates                             8.0  ...      43676.0\n",
              "United Kingdom                                  63.0  ...      44115.0\n",
              "United Kingdom/ESA                               1.0  ...      39215.0\n",
              "Venezuela                                        3.0  ...      42954.0\n",
              "Vietnam                                          4.0  ...      43935.0\n",
              "\n",
              "[99 rows x 72 columns]"
            ]
          },
          "metadata": {
            "tags": []
          },
          "execution_count": 15
        }
      ]
    },
    {
      "cell_type": "code",
      "metadata": {
        "colab": {
          "base_uri": "https://localhost:8080/"
        },
        "id": "0UjSq4N-slkh",
        "outputId": "a06402a8-8248-4e18-fdb1-357030810ada"
      },
      "source": [
        "# Grouped by users and counting by countries (this would show which use is more popular in each country)\n",
        "UCS_Country_Purpose_groups = UCS_df.groupby([\"Country of Operator/Owner\", \"Purpose\"])\n",
        "print(f\"This Groupby Created {len(UCS_Country_Purpose_groups)} unique Country of Operator/Owner vs Purpose Pairs\")"
      ],
      "execution_count": null,
      "outputs": [
        {
          "output_type": "stream",
          "text": [
            "This Groupby Created 220 unique Country of Operator/Owner vs Purpose Pairs\n"
          ],
          "name": "stdout"
        }
      ]
    },
    {
      "cell_type": "code",
      "metadata": {
        "colab": {
          "base_uri": "https://localhost:8080/"
        },
        "id": "H3xsfSZlUyGJ",
        "outputId": "a42a7a9d-6199-4729-f975-6d025b9f95fe"
      },
      "source": [
        "counter = 0\n",
        "\n",
        "for purpose in Unique_Purposes:\n",
        "  try:\n",
        "    print(UCS_Country_Purpose_groups.get_group(('Algeria', purpose)).head(5))\n",
        "    counter += 1\n",
        "  except KeyError:\n",
        "    continue\n",
        "\n",
        "print(counter)"
      ],
      "execution_count": null,
      "outputs": [
        {
          "output_type": "stream",
          "text": [
            "   Name of Satellite, Alternate Names  ... Source Used for Orbital Data\n",
            "51                           AlSat-1N  ...               JMSatcat/12_16\n",
            "\n",
            "[1 rows x 28 columns]\n",
            "   Name of Satellite, Alternate Names  ...   Source Used for Orbital Data\n",
            "49                           Alsat 2B  ...                 JMSatcat/12_16\n",
            "50                           Alsat-1B  ...                 JMSatcat/12_16\n",
            "52    Alsat-2A (Algeria Satellite 2A)  ...  www.satellitedebris.net 12/12\n",
            "\n",
            "[3 rows x 28 columns]\n",
            "              Name of Satellite, Alternate Names  ... Source Used for Orbital Data\n",
            "45  Alcomsat (Algerian Communications Satellite)  ...                   JMGEO/3_18\n",
            "\n",
            "[1 rows x 28 columns]\n",
            "3\n"
          ],
          "name": "stdout"
        }
      ]
    },
    {
      "cell_type": "code",
      "metadata": {
        "colab": {
          "base_uri": "https://localhost:8080/",
          "height": 221
        },
        "id": "Kj4DZjNuuBEE",
        "outputId": "378fd1dc-f726-4147-be1f-954959c22ce6"
      },
      "source": [
        "ucs_operator_user = UCS_df.groupby([\"Country of Operator/Owner\"])[\"Users\"].count()\n",
        "ucs_data_top_operators = ucs_operator_user.sort_values(axis=0, ascending=False)\n",
        "ucs_data_top_operators.head(10)"
      ],
      "execution_count": null,
      "outputs": [
        {
          "output_type": "execute_result",
          "data": {
            "text/plain": [
              "Country of Operator/Owner\n",
              "USA               988\n",
              "China             320\n",
              "Russia            161\n",
              "Japan              78\n",
              "Multinational      64\n",
              "United Kingdom     63\n",
              "India              57\n",
              "ESA                50\n",
              "Canada             39\n",
              "Germany            36\n",
              "Name: Users, dtype: int64"
            ]
          },
          "metadata": {
            "tags": []
          },
          "execution_count": 24
        }
      ]
    },
    {
      "cell_type": "code",
      "metadata": {
        "colab": {
          "base_uri": "https://localhost:8080/",
          "height": 221
        },
        "id": "KFZWAwLnxF7l",
        "outputId": "43979682-72e9-4740-cddd-b6ab42eb1a18"
      },
      "source": [
        "ucs_un_reg_user = UCS_df.groupby([\"Country/Org of UN Registry\"])[\"Users\"].count()\n",
        "ucs_data_top_unreg = ucs_un_reg_user.sort_values(axis=0, ascending=False)\n",
        "ucs_data_top_unreg.head(10)"
      ],
      "execution_count": null,
      "outputs": [
        {
          "output_type": "execute_result",
          "data": {
            "text/plain": [
              "Country/Org of UN Registry\n",
              "USA               704\n",
              "NR                354\n",
              "NR (11/19)        269\n",
              "China             238\n",
              "Russia            157\n",
              "Japan              71\n",
              "France             68\n",
              "United Kingdom     58\n",
              "India              47\n",
              "Germany            31\n",
              "Name: Users, dtype: int64"
            ]
          },
          "metadata": {
            "tags": []
          },
          "execution_count": 25
        }
      ]
    },
    {
      "cell_type": "code",
      "metadata": {
        "id": "ByutkCStkJ4l"
      },
      "source": [
        "grouped = UCS_df.groupby(['Launch Mass (kg.)', 'Name of Satellite, Alternate Names'])"
      ],
      "execution_count": null,
      "outputs": []
    },
    {
      "cell_type": "code",
      "metadata": {
        "colab": {
          "base_uri": "https://localhost:8080/",
          "height": 1000
        },
        "id": "6ocqT6gcplZ8",
        "outputId": "3807641f-055e-4cab-a9ee-0375da19da91"
      },
      "source": [
        "grouped.last()"
      ],
      "execution_count": null,
      "outputs": [
        {
          "output_type": "execute_result",
          "data": {
            "text/html": [
              "<div>\n",
              "<style scoped>\n",
              "    .dataframe tbody tr th:only-of-type {\n",
              "        vertical-align: middle;\n",
              "    }\n",
              "\n",
              "    .dataframe tbody tr th {\n",
              "        vertical-align: top;\n",
              "    }\n",
              "\n",
              "    .dataframe thead th {\n",
              "        text-align: right;\n",
              "    }\n",
              "</style>\n",
              "<table border=\"1\" class=\"dataframe\">\n",
              "  <thead>\n",
              "    <tr style=\"text-align: right;\">\n",
              "      <th></th>\n",
              "      <th></th>\n",
              "      <th>Country/Org of UN Registry</th>\n",
              "      <th>Country of Operator/Owner</th>\n",
              "      <th>Operator/Owner</th>\n",
              "      <th>Users</th>\n",
              "      <th>Purpose</th>\n",
              "      <th>Detailed Purpose</th>\n",
              "      <th>Class of Orbit</th>\n",
              "      <th>Type of Orbit</th>\n",
              "      <th>Longitude of GEO (degrees)</th>\n",
              "      <th>Perigee (km)</th>\n",
              "      <th>Apogee (km)</th>\n",
              "      <th>Eccentricity</th>\n",
              "      <th>Inclination (degrees)</th>\n",
              "      <th>Period (minutes)</th>\n",
              "      <th>Dry Mass (kg.)</th>\n",
              "      <th>Power (watts)</th>\n",
              "      <th>Date of Launch</th>\n",
              "      <th>Expected Lifetime (yrs.)</th>\n",
              "      <th>Contractor</th>\n",
              "      <th>Country of Contractor</th>\n",
              "      <th>Launch Site</th>\n",
              "      <th>Launch Vehicle</th>\n",
              "      <th>COSPAR Number</th>\n",
              "      <th>NORAD Number</th>\n",
              "      <th>Comments</th>\n",
              "      <th>Source Used for Orbital Data</th>\n",
              "    </tr>\n",
              "    <tr>\n",
              "      <th>Launch Mass (kg.)</th>\n",
              "      <th>Name of Satellite, Alternate Names</th>\n",
              "      <th></th>\n",
              "      <th></th>\n",
              "      <th></th>\n",
              "      <th></th>\n",
              "      <th></th>\n",
              "      <th></th>\n",
              "      <th></th>\n",
              "      <th></th>\n",
              "      <th></th>\n",
              "      <th></th>\n",
              "      <th></th>\n",
              "      <th></th>\n",
              "      <th></th>\n",
              "      <th></th>\n",
              "      <th></th>\n",
              "      <th></th>\n",
              "      <th></th>\n",
              "      <th></th>\n",
              "      <th></th>\n",
              "      <th></th>\n",
              "      <th></th>\n",
              "      <th></th>\n",
              "      <th></th>\n",
              "      <th></th>\n",
              "      <th></th>\n",
              "      <th></th>\n",
              "    </tr>\n",
              "  </thead>\n",
              "  <tbody>\n",
              "    <tr>\n",
              "      <th rowspan=\"5\" valign=\"top\">1.0</th>\n",
              "      <th>AAUSat-4</th>\n",
              "      <td>Denmark</td>\n",
              "      <td>Denmark</td>\n",
              "      <td>University of Aalborg</td>\n",
              "      <td>Civil</td>\n",
              "      <td>Earth Observation</td>\n",
              "      <td>Automatic Identification System (AIS)</td>\n",
              "      <td>LEO</td>\n",
              "      <td>Sun-Synchronous</td>\n",
              "      <td>0.0</td>\n",
              "      <td>442</td>\n",
              "      <td>687</td>\n",
              "      <td>0.017665</td>\n",
              "      <td>98.20</td>\n",
              "      <td>95.90</td>\n",
              "      <td>NaN</td>\n",
              "      <td>NaN</td>\n",
              "      <td>2016-04-25</td>\n",
              "      <td>NaN</td>\n",
              "      <td>University of Aalborg</td>\n",
              "      <td>Denmark</td>\n",
              "      <td>Guiana Space Center</td>\n",
              "      <td>Soyuz 2.1a</td>\n",
              "      <td>2016-025E</td>\n",
              "      <td>41460</td>\n",
              "      <td>Carries AIS system.</td>\n",
              "      <td>Space50</td>\n",
              "    </tr>\n",
              "    <tr>\n",
              "      <th>Beesat-9 (Tubsat-17)</th>\n",
              "      <td>Germany</td>\n",
              "      <td>Germany</td>\n",
              "      <td>Technical University, Berlin</td>\n",
              "      <td>Civil</td>\n",
              "      <td>Technology Development</td>\n",
              "      <td>NaN</td>\n",
              "      <td>LEO</td>\n",
              "      <td>Sun-Synchronous</td>\n",
              "      <td>0.0</td>\n",
              "      <td>514</td>\n",
              "      <td>546</td>\n",
              "      <td>0.002319</td>\n",
              "      <td>97.50</td>\n",
              "      <td>95.20</td>\n",
              "      <td>NaN</td>\n",
              "      <td>NaN</td>\n",
              "      <td>2019-07-05</td>\n",
              "      <td>NaN</td>\n",
              "      <td>Technical University Berlin</td>\n",
              "      <td>Germany</td>\n",
              "      <td>Vostochny Cosmodrome</td>\n",
              "      <td>Soyuz 2.1b</td>\n",
              "      <td>2019-038AC</td>\n",
              "      <td>44412</td>\n",
              "      <td>Student built, will test an attitude control s...</td>\n",
              "      <td>JMSatcat/11_19</td>\n",
              "    </tr>\n",
              "    <tr>\n",
              "      <th>BisonSat (Nwist Qwiqway)</th>\n",
              "      <td>NR</td>\n",
              "      <td>USA</td>\n",
              "      <td>Salish Kootenai College</td>\n",
              "      <td>Civil</td>\n",
              "      <td>Earth Observation/Technology Development</td>\n",
              "      <td>Optical Imaging</td>\n",
              "      <td>LEO</td>\n",
              "      <td>Non-Polar Inclined</td>\n",
              "      <td>0.0</td>\n",
              "      <td>497</td>\n",
              "      <td>801</td>\n",
              "      <td>0.021656</td>\n",
              "      <td>64.78</td>\n",
              "      <td>97.70</td>\n",
              "      <td>NaN</td>\n",
              "      <td>NaN</td>\n",
              "      <td>2015-10-08</td>\n",
              "      <td>NaN</td>\n",
              "      <td>Salish Kootenai College</td>\n",
              "      <td>USA</td>\n",
              "      <td>Cape Canaveral</td>\n",
              "      <td>Atlas 5</td>\n",
              "      <td>2015-058E</td>\n",
              "      <td>40968</td>\n",
              "      <td>Mainly a training exercise for students with e...</td>\n",
              "      <td>JM/12_15</td>\n",
              "    </tr>\n",
              "    <tr>\n",
              "      <th>Duchifat-1</th>\n",
              "      <td>NR</td>\n",
              "      <td>Israel</td>\n",
              "      <td>Herzliya Science Center (HSC)</td>\n",
              "      <td>Civil</td>\n",
              "      <td>Communications</td>\n",
              "      <td>NaN</td>\n",
              "      <td>LEO</td>\n",
              "      <td>Sun-Synchronous</td>\n",
              "      <td>0.0</td>\n",
              "      <td>601</td>\n",
              "      <td>623</td>\n",
              "      <td>0.001575</td>\n",
              "      <td>97.97</td>\n",
              "      <td>96.93</td>\n",
              "      <td>NaN</td>\n",
              "      <td>NaN</td>\n",
              "      <td>2014-06-19</td>\n",
              "      <td>NaN</td>\n",
              "      <td>Herzliya Science Center (HSC)</td>\n",
              "      <td>Israel</td>\n",
              "      <td>Dombarovsky Air Base</td>\n",
              "      <td>Dnepr</td>\n",
              "      <td>2014-033M</td>\n",
              "      <td>40021</td>\n",
              "      <td>NaN</td>\n",
              "      <td>NaN</td>\n",
              "    </tr>\n",
              "    <tr>\n",
              "      <th>Exoconnect (D-Star One)</th>\n",
              "      <td>NR (11/19)</td>\n",
              "      <td>Germany</td>\n",
              "      <td>German Orbital Systems</td>\n",
              "      <td>Commercial</td>\n",
              "      <td>Technology Development</td>\n",
              "      <td>NaN</td>\n",
              "      <td>LEO</td>\n",
              "      <td>Sun-Synchronous</td>\n",
              "      <td>0.0</td>\n",
              "      <td>514</td>\n",
              "      <td>547</td>\n",
              "      <td>0.002391</td>\n",
              "      <td>97.50</td>\n",
              "      <td>95.20</td>\n",
              "      <td>NaN</td>\n",
              "      <td>NaN</td>\n",
              "      <td>2019-07-05</td>\n",
              "      <td>NaN</td>\n",
              "      <td>German Orbital Systems</td>\n",
              "      <td>Germany</td>\n",
              "      <td>Vostochny Cosmodrome</td>\n",
              "      <td>Soyuz 2.1b</td>\n",
              "      <td>2019-038AA</td>\n",
              "      <td>44410</td>\n",
              "      <td>NaN</td>\n",
              "      <td>JMSatcat/11_19</td>\n",
              "    </tr>\n",
              "    <tr>\n",
              "      <th>...</th>\n",
              "      <th>...</th>\n",
              "      <td>...</td>\n",
              "      <td>...</td>\n",
              "      <td>...</td>\n",
              "      <td>...</td>\n",
              "      <td>...</td>\n",
              "      <td>...</td>\n",
              "      <td>...</td>\n",
              "      <td>...</td>\n",
              "      <td>...</td>\n",
              "      <td>...</td>\n",
              "      <td>...</td>\n",
              "      <td>...</td>\n",
              "      <td>...</td>\n",
              "      <td>...</td>\n",
              "      <td>...</td>\n",
              "      <td>...</td>\n",
              "      <td>...</td>\n",
              "      <td>...</td>\n",
              "      <td>...</td>\n",
              "      <td>...</td>\n",
              "      <td>...</td>\n",
              "      <td>...</td>\n",
              "      <td>...</td>\n",
              "      <td>...</td>\n",
              "      <td>...</td>\n",
              "      <td>...</td>\n",
              "    </tr>\n",
              "    <tr>\n",
              "      <th>14500.0</th>\n",
              "      <th>Lacrosse/Onyx 5 (Lacrosse-5, NROL 16, USA 182)</th>\n",
              "      <td>USA</td>\n",
              "      <td>USA</td>\n",
              "      <td>National Reconnaissance Office (NRO)</td>\n",
              "      <td>Military</td>\n",
              "      <td>Earth Observation</td>\n",
              "      <td>Radar Imaging</td>\n",
              "      <td>LEO</td>\n",
              "      <td>Non-Polar Inclined</td>\n",
              "      <td>0.0</td>\n",
              "      <td>713</td>\n",
              "      <td>716</td>\n",
              "      <td>0.000212</td>\n",
              "      <td>57.01</td>\n",
              "      <td>99.08</td>\n",
              "      <td>NaN</td>\n",
              "      <td>NaN</td>\n",
              "      <td>2005-04-30</td>\n",
              "      <td>9.0</td>\n",
              "      <td>Lockheed Martin Astronautics</td>\n",
              "      <td>USA</td>\n",
              "      <td>Cape Canaveral</td>\n",
              "      <td>Titan 4B</td>\n",
              "      <td>2005-016A</td>\n",
              "      <td>28646</td>\n",
              "      <td>$1 billion range.</td>\n",
              "      <td>SC - ASCR</td>\n",
              "    </tr>\n",
              "    <tr>\n",
              "      <th rowspan=\"4\" valign=\"top\">18000.0</th>\n",
              "      <th>Keyhole 5 (Advanced KH-11, KH-12-5, Improved Crystal, EIS-3, USA 186)</th>\n",
              "      <td>USA</td>\n",
              "      <td>USA</td>\n",
              "      <td>National Reconnaissance Office (NRO)</td>\n",
              "      <td>Military</td>\n",
              "      <td>Earth Observation</td>\n",
              "      <td>Optical Imaging</td>\n",
              "      <td>LEO</td>\n",
              "      <td>Elliptical</td>\n",
              "      <td>0.0</td>\n",
              "      <td>264</td>\n",
              "      <td>1050</td>\n",
              "      <td>0.055927</td>\n",
              "      <td>97.90</td>\n",
              "      <td>97.00</td>\n",
              "      <td>10000</td>\n",
              "      <td>NaN</td>\n",
              "      <td>2005-10-19</td>\n",
              "      <td>5.0</td>\n",
              "      <td>Lockheed Martin</td>\n",
              "      <td>USA</td>\n",
              "      <td>Vandenberg AFB</td>\n",
              "      <td>Titan IV</td>\n",
              "      <td>2005-042A</td>\n",
              "      <td>28888</td>\n",
              "      <td>$1 billion satellite; last use of Titan IV as ...</td>\n",
              "      <td>JMSR</td>\n",
              "    </tr>\n",
              "    <tr>\n",
              "      <th>Keyhole 6 (NRO L49, Advanced KH-11, KH-12-6, Improved Crystal, USA 224)</th>\n",
              "      <td>USA</td>\n",
              "      <td>USA</td>\n",
              "      <td>National Reconnaissance Office (NRO)</td>\n",
              "      <td>Military</td>\n",
              "      <td>Earth Observation</td>\n",
              "      <td>Optical Imaging</td>\n",
              "      <td>LEO</td>\n",
              "      <td>Elliptical</td>\n",
              "      <td>0.0</td>\n",
              "      <td>200</td>\n",
              "      <td>1000</td>\n",
              "      <td>0.057389</td>\n",
              "      <td>97.80</td>\n",
              "      <td>97.00</td>\n",
              "      <td>10000</td>\n",
              "      <td>NaN</td>\n",
              "      <td>2011-01-20</td>\n",
              "      <td>5.0</td>\n",
              "      <td>Lockheed Martin</td>\n",
              "      <td>USA</td>\n",
              "      <td>Vandenberg AFB</td>\n",
              "      <td>Delta 4 Heavy</td>\n",
              "      <td>2011-002A</td>\n",
              "      <td>37348</td>\n",
              "      <td>Believed to be KH-11 class.</td>\n",
              "      <td>JMSatcat/2_USA</td>\n",
              "    </tr>\n",
              "    <tr>\n",
              "      <th>Keyhole 7 (NRO L65, Advanced KH-11, Improved Crystal, USA 245)</th>\n",
              "      <td>USA</td>\n",
              "      <td>USA</td>\n",
              "      <td>National Reconnaissance Office (NRO)</td>\n",
              "      <td>Military</td>\n",
              "      <td>Earth Observation</td>\n",
              "      <td>Optical Imaging</td>\n",
              "      <td>LEO</td>\n",
              "      <td>Elliptical</td>\n",
              "      <td>102.6</td>\n",
              "      <td>257</td>\n",
              "      <td>997</td>\n",
              "      <td>0.052880</td>\n",
              "      <td>97.80</td>\n",
              "      <td>97.25</td>\n",
              "      <td>10000</td>\n",
              "      <td>NaN</td>\n",
              "      <td>2013-08-28</td>\n",
              "      <td>5.0</td>\n",
              "      <td>Lockheed Martin</td>\n",
              "      <td>USA</td>\n",
              "      <td>Vandenberg AFB</td>\n",
              "      <td>Delta 4 Heavy</td>\n",
              "      <td>2013-043A</td>\n",
              "      <td>39232</td>\n",
              "      <td>Believed to be KH-11 class.</td>\n",
              "      <td>ZARYA</td>\n",
              "    </tr>\n",
              "    <tr>\n",
              "      <th>Keyhole 8 (NRO L71, Advanced KH-11, Improved Crystal Block 5, USA 290)</th>\n",
              "      <td>NR (11/19)</td>\n",
              "      <td>USA</td>\n",
              "      <td>National Reconnaissance Office (NRO)</td>\n",
              "      <td>Military</td>\n",
              "      <td>Earth Observation</td>\n",
              "      <td>Optical Imaging</td>\n",
              "      <td>LEO</td>\n",
              "      <td>Polar</td>\n",
              "      <td>0.0</td>\n",
              "      <td>395</td>\n",
              "      <td>419</td>\n",
              "      <td>0.001771</td>\n",
              "      <td>74.00</td>\n",
              "      <td>92.70</td>\n",
              "      <td>10000</td>\n",
              "      <td>NaN</td>\n",
              "      <td>2019-01-19</td>\n",
              "      <td>5.0</td>\n",
              "      <td>Lockheed Martin</td>\n",
              "      <td>USA</td>\n",
              "      <td>Vandenberg AFB</td>\n",
              "      <td>Delta 4 Heavy</td>\n",
              "      <td>2019-004A</td>\n",
              "      <td>43941</td>\n",
              "      <td>Believed to be KH-11 class, Improved Crystal B...</td>\n",
              "      <td>JMSatcat/3_19</td>\n",
              "    </tr>\n",
              "  </tbody>\n",
              "</table>\n",
              "<p>2046 rows × 26 columns</p>\n",
              "</div>"
            ],
            "text/plain": [
              "                                                                     Country/Org of UN Registry  ... Source Used for Orbital Data\n",
              "Launch Mass (kg.) Name of Satellite, Alternate Names                                             ...                             \n",
              "1.0               AAUSat-4                                                              Denmark  ...                      Space50\n",
              "                  Beesat-9 (Tubsat-17)                                                  Germany  ...               JMSatcat/11_19\n",
              "                  BisonSat (Nwist Qwiqway)                                                   NR  ...                     JM/12_15\n",
              "                  Duchifat-1                                                                 NR  ...                          NaN\n",
              "                  Exoconnect (D-Star One)                                            NR (11/19)  ...               JMSatcat/11_19\n",
              "...                                                                                         ...  ...                          ...\n",
              "14500.0           Lacrosse/Onyx 5 (Lacrosse-5, NROL 16, USA 182)                            USA  ...                    SC - ASCR\n",
              "18000.0           Keyhole 5 (Advanced KH-11, KH-12-5, Improved Cr...                        USA  ...                         JMSR\n",
              "                  Keyhole 6 (NRO L49, Advanced KH-11, KH-12-6, Im...                        USA  ...               JMSatcat/2_USA\n",
              "                  Keyhole 7 (NRO L65, Advanced KH-11, Improved Cr...                        USA  ...                        ZARYA\n",
              "                  Keyhole 8 (NRO L71, Advanced KH-11, Improved Cr...                 NR (11/19)  ...                JMSatcat/3_19\n",
              "\n",
              "[2046 rows x 26 columns]"
            ]
          },
          "metadata": {
            "tags": []
          },
          "execution_count": 38
        }
      ]
    },
    {
      "cell_type": "markdown",
      "metadata": {
        "id": "K_3_HeBSqwxl"
      },
      "source": [
        "In the above results we can see that a total of four satellites had a Launch Mass of 18000 kilograms and had similar characteristics. All four were Military Satellites Launched by the United States, all found were Earth Obvservation Satellites, all four were Launched to Lower Earth Orbit, so on and so on. So this means that as we progress in our feasiblity study we can make a case for Military Vehicles as the number one source of potential revenue since they tend to launch heavier vehicles and would benefit the most from the cost savings associated with launching from an Equatorial location. Again, this is simply an example of the versatility that using Python and associated libraries for analytical purposes can help us out."
      ]
    },
    {
      "cell_type": "markdown",
      "metadata": {
        "id": "yEXwLJM2tB3m"
      },
      "source": [
        "## Frequently used Launch Sites\n",
        "\n",
        "In order to compare our theoretical spaceport to others, I would be interesting to see which are the most frequently used launch sites in the database that we loaded in and see their geographic locations in the map that we generated above."
      ]
    },
    {
      "cell_type": "code",
      "metadata": {
        "colab": {
          "base_uri": "https://localhost:8080/",
          "height": 527
        },
        "id": "gCN-SPBGKSz5",
        "outputId": "46556a06-7332-430b-ab70-d7a14276a8ba"
      },
      "source": [
        "# Doing a value count of all \n",
        "# launches per Launch site \n",
        "UCS_df['Launch Site'].value_counts()"
      ],
      "execution_count": null,
      "outputs": [
        {
          "output_type": "execute_result",
          "data": {
            "text/plain": [
              "Satish Dhawan Space Centre              311\n",
              "Cape Canaveral                          311\n",
              "Baikonur Cosmodrome                     294\n",
              "Guiana Space Center                     273\n",
              "Vandenberg AFB                          245\n",
              "Jiuquan Satellite Launch Center         140\n",
              "Plesetsk Cosmodrome                     107\n",
              "Xichang Satellite Launch Center         106\n",
              "Taiyuan Launch Center                    86\n",
              "Vostochny Cosmodrome                     64\n",
              "Dombarovsky Air Base                     57\n",
              "Tanegashima Space Center                 43\n",
              "International Space Station              33\n",
              "Rocket Lab Launch Complex 1              32\n",
              "Sea Launch Odyssey                       28\n",
              "Wallops Island Flight Facility           27\n",
              "International Space Station - Cygnus     12\n",
              "Uchinoura Space Center                   10\n",
              "Orbital ATK L-1011                        8\n",
              "Cygnus                                    8\n",
              "Yellow Sea Launch Platform                7\n",
              "Palmachim Launch Complex                  5\n",
              "Kodiak Launch Complex                     4\n",
              "Svobodny Cosmodrome                       2\n",
              "Kwajalein Island                          2\n",
              "Wenchang Satellite Launch Center          1\n",
              "Naro Space Center                         1\n",
              "Dragon CRS-17                             1\n",
              "Name: Launch Site, dtype: int64"
            ]
          },
          "metadata": {
            "tags": []
          },
          "execution_count": 41
        }
      ]
    },
    {
      "cell_type": "markdown",
      "metadata": {
        "id": "Cd2Kk-EHuM3H"
      },
      "source": [
        "We see that within the top five most used Launch pads there is one that has a position of 45 degree latitude (Baikonur Cosmodrome) in Kazakhstan used by the Russians. So this would be a case against our equatorial launch site. In thing to ask ourselves is which satelittes did they launching from the mentioned location which Launch Masses, what were the target orbits, so on and so on. More in depth analysis can be made which would answer those questions."
      ]
    },
    {
      "cell_type": "markdown",
      "metadata": {
        "id": "yJuPikmbwvwb"
      },
      "source": [
        "## Frequent Users and Country of Origin\n",
        "Other points can be made about the most frequent users of Satellites according to the data gathered in this database. In the below query we can see that commercial vehicles are commercial satellites are an overwhelming majority with 1033 satellites. Futher analysis can be made to know which are the heaviest vehicles and where they were launched from to make a case for a potential cost savings for using the East African Spaceport as a solution."
      ]
    },
    {
      "cell_type": "code",
      "metadata": {
        "colab": {
          "base_uri": "https://localhost:8080/",
          "height": 351
        },
        "id": "ITe314cELPQ_",
        "outputId": "f0b2cca3-1be6-45a1-a72e-7907c1d6c196"
      },
      "source": [
        "#Grouped by users and counting by countries (this would show which use is more popular in each country)\n",
        "ucs_date_countries = UCS_df.groupby([\"Users\"])[\"Country/Org of UN Registry\"].count()\n",
        "ucs_date_countries"
      ],
      "execution_count": null,
      "outputs": [
        {
          "output_type": "execute_result",
          "data": {
            "text/plain": [
              "Users\n",
              "Civil                              151\n",
              "Civil/Government                     3\n",
              "Civil/Military                       1\n",
              "Commercial                        1033\n",
              "Commercial                           1\n",
              "Commercial/Government                1\n",
              "Commercial/Military                  2\n",
              "Government                         419\n",
              "Government/Civil                    28\n",
              "Government/Commercial              112\n",
              "Government/Commercial/Military       1\n",
              "Government/Military                  5\n",
              "Military                           331\n",
              "Military                             1\n",
              "Military/Civil                       5\n",
              "Military/Commercial                 75\n",
              "Military/Government                 49\n",
              "Name: Country/Org of UN Registry, dtype: int64"
            ]
          },
          "metadata": {
            "tags": []
          },
          "execution_count": 46
        }
      ]
    },
    {
      "cell_type": "markdown",
      "metadata": {
        "id": "ELsM_SqAs02C"
      },
      "source": [
        "## Launch Mass vs Longitude Scatter Plot"
      ]
    },
    {
      "cell_type": "code",
      "metadata": {
        "colab": {
          "base_uri": "https://localhost:8080/",
          "height": 515
        },
        "id": "3P0u3CfY1QWw",
        "outputId": "d96d233a-d119-4357-c47c-e74d9e6e5076"
      },
      "source": [
        "UCS_df.plot(kind='scatter', x='Longitude of GEO (degrees)', y='Launch Mass (kg.)', figsize=(16,8))"
      ],
      "execution_count": null,
      "outputs": [
        {
          "output_type": "execute_result",
          "data": {
            "text/plain": [
              "<matplotlib.axes._subplots.AxesSubplot at 0x7f237d46d470>"
            ]
          },
          "metadata": {
            "tags": []
          },
          "execution_count": 8
        },
        {
          "output_type": "display_data",
          "data": {
            "image/png": "[encoded data removed]",
            "text/plain": [
              "<Figure size 1152x576 with 1 Axes>"
            ]
          },
          "metadata": {
            "tags": []
          }
        }
      ]
    },
    {
      "cell_type": "markdown",
      "metadata": {
        "id": "BhL6kMJOs6wi"
      },
      "source": [
        " # Data Source 3 - Space X API (Application Program Interface)\n",
        "\n",
        "\n",
        "The SpaceX API is a central location for information of most if not all things related to Space X's missions, rockets and more. Subsequent sections will demonstrate how to extract information from this source. Further explanation of how application program interfaces work is outside the scope of this report but may be searched for individually. \n"
      ]
    },
    {
      "cell_type": "code",
      "metadata": {
        "id": "6dVrB94EplVB"
      },
      "source": [
        "import requests\n",
        "import json\n",
        "import pandas as pd"
      ],
      "execution_count": null,
      "outputs": []
    },
    {
      "cell_type": "markdown",
      "metadata": {
        "id": "qgGl76CiaE-L"
      },
      "source": [
        "## End Point # 1 - Launches\n",
        "https://api.spacexdata.com/v3/launches"
      ]
    },
    {
      "cell_type": "code",
      "metadata": {
        "id": "fkzED9HFaV-6"
      },
      "source": [
        "# This chunk of code will let us know in which form is the original data\n",
        "url_launches = 'https://api.spacexdata.com/v3/launches'\n",
        "launches_response = requests.get(url_launches).json()\n",
        "#print(json.dumps(launches_response, indent=2))"
      ],
      "execution_count": null,
      "outputs": []
    },
    {
      "cell_type": "code",
      "metadata": {
        "colab": {
          "base_uri": "https://localhost:8080/"
        },
        "id": "-mg2tH13qM4J",
        "outputId": "8dd0d45a-88fc-4618-ef66-6557f284f579"
      },
      "source": [
        "spacex_launches['mission_id']"
      ],
      "execution_count": null,
      "outputs": [
        {
          "output_type": "execute_result",
          "data": {
            "text/plain": [
              "[]"
            ]
          },
          "metadata": {
            "tags": []
          },
          "execution_count": 28
        }
      ]
    },
    {
      "cell_type": "code",
      "metadata": {
        "colab": {
          "base_uri": "https://localhost:8080/"
        },
        "id": "Atsv8F02bOvl",
        "outputId": "35c2db27-da2c-49a9-8dff-0490aec2847a"
      },
      "source": [
        "spacex_launches = launches_response[0]\n",
        "print(spacex_launches.keys())"
      ],
      "execution_count": null,
      "outputs": [
        {
          "output_type": "stream",
          "text": [
            "dict_keys(['flight_number', 'mission_name', 'mission_id', 'upcoming', 'launch_year', 'launch_date_unix', 'launch_date_utc', 'launch_date_local', 'is_tentative', 'tentative_max_precision', 'tbd', 'launch_window', 'rocket', 'ships', 'telemetry', 'launch_site', 'launch_success', 'launch_failure_details', 'links', 'details', 'static_fire_date_utc', 'static_fire_date_unix', 'timeline', 'crew'])\n"
          ],
          "name": "stdout"
        }
      ]
    },
    {
      "cell_type": "markdown",
      "metadata": {
        "id": "8RK51mAesIf5"
      },
      "source": [
        "### First Look in Pandas"
      ]
    },
    {
      "cell_type": "code",
      "metadata": {
        "colab": {
          "base_uri": "https://localhost:8080/",
          "height": 603
        },
        "id": "E587A8KSpCdu",
        "outputId": "8521fdbc-0c39-4b57-b0a0-97cf6a27e881"
      },
      "source": [
        "space_x_launches_df = pd.read_json(url_launches)\n",
        "print(space_x_launches_df.shape)\n",
        "space_x_launches_df.head()"
      ],
      "execution_count": null,
      "outputs": [
        {
          "output_type": "stream",
          "text": [
            "(111, 31)\n"
          ],
          "name": "stdout"
        },
        {
          "output_type": "execute_result",
          "data": {
            "text/html": [
              "<div>\n",
              "<style scoped>\n",
              "    .dataframe tbody tr th:only-of-type {\n",
              "        vertical-align: middle;\n",
              "    }\n",
              "\n",
              "    .dataframe tbody tr th {\n",
              "        vertical-align: top;\n",
              "    }\n",
              "\n",
              "    .dataframe thead th {\n",
              "        text-align: right;\n",
              "    }\n",
              "</style>\n",
              "<table border=\"1\" class=\"dataframe\">\n",
              "  <thead>\n",
              "    <tr style=\"text-align: right;\">\n",
              "      <th></th>\n",
              "      <th>flight_number</th>\n",
              "      <th>mission_name</th>\n",
              "      <th>mission_id</th>\n",
              "      <th>upcoming</th>\n",
              "      <th>launch_year</th>\n",
              "      <th>launch_date_unix</th>\n",
              "      <th>launch_date_utc</th>\n",
              "      <th>launch_date_local</th>\n",
              "      <th>is_tentative</th>\n",
              "      <th>tentative_max_precision</th>\n",
              "      <th>tbd</th>\n",
              "      <th>launch_window</th>\n",
              "      <th>rocket</th>\n",
              "      <th>ships</th>\n",
              "      <th>telemetry</th>\n",
              "      <th>launch_site</th>\n",
              "      <th>launch_success</th>\n",
              "      <th>launch_failure_details</th>\n",
              "      <th>links</th>\n",
              "      <th>details</th>\n",
              "      <th>static_fire_date_utc</th>\n",
              "      <th>static_fire_date_unix</th>\n",
              "      <th>timeline</th>\n",
              "      <th>crew</th>\n",
              "      <th>last_date_update</th>\n",
              "      <th>last_ll_launch_date</th>\n",
              "      <th>last_ll_update</th>\n",
              "      <th>last_wiki_launch_date</th>\n",
              "      <th>last_wiki_revision</th>\n",
              "      <th>last_wiki_update</th>\n",
              "      <th>launch_date_source</th>\n",
              "    </tr>\n",
              "  </thead>\n",
              "  <tbody>\n",
              "    <tr>\n",
              "      <th>0</th>\n",
              "      <td>1</td>\n",
              "      <td>FalconSat</td>\n",
              "      <td>[]</td>\n",
              "      <td>False</td>\n",
              "      <td>2006</td>\n",
              "      <td>1143239400</td>\n",
              "      <td>2006-03-24T22:30:00.000Z</td>\n",
              "      <td>2006-03-25T10:30:00+12:00</td>\n",
              "      <td>False</td>\n",
              "      <td>hour</td>\n",
              "      <td>False</td>\n",
              "      <td>0.0</td>\n",
              "      <td>{'rocket_id': 'falcon1', 'rocket_name': 'Falco...</td>\n",
              "      <td>[]</td>\n",
              "      <td>{'flight_club': None}</td>\n",
              "      <td>{'site_id': 'kwajalein_atoll', 'site_name': 'K...</td>\n",
              "      <td>0.0</td>\n",
              "      <td>{'time': 33, 'altitude': None, 'reason': 'merl...</td>\n",
              "      <td>{'mission_patch': 'https://images2.imgbox.com/...</td>\n",
              "      <td>Engine failure at 33 seconds and loss of vehicle</td>\n",
              "      <td>2006-03-17T00:00:00.000Z</td>\n",
              "      <td>1.142554e+09</td>\n",
              "      <td>{'webcast_liftoff': 54}</td>\n",
              "      <td>None</td>\n",
              "      <td>NaN</td>\n",
              "      <td>NaN</td>\n",
              "      <td>NaN</td>\n",
              "      <td>NaN</td>\n",
              "      <td>NaN</td>\n",
              "      <td>NaN</td>\n",
              "      <td>NaN</td>\n",
              "    </tr>\n",
              "    <tr>\n",
              "      <th>1</th>\n",
              "      <td>2</td>\n",
              "      <td>DemoSat</td>\n",
              "      <td>[]</td>\n",
              "      <td>False</td>\n",
              "      <td>2007</td>\n",
              "      <td>1174439400</td>\n",
              "      <td>2007-03-21T01:10:00.000Z</td>\n",
              "      <td>2007-03-21T13:10:00+12:00</td>\n",
              "      <td>False</td>\n",
              "      <td>hour</td>\n",
              "      <td>False</td>\n",
              "      <td>0.0</td>\n",
              "      <td>{'rocket_id': 'falcon1', 'rocket_name': 'Falco...</td>\n",
              "      <td>[]</td>\n",
              "      <td>{'flight_club': None}</td>\n",
              "      <td>{'site_id': 'kwajalein_atoll', 'site_name': 'K...</td>\n",
              "      <td>0.0</td>\n",
              "      <td>{'time': 301, 'altitude': 289, 'reason': 'harm...</td>\n",
              "      <td>{'mission_patch': 'https://images2.imgbox.com/...</td>\n",
              "      <td>Successful first stage burn and transition to ...</td>\n",
              "      <td>None</td>\n",
              "      <td>NaN</td>\n",
              "      <td>{'webcast_liftoff': 60}</td>\n",
              "      <td>None</td>\n",
              "      <td>NaN</td>\n",
              "      <td>NaN</td>\n",
              "      <td>NaN</td>\n",
              "      <td>NaN</td>\n",
              "      <td>NaN</td>\n",
              "      <td>NaN</td>\n",
              "      <td>NaN</td>\n",
              "    </tr>\n",
              "    <tr>\n",
              "      <th>2</th>\n",
              "      <td>3</td>\n",
              "      <td>Trailblazer</td>\n",
              "      <td>[]</td>\n",
              "      <td>False</td>\n",
              "      <td>2008</td>\n",
              "      <td>1217734440</td>\n",
              "      <td>2008-08-03T03:34:00.000Z</td>\n",
              "      <td>2008-08-03T15:34:00+12:00</td>\n",
              "      <td>False</td>\n",
              "      <td>hour</td>\n",
              "      <td>False</td>\n",
              "      <td>0.0</td>\n",
              "      <td>{'rocket_id': 'falcon1', 'rocket_name': 'Falco...</td>\n",
              "      <td>[]</td>\n",
              "      <td>{'flight_club': None}</td>\n",
              "      <td>{'site_id': 'kwajalein_atoll', 'site_name': 'K...</td>\n",
              "      <td>0.0</td>\n",
              "      <td>{'time': 140, 'altitude': 35, 'reason': 'resid...</td>\n",
              "      <td>{'mission_patch': 'https://images2.imgbox.com/...</td>\n",
              "      <td>Residual stage 1 thrust led to collision betwe...</td>\n",
              "      <td>None</td>\n",
              "      <td>NaN</td>\n",
              "      <td>{'webcast_liftoff': 14}</td>\n",
              "      <td>None</td>\n",
              "      <td>NaN</td>\n",
              "      <td>NaN</td>\n",
              "      <td>NaN</td>\n",
              "      <td>NaN</td>\n",
              "      <td>NaN</td>\n",
              "      <td>NaN</td>\n",
              "      <td>NaN</td>\n",
              "    </tr>\n",
              "    <tr>\n",
              "      <th>3</th>\n",
              "      <td>4</td>\n",
              "      <td>RatSat</td>\n",
              "      <td>[]</td>\n",
              "      <td>False</td>\n",
              "      <td>2008</td>\n",
              "      <td>1222643700</td>\n",
              "      <td>2008-09-28T23:15:00.000Z</td>\n",
              "      <td>2008-09-28T11:15:00+12:00</td>\n",
              "      <td>False</td>\n",
              "      <td>hour</td>\n",
              "      <td>False</td>\n",
              "      <td>0.0</td>\n",
              "      <td>{'rocket_id': 'falcon1', 'rocket_name': 'Falco...</td>\n",
              "      <td>[]</td>\n",
              "      <td>{'flight_club': None}</td>\n",
              "      <td>{'site_id': 'kwajalein_atoll', 'site_name': 'K...</td>\n",
              "      <td>1.0</td>\n",
              "      <td>NaN</td>\n",
              "      <td>{'mission_patch': 'https://images2.imgbox.com/...</td>\n",
              "      <td>Ratsat was carried to orbit on the first succe...</td>\n",
              "      <td>2008-09-20T00:00:00.000Z</td>\n",
              "      <td>1.221869e+09</td>\n",
              "      <td>{'webcast_liftoff': 5}</td>\n",
              "      <td>None</td>\n",
              "      <td>NaN</td>\n",
              "      <td>NaN</td>\n",
              "      <td>NaN</td>\n",
              "      <td>NaN</td>\n",
              "      <td>NaN</td>\n",
              "      <td>NaN</td>\n",
              "      <td>NaN</td>\n",
              "    </tr>\n",
              "    <tr>\n",
              "      <th>4</th>\n",
              "      <td>5</td>\n",
              "      <td>RazakSat</td>\n",
              "      <td>[]</td>\n",
              "      <td>False</td>\n",
              "      <td>2009</td>\n",
              "      <td>1247456100</td>\n",
              "      <td>2009-07-13T03:35:00.000Z</td>\n",
              "      <td>2009-07-13T15:35:00+12:00</td>\n",
              "      <td>False</td>\n",
              "      <td>hour</td>\n",
              "      <td>False</td>\n",
              "      <td>0.0</td>\n",
              "      <td>{'rocket_id': 'falcon1', 'rocket_name': 'Falco...</td>\n",
              "      <td>[]</td>\n",
              "      <td>{'flight_club': None}</td>\n",
              "      <td>{'site_id': 'kwajalein_atoll', 'site_name': 'K...</td>\n",
              "      <td>1.0</td>\n",
              "      <td>NaN</td>\n",
              "      <td>{'mission_patch': 'https://images2.imgbox.com/...</td>\n",
              "      <td>None</td>\n",
              "      <td>None</td>\n",
              "      <td>NaN</td>\n",
              "      <td>{'webcast_liftoff': 5}</td>\n",
              "      <td>None</td>\n",
              "      <td>NaN</td>\n",
              "      <td>NaN</td>\n",
              "      <td>NaN</td>\n",
              "      <td>NaN</td>\n",
              "      <td>NaN</td>\n",
              "      <td>NaN</td>\n",
              "      <td>NaN</td>\n",
              "    </tr>\n",
              "  </tbody>\n",
              "</table>\n",
              "</div>"
            ],
            "text/plain": [
              "   flight_number mission_name  ... last_wiki_update  launch_date_source\n",
              "0              1    FalconSat  ...              NaN                 NaN\n",
              "1              2      DemoSat  ...              NaN                 NaN\n",
              "2              3  Trailblazer  ...              NaN                 NaN\n",
              "3              4       RatSat  ...              NaN                 NaN\n",
              "4              5     RazakSat  ...              NaN                 NaN\n",
              "\n",
              "[5 rows x 31 columns]"
            ]
          },
          "metadata": {
            "tags": []
          },
          "execution_count": 75
        }
      ]
    },
    {
      "cell_type": "markdown",
      "metadata": {
        "id": "Bu0k6vlUsUIF"
      },
      "source": [
        "#### Pandas.Info"
      ]
    },
    {
      "cell_type": "code",
      "metadata": {
        "colab": {
          "base_uri": "https://localhost:8080/"
        },
        "id": "IbzWL7e5qXo6",
        "outputId": "652cf572-8125-414a-ecdd-c52e4c80765c"
      },
      "source": [
        "space_x_launches_df.info()"
      ],
      "execution_count": null,
      "outputs": [
        {
          "output_type": "stream",
          "text": [
            "<class 'pandas.core.frame.DataFrame'>\n",
            "RangeIndex: 111 entries, 0 to 110\n",
            "Data columns (total 31 columns):\n",
            " #   Column                   Non-Null Count  Dtype  \n",
            "---  ------                   --------------  -----  \n",
            " 0   flight_number            111 non-null    int64  \n",
            " 1   mission_name             111 non-null    object \n",
            " 2   mission_id               111 non-null    object \n",
            " 3   upcoming                 111 non-null    bool   \n",
            " 4   launch_year              111 non-null    int64  \n",
            " 5   launch_date_unix         111 non-null    int64  \n",
            " 6   launch_date_utc          111 non-null    object \n",
            " 7   launch_date_local        111 non-null    object \n",
            " 8   is_tentative             111 non-null    bool   \n",
            " 9   tentative_max_precision  111 non-null    object \n",
            " 10  tbd                      111 non-null    bool   \n",
            " 11  launch_window            98 non-null     float64\n",
            " 12  rocket                   111 non-null    object \n",
            " 13  ships                    111 non-null    object \n",
            " 14  telemetry                111 non-null    object \n",
            " 15  launch_site              111 non-null    object \n",
            " 16  launch_success           108 non-null    float64\n",
            " 17  launch_failure_details   5 non-null      object \n",
            " 18  links                    111 non-null    object \n",
            " 19  details                  102 non-null    object \n",
            " 20  static_fire_date_utc     100 non-null    object \n",
            " 21  static_fire_date_unix    100 non-null    float64\n",
            " 22  timeline                 80 non-null     object \n",
            " 23  crew                     1 non-null      object \n",
            " 24  last_date_update         27 non-null     object \n",
            " 25  last_ll_launch_date      12 non-null     object \n",
            " 26  last_ll_update           12 non-null     object \n",
            " 27  last_wiki_launch_date    27 non-null     object \n",
            " 28  last_wiki_revision       27 non-null     object \n",
            " 29  last_wiki_update         27 non-null     object \n",
            " 30  launch_date_source       27 non-null     object \n",
            "dtypes: bool(3), float64(3), int64(3), object(22)\n",
            "memory usage: 24.7+ KB\n"
          ],
          "name": "stdout"
        }
      ]
    },
    {
      "cell_type": "code",
      "metadata": {
        "colab": {
          "base_uri": "https://localhost:8080/"
        },
        "id": "R3H0z8dhsgfr",
        "outputId": "49487ff7-8559-491d-94e3-7c84b1f8ed71"
      },
      "source": [
        "space_x_launches_df.isnull().sum()"
      ],
      "execution_count": null,
      "outputs": [
        {
          "output_type": "execute_result",
          "data": {
            "text/plain": [
              "flight_number                0\n",
              "mission_name                 0\n",
              "mission_id                   0\n",
              "upcoming                     0\n",
              "launch_year                  0\n",
              "launch_date_unix             0\n",
              "launch_date_utc              0\n",
              "launch_date_local            0\n",
              "is_tentative                 0\n",
              "tentative_max_precision      0\n",
              "tbd                          0\n",
              "launch_window               13\n",
              "rocket                       0\n",
              "ships                        0\n",
              "telemetry                    0\n",
              "launch_site                  0\n",
              "launch_success               3\n",
              "launch_failure_details     106\n",
              "links                        0\n",
              "details                      9\n",
              "static_fire_date_utc        11\n",
              "static_fire_date_unix       11\n",
              "timeline                    31\n",
              "crew                       110\n",
              "last_date_update            84\n",
              "last_ll_launch_date         99\n",
              "last_ll_update              99\n",
              "last_wiki_launch_date       84\n",
              "last_wiki_revision          84\n",
              "last_wiki_update            84\n",
              "launch_date_source          84\n",
              "dtype: int64"
            ]
          },
          "metadata": {
            "tags": []
          },
          "execution_count": 77
        }
      ]
    },
    {
      "cell_type": "markdown",
      "metadata": {
        "id": "Y2is9Mfa0m0Q"
      },
      "source": [
        "#### Mission ID - Cleaning\n",
        "Needed to take a deeper dive into the mission id column. As all values came in a empty lists, it told me there there had to be some values of interest. Come to find out there actually were at least 54 rows with valid mission id's. I simply replaced the ones with no data available with 'no_id' as we definitely need to keep as many missions as we can."
      ]
    },
    {
      "cell_type": "code",
      "metadata": {
        "colab": {
          "base_uri": "https://localhost:8080/"
        },
        "id": "Np_zpb14tF9P",
        "outputId": "30a9dea3-4029-4a05-c2a3-0a65b21eaa72"
      },
      "source": [
        "mission_id_col = []\n",
        "\n",
        "counter_1 = 0\n",
        "counter_2 = 0\n",
        "\n",
        "for i in range(space_x_launches_df.shape[0]):\n",
        "  mission_id_series = space_x_launches_df.loc[i, ['mission_id']]\n",
        "  if len(mission_id_series.values[0]) == 0:\n",
        "    mission_id_col.append('no_id')\n",
        "  elif len(mission_id_series.values[0]) == 1:\n",
        "    mission_id_col.append(mission_id_series.values[0][0])\n",
        "  else:\n",
        "    mission_id_col.append(f'{mission_id_series.values[0][0]}/{mission_id_series.values[0][1]}')"
      ],
      "execution_count": null,
      "outputs": [
        {
          "output_type": "stream",
          "text": [
            "0\n",
            "0\n"
          ],
          "name": "stdout"
        }
      ]
    },
    {
      "cell_type": "code",
      "metadata": {
        "id": "QFpNKH6Az6ep"
      },
      "source": [
        "space_x_launches_df['mission_id'] = mission_id_col"
      ],
      "execution_count": null,
      "outputs": []
    },
    {
      "cell_type": "code",
      "metadata": {
        "colab": {
          "base_uri": "https://localhost:8080/",
          "height": 586
        },
        "id": "Pa4O4mlZ1KL4",
        "outputId": "c2bf392e-02e0-437f-803f-e2d2852f76c4"
      },
      "source": [
        "space_x_launches_df.head()"
      ],
      "execution_count": null,
      "outputs": [
        {
          "output_type": "execute_result",
          "data": {
            "text/html": [
              "<div>\n",
              "<style scoped>\n",
              "    .dataframe tbody tr th:only-of-type {\n",
              "        vertical-align: middle;\n",
              "    }\n",
              "\n",
              "    .dataframe tbody tr th {\n",
              "        vertical-align: top;\n",
              "    }\n",
              "\n",
              "    .dataframe thead th {\n",
              "        text-align: right;\n",
              "    }\n",
              "</style>\n",
              "<table border=\"1\" class=\"dataframe\">\n",
              "  <thead>\n",
              "    <tr style=\"text-align: right;\">\n",
              "      <th></th>\n",
              "      <th>flight_number</th>\n",
              "      <th>mission_name</th>\n",
              "      <th>mission_id</th>\n",
              "      <th>upcoming</th>\n",
              "      <th>launch_year</th>\n",
              "      <th>launch_date_unix</th>\n",
              "      <th>launch_date_utc</th>\n",
              "      <th>launch_date_local</th>\n",
              "      <th>is_tentative</th>\n",
              "      <th>tentative_max_precision</th>\n",
              "      <th>tbd</th>\n",
              "      <th>launch_window</th>\n",
              "      <th>rocket</th>\n",
              "      <th>ships</th>\n",
              "      <th>telemetry</th>\n",
              "      <th>launch_site</th>\n",
              "      <th>launch_success</th>\n",
              "      <th>launch_failure_details</th>\n",
              "      <th>links</th>\n",
              "      <th>details</th>\n",
              "      <th>static_fire_date_utc</th>\n",
              "      <th>static_fire_date_unix</th>\n",
              "      <th>timeline</th>\n",
              "      <th>crew</th>\n",
              "      <th>last_date_update</th>\n",
              "      <th>last_ll_launch_date</th>\n",
              "      <th>last_ll_update</th>\n",
              "      <th>last_wiki_launch_date</th>\n",
              "      <th>last_wiki_revision</th>\n",
              "      <th>last_wiki_update</th>\n",
              "      <th>launch_date_source</th>\n",
              "    </tr>\n",
              "  </thead>\n",
              "  <tbody>\n",
              "    <tr>\n",
              "      <th>0</th>\n",
              "      <td>1</td>\n",
              "      <td>FalconSat</td>\n",
              "      <td>no_id</td>\n",
              "      <td>False</td>\n",
              "      <td>2006</td>\n",
              "      <td>1143239400</td>\n",
              "      <td>2006-03-24T22:30:00.000Z</td>\n",
              "      <td>2006-03-25T10:30:00+12:00</td>\n",
              "      <td>False</td>\n",
              "      <td>hour</td>\n",
              "      <td>False</td>\n",
              "      <td>0.0</td>\n",
              "      <td>{'rocket_id': 'falcon1', 'rocket_name': 'Falco...</td>\n",
              "      <td>[]</td>\n",
              "      <td>{'flight_club': None}</td>\n",
              "      <td>{'site_id': 'kwajalein_atoll', 'site_name': 'K...</td>\n",
              "      <td>0.0</td>\n",
              "      <td>{'time': 33, 'altitude': None, 'reason': 'merl...</td>\n",
              "      <td>{'mission_patch': 'https://images2.imgbox.com/...</td>\n",
              "      <td>Engine failure at 33 seconds and loss of vehicle</td>\n",
              "      <td>2006-03-17T00:00:00.000Z</td>\n",
              "      <td>1.142554e+09</td>\n",
              "      <td>{'webcast_liftoff': 54}</td>\n",
              "      <td>None</td>\n",
              "      <td>NaN</td>\n",
              "      <td>NaN</td>\n",
              "      <td>NaN</td>\n",
              "      <td>NaN</td>\n",
              "      <td>NaN</td>\n",
              "      <td>NaN</td>\n",
              "      <td>NaN</td>\n",
              "    </tr>\n",
              "    <tr>\n",
              "      <th>1</th>\n",
              "      <td>2</td>\n",
              "      <td>DemoSat</td>\n",
              "      <td>no_id</td>\n",
              "      <td>False</td>\n",
              "      <td>2007</td>\n",
              "      <td>1174439400</td>\n",
              "      <td>2007-03-21T01:10:00.000Z</td>\n",
              "      <td>2007-03-21T13:10:00+12:00</td>\n",
              "      <td>False</td>\n",
              "      <td>hour</td>\n",
              "      <td>False</td>\n",
              "      <td>0.0</td>\n",
              "      <td>{'rocket_id': 'falcon1', 'rocket_name': 'Falco...</td>\n",
              "      <td>[]</td>\n",
              "      <td>{'flight_club': None}</td>\n",
              "      <td>{'site_id': 'kwajalein_atoll', 'site_name': 'K...</td>\n",
              "      <td>0.0</td>\n",
              "      <td>{'time': 301, 'altitude': 289, 'reason': 'harm...</td>\n",
              "      <td>{'mission_patch': 'https://images2.imgbox.com/...</td>\n",
              "      <td>Successful first stage burn and transition to ...</td>\n",
              "      <td>None</td>\n",
              "      <td>NaN</td>\n",
              "      <td>{'webcast_liftoff': 60}</td>\n",
              "      <td>None</td>\n",
              "      <td>NaN</td>\n",
              "      <td>NaN</td>\n",
              "      <td>NaN</td>\n",
              "      <td>NaN</td>\n",
              "      <td>NaN</td>\n",
              "      <td>NaN</td>\n",
              "      <td>NaN</td>\n",
              "    </tr>\n",
              "    <tr>\n",
              "      <th>2</th>\n",
              "      <td>3</td>\n",
              "      <td>Trailblazer</td>\n",
              "      <td>no_id</td>\n",
              "      <td>False</td>\n",
              "      <td>2008</td>\n",
              "      <td>1217734440</td>\n",
              "      <td>2008-08-03T03:34:00.000Z</td>\n",
              "      <td>2008-08-03T15:34:00+12:00</td>\n",
              "      <td>False</td>\n",
              "      <td>hour</td>\n",
              "      <td>False</td>\n",
              "      <td>0.0</td>\n",
              "      <td>{'rocket_id': 'falcon1', 'rocket_name': 'Falco...</td>\n",
              "      <td>[]</td>\n",
              "      <td>{'flight_club': None}</td>\n",
              "      <td>{'site_id': 'kwajalein_atoll', 'site_name': 'K...</td>\n",
              "      <td>0.0</td>\n",
              "      <td>{'time': 140, 'altitude': 35, 'reason': 'resid...</td>\n",
              "      <td>{'mission_patch': 'https://images2.imgbox.com/...</td>\n",
              "      <td>Residual stage 1 thrust led to collision betwe...</td>\n",
              "      <td>None</td>\n",
              "      <td>NaN</td>\n",
              "      <td>{'webcast_liftoff': 14}</td>\n",
              "      <td>None</td>\n",
              "      <td>NaN</td>\n",
              "      <td>NaN</td>\n",
              "      <td>NaN</td>\n",
              "      <td>NaN</td>\n",
              "      <td>NaN</td>\n",
              "      <td>NaN</td>\n",
              "      <td>NaN</td>\n",
              "    </tr>\n",
              "    <tr>\n",
              "      <th>3</th>\n",
              "      <td>4</td>\n",
              "      <td>RatSat</td>\n",
              "      <td>no_id</td>\n",
              "      <td>False</td>\n",
              "      <td>2008</td>\n",
              "      <td>1222643700</td>\n",
              "      <td>2008-09-28T23:15:00.000Z</td>\n",
              "      <td>2008-09-28T11:15:00+12:00</td>\n",
              "      <td>False</td>\n",
              "      <td>hour</td>\n",
              "      <td>False</td>\n",
              "      <td>0.0</td>\n",
              "      <td>{'rocket_id': 'falcon1', 'rocket_name': 'Falco...</td>\n",
              "      <td>[]</td>\n",
              "      <td>{'flight_club': None}</td>\n",
              "      <td>{'site_id': 'kwajalein_atoll', 'site_name': 'K...</td>\n",
              "      <td>1.0</td>\n",
              "      <td>NaN</td>\n",
              "      <td>{'mission_patch': 'https://images2.imgbox.com/...</td>\n",
              "      <td>Ratsat was carried to orbit on the first succe...</td>\n",
              "      <td>2008-09-20T00:00:00.000Z</td>\n",
              "      <td>1.221869e+09</td>\n",
              "      <td>{'webcast_liftoff': 5}</td>\n",
              "      <td>None</td>\n",
              "      <td>NaN</td>\n",
              "      <td>NaN</td>\n",
              "      <td>NaN</td>\n",
              "      <td>NaN</td>\n",
              "      <td>NaN</td>\n",
              "      <td>NaN</td>\n",
              "      <td>NaN</td>\n",
              "    </tr>\n",
              "    <tr>\n",
              "      <th>4</th>\n",
              "      <td>5</td>\n",
              "      <td>RazakSat</td>\n",
              "      <td>no_id</td>\n",
              "      <td>False</td>\n",
              "      <td>2009</td>\n",
              "      <td>1247456100</td>\n",
              "      <td>2009-07-13T03:35:00.000Z</td>\n",
              "      <td>2009-07-13T15:35:00+12:00</td>\n",
              "      <td>False</td>\n",
              "      <td>hour</td>\n",
              "      <td>False</td>\n",
              "      <td>0.0</td>\n",
              "      <td>{'rocket_id': 'falcon1', 'rocket_name': 'Falco...</td>\n",
              "      <td>[]</td>\n",
              "      <td>{'flight_club': None}</td>\n",
              "      <td>{'site_id': 'kwajalein_atoll', 'site_name': 'K...</td>\n",
              "      <td>1.0</td>\n",
              "      <td>NaN</td>\n",
              "      <td>{'mission_patch': 'https://images2.imgbox.com/...</td>\n",
              "      <td>None</td>\n",
              "      <td>None</td>\n",
              "      <td>NaN</td>\n",
              "      <td>{'webcast_liftoff': 5}</td>\n",
              "      <td>None</td>\n",
              "      <td>NaN</td>\n",
              "      <td>NaN</td>\n",
              "      <td>NaN</td>\n",
              "      <td>NaN</td>\n",
              "      <td>NaN</td>\n",
              "      <td>NaN</td>\n",
              "      <td>NaN</td>\n",
              "    </tr>\n",
              "  </tbody>\n",
              "</table>\n",
              "</div>"
            ],
            "text/plain": [
              "   flight_number mission_name  ... last_wiki_update  launch_date_source\n",
              "0              1    FalconSat  ...              NaN                 NaN\n",
              "1              2      DemoSat  ...              NaN                 NaN\n",
              "2              3  Trailblazer  ...              NaN                 NaN\n",
              "3              4       RatSat  ...              NaN                 NaN\n",
              "4              5     RazakSat  ...              NaN                 NaN\n",
              "\n",
              "[5 rows x 31 columns]"
            ]
          },
          "metadata": {
            "tags": []
          },
          "execution_count": 232
        }
      ]
    },
    {
      "cell_type": "code",
      "metadata": {
        "colab": {
          "base_uri": "https://localhost:8080/"
        },
        "id": "op7j7BPW16gs",
        "outputId": "61b6c8fa-f41b-4ebb-87e3-5e9872a9160d"
      },
      "source": [
        "keys_in_rocket = list(space_x_launches_df['rocket'][0].keys())\n",
        "print(keys_in_rocket)"
      ],
      "execution_count": null,
      "outputs": [
        {
          "output_type": "stream",
          "text": [
            "['rocket_id', 'rocket_name', 'rocket_type', 'first_stage', 'second_stage', 'fairings']\n"
          ],
          "name": "stdout"
        }
      ]
    },
    {
      "cell_type": "code",
      "metadata": {
        "id": "a7z5Dq8nGSOZ"
      },
      "source": [
        "rockets_dataframe = pd.DataFrame()"
      ],
      "execution_count": null,
      "outputs": []
    },
    {
      "cell_type": "code",
      "metadata": {
        "id": "3mRw-J3iKxnG"
      },
      "source": [
        "import sys"
      ],
      "execution_count": null,
      "outputs": []
    },
    {
      "cell_type": "code",
      "metadata": {
        "colab": {
          "base_uri": "https://localhost:8080/"
        },
        "id": "BQIP5a5_2sTz",
        "outputId": "ab4ca818-cefb-44b9-b38f-f116ad9c293b"
      },
      "source": [
        "for index in range(5):\n",
        "\n",
        "  print(index)\n",
        "\n",
        "  for keys in keys_in_rocket:\n",
        "\n",
        "    my_object = space_x_launches_df['rocket'][index][keys]\n",
        "\n",
        "    if isinstance(my_object, dict):\n",
        "      list_keys = list(my_object.keys())\n",
        "      \n",
        "      for index, keys_lev1 in enumerate(list_keys):\n",
        "\n",
        "        object_lev1 = my_object[keys_lev1]\n",
        "\n",
        "        if isinstance(object_lev1, list):\n",
        "          sub_dictionary = object_lev1[0]\n",
        "\n",
        "          for each_key, each_val in sub_dictionary.items():\n",
        "\n",
        "            print(\"\")\n",
        "            #print(each_key)\n",
        "\n",
        "            if isinstance(each_val, list):\n",
        "\n",
        "              if len(each_val) == 0:\n",
        "                print(\"\")\n",
        "\n",
        "                #print(f\"{each_key} undefined\")\n",
        "              else:\n",
        "                print(\"\")\n",
        "                #print(each_val[0])\n",
        "\n",
        "            elif isinstance(each_val, dict):\n",
        "              #print(f\"8888888888888888888888888888888888Didctionary\")\n",
        "\n",
        "              for sub_keys, sub_values in each_val.items():\n",
        "                sub_values = sub_values\n",
        "                #print(sub_keys)\n",
        "                #print(sub_values)\n",
        "                #print(f\"8888888888888888888888888888888888888888888\")\n",
        "            else:\n",
        "              #each_val\n",
        "              print(f\">>>>>{keys_lev1}\")\n",
        "              print(f\"#####{each_val}\")\n",
        "        \n",
        "        elif isinstance(each_val, dict):\n",
        "          for sub_keys, sub_values in each_val.items():\n",
        "            sub_values = sub_values\n",
        "        \n",
        "        else:\n",
        "          print(\"----------------\")\n",
        "          print(my_object)\n",
        "          print(f\"$$$$$$$${object_lev1}\")\n",
        "          print(\"----------------\")\n",
        "    else:\n",
        "      # This needs to be a row\n",
        "      rockets_dataframe.loc[index, str(keys)] = space_x_launches_df['rocket'][index][keys]\n",
        "      #print(rockets_dataframe[str(keys)])"
      ],
      "execution_count": null,
      "outputs": [
        {
          "output_type": "stream",
          "text": [
            "0\n",
            "\n",
            ">>>>>cores\n",
            "#####Merlin1A\n",
            "\n",
            ">>>>>cores\n",
            "#####1\n",
            "\n",
            ">>>>>cores\n",
            "#####None\n",
            "\n",
            ">>>>>cores\n",
            "#####False\n",
            "\n",
            ">>>>>cores\n",
            "#####False\n",
            "\n",
            ">>>>>cores\n",
            "#####False\n",
            "\n",
            ">>>>>cores\n",
            "#####None\n",
            "\n",
            ">>>>>cores\n",
            "#####False\n",
            "\n",
            ">>>>>cores\n",
            "#####None\n",
            "\n",
            ">>>>>cores\n",
            "#####None\n",
            "----------------\n",
            "{'block': 1, 'payloads': [{'payload_id': 'FalconSAT-2', 'norad_id': [], 'reused': False, 'customers': ['DARPA'], 'nationality': 'United States', 'manufacturer': 'SSTL', 'payload_type': 'Satellite', 'payload_mass_kg': 20, 'payload_mass_lbs': 43, 'orbit': 'LEO', 'orbit_params': {'reference_system': 'geocentric', 'regime': 'low-earth', 'longitude': None, 'semi_major_axis_km': None, 'eccentricity': None, 'periapsis_km': 400, 'apoapsis_km': 500, 'inclination_deg': 39, 'period_min': None, 'lifespan_years': None, 'epoch': None, 'mean_motion': None, 'raan': None, 'arg_of_pericenter': None, 'mean_anomaly': None}}]}\n",
            "$$$$$$$$1\n",
            "----------------\n",
            "\n",
            ">>>>>payloads\n",
            "#####FalconSAT-2\n",
            "\n",
            "\n",
            "\n",
            ">>>>>payloads\n",
            "#####False\n",
            "\n",
            "\n",
            "\n",
            ">>>>>payloads\n",
            "#####United States\n",
            "\n",
            ">>>>>payloads\n",
            "#####SSTL\n",
            "\n",
            ">>>>>payloads\n",
            "#####Satellite\n",
            "\n",
            ">>>>>payloads\n",
            "#####20\n",
            "\n",
            ">>>>>payloads\n",
            "#####43\n",
            "\n",
            ">>>>>payloads\n",
            "#####LEO\n",
            "\n",
            "----------------\n",
            "{'reused': False, 'recovery_attempt': False, 'recovered': False, 'ship': None}\n",
            "$$$$$$$$False\n",
            "----------------\n",
            "----------------\n",
            "{'reused': False, 'recovery_attempt': False, 'recovered': False, 'ship': None}\n",
            "$$$$$$$$False\n",
            "----------------\n",
            "----------------\n",
            "{'reused': False, 'recovery_attempt': False, 'recovered': False, 'ship': None}\n",
            "$$$$$$$$False\n",
            "----------------\n",
            "----------------\n",
            "{'reused': False, 'recovery_attempt': False, 'recovered': False, 'ship': None}\n",
            "$$$$$$$$None\n",
            "----------------\n",
            "1\n",
            "\n",
            ">>>>>cores\n",
            "#####Merlin2A\n",
            "\n",
            ">>>>>cores\n",
            "#####1\n",
            "\n",
            ">>>>>cores\n",
            "#####None\n",
            "\n",
            ">>>>>cores\n",
            "#####False\n",
            "\n",
            ">>>>>cores\n",
            "#####False\n",
            "\n",
            ">>>>>cores\n",
            "#####False\n",
            "\n",
            ">>>>>cores\n",
            "#####None\n",
            "\n",
            ">>>>>cores\n",
            "#####False\n",
            "\n",
            ">>>>>cores\n",
            "#####None\n",
            "\n",
            ">>>>>cores\n",
            "#####None\n",
            "----------------\n",
            "{'block': 1, 'payloads': [{'payload_id': 'FalconSAT-2', 'norad_id': [], 'reused': False, 'customers': ['DARPA'], 'nationality': 'United States', 'manufacturer': 'SSTL', 'payload_type': 'Satellite', 'payload_mass_kg': 20, 'payload_mass_lbs': 43, 'orbit': 'LEO', 'orbit_params': {'reference_system': 'geocentric', 'regime': 'low-earth', 'longitude': None, 'semi_major_axis_km': None, 'eccentricity': None, 'periapsis_km': 400, 'apoapsis_km': 500, 'inclination_deg': 39, 'period_min': None, 'lifespan_years': None, 'epoch': None, 'mean_motion': None, 'raan': None, 'arg_of_pericenter': None, 'mean_anomaly': None}}]}\n",
            "$$$$$$$$1\n",
            "----------------\n",
            "\n",
            ">>>>>payloads\n",
            "#####FalconSAT-2\n",
            "\n",
            "\n",
            "\n",
            ">>>>>payloads\n",
            "#####False\n",
            "\n",
            "\n",
            "\n",
            ">>>>>payloads\n",
            "#####United States\n",
            "\n",
            ">>>>>payloads\n",
            "#####SSTL\n",
            "\n",
            ">>>>>payloads\n",
            "#####Satellite\n",
            "\n",
            ">>>>>payloads\n",
            "#####20\n",
            "\n",
            ">>>>>payloads\n",
            "#####43\n",
            "\n",
            ">>>>>payloads\n",
            "#####LEO\n",
            "\n",
            "----------------\n",
            "{'reused': False, 'recovery_attempt': False, 'recovered': False, 'ship': None}\n",
            "$$$$$$$$False\n",
            "----------------\n",
            "----------------\n",
            "{'reused': False, 'recovery_attempt': False, 'recovered': False, 'ship': None}\n",
            "$$$$$$$$False\n",
            "----------------\n",
            "----------------\n",
            "{'reused': False, 'recovery_attempt': False, 'recovered': False, 'ship': None}\n",
            "$$$$$$$$False\n",
            "----------------\n",
            "----------------\n",
            "{'reused': False, 'recovery_attempt': False, 'recovered': False, 'ship': None}\n",
            "$$$$$$$$None\n",
            "----------------\n",
            "2\n",
            "\n",
            ">>>>>cores\n",
            "#####Merlin1C\n",
            "\n",
            ">>>>>cores\n",
            "#####1\n",
            "\n",
            ">>>>>cores\n",
            "#####None\n",
            "\n",
            ">>>>>cores\n",
            "#####False\n",
            "\n",
            ">>>>>cores\n",
            "#####False\n",
            "\n",
            ">>>>>cores\n",
            "#####False\n",
            "\n",
            ">>>>>cores\n",
            "#####None\n",
            "\n",
            ">>>>>cores\n",
            "#####False\n",
            "\n",
            ">>>>>cores\n",
            "#####None\n",
            "\n",
            ">>>>>cores\n",
            "#####None\n",
            "----------------\n",
            "{'block': 1, 'payloads': [{'payload_id': 'FalconSAT-2', 'norad_id': [], 'reused': False, 'customers': ['DARPA'], 'nationality': 'United States', 'manufacturer': 'SSTL', 'payload_type': 'Satellite', 'payload_mass_kg': 20, 'payload_mass_lbs': 43, 'orbit': 'LEO', 'orbit_params': {'reference_system': 'geocentric', 'regime': 'low-earth', 'longitude': None, 'semi_major_axis_km': None, 'eccentricity': None, 'periapsis_km': 400, 'apoapsis_km': 500, 'inclination_deg': 39, 'period_min': None, 'lifespan_years': None, 'epoch': None, 'mean_motion': None, 'raan': None, 'arg_of_pericenter': None, 'mean_anomaly': None}}]}\n",
            "$$$$$$$$1\n",
            "----------------\n",
            "\n",
            ">>>>>payloads\n",
            "#####FalconSAT-2\n",
            "\n",
            "\n",
            "\n",
            ">>>>>payloads\n",
            "#####False\n",
            "\n",
            "\n",
            "\n",
            ">>>>>payloads\n",
            "#####United States\n",
            "\n",
            ">>>>>payloads\n",
            "#####SSTL\n",
            "\n",
            ">>>>>payloads\n",
            "#####Satellite\n",
            "\n",
            ">>>>>payloads\n",
            "#####20\n",
            "\n",
            ">>>>>payloads\n",
            "#####43\n",
            "\n",
            ">>>>>payloads\n",
            "#####LEO\n",
            "\n",
            "----------------\n",
            "{'reused': False, 'recovery_attempt': False, 'recovered': False, 'ship': None}\n",
            "$$$$$$$$False\n",
            "----------------\n",
            "----------------\n",
            "{'reused': False, 'recovery_attempt': False, 'recovered': False, 'ship': None}\n",
            "$$$$$$$$False\n",
            "----------------\n",
            "----------------\n",
            "{'reused': False, 'recovery_attempt': False, 'recovered': False, 'ship': None}\n",
            "$$$$$$$$False\n",
            "----------------\n",
            "----------------\n",
            "{'reused': False, 'recovery_attempt': False, 'recovered': False, 'ship': None}\n",
            "$$$$$$$$None\n",
            "----------------\n",
            "3\n",
            "\n",
            ">>>>>cores\n",
            "#####Merlin2C\n",
            "\n",
            ">>>>>cores\n",
            "#####1\n",
            "\n",
            ">>>>>cores\n",
            "#####None\n",
            "\n",
            ">>>>>cores\n",
            "#####False\n",
            "\n",
            ">>>>>cores\n",
            "#####False\n",
            "\n",
            ">>>>>cores\n",
            "#####False\n",
            "\n",
            ">>>>>cores\n",
            "#####None\n",
            "\n",
            ">>>>>cores\n",
            "#####False\n",
            "\n",
            ">>>>>cores\n",
            "#####None\n",
            "\n",
            ">>>>>cores\n",
            "#####None\n",
            "----------------\n",
            "{'block': 1, 'payloads': [{'payload_id': 'FalconSAT-2', 'norad_id': [], 'reused': False, 'customers': ['DARPA'], 'nationality': 'United States', 'manufacturer': 'SSTL', 'payload_type': 'Satellite', 'payload_mass_kg': 20, 'payload_mass_lbs': 43, 'orbit': 'LEO', 'orbit_params': {'reference_system': 'geocentric', 'regime': 'low-earth', 'longitude': None, 'semi_major_axis_km': None, 'eccentricity': None, 'periapsis_km': 400, 'apoapsis_km': 500, 'inclination_deg': 39, 'period_min': None, 'lifespan_years': None, 'epoch': None, 'mean_motion': None, 'raan': None, 'arg_of_pericenter': None, 'mean_anomaly': None}}]}\n",
            "$$$$$$$$1\n",
            "----------------\n",
            "\n",
            ">>>>>payloads\n",
            "#####FalconSAT-2\n",
            "\n",
            "\n",
            "\n",
            ">>>>>payloads\n",
            "#####False\n",
            "\n",
            "\n",
            "\n",
            ">>>>>payloads\n",
            "#####United States\n",
            "\n",
            ">>>>>payloads\n",
            "#####SSTL\n",
            "\n",
            ">>>>>payloads\n",
            "#####Satellite\n",
            "\n",
            ">>>>>payloads\n",
            "#####20\n",
            "\n",
            ">>>>>payloads\n",
            "#####43\n",
            "\n",
            ">>>>>payloads\n",
            "#####LEO\n",
            "\n",
            "----------------\n",
            "{'reused': False, 'recovery_attempt': False, 'recovered': False, 'ship': None}\n",
            "$$$$$$$$False\n",
            "----------------\n",
            "----------------\n",
            "{'reused': False, 'recovery_attempt': False, 'recovered': False, 'ship': None}\n",
            "$$$$$$$$False\n",
            "----------------\n",
            "----------------\n",
            "{'reused': False, 'recovery_attempt': False, 'recovered': False, 'ship': None}\n",
            "$$$$$$$$False\n",
            "----------------\n",
            "----------------\n",
            "{'reused': False, 'recovery_attempt': False, 'recovered': False, 'ship': None}\n",
            "$$$$$$$$None\n",
            "----------------\n",
            "4\n",
            "\n",
            ">>>>>cores\n",
            "#####Merlin3C\n",
            "\n",
            ">>>>>cores\n",
            "#####1\n",
            "\n",
            ">>>>>cores\n",
            "#####None\n",
            "\n",
            ">>>>>cores\n",
            "#####False\n",
            "\n",
            ">>>>>cores\n",
            "#####False\n",
            "\n",
            ">>>>>cores\n",
            "#####False\n",
            "\n",
            ">>>>>cores\n",
            "#####None\n",
            "\n",
            ">>>>>cores\n",
            "#####False\n",
            "\n",
            ">>>>>cores\n",
            "#####None\n",
            "\n",
            ">>>>>cores\n",
            "#####None\n",
            "----------------\n",
            "{'block': 1, 'payloads': [{'payload_id': 'FalconSAT-2', 'norad_id': [], 'reused': False, 'customers': ['DARPA'], 'nationality': 'United States', 'manufacturer': 'SSTL', 'payload_type': 'Satellite', 'payload_mass_kg': 20, 'payload_mass_lbs': 43, 'orbit': 'LEO', 'orbit_params': {'reference_system': 'geocentric', 'regime': 'low-earth', 'longitude': None, 'semi_major_axis_km': None, 'eccentricity': None, 'periapsis_km': 400, 'apoapsis_km': 500, 'inclination_deg': 39, 'period_min': None, 'lifespan_years': None, 'epoch': None, 'mean_motion': None, 'raan': None, 'arg_of_pericenter': None, 'mean_anomaly': None}}]}\n",
            "$$$$$$$$1\n",
            "----------------\n",
            "\n",
            ">>>>>payloads\n",
            "#####FalconSAT-2\n",
            "\n",
            "\n",
            "\n",
            ">>>>>payloads\n",
            "#####False\n",
            "\n",
            "\n",
            "\n",
            ">>>>>payloads\n",
            "#####United States\n",
            "\n",
            ">>>>>payloads\n",
            "#####SSTL\n",
            "\n",
            ">>>>>payloads\n",
            "#####Satellite\n",
            "\n",
            ">>>>>payloads\n",
            "#####20\n",
            "\n",
            ">>>>>payloads\n",
            "#####43\n",
            "\n",
            ">>>>>payloads\n",
            "#####LEO\n",
            "\n",
            "----------------\n",
            "{'reused': False, 'recovery_attempt': False, 'recovered': False, 'ship': None}\n",
            "$$$$$$$$False\n",
            "----------------\n",
            "----------------\n",
            "{'reused': False, 'recovery_attempt': False, 'recovered': False, 'ship': None}\n",
            "$$$$$$$$False\n",
            "----------------\n",
            "----------------\n",
            "{'reused': False, 'recovery_attempt': False, 'recovered': False, 'ship': None}\n",
            "$$$$$$$$False\n",
            "----------------\n",
            "----------------\n",
            "{'reused': False, 'recovery_attempt': False, 'recovered': False, 'ship': None}\n",
            "$$$$$$$$None\n",
            "----------------\n"
          ],
          "name": "stdout"
        }
      ]
    },
    {
      "cell_type": "code",
      "metadata": {
        "colab": {
          "base_uri": "https://localhost:8080/",
          "height": 202
        },
        "id": "mTlI3FGbHNH0",
        "outputId": "e298eff6-4f53-47c0-9c29-08a32bc341e0"
      },
      "source": [
        "rockets_dataframe.head()"
      ],
      "execution_count": null,
      "outputs": [
        {
          "output_type": "execute_result",
          "data": {
            "text/html": [
              "<div>\n",
              "<style scoped>\n",
              "    .dataframe tbody tr th:only-of-type {\n",
              "        vertical-align: middle;\n",
              "    }\n",
              "\n",
              "    .dataframe tbody tr th {\n",
              "        vertical-align: top;\n",
              "    }\n",
              "\n",
              "    .dataframe thead th {\n",
              "        text-align: right;\n",
              "    }\n",
              "</style>\n",
              "<table border=\"1\" class=\"dataframe\">\n",
              "  <thead>\n",
              "    <tr style=\"text-align: right;\">\n",
              "      <th></th>\n",
              "      <th>rocket_id</th>\n",
              "      <th>rocket_name</th>\n",
              "      <th>rocket_type</th>\n",
              "    </tr>\n",
              "  </thead>\n",
              "  <tbody>\n",
              "    <tr>\n",
              "      <th>0</th>\n",
              "      <td>falcon1</td>\n",
              "      <td>Falcon 1</td>\n",
              "      <td>Merlin A</td>\n",
              "    </tr>\n",
              "    <tr>\n",
              "      <th>1</th>\n",
              "      <td>falcon1</td>\n",
              "      <td>Falcon 1</td>\n",
              "      <td>Merlin A</td>\n",
              "    </tr>\n",
              "    <tr>\n",
              "      <th>2</th>\n",
              "      <td>falcon1</td>\n",
              "      <td>Falcon 1</td>\n",
              "      <td>Merlin C</td>\n",
              "    </tr>\n",
              "    <tr>\n",
              "      <th>3</th>\n",
              "      <td>falcon1</td>\n",
              "      <td>Falcon 1</td>\n",
              "      <td>Merlin C</td>\n",
              "    </tr>\n",
              "    <tr>\n",
              "      <th>4</th>\n",
              "      <td>falcon1</td>\n",
              "      <td>Falcon 1</td>\n",
              "      <td>Merlin C</td>\n",
              "    </tr>\n",
              "  </tbody>\n",
              "</table>\n",
              "</div>"
            ],
            "text/plain": [
              "  rocket_id rocket_name rocket_type\n",
              "0   falcon1    Falcon 1    Merlin A\n",
              "1   falcon1    Falcon 1    Merlin A\n",
              "2   falcon1    Falcon 1    Merlin C\n",
              "3   falcon1    Falcon 1    Merlin C\n",
              "4   falcon1    Falcon 1    Merlin C"
            ]
          },
          "metadata": {
            "tags": []
          },
          "execution_count": 326
        }
      ]
    },
    {
      "cell_type": "markdown",
      "metadata": {
        "id": "qVaKHO5HsbKI"
      },
      "source": [
        "#### Pandas.Describe"
      ]
    },
    {
      "cell_type": "markdown",
      "metadata": {
        "id": "RAiat_yGaM5y"
      },
      "source": [
        " ## Enpoint #2 - Launchpads\n",
        "\n",
        "The basic url for this API is https://api.spacexdata.com/v3/, however different endpoints can be added to the url depending on the desired information. For example, in our case we will want the Launchpds field to know which launchpads where used by different Space X launch vehicles."
      ]
    },
    {
      "cell_type": "code",
      "metadata": {
        "colab": {
          "base_uri": "https://localhost:8080/"
        },
        "id": "OzszXnEZLhwe",
        "outputId": "840d1436-6a1c-4fe9-b53d-1f756e3a9683"
      },
      "source": [
        "url = \"https://api.spacexdata.com/v3/launchpads\"\n",
        "print(requests.get(url))"
      ],
      "execution_count": null,
      "outputs": [
        {
          "output_type": "stream",
          "text": [
            "<Response [200]>\n"
          ],
          "name": "stdout"
        }
      ]
    },
    {
      "cell_type": "code",
      "metadata": {
        "colab": {
          "base_uri": "https://localhost:8080/"
        },
        "id": "aGy9fBhILw-c",
        "outputId": "f2299096-e828-444d-dc0b-6683027d8edf"
      },
      "source": [
        "# This will convert values from the url into json format (key value pairs) so we can use python to do some analysis with !\n",
        "r = requests.get(url)\n",
        "pretty_json = json.loads(r.text)\n",
        "print(json.dumps(pretty_json, indent=2))"
      ],
      "execution_count": null,
      "outputs": [
        {
          "output_type": "stream",
          "text": [
            "[\n",
            "  {\n",
            "    \"id\": 5,\n",
            "    \"name\": \"VAFB SLC 3W\",\n",
            "    \"status\": \"retired\",\n",
            "    \"location\": {\n",
            "      \"name\": \"Vandenberg Air Force Base\",\n",
            "      \"region\": \"California\",\n",
            "      \"latitude\": 34.6440904,\n",
            "      \"longitude\": -120.5931438\n",
            "    },\n",
            "    \"vehicles_launched\": [\n",
            "      \"Falcon 1\"\n",
            "    ],\n",
            "    \"attempted_launches\": 0,\n",
            "    \"successful_launches\": 0,\n",
            "    \"wikipedia\": \"https://en.wikipedia.org/wiki/Vandenberg_AFB_Space_Launch_Complex_3\",\n",
            "    \"details\": \"SpaceX original west coast launch pad for Falcon 1. Performed a static fire but was never used for a launch and abandoned due to scheduling conflicts.\",\n",
            "    \"site_id\": \"vafb_slc_3w\",\n",
            "    \"site_name_long\": \"Vandenberg Air Force Base Space Launch Complex 3W\"\n",
            "  },\n",
            "  {\n",
            "    \"id\": 2,\n",
            "    \"name\": \"CCAFS SLC 40\",\n",
            "    \"status\": \"active\",\n",
            "    \"location\": {\n",
            "      \"name\": \"Cape Canaveral\",\n",
            "      \"region\": \"Florida\",\n",
            "      \"latitude\": 28.5618571,\n",
            "      \"longitude\": -80.577366\n",
            "    },\n",
            "    \"vehicles_launched\": [\n",
            "      \"Falcon 9\"\n",
            "    ],\n",
            "    \"attempted_launches\": 61,\n",
            "    \"successful_launches\": 59,\n",
            "    \"wikipedia\": \"https://en.wikipedia.org/wiki/Cape_Canaveral_Air_Force_Station_Space_Launch_Complex_40\",\n",
            "    \"details\": \"SpaceX primary Falcon 9 launch pad, where all east coast Falcon 9s launched prior to the AMOS-6 anomaly. Initially used to launch Titan rockets for Lockheed Martin. Back online since CRS-13 on 2017-12-15.\",\n",
            "    \"site_id\": \"ccafs_slc_40\",\n",
            "    \"site_name_long\": \"Cape Canaveral Air Force Station Space Launch Complex 40\"\n",
            "  },\n",
            "  {\n",
            "    \"id\": 8,\n",
            "    \"name\": \"STLS\",\n",
            "    \"status\": \"under construction\",\n",
            "    \"location\": {\n",
            "      \"name\": \"Boca Chica Village\",\n",
            "      \"region\": \"Texas\",\n",
            "      \"latitude\": 25.9972641,\n",
            "      \"longitude\": -97.1560845\n",
            "    },\n",
            "    \"vehicles_launched\": [\n",
            "      \"Falcon 9\"\n",
            "    ],\n",
            "    \"attempted_launches\": 0,\n",
            "    \"successful_launches\": 0,\n",
            "    \"wikipedia\": \"https://en.wikipedia.org/wiki/SpaceX_South_Texas_Launch_Site\",\n",
            "    \"details\": \"SpaceX new launch site currently under construction to help keep up with the Falcon 9 and Heavy manifests. Expected to be completed in late 2018. Initially will be limited to 12 flights per year, and only GTO launches.\",\n",
            "    \"site_id\": \"stls\",\n",
            "    \"site_name_long\": \"SpaceX South Texas Launch Site\"\n",
            "  },\n",
            "  {\n",
            "    \"id\": 1,\n",
            "    \"name\": \"Kwajalein Atoll\",\n",
            "    \"status\": \"retired\",\n",
            "    \"location\": {\n",
            "      \"name\": \"Omelek Island\",\n",
            "      \"region\": \"Marshall Islands\",\n",
            "      \"latitude\": 9.0477206,\n",
            "      \"longitude\": 167.7431292\n",
            "    },\n",
            "    \"vehicles_launched\": [\n",
            "      \"Falcon 1\"\n",
            "    ],\n",
            "    \"attempted_launches\": 5,\n",
            "    \"successful_launches\": 2,\n",
            "    \"wikipedia\": \"https://en.wikipedia.org/wiki/Omelek_Island\",\n",
            "    \"details\": \"SpaceX original launch site, where all of the Falcon 1 launches occured. Abandoned as SpaceX decided against upgrading the pad to support Falcon 9.\",\n",
            "    \"site_id\": \"kwajalein_atoll\",\n",
            "    \"site_name_long\": \"Kwajalein Atoll Omelek Island\"\n",
            "  },\n",
            "  {\n",
            "    \"id\": 6,\n",
            "    \"name\": \"VAFB SLC 4E\",\n",
            "    \"status\": \"active\",\n",
            "    \"location\": {\n",
            "      \"name\": \"Vandenberg Air Force Base\",\n",
            "      \"region\": \"California\",\n",
            "      \"latitude\": 34.632093,\n",
            "      \"longitude\": -120.610829\n",
            "    },\n",
            "    \"vehicles_launched\": [\n",
            "      \"Falcon 9\"\n",
            "    ],\n",
            "    \"attempted_launches\": 16,\n",
            "    \"successful_launches\": 16,\n",
            "    \"wikipedia\": \"https://en.wikipedia.org/wiki/Vandenberg_AFB_Space_Launch_Complex_4\",\n",
            "    \"details\": \"SpaceX primary west coast launch pad for polar orbits and sun synchronous orbits, primarily used for Iridium. Also intended to be capable of launching Falcon Heavy.\",\n",
            "    \"site_id\": \"vafb_slc_4e\",\n",
            "    \"site_name_long\": \"Vandenberg Air Force Base Space Launch Complex 4E\"\n",
            "  },\n",
            "  {\n",
            "    \"id\": 4,\n",
            "    \"name\": \"KSC LC 39A\",\n",
            "    \"status\": \"active\",\n",
            "    \"location\": {\n",
            "      \"name\": \"Cape Canaveral\",\n",
            "      \"region\": \"Florida\",\n",
            "      \"latitude\": 28.6080585,\n",
            "      \"longitude\": -80.6039558\n",
            "    },\n",
            "    \"vehicles_launched\": [\n",
            "      \"Falcon 9\",\n",
            "      \"Falcon Heavy\"\n",
            "    ],\n",
            "    \"attempted_launches\": 27,\n",
            "    \"successful_launches\": 26,\n",
            "    \"wikipedia\": \"https://en.wikipedia.org/wiki/Kennedy_Space_Center_Launch_Complex_39#Launch_Complex_39A\",\n",
            "    \"details\": \"NASA historic launch pad that launched most of the Saturn V and Space Shuttle missions. Initially for Falcon Heavy launches, it is now launching all of SpaceX east coast missions due to the damage from the AMOS-6 anomaly. After SLC-40 repairs are complete, it will be upgraded to support Falcon Heavy, a process which will take about two months. In the future it will launch commercial crew missions and the Interplanetary Transport System.\",\n",
            "    \"site_id\": \"ksc_lc_39a\",\n",
            "    \"site_name_long\": \"Kennedy Space Center Historic Launch Complex 39A\"\n",
            "  }\n",
            "]\n"
          ],
          "name": "stdout"
        }
      ]
    },
    {
      "cell_type": "code",
      "metadata": {
        "colab": {
          "base_uri": "https://localhost:8080/"
        },
        "id": "bVhCcc7lZX1L",
        "outputId": "f0eb85c6-6125-42f7-f7cb-8b4651b4da99"
      },
      "source": [
        "# This chunk of code will let us know in which form is the original data coming in the form as\n",
        "response = requests.get(url).json()\n",
        "\n",
        "# This piece of code iterations through the list of dictionaies (datatype) to get all the names of the launch pads used by SpaceX.\n",
        "for i in response:\n",
        "  if i['name']:\n",
        "    print(i['name'])"
      ],
      "execution_count": null,
      "outputs": [
        {
          "output_type": "stream",
          "text": [
            "VAFB SLC 3W\n",
            "CCAFS SLC 40\n",
            "STLS\n",
            "Kwajalein Atoll\n",
            "VAFB SLC 4E\n",
            "KSC LC 39A\n"
          ],
          "name": "stdout"
        }
      ]
    },
    {
      "cell_type": "markdown",
      "metadata": {
        "id": "VI325XlbxrfM"
      },
      "source": [
        "Here we see that Space X has only used 6 different Launch Pads:\n",
        "\n",
        "1. VAFB SLC 3W - Vandenberg Air Force Base Space Launch Complex 3W\n",
        "2. CCAFS SLC 40 - Cape Canaveral Air Force Station Space Launch Complex 40\n",
        "3. STLS - SpaceX South Texas Launch Site\n",
        "4. Kwajalein Atoll - Kwajalein Atoll Omelek Island\n",
        "5. VAFB SLC 4E - Vandenberg Air Force Base Space Launch Complex 4E\n",
        "6. KSC LC 39A - Kennedy Space Center Historic Launch Complex 39A\n",
        "\n",
        "One thing to note is that the South Texas Launch site is not found in the data scrapped from Wikipedia, therefore hurting the credibility of it as a reliable source of data. A better map with more complete information may be created in later stages of the project."
      ]
    },
    {
      "cell_type": "code",
      "metadata": {
        "colab": {
          "base_uri": "https://localhost:8080/",
          "height": 407
        },
        "id": "m5K-iSbq0LYB",
        "outputId": "dbd1daae-f13b-43d0-8090-a315e70e8da8"
      },
      "source": [
        "# We can also create another request to get information on a specific launchpad\n",
        "response_ksc_lc39a = requests.get(url + \"/ksc_lc_39a\").json()\n",
        "print(json.dumps(response_ksc_lc39a, indent=4, sort_keys=True))"
      ],
      "execution_count": null,
      "outputs": [
        {
          "output_type": "stream",
          "text": [
            "{\n",
            "    \"attempted_launches\": 20,\n",
            "    \"details\": \"NASA historic launch pad that launched most of the Saturn V and Space Shuttle missions. Initially for Falcon Heavy launches, it is now launching all of SpaceX east coast missions due to the damage from the AMOS-6 anomaly. After SLC-40 repairs are complete, it will be upgraded to support Falcon Heavy, a process which will take about two months. In the future it will launch commercial crew missions and the Interplanetary Transport System.\",\n",
            "    \"id\": 4,\n",
            "    \"location\": {\n",
            "        \"latitude\": 28.6080585,\n",
            "        \"longitude\": -80.6039558,\n",
            "        \"name\": \"Cape Canaveral\",\n",
            "        \"region\": \"Florida\"\n",
            "    },\n",
            "    \"name\": \"KSC LC 39A\",\n",
            "    \"site_id\": \"ksc_lc_39a\",\n",
            "    \"site_name_long\": \"Kennedy Space Center Historic Launch Complex 39A\",\n",
            "    \"status\": \"active\",\n",
            "    \"successful_launches\": 20,\n",
            "    \"vehicles_launched\": [\n",
            "        \"Falcon 9\",\n",
            "        \"Falcon Heavy\"\n",
            "    ],\n",
            "    \"wikipedia\": \"https://en.wikipedia.org/wiki/Kennedy_Space_Center_Launch_Complex_39#Launch_Complex_39A\"\n",
            "}\n"
          ],
          "name": "stdout"
        }
      ]
    },
    {
      "cell_type": "code",
      "metadata": {
        "colab": {
          "base_uri": "https://localhost:8080/",
          "height": 55
        },
        "id": "cWecsxA10WXD",
        "outputId": "fedb8b54-325a-4c0d-c87f-3fd4f6c7a9ce"
      },
      "source": [
        "# Specific information within each dictionary can be access as keys\n",
        "response_ksc_lc39a['details']"
      ],
      "execution_count": null,
      "outputs": [
        {
          "output_type": "execute_result",
          "data": {
            "text/plain": [
              "'NASA historic launch pad that launched most of the Saturn V and Space Shuttle missions. Initially for Falcon Heavy launches, it is now launching all of SpaceX east coast missions due to the damage from the AMOS-6 anomaly. After SLC-40 repairs are complete, it will be upgraded to support Falcon Heavy, a process which will take about two months. In the future it will launch commercial crew missions and the Interplanetary Transport System.'"
            ]
          },
          "metadata": {
            "tags": []
          },
          "execution_count": 11
        }
      ]
    },
    {
      "cell_type": "markdown",
      "metadata": {
        "id": "P1rIL66i1J0d"
      },
      "source": [
        "## Endpoint #3 -Rockets Endpoint \n",
        "In this section we will access a different endpoint within the SpaceX API to find out more information out rockets that are manufactured by Space X. Here we will do separate queries for the Falcon 9 rocket."
      ]
    },
    {
      "cell_type": "code",
      "metadata": {
        "colab": {
          "base_uri": "https://localhost:8080/"
        },
        "id": "K5GNJPj618fB",
        "outputId": "338512e8-6edb-4873-b1b3-0c16401863c8"
      },
      "source": [
        "# Performing a GET Request and saving the \n",
        "# API's response within a variable\n",
        "url = \"https://api.spacexdata.com/v2/rockets/falcon9\"\n",
        "response = requests.get(url)\n",
        "response_json = response.json()\n",
        "type(response_json)\n",
        "\n",
        "print(json.dumps(response_json, indent=4, sort_keys=True))"
      ],
      "execution_count": null,
      "outputs": [
        {
          "output_type": "stream",
          "text": [
            "{\n",
            "    \"active\": true,\n",
            "    \"boosters\": 0,\n",
            "    \"company\": \"SpaceX\",\n",
            "    \"cost_per_launch\": 50000000,\n",
            "    \"country\": \"United States\",\n",
            "    \"description\": \"Falcon 9 is a two-stage rocket designed and manufactured by SpaceX for the reliable and safe transport of satellites and the Dragon spacecraft into orbit.\",\n",
            "    \"diameter\": {\n",
            "        \"feet\": 12,\n",
            "        \"meters\": 3.7\n",
            "    },\n",
            "    \"engines\": {\n",
            "        \"engine_loss_max\": 2,\n",
            "        \"isp\": {\n",
            "            \"sea_level\": 288,\n",
            "            \"vacuum\": 312\n",
            "        },\n",
            "        \"layout\": \"octaweb\",\n",
            "        \"number\": 9,\n",
            "        \"propellant_1\": \"liquid oxygen\",\n",
            "        \"propellant_2\": \"RP-1 kerosene\",\n",
            "        \"thrust_sea_level\": {\n",
            "            \"kN\": 845,\n",
            "            \"lbf\": 190000\n",
            "        },\n",
            "        \"thrust_to_weight\": 180.1,\n",
            "        \"thrust_vacuum\": {\n",
            "            \"kN\": 914,\n",
            "            \"lbf\": 205500\n",
            "        },\n",
            "        \"type\": \"merlin\",\n",
            "        \"version\": \"1D+\"\n",
            "    },\n",
            "    \"first_flight\": \"2010-06-04\",\n",
            "    \"first_stage\": {\n",
            "        \"burn_time_sec\": 162,\n",
            "        \"engines\": 9,\n",
            "        \"fuel_amount_tons\": 385,\n",
            "        \"reusable\": true,\n",
            "        \"thrust_sea_level\": {\n",
            "            \"kN\": 7607,\n",
            "            \"lbf\": 1710000\n",
            "        },\n",
            "        \"thrust_vacuum\": {\n",
            "            \"kN\": 8227,\n",
            "            \"lbf\": 1849500\n",
            "        }\n",
            "    },\n",
            "    \"flickr_images\": [\n",
            "        \"https://farm1.staticflickr.com/929/28787338307_3453a11a77_b.jpg\",\n",
            "        \"https://farm4.staticflickr.com/3955/32915197674_eee74d81bb_b.jpg\",\n",
            "        \"https://farm1.staticflickr.com/293/32312415025_6841e30bf1_b.jpg\",\n",
            "        \"https://farm1.staticflickr.com/623/23660653516_5b6cb301d1_b.jpg\",\n",
            "        \"https://farm6.staticflickr.com/5518/31579784413_d853331601_b.jpg\",\n",
            "        \"https://farm1.staticflickr.com/745/32394687645_a9c54a34ef_b.jpg\"\n",
            "    ],\n",
            "    \"height\": {\n",
            "        \"feet\": 229.6,\n",
            "        \"meters\": 70\n",
            "    },\n",
            "    \"id\": \"falcon9\",\n",
            "    \"landing_legs\": {\n",
            "        \"material\": \"carbon fiber\",\n",
            "        \"number\": 4\n",
            "    },\n",
            "    \"mass\": {\n",
            "        \"kg\": 549054,\n",
            "        \"lb\": 1207920\n",
            "    },\n",
            "    \"name\": \"Falcon 9\",\n",
            "    \"payload_weights\": [\n",
            "        {\n",
            "            \"id\": \"leo\",\n",
            "            \"kg\": 22800,\n",
            "            \"lb\": 50265,\n",
            "            \"name\": \"Low Earth Orbit\"\n",
            "        },\n",
            "        {\n",
            "            \"id\": \"gto\",\n",
            "            \"kg\": 8300,\n",
            "            \"lb\": 18300,\n",
            "            \"name\": \"Geosynchronous Transfer Orbit\"\n",
            "        },\n",
            "        {\n",
            "            \"id\": \"mars\",\n",
            "            \"kg\": 4020,\n",
            "            \"lb\": 8860,\n",
            "            \"name\": \"Mars Orbit\"\n",
            "        }\n",
            "    ],\n",
            "    \"rocketid\": 2,\n",
            "    \"second_stage\": {\n",
            "        \"burn_time_sec\": 397,\n",
            "        \"engines\": 1,\n",
            "        \"fuel_amount_tons\": 90,\n",
            "        \"payloads\": {\n",
            "            \"composite_fairing\": {\n",
            "                \"diameter\": {\n",
            "                    \"feet\": 17.1,\n",
            "                    \"meters\": 5.2\n",
            "                },\n",
            "                \"height\": {\n",
            "                    \"feet\": 43,\n",
            "                    \"meters\": 13.1\n",
            "                }\n",
            "            },\n",
            "            \"option_1\": \"dragon\",\n",
            "            \"option_2\": \"composite fairing\"\n",
            "        },\n",
            "        \"reusable\": false,\n",
            "        \"thrust\": {\n",
            "            \"kN\": 934,\n",
            "            \"lbf\": 210000\n",
            "        }\n",
            "    },\n",
            "    \"stages\": 2,\n",
            "    \"success_rate_pct\": 97,\n",
            "    \"type\": \"rocket\",\n",
            "    \"wikipedia\": \"https://en.wikipedia.org/wiki/Falcon_9\"\n",
            "}\n"
          ],
          "name": "stdout"
        }
      ]
    },
    {
      "cell_type": "code",
      "metadata": {
        "colab": {
          "base_uri": "https://localhost:8080/"
        },
        "id": "qIFIgv5G2_X2",
        "outputId": "0c6247f2-924e-46a8-a88f-fbd175257da5"
      },
      "source": [
        "# Here we are grabbing a specific value from the dictionary. An interesting fact to know is the average cost per launch of the Falcon 9 in general.\n",
        "print(response_json[\"cost_per_launch\"])"
      ],
      "execution_count": null,
      "outputs": [
        {
          "output_type": "stream",
          "text": [
            "50000000\n"
          ],
          "name": "stdout"
        }
      ]
    },
    {
      "cell_type": "markdown",
      "metadata": {
        "id": "7CwYaPvI3ZX3"
      },
      "source": [
        "Interesting fact to note for the future analysis and data gathered either from this source others."
      ]
    },
    {
      "cell_type": "code",
      "metadata": {
        "colab": {
          "base_uri": "https://localhost:8080/"
        },
        "id": "1A5dm4Uy3YXH",
        "outputId": "f760d733-713d-41cb-aedc-4ca99e6a68fb"
      },
      "source": [
        "# Here we can take a look at the number of payloads that the falcon 9 can carry using the only available field \n",
        "# relating to payloads....the 'payload weights' key\n",
        "\n",
        "number_payloads = len(response_json[\"payload_weights\"])\n",
        "print(f\"There are {number_payloads} payloads.\")"
      ],
      "execution_count": null,
      "outputs": [
        {
          "output_type": "stream",
          "text": [
            "There are 3 payloads.\n"
          ],
          "name": "stdout"
        }
      ]
    },
    {
      "cell_type": "code",
      "metadata": {
        "colab": {
          "base_uri": "https://localhost:8080/"
        },
        "id": "2loiiosg3Yv_",
        "outputId": "43935d82-e1c9-4d55-df76-1c241fa510cf"
      },
      "source": [
        "# Referencing the values stored within sub-dictionaries and sub-lists\n",
        "payload_weight = response_json[\"payload_weights\"][0][\"kg\"]\n",
        "print(f\"The first payload weighed {payload_weight} Kilograms\")"
      ],
      "execution_count": null,
      "outputs": [
        {
          "output_type": "stream",
          "text": [
            "The first payload weighed 22800 Kilograms\n"
          ],
          "name": "stdout"
        }
      ]
    },
    {
      "cell_type": "markdown",
      "metadata": {
        "id": "W-WaJ3ijWtFX"
      },
      "source": [
        "# Geospatial Data\n",
        "\n",
        "[link text](https:// [link text](https://))\n",
        "\n",
        "https://towardsdatascience.com/how-to-work-with-big-geospatial-data-4ba919a8ffc2\n",
        "\n",
        "https://www.ogc.org/blog/1866\n"
      ]
    },
    {
      "cell_type": "markdown",
      "metadata": {
        "id": "vm8gl2xV4w81"
      },
      "source": [
        "# Conlusion\n",
        "\n",
        "This uninformal proposal was written using Google Colab, a product of Jupyter notebook and Google Drive products to help developers colaborate on projects such as these with efficiency and removing the need to constantly email latest version of code. This is not as in depth as Git products and their version control capabilities enabled by pushes and pulls but for the purpose of simple analysis that will not be needed. Some of the mentioned points will be explored further and more robust analysis can be done using charts and other methodologies."
      ]
    },
    {
      "cell_type": "markdown",
      "metadata": {
        "id": "IU3Z-lSa2HXA"
      },
      "source": [
        "### References"
      ]
    },
    {
      "cell_type": "markdown",
      "metadata": {
        "id": "X4aLR7S81pLQ"
      },
      "source": [
        "[1] Dr. Obadiah Kegege, Dr. Ousmane N. Diallo, Enanga D. Fale, Aisha R. Bowe (2013). NSBE Aerospace Special Interest Group: <i> EAC Spaceport Feasiblity Study,</i> Retrieved from: https://www.nsbe-aerospace.org/ </p>"
      ]
    },
    {
      "cell_type": "markdown",
      "metadata": {
        "id": "Ky7XvEctl8qJ"
      },
      "source": [
        "[2] https://docs.microsoft.com/en-us/azure/architecture/data-guide/relational-data/etl"
      ]
    },
    {
      "cell_type": "markdown",
      "metadata": {
        "id": "Gq_YaVR30qXQ"
      },
      "source": [
        "[3] https://en.wikipedia.org/wiki/List_of_rocket_launch_sites\n",
        "\n",
        "[4] https://www.ucsusa.org/resources/satellite-database#:~:text=Assembled%20by%20experts%20at%20the,currently%20in%20orbit%20around%20Earth.\n",
        "\n",
        "[5] https://docs.spacexdata.com/\n",
        "\n",
        "[6] https://planet4589.org/space/log/launch.html"
      ]
    },
    {
      "cell_type": "markdown",
      "metadata": {
        "id": "y8ABxI_U-BvD"
      },
      "source": [
        "[3] r/Spacex (Version 3.1.0), Project_name:\", <i> \"SpaceX-API\" </i>docs: https://documenter.getpostman.com/view/2025350/RWaEzAiG, organization_link:https://github.com/r-spacex, description: Open Source REST API for rocket, core, capsule, pad, and launch data, created and maintained by the developers of the r/SpaceX organization.</p>"
      ]
    },
    {
      "cell_type": "markdown",
      "metadata": {
        "id": "1tKiFvXo8W8T"
      },
      "source": [
        "\n",
        "# Launch Logs\n"
      ]
    },
    {
      "cell_type": "code",
      "metadata": {
        "colab": {
          "base_uri": "https://localhost:8080/"
        },
        "id": "7xFpHb5kBQ18",
        "outputId": "b1325e1b-8f3a-474a-b3b6-afffbde1e93b"
      },
      "source": [
        "print(launch_log_file)"
      ],
      "execution_count": null,
      "outputs": [
        {
          "output_type": "stream",
          "text": [
            "drive/My Drive/Data Science Lifecycle in the Aerospace Industry/Data/Launch Sites-Wiki.csv\n"
          ],
          "name": "stdout"
        }
      ]
    },
    {
      "cell_type": "code",
      "metadata": {
        "colab": {
          "base_uri": "https://localhost:8080/",
          "height": 406
        },
        "id": "08RkPCRyYgNk",
        "outputId": "1fb102bf-47b4-4469-c8b4-a50be5f6d8d3"
      },
      "source": [
        "launch_log_file = Data + '/Launch Sites-Wiki.xlsx'\n",
        "launchFiles = pd.read_excel(launch_log_file)\n",
        "launchFiles.head(100)"
      ],
      "execution_count": null,
      "outputs": [
        {
          "output_type": "execute_result",
          "data": {
            "text/html": [
              "<div>\n",
              "<style scoped>\n",
              "    .dataframe tbody tr th:only-of-type {\n",
              "        vertical-align: middle;\n",
              "    }\n",
              "\n",
              "    .dataframe tbody tr th {\n",
              "        vertical-align: top;\n",
              "    }\n",
              "\n",
              "    .dataframe thead th {\n",
              "        text-align: right;\n",
              "    }\n",
              "</style>\n",
              "<table border=\"1\" class=\"dataframe\">\n",
              "  <thead>\n",
              "    <tr style=\"text-align: right;\">\n",
              "      <th></th>\n",
              "      <th>Continent</th>\n",
              "      <th>Country</th>\n",
              "      <th>Location</th>\n",
              "      <th>Latitude</th>\n",
              "      <th>Longitute</th>\n",
              "      <th>Year Opened</th>\n",
              "      <th>Year Closed</th>\n",
              "      <th>Number of rocket launches</th>\n",
              "      <th>Heaviest rocket launched</th>\n",
              "      <th>Highest achieved Orbit</th>\n",
              "    </tr>\n",
              "  </thead>\n",
              "  <tbody>\n",
              "    <tr>\n",
              "      <th>0</th>\n",
              "      <td>Africa</td>\n",
              "      <td>Algeria</td>\n",
              "      <td>Hammaguira French Special Weapons Test Centre,...</td>\n",
              "      <td>31.09951</td>\n",
              "      <td>-2.83581</td>\n",
              "      <td>1947</td>\n",
              "      <td>1967</td>\n",
              "      <td>Unkown</td>\n",
              "      <td>18000</td>\n",
              "      <td>Orbital</td>\n",
              "    </tr>\n",
              "    <tr>\n",
              "      <th>1</th>\n",
              "      <td>Africa</td>\n",
              "      <td>Algeria</td>\n",
              "      <td>Reggane</td>\n",
              "      <td>26.71895</td>\n",
              "      <td>0.27691</td>\n",
              "      <td>1961</td>\n",
              "      <td>1965</td>\n",
              "      <td>10</td>\n",
              "      <td>Unkown</td>\n",
              "      <td>Unkown</td>\n",
              "    </tr>\n",
              "    <tr>\n",
              "      <th>2</th>\n",
              "      <td>Africa</td>\n",
              "      <td>Congo DRC</td>\n",
              "      <td>Shaba North, Kapani Tonneo OTRAG Launch Center</td>\n",
              "      <td>-7.92587</td>\n",
              "      <td>28.52766</td>\n",
              "      <td>1977</td>\n",
              "      <td>1978</td>\n",
              "      <td>3</td>\n",
              "      <td>Unkown</td>\n",
              "      <td>Suborbital</td>\n",
              "    </tr>\n",
              "    <tr>\n",
              "      <th>3</th>\n",
              "      <td>Africa</td>\n",
              "      <td>Egypt</td>\n",
              "      <td>Jabal Hamzah ballistic missile test and launch...</td>\n",
              "      <td>30.12575</td>\n",
              "      <td>30.60514</td>\n",
              "      <td>1950</td>\n",
              "      <td>Operational</td>\n",
              "      <td>6</td>\n",
              "      <td>Unkown</td>\n",
              "      <td>Unkown</td>\n",
              "    </tr>\n",
              "    <tr>\n",
              "      <th>4</th>\n",
              "      <td>Africa</td>\n",
              "      <td>Kenya</td>\n",
              "      <td>Broglio Space Centre (San Marco), Malindi</td>\n",
              "      <td>-2.94080</td>\n",
              "      <td>40.21340</td>\n",
              "      <td>1964</td>\n",
              "      <td>1994</td>\n",
              "      <td>27</td>\n",
              "      <td>20000</td>\n",
              "      <td>Orbital</td>\n",
              "    </tr>\n",
              "    <tr>\n",
              "      <th>...</th>\n",
              "      <td>...</td>\n",
              "      <td>...</td>\n",
              "      <td>...</td>\n",
              "      <td>...</td>\n",
              "      <td>...</td>\n",
              "      <td>...</td>\n",
              "      <td>...</td>\n",
              "      <td>...</td>\n",
              "      <td>...</td>\n",
              "      <td>...</td>\n",
              "    </tr>\n",
              "    <tr>\n",
              "      <th>95</th>\n",
              "      <td>South America</td>\n",
              "      <td>Argentina</td>\n",
              "      <td>Villa Reynolds</td>\n",
              "      <td>33.72460</td>\n",
              "      <td>-65.37730</td>\n",
              "      <td>1973</td>\n",
              "      <td>1973</td>\n",
              "      <td>2</td>\n",
              "      <td>Unkown</td>\n",
              "      <td>Unkown</td>\n",
              "    </tr>\n",
              "    <tr>\n",
              "      <th>96</th>\n",
              "      <td>South America</td>\n",
              "      <td>Argentina</td>\n",
              "      <td>Pampa de Achala</td>\n",
              "      <td>31.58330</td>\n",
              "      <td>-64.83330</td>\n",
              "      <td>1961</td>\n",
              "      <td>1962</td>\n",
              "      <td>8</td>\n",
              "      <td>28</td>\n",
              "      <td>Suborbital</td>\n",
              "    </tr>\n",
              "    <tr>\n",
              "      <th>97</th>\n",
              "      <td>South America</td>\n",
              "      <td>Brazil</td>\n",
              "      <td>Natal/Barreira</td>\n",
              "      <td>5.86600</td>\n",
              "      <td>-35.38300</td>\n",
              "      <td>1965</td>\n",
              "      <td>Operational</td>\n",
              "      <td>233</td>\n",
              "      <td>Unkown</td>\n",
              "      <td>1100 km</td>\n",
              "    </tr>\n",
              "    <tr>\n",
              "      <th>98</th>\n",
              "      <td>South America</td>\n",
              "      <td>Brazil</td>\n",
              "      <td>Praia do Cassino</td>\n",
              "      <td>32.08338</td>\n",
              "      <td>-52.16725</td>\n",
              "      <td>1966</td>\n",
              "      <td>1966</td>\n",
              "      <td>27</td>\n",
              "      <td>Unkown</td>\n",
              "      <td>Unkown</td>\n",
              "    </tr>\n",
              "    <tr>\n",
              "      <th>99</th>\n",
              "      <td>South America</td>\n",
              "      <td>Brazil</td>\n",
              "      <td>Alcântara Launch Center, Maranhão</td>\n",
              "      <td>2.31600</td>\n",
              "      <td>-44.36760</td>\n",
              "      <td>1990</td>\n",
              "      <td>Operational</td>\n",
              "      <td>35</td>\n",
              "      <td>6737</td>\n",
              "      <td>956 km</td>\n",
              "    </tr>\n",
              "  </tbody>\n",
              "</table>\n",
              "<p>100 rows × 10 columns</p>\n",
              "</div>"
            ],
            "text/plain": [
              "        Continent    Country  ... Heaviest rocket launched  Highest achieved Orbit\n",
              "0          Africa    Algeria  ...                    18000               Orbital  \n",
              "1          Africa    Algeria  ...                   Unkown                  Unkown\n",
              "2          Africa  Congo DRC  ...                   Unkown              Suborbital\n",
              "3          Africa      Egypt  ...                   Unkown                  Unkown\n",
              "4          Africa      Kenya  ...                    20000               Orbital  \n",
              "..            ...        ...  ...                      ...                     ...\n",
              "95  South America  Argentina  ...                   Unkown                  Unkown\n",
              "96  South America  Argentina  ...                     28                Suborbital\n",
              "97  South America     Brazil  ...                   Unkown               1100 km  \n",
              "98  South America     Brazil  ...                   Unkown                  Unkown\n",
              "99  South America     Brazil  ...                     6737                956 km  \n",
              "\n",
              "[100 rows x 10 columns]"
            ]
          },
          "metadata": {
            "tags": []
          },
          "execution_count": 25
        }
      ]
    },
    {
      "cell_type": "code",
      "metadata": {
        "id": "VlWLs90kESig"
      },
      "source": [
        ""
      ],
      "execution_count": null,
      "outputs": []
    }
  ]
}