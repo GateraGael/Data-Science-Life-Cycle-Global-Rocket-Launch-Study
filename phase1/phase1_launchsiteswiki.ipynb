{
 "cells": [
  {
   "cell_type": "markdown",
   "metadata": {
    "id": "tHqF7RI0gxIM"
   },
   "source": [
    "# Data Source - List of Rocket Launch Sites (Wiki)"
   ]
  },
  {
   "cell_type": "code",
   "execution_count": 1,
   "metadata": {
    "id": "5ANyhL_yMQvS"
   },
   "outputs": [],
   "source": [
    "All_Data = '../Data/'\n",
    "wikisites = All_Data + 'wiki_sites/'\n",
    "Launch_Sites_Wiki_Data_xlx = wikisites + 'launchsites_wiki/launchsites_wiki_raw.xlsx'"
   ]
  },
  {
   "cell_type": "code",
   "execution_count": 2,
   "metadata": {},
   "outputs": [],
   "source": [
    "import pandas as pd\n",
    "import numpy as np\n",
    "import re\n",
    "%matplotlib inline\n",
    "import matplotlib.pyplot as plt\n",
    "plt.rcParams['figure.figsize'] = [20, 10]"
   ]
  },
  {
   "cell_type": "code",
   "execution_count": 3,
   "metadata": {},
   "outputs": [
    {
     "data": {
      "text/html": [
       "<div>\n",
       "<style scoped>\n",
       "    .dataframe tbody tr th:only-of-type {\n",
       "        vertical-align: middle;\n",
       "    }\n",
       "\n",
       "    .dataframe tbody tr th {\n",
       "        vertical-align: top;\n",
       "    }\n",
       "\n",
       "    .dataframe thead th {\n",
       "        text-align: right;\n",
       "    }\n",
       "</style>\n",
       "<table border=\"1\" class=\"dataframe\">\n",
       "  <thead>\n",
       "    <tr style=\"text-align: right;\">\n",
       "      <th></th>\n",
       "      <th>Country</th>\n",
       "      <th>Location</th>\n",
       "      <th>Coordinates</th>\n",
       "      <th>Operational date</th>\n",
       "      <th>Number of rocket launches</th>\n",
       "      <th>Heaviest rocket launched</th>\n",
       "      <th>Highest achieved altitude</th>\n",
       "      <th>Notes</th>\n",
       "      <th>Continent</th>\n",
       "    </tr>\n",
       "  </thead>\n",
       "  <tbody>\n",
       "    <tr>\n",
       "      <th>0</th>\n",
       "      <td>French Algeria</td>\n",
       "      <td>Centre interarmées d'essais d'engins spéciaux ...</td>\n",
       "      <td>31°05′58″N 2°50′09″W﻿ / ﻿31.09951°N 2.83581°W</td>\n",
       "      <td>1947–1967</td>\n",
       "      <td>230</td>\n",
       "      <td>18 000 kg</td>\n",
       "      <td>Orbital</td>\n",
       "      <td>Operated by France.[1]</td>\n",
       "      <td>Africa</td>\n",
       "    </tr>\n",
       "    <tr>\n",
       "      <th>1</th>\n",
       "      <td>Algeria</td>\n",
       "      <td>Reggane</td>\n",
       "      <td>26°43′08″N 0°16′37″E﻿ / ﻿26.71895°N 0.27691°E</td>\n",
       "      <td>1961–1965</td>\n",
       "      <td>10</td>\n",
       "      <td>NaN</td>\n",
       "      <td>NaN</td>\n",
       "      <td>NaN</td>\n",
       "      <td>Africa</td>\n",
       "    </tr>\n",
       "    <tr>\n",
       "      <th>2</th>\n",
       "      <td>Zaire</td>\n",
       "      <td>Shaba North, Kapani Tonneo OTRAG Launch Center</td>\n",
       "      <td>7°55′33″S 28°31′40″E﻿ / ﻿7.92587°S 28.52766°E</td>\n",
       "      <td>1977–1978</td>\n",
       "      <td>3</td>\n",
       "      <td>NaN</td>\n",
       "      <td>&lt;50 km</td>\n",
       "      <td>German OTRAG rockets.[2]</td>\n",
       "      <td>Africa</td>\n",
       "    </tr>\n",
       "    <tr>\n",
       "      <th>3</th>\n",
       "      <td>Egypt</td>\n",
       "      <td>Jabal Hamzah ballistic missile test and launch...</td>\n",
       "      <td>30°07′32.7″N 30°36′18.5″E﻿ / ﻿30.125750°N 30.6...</td>\n",
       "      <td>1962–1973</td>\n",
       "      <td>6</td>\n",
       "      <td>NaN</td>\n",
       "      <td>NaN</td>\n",
       "      <td>Testing SRBMs Al Zafir and Al Kahir[3][4]</td>\n",
       "      <td>Africa</td>\n",
       "    </tr>\n",
       "    <tr>\n",
       "      <th>4</th>\n",
       "      <td>Kenya</td>\n",
       "      <td>Broglio Space Centre (San Marco), Malindi</td>\n",
       "      <td>2°56′27″S 40°12′48″E﻿ / ﻿2.94080°S 40.21340°E</td>\n",
       "      <td>1964–1988</td>\n",
       "      <td>27</td>\n",
       "      <td>20 000 kg</td>\n",
       "      <td>Orbital</td>\n",
       "      <td>Scout rockets, operated by ASI and Sapienza Un...</td>\n",
       "      <td>Africa</td>\n",
       "    </tr>\n",
       "  </tbody>\n",
       "</table>\n",
       "</div>"
      ],
      "text/plain": [
       "          Country                                           Location  \\\n",
       "0  French Algeria  Centre interarmées d'essais d'engins spéciaux ...   \n",
       "1         Algeria                                            Reggane   \n",
       "2           Zaire     Shaba North, Kapani Tonneo OTRAG Launch Center   \n",
       "3           Egypt  Jabal Hamzah ballistic missile test and launch...   \n",
       "4           Kenya          Broglio Space Centre (San Marco), Malindi   \n",
       "\n",
       "                                         Coordinates Operational date  \\\n",
       "0      31°05′58″N 2°50′09″W﻿ / ﻿31.09951°N 2.83581°W        1947–1967   \n",
       "1      26°43′08″N 0°16′37″E﻿ / ﻿26.71895°N 0.27691°E        1961–1965   \n",
       "2      7°55′33″S 28°31′40″E﻿ / ﻿7.92587°S 28.52766°E        1977–1978   \n",
       "3  30°07′32.7″N 30°36′18.5″E﻿ / ﻿30.125750°N 30.6...        1962–1973   \n",
       "4      2°56′27″S 40°12′48″E﻿ / ﻿2.94080°S 40.21340°E        1964–1988   \n",
       "\n",
       "  Number of rocket launches Heaviest rocket launched  \\\n",
       "0                       230                18 000 kg   \n",
       "1                        10                      NaN   \n",
       "2                         3                      NaN   \n",
       "3                         6                      NaN   \n",
       "4                        27                20 000 kg   \n",
       "\n",
       "  Highest achieved altitude  \\\n",
       "0                   Orbital   \n",
       "1                       NaN   \n",
       "2                    <50 km   \n",
       "3                       NaN   \n",
       "4                   Orbital   \n",
       "\n",
       "                                               Notes Continent  \n",
       "0                             Operated by France.[1]    Africa  \n",
       "1                                                NaN    Africa  \n",
       "2                           German OTRAG rockets.[2]    Africa  \n",
       "3          Testing SRBMs Al Zafir and Al Kahir[3][4]    Africa  \n",
       "4  Scout rockets, operated by ASI and Sapienza Un...    Africa  "
      ]
     },
     "execution_count": 3,
     "metadata": {},
     "output_type": "execute_result"
    }
   ],
   "source": [
    "raw_data_df = pd.read_excel(Launch_Sites_Wiki_Data_xlx,index_col=0)\n",
    "raw_data_df.head()"
   ]
  },
  {
   "cell_type": "code",
   "execution_count": 4,
   "metadata": {},
   "outputs": [
    {
     "name": "stdout",
     "output_type": "stream",
     "text": [
      "<class 'pandas.core.frame.DataFrame'>\n",
      "Int64Index: 117 entries, 0 to 119\n",
      "Data columns (total 9 columns):\n",
      " #   Column                     Non-Null Count  Dtype \n",
      "---  ------                     --------------  ----- \n",
      " 0   Country                    117 non-null    object\n",
      " 1   Location                   117 non-null    object\n",
      " 2   Coordinates                117 non-null    object\n",
      " 3   Operational date           112 non-null    object\n",
      " 4   Number of rocket launches  59 non-null     object\n",
      " 5   Heaviest rocket launched   44 non-null     object\n",
      " 6   Highest achieved altitude  62 non-null     object\n",
      " 7   Notes                      82 non-null     object\n",
      " 8   Continent                  117 non-null    object\n",
      "dtypes: object(9)\n",
      "memory usage: 9.1+ KB\n"
     ]
    }
   ],
   "source": [
    "# Using the very useful info method\n",
    "raw_data_df.info()"
   ]
  },
  {
   "cell_type": "code",
   "execution_count": 5,
   "metadata": {},
   "outputs": [
    {
     "data": {
      "text/plain": [
       "Index(['Continent', 'Coordinates', 'Country', 'Heaviest rocket launched',\n",
       "       'Highest achieved altitude', 'Location', 'Notes',\n",
       "       'Number of rocket launches', 'Operational date'],\n",
       "      dtype='object')"
      ]
     },
     "execution_count": 5,
     "metadata": {},
     "output_type": "execute_result"
    }
   ],
   "source": [
    "raw_data_df.columns.sort_values()"
   ]
  },
  {
   "cell_type": "markdown",
   "metadata": {
    "id": "reoszLFJhLEb"
   },
   "source": [
    "## Analyzing and Transform Each column"
   ]
  },
  {
   "cell_type": "markdown",
   "metadata": {},
   "source": [
    "## Launch Sites Per Continent Analysis"
   ]
  },
  {
   "cell_type": "code",
   "execution_count": 6,
   "metadata": {},
   "outputs": [
    {
     "name": "stdout",
     "output_type": "stream",
     "text": [
      "['Africa', 'Asia', 'Europe', 'North America', 'South America', 'Oceania', 'Laucnhes at Sea']\n",
      "[8, 37, 27, 20, 8, 16, 1]\n"
     ]
    }
   ],
   "source": [
    "unique_continents = list(raw_data_df['Continent'].unique())\n",
    "print(unique_continents)\n",
    "\n",
    "Continents_Counts = []\n",
    "Continents_Counts.append(list(raw_data_df['Continent']).count('Africa'))\n",
    "Continents_Counts.append(list(raw_data_df['Continent']).count('Asia'))\n",
    "Continents_Counts.append(list(raw_data_df['Continent']).count('Europe'))\n",
    "Continents_Counts.append(list(raw_data_df['Continent']).count('North America'))\n",
    "Continents_Counts.append(list(raw_data_df['Continent']).count('Oceania'))\n",
    "Continents_Counts.append(list(raw_data_df['Continent']).count('South America'))\n",
    "Continents_Counts.append(list(raw_data_df['Continent']).count('Laucnhes at Sea'))\n",
    "print(Continents_Counts)\n",
    "continent_counts_df = pd.DataFrame(columns=unique_continents)\n",
    "df_length = len(continent_counts_df)\n",
    "continent_counts_df.loc[df_length] = Continents_Counts\n",
    "#rint(continent_counts_df.to_markdown())"
   ]
  },
  {
   "cell_type": "markdown",
   "metadata": {},
   "source": [
    "\n",
    "|   Africa |   Asia |   Europe |   North America |   South America |   Oceania |   Laucnhes at Sea |\n",
    "|---------:|-------:|---------:|----------------:|----------------:|----------:|------------------:|\n",
    "|        8 |     37 |       27 |              20 |               8 |        16 |                 1 |"
   ]
  },
  {
   "cell_type": "code",
   "execution_count": 8,
   "metadata": {},
   "outputs": [
    {
     "data": {
      "image/png": "[encoded data removed]",
      "text/plain": [
       "<Figure size 1440x720 with 1 Axes>"
      ]
     },
     "metadata": {
      "needs_background": "light"
     },
     "output_type": "display_data"
    }
   ],
   "source": [
    "# Telling Matplotlib where we would like to place each of our x-axis headers\n",
    "x_axis = np.arange(len(Continents_Counts))\n",
    "\n",
    "colors = [\"gold\",\"silver\",\"rebeccapurple\",\"lightcoral\",\"lightskyblue\",\"black\",'red']\n",
    "\n",
    "tick_locations = [value for value in x_axis]\n",
    "plt.xticks(tick_locations, unique_continents)\n",
    "# Sets the x limits of the current chart\n",
    "plt.xlim(-0.75, len(x_axis)-0.25)\n",
    "plt.ylim(0, max(Continents_Counts)+5)\n",
    "# Labels and a title\n",
    "plt.title(\"Launch Sites per continent\")\n",
    "plt.xlabel(\"Continent\")\n",
    "plt.ylabel(\"Count of Launch Sites\")\n",
    "plt.bar(x_axis, Continents_Counts, color=colors, alpha=0.5, align=\"center\");"
   ]
  },
  {
   "cell_type": "code",
   "execution_count": 9,
   "metadata": {},
   "outputs": [
    {
     "data": {
      "image/png": "[encoded data removed]",
      "text/plain": [
       "<Figure size 1440x720 with 1 Axes>"
      ]
     },
     "metadata": {},
     "output_type": "display_data"
    }
   ],
   "source": [
    "# Tells matplotlib to seperate the \"Python\" section from the others\n",
    "unique_continents_pie = ['Africa','Asia','Europe','North America','South America','Laucnhes at Sea','Oceania']\n",
    "Continents_pie = [8, 37, 27, 20, 8, 1, 16] \n",
    "\n",
    "labels = ['Africa','Asia','Europe','North America','South America','Laucnhes at Sea','Oceania']\n",
    "colors = [\"gold\",\"silver\",\"rebeccapurple\",\"lightcoral\",\"lightskyblue\",\"cyan\",'red'] \n",
    "explode = (0.1, 0, 0, 0, 0, 0.5, 0)\n",
    "plt.pie(Continents_pie, explode=explode, labels=labels, colors=colors, autopct=\"%1.1f%%\", shadow=True, startangle=140);"
   ]
  },
  {
   "cell_type": "markdown",
   "metadata": {},
   "source": [
    "## Coordinates\n",
    "\n",
    "\n",
    "### Creating Individual Latitude and Longitude based coordinate system"
   ]
  },
  {
   "cell_type": "code",
   "execution_count": 10,
   "metadata": {},
   "outputs": [],
   "source": [
    "raw_data_df['coordinates (dms)'] = raw_data_df['Coordinates'].map(lambda x: str(x).split('/')[0])\n",
    "raw_data_df['lat (dms)'] = raw_data_df['Coordinates'].map(lambda x: str(x).split('/')[0].split(' ')[0])\n",
    "raw_data_df['long (dms)'] = raw_data_df['Coordinates'].map(lambda x: str(x).split('/')[0].split(' ')[1])\n",
    "raw_data_df['coordinates (decimal)'] = raw_data_df['Coordinates'].map(lambda x: str(x).split('/')[1])\n",
    "raw_data_df['lat (decimal)'] = raw_data_df['Coordinates'].map(lambda x: str(x).split('/')[1].split(' ')[1])\n",
    "raw_data_df['long (decimal)'] = raw_data_df['Coordinates'].map(lambda x: str(x).split('/')[1].split(' ')[2])\n",
    "raw_data_df['lat (decimal)'] = raw_data_df['lat (decimal)'].map(lambda x: '-' + x.split('°')[0].replace('\\ufeff', '') if 'S' in x else x.split('°')[0].replace('\\ufeff', ''))\n",
    "raw_data_df['long (decimal)'] = raw_data_df['long (decimal)'].map(lambda x: '-' + x.split('°')[0].replace('\\ufeff', '') if 'W' in x else x.split('°')[0].replace('\\ufeff', ''))"
   ]
  },
  {
   "cell_type": "markdown",
   "metadata": {},
   "source": [
    "# Launch Sites per country analysis"
   ]
  },
  {
   "cell_type": "markdown",
   "metadata": {},
   "source": [
    "## Removing the '\\xa0' characters"
   ]
  },
  {
   "cell_type": "code",
   "execution_count": 11,
   "metadata": {},
   "outputs": [
    {
     "data": {
      "text/plain": [
       "array(['French Algeria', 'Algeria', 'Zaire', 'Egypt', 'Kenya', 'Libya',\n",
       "       'Mauritania', 'South Africa', 'China', 'India', 'Indonesia',\n",
       "       'Iran', 'Iraq', 'Israel', 'Japan',\n",
       "       'Soviet Union/\\xa0Kazakhstan (Operated by Russia)',\n",
       "       'Soviet Union/\\xa0Kazakhstan', 'North Korea', 'South Korea',\n",
       "       'Maldives', 'Pakistan', 'Soviet Union', 'Soviet Union/ Russia',\n",
       "       'Russia', 'Taiwan', 'Bulgaria', 'France', 'Germany',\n",
       "       'West Germany', 'Greece', 'Iceland', 'Italy', 'Norway',\n",
       "       'Nazi-occupied Poland', 'Poland', 'Soviet Union/\\xa0Russia',\n",
       "       'Spain', 'Sweden', 'United Kingdom', 'Canada',\n",
       "       'Greenland (\\xa0Denmark)', 'United States', 'Argentina', 'Brazil',\n",
       "       'French Guiana', 'Peru', 'Dutch Suriname', 'Australia',\n",
       "       'Marshall Islands', 'New Zealand', 'Denmark'], dtype=object)"
      ]
     },
     "execution_count": 11,
     "metadata": {},
     "output_type": "execute_result"
    }
   ],
   "source": [
    "raw_data_df['Country'].unique()"
   ]
  },
  {
   "cell_type": "markdown",
   "metadata": {},
   "source": [
    "We see here that there are a few unique values that don't look right. For example, the Soviet Union/ Kazakhstan values should be just Kazakhstan, also there are some unicode errors such as having \\xa0 in the string."
   ]
  },
  {
   "cell_type": "code",
   "execution_count": 12,
   "metadata": {},
   "outputs": [
    {
     "name": "stdout",
     "output_type": "stream",
     "text": [
      "Soviet Union/ Kazakhstan (Operated by Russia)\n",
      "Soviet Union/ Kazakhstan\n",
      "Soviet Union/ Russia\n",
      "Soviet Union/ Russia\n",
      "Soviet Union/ Russia\n",
      "Greenland ( Denmark)\n"
     ]
    }
   ],
   "source": [
    "for i in raw_data_df['Country']:\n",
    "    if '\\xa0' in i:\n",
    "        print(i)"
   ]
  },
  {
   "cell_type": "code",
   "execution_count": 13,
   "metadata": {},
   "outputs": [],
   "source": [
    "raw_data_df['Country'] = raw_data_df['Country'].map(lambda x:x.replace('\\xa0','') if '\\xa0' in x else x)"
   ]
  },
  {
   "cell_type": "code",
   "execution_count": 14,
   "metadata": {},
   "outputs": [
    {
     "data": {
      "text/plain": [
       "array(['French Algeria', 'Algeria', 'Zaire', 'Egypt', 'Kenya', 'Libya',\n",
       "       'Mauritania', 'South Africa', 'China', 'India', 'Indonesia',\n",
       "       'Iran', 'Iraq', 'Israel', 'Japan',\n",
       "       'Soviet Union/Kazakhstan (Operated by Russia)',\n",
       "       'Soviet Union/Kazakhstan', 'North Korea', 'South Korea',\n",
       "       'Maldives', 'Pakistan', 'Soviet Union', 'Soviet Union/ Russia',\n",
       "       'Russia', 'Taiwan', 'Bulgaria', 'France', 'Germany',\n",
       "       'West Germany', 'Greece', 'Iceland', 'Italy', 'Norway',\n",
       "       'Nazi-occupied Poland', 'Poland', 'Soviet Union/Russia', 'Spain',\n",
       "       'Sweden', 'United Kingdom', 'Canada', 'Greenland (Denmark)',\n",
       "       'United States', 'Argentina', 'Brazil', 'French Guiana', 'Peru',\n",
       "       'Dutch Suriname', 'Australia', 'Marshall Islands', 'New Zealand',\n",
       "       'Denmark'], dtype=object)"
      ]
     },
     "execution_count": 14,
     "metadata": {},
     "output_type": "execute_result"
    }
   ],
   "source": [
    "raw_data_df['Country'].unique()"
   ]
  },
  {
   "cell_type": "markdown",
   "metadata": {},
   "source": [
    "## Removing Soviet Union\n",
    "Looks like in our Unique lists there are entries of launchsites operated by what used to be the Soviet Union and therefore needs to be removed."
   ]
  },
  {
   "cell_type": "code",
   "execution_count": 15,
   "metadata": {},
   "outputs": [],
   "source": [
    "raw_data_df['Country'] = raw_data_df['Country'].map(lambda x: x.split('/')[1].strip().split()[0] if '/' in x else x)"
   ]
  },
  {
   "cell_type": "markdown",
   "metadata": {},
   "source": [
    "### Final Unique Values"
   ]
  },
  {
   "cell_type": "code",
   "execution_count": 16,
   "metadata": {},
   "outputs": [
    {
     "name": "stdout",
     "output_type": "stream",
     "text": [
      "We have 48, unique countries in our dataset\n"
     ]
    }
   ],
   "source": [
    "# Here we want to know how many unique countries we have\n",
    "print(f\"We have {len(raw_data_df['Country'].unique())}, unique countries in our dataset\")"
   ]
  },
  {
   "cell_type": "markdown",
   "metadata": {},
   "source": [
    "### Amount of LaunchSites Per Country"
   ]
  },
  {
   "cell_type": "code",
   "execution_count": 17,
   "metadata": {},
   "outputs": [
    {
     "name": "stdout",
     "output_type": "stream",
     "text": [
      "[1, 1, 1, 1, 1, 1, 1, 1, 6, 3, 1, 3, 1, 1, 6, 2, 2, 2, 1, 2, 2, 7, 1, 1, 1, 4, 2, 1, 1, 1, 3, 2, 1, 1, 4, 2, 4, 1, 15, 9, 3, 1, 2, 1, 5, 1, 2, 1]\n"
     ]
    }
   ],
   "source": [
    "# Counting how many launch site each unique country has\n",
    "unique_countries_list = raw_data_df['Country'].unique()\n",
    "\n",
    "countries_counts = []\n",
    "for country in unique_countries_list:\n",
    "    countries_counts.append(list(raw_data_df['Country']).count(country))\n",
    "print(countries_counts)"
   ]
  },
  {
   "cell_type": "markdown",
   "metadata": {},
   "source": [
    "### Counties with at least 2 LaunchSites"
   ]
  },
  {
   "cell_type": "code",
   "execution_count": 18,
   "metadata": {},
   "outputs": [
    {
     "name": "stdout",
     "output_type": "stream",
     "text": [
      "[6, 3, 3, 6, 2, 2, 2, 2, 2, 7, 4, 2, 3, 2, 4, 2, 4, 15, 9, 3, 2, 5, 2]\n"
     ]
    }
   ],
   "source": [
    "countries_names_2 = []\n",
    "countries_counts_2 = []\n",
    "for country in unique_countries_list:\n",
    "    if list(raw_data_df['Country']).count(country) >= 2:\n",
    "        countries_names_2.append(country)\n",
    "        countries_counts_2.append(list(raw_data_df['Country']).count(country))\n",
    "    else:\n",
    "        continue\n",
    "print(countries_counts_2)"
   ]
  },
  {
   "cell_type": "code",
   "execution_count": 19,
   "metadata": {},
   "outputs": [],
   "source": [
    "more_than_two_df = pd.DataFrame()\n",
    "more_than_two_df['countries'] = countries_names_2\n",
    "more_than_two_df['counts'] = countries_counts_2"
   ]
  },
  {
   "cell_type": "code",
   "execution_count": 18,
   "metadata": {},
   "outputs": [],
   "source": [
    "#print(more_than_two_df.to_markdown())"
   ]
  },
  {
   "cell_type": "markdown",
   "metadata": {},
   "source": [
    "|    | countries            |   counts |\n",
    "|---:|:---------------------|---------:|\n",
    "|  0 | China                |        6 |\n",
    "|  1 | India                |        3 |\n",
    "|  2 | Iran                 |        3 |\n",
    "|  3 | Japan                |        6 |\n",
    "|  4 | Kazakhstan           |        2 |\n",
    "|  5 | North Korea          |        2 |\n",
    "|  6 | South Korea          |        2 |\n",
    "|  7 | Pakistan             |        2 |\n",
    "|  8 | Soviet Union         |        2 |\n",
    "|  9 | Russia               |        7 |\n",
    "| 10 | Germany              |        4 |\n",
    "| 11 | West Germany         |        2 |\n",
    "| 12 | Norway               |        3 |\n",
    "| 13 | Nazi-occupied Poland |        2 |\n",
    "| 14 | Sweden               |        4 |\n",
    "| 15 | United Kingdom       |        2 |\n",
    "| 16 | Canada               |        4 |\n",
    "| 17 | United States        |       15 |\n",
    "| 18 | Argentina            |        9 |\n",
    "| 19 | Brazil               |        3 |\n",
    "| 20 | Peru                 |        2 |\n",
    "| 21 | Australia            |        5 |\n",
    "| 22 | New Zealand          |        2 |"
   ]
  },
  {
   "cell_type": "markdown",
   "metadata": {},
   "source": [
    "### Counties with at least 3 LaunchSites "
   ]
  },
  {
   "cell_type": "code",
   "execution_count": 20,
   "metadata": {},
   "outputs": [
    {
     "name": "stdout",
     "output_type": "stream",
     "text": [
      "There are 13 countries with at least 3 launch sites !\n"
     ]
    }
   ],
   "source": [
    "# We can further decrease the sample size to only countries with at least 3\n",
    "# Launch sites\n",
    "# Creating a separate list to store the country names\n",
    "countries_counts_3 = []\n",
    "countries_names_3 = []\n",
    "threshold = 3\n",
    "\n",
    "for country in unique_countries_list:\n",
    "    if list(raw_data_df['Country']).count(country) >= threshold:\n",
    "        countries_counts_3.append(list(raw_data_df['Country']).count(country))\n",
    "        countries_names_3.append(country)\n",
    "    else:\n",
    "        continue\n",
    "        \n",
    "print(f\"There are {len(countries_counts_3)} countries with at least {threshold} launch sites !\")"
   ]
  },
  {
   "cell_type": "code",
   "execution_count": 21,
   "metadata": {},
   "outputs": [],
   "source": [
    "more_than_three_df = pd.DataFrame()\n",
    "more_than_three_df['countries'] = countries_names_3\n",
    "more_than_three_df['counts'] = countries_counts_3\n",
    "#print(more_than_three_df.to_markdown())"
   ]
  },
  {
   "cell_type": "markdown",
   "metadata": {},
   "source": [
    "|    | countries     |   counts |\n",
    "|---:|:--------------|---------:|\n",
    "|  0 | China         |        6 |\n",
    "|  1 | India         |        3 |\n",
    "|  2 | Iran          |        3 |\n",
    "|  3 | Japan         |        6 |\n",
    "|  4 | Russia        |        7 |\n",
    "|  5 | Germany       |        4 |\n",
    "|  6 | Norway        |        3 |\n",
    "|  7 | Sweden        |        4 |\n",
    "|  8 | Canada        |        4 |\n",
    "|  9 | United States |       15 |\n",
    "| 10 | Argentina     |        9 |\n",
    "| 11 | Brazil        |        3 |\n",
    "| 12 | Australia     |        5 |"
   ]
  },
  {
   "cell_type": "code",
   "execution_count": 22,
   "metadata": {},
   "outputs": [
    {
     "data": {
      "image/png": "[encoded data removed]",
      "text/plain": [
       "<Figure size 1440x720 with 1 Axes>"
      ]
     },
     "metadata": {},
     "output_type": "display_data"
    }
   ],
   "source": [
    "# Tells matplotlib to seperate the \"Python\" section from the others\n",
    "labels = countries_names_3\n",
    "colors = [\"red\",\"blue\",\"orange\",\"gold\",\"silver\",\"rebeccapurple\",\n",
    "          \"lightcoral\",\"lightskyblue\",\"black\",\"navy\",\"cyan\",\n",
    "          \"deeppink\",\"greenyellow\"]\n",
    "explode = (0.1, 0, 0, 0, 0, 0, 0, 0, 0, 0, 0, 0, 0)\n",
    "plt.pie(countries_counts_3, explode=explode, labels=labels, \n",
    "        colors=colors, autopct=\"%1.1f%%\", shadow=True, startangle=140);\n",
    "plt.savefig('./plots/countries_more_than_3.png')"
   ]
  },
  {
   "cell_type": "markdown",
   "metadata": {},
   "source": [
    "## Heaviest Rocket Launched"
   ]
  },
  {
   "cell_type": "code",
   "execution_count": 23,
   "metadata": {},
   "outputs": [
    {
     "data": {
      "text/plain": [
       "count         44\n",
       "unique        43\n",
       "top       700 kg\n",
       "freq           2\n",
       "Name: Heaviest rocket launched, dtype: object"
      ]
     },
     "execution_count": 23,
     "metadata": {},
     "output_type": "execute_result"
    }
   ],
   "source": [
    "raw_data_df['Heaviest rocket launched'].describe()"
   ]
  },
  {
   "cell_type": "code",
   "execution_count": 31,
   "metadata": {},
   "outputs": [],
   "source": [
    "raw_data_df['Heaviest rocket launched'] = raw_data_df['Heaviest rocket launched'].map(lambda x:x.replace('\\xa0','') if isinstance(x,str) and '\\xa0' in x else x)"
   ]
  },
  {
   "cell_type": "code",
   "execution_count": 32,
   "metadata": {
    "colab": {
     "base_uri": "https://localhost:8080/",
     "height": 34
    },
    "id": "oYIFjlpzoLBf",
    "outputId": "e1c02976-85b9-4520-a615-77a99cbf94ba"
   },
   "outputs": [
    {
     "data": {
      "text/plain": [
       "array(['18 000kg', nan, '20 000kg', '1 000kg', '464 000kg', '249 000kg',\n",
       "       '459 000kg', '879 000kg', '690, 000kg', '765kg', '70 000kg',\n",
       "       '139 000kg', '445 000kg', '2 400 000kg', '47 000kg', '211 000kg',\n",
       "       '10 000kg', '475kg', '12 500kg', '130kg', '800kg', '16kg',\n",
       "       '760 000kg', '30kg', '700kg', '12 400kg', '1300', '1 200kg',\n",
       "       '3 000 000kg', '770kg', '86 000kg', '89 805kg', '7 076kg [82]',\n",
       "       '933kg', '500kg', '3 400kg', '28kg', '6 737kg', '777 000kg',\n",
       "       '2 000kg', '28 000kg', '39 000kg', '10 500kg', '1 630kg'],\n",
       "      dtype=object)"
      ]
     },
     "execution_count": 32,
     "metadata": {},
     "output_type": "execute_result"
    }
   ],
   "source": [
    "raw_data_df['Heaviest rocket launched'].unique()"
   ]
  },
  {
   "cell_type": "code",
   "execution_count": 33,
   "metadata": {},
   "outputs": [
    {
     "data": {
      "text/html": [
       "<div>\n",
       "<style scoped>\n",
       "    .dataframe tbody tr th:only-of-type {\n",
       "        vertical-align: middle;\n",
       "    }\n",
       "\n",
       "    .dataframe tbody tr th {\n",
       "        vertical-align: top;\n",
       "    }\n",
       "\n",
       "    .dataframe thead th {\n",
       "        text-align: right;\n",
       "    }\n",
       "</style>\n",
       "<table border=\"1\" class=\"dataframe\">\n",
       "  <thead>\n",
       "    <tr style=\"text-align: right;\">\n",
       "      <th></th>\n",
       "      <th>Country</th>\n",
       "      <th>Location</th>\n",
       "      <th>Coordinates</th>\n",
       "      <th>Operational date</th>\n",
       "      <th>Number of rocket launches</th>\n",
       "      <th>Heaviest rocket launched</th>\n",
       "      <th>Highest achieved altitude</th>\n",
       "      <th>Notes</th>\n",
       "      <th>Continent</th>\n",
       "      <th>coordinates (dms)</th>\n",
       "      <th>lat (dms)</th>\n",
       "      <th>long (dms)</th>\n",
       "      <th>coordinates (decimal)</th>\n",
       "      <th>lat (decimal)</th>\n",
       "      <th>long (decimal)</th>\n",
       "    </tr>\n",
       "  </thead>\n",
       "  <tbody>\n",
       "  </tbody>\n",
       "</table>\n",
       "</div>"
      ],
      "text/plain": [
       "Empty DataFrame\n",
       "Columns: [Country, Location, Coordinates, Operational date, Number of rocket launches, Heaviest rocket launched, Highest achieved altitude, Notes, Continent, coordinates (dms), lat (dms), long (dms), coordinates (decimal), lat (decimal), long (decimal)]\n",
       "Index: []"
      ]
     },
     "execution_count": 33,
     "metadata": {},
     "output_type": "execute_result"
    }
   ],
   "source": [
    "#raw_data_df.loc[raw_data_df['Heaviest rocket launched']=='approx 1300\\xa0kg plus payload']"
   ]
  },
  {
   "cell_type": "code",
   "execution_count": 34,
   "metadata": {},
   "outputs": [],
   "source": [
    "#raw_data_df.loc[71,'Heaviest rocket launched'] = '1300'"
   ]
  },
  {
   "cell_type": "markdown",
   "metadata": {},
   "source": [
    "## Cleaning Values"
   ]
  },
  {
   "cell_type": "code",
   "execution_count": 35,
   "metadata": {},
   "outputs": [],
   "source": [
    "raw_data_df['Heaviest rocket launched'] = raw_data_df['Heaviest rocket launched'].map(lambda x: int(x.split('kg')[0].replace(' ','').replace(',','')) if isinstance(x,str) else x)"
   ]
  },
  {
   "cell_type": "code",
   "execution_count": 36,
   "metadata": {},
   "outputs": [
    {
     "data": {
      "text/plain": [
       "count    4.400000e+01\n",
       "mean     2.487817e+05\n",
       "std      5.953872e+05\n",
       "min      1.600000e+01\n",
       "25%      8.997500e+02\n",
       "50%      1.145000e+04\n",
       "75%      1.570000e+05\n",
       "max      3.000000e+06\n",
       "Name: Heaviest rocket launched, dtype: float64"
      ]
     },
     "execution_count": 36,
     "metadata": {},
     "output_type": "execute_result"
    }
   ],
   "source": [
    "raw_data_df['Heaviest rocket launched'].describe()"
   ]
  },
  {
   "cell_type": "code",
   "execution_count": 61,
   "metadata": {},
   "outputs": [],
   "source": [
    "remove_empty = raw_data_df['Heaviest rocket launched'].dropna()"
   ]
  },
  {
   "cell_type": "code",
   "execution_count": 60,
   "metadata": {},
   "outputs": [
    {
     "data": {
      "text/plain": [
       "(44,)"
      ]
     },
     "execution_count": 60,
     "metadata": {},
     "output_type": "execute_result"
    }
   ],
   "source": [
    "raw_data_df['Heaviest rocket launched'].unique().shape"
   ]
  },
  {
   "cell_type": "markdown",
   "metadata": {
    "id": "p4YBixIsqeVW"
   },
   "source": [
    "## Highest achieved Orbit (altitude) Analysis"
   ]
  },
  {
   "cell_type": "code",
   "execution_count": 62,
   "metadata": {
    "colab": {
     "base_uri": "https://localhost:8080/",
     "height": 52
    },
    "id": "IUzeK-vIqb7b",
    "outputId": "33b0b5f2-8256-431c-b70b-08b3c601e3ed"
   },
   "outputs": [
    {
     "data": {
      "text/plain": [
       "count          62\n",
       "unique         38\n",
       "top       Orbital\n",
       "freq           15\n",
       "Name: Highest achieved altitude, dtype: object"
      ]
     },
     "execution_count": 62,
     "metadata": {},
     "output_type": "execute_result"
    }
   ],
   "source": [
    "raw_data_df['Highest achieved altitude'].describe()"
   ]
  },
  {
   "cell_type": "code",
   "execution_count": 27,
   "metadata": {},
   "outputs": [],
   "source": [
    "raw_data_df['Highest achieved altitude'] = raw_data_df['Highest achieved altitude'].map(lambda x:x.replace('\\xa0','') if isinstance(x,str) and '\\xa0' in x else x)"
   ]
  },
  {
   "cell_type": "code",
   "execution_count": 37,
   "metadata": {
    "colab": {
     "base_uri": "https://localhost:8080/",
     "height": 175
    },
    "id": "e5I8n2CnBCHo",
    "outputId": "2cb8cac4-f1b4-4064-e2ce-0c3fe5749ea2"
   },
   "outputs": [
    {
     "data": {
      "text/plain": [
       "array(['Orbital', nan, 50.0, 60.0, 'Lunar', 'Interplanetary', 100.0,\n",
       "       343.0, 402.0, 1000.0, 300.0, 90.0, 4.0, 175.0, 110.0, 10.0, 80.0,\n",
       "       114.0, 720.0, 135.0, 237.0, 717.0, 270.0, 'Interstellar', 160.0,\n",
       "       112.0, 2.2, 550.0, 40.0, 25.0, 1100.0, 956.0, 590.0, 205.0, 120.0,\n",
       "       85.0, 8.2], dtype=object)"
      ]
     },
     "execution_count": 37,
     "metadata": {},
     "output_type": "execute_result"
    }
   ],
   "source": [
    "# Here we are checking the frequecies of each highest achieved orbit\n",
    "raw_data_df['Highest achieved altitude'].unique()"
   ]
  },
  {
   "cell_type": "code",
   "execution_count": 38,
   "metadata": {},
   "outputs": [],
   "source": [
    "raw_data_df['Highest achieved altitude'] = raw_data_df['Highest achieved altitude'].map(lambda x:x.replace('<','') if isinstance(x,str) and '<' in x else x)\n",
    "raw_data_df['Highest achieved altitude'] = raw_data_df['Highest achieved altitude'].map(lambda x:x.replace('>','') if isinstance(x,str) and '>' in x else x)"
   ]
  },
  {
   "cell_type": "code",
   "execution_count": 39,
   "metadata": {},
   "outputs": [],
   "source": [
    "raw_data_df['Highest achieved altitude'] = raw_data_df['Highest achieved altitude'].map(lambda x: float(x.split('km')[0].replace(' ','').replace(',','')) if isinstance(x,str) and 'km' in x else x)"
   ]
  },
  {
   "cell_type": "code",
   "execution_count": 40,
   "metadata": {},
   "outputs": [
    {
     "data": {
      "text/plain": [
       "array(['Orbital', nan, 50.0, 60.0, 'Lunar', 'Interplanetary', 100.0,\n",
       "       343.0, 402.0, 1000.0, 300.0, 90.0, 4.0, 175.0, 110.0, 10.0, 80.0,\n",
       "       114.0, 720.0, 135.0, 237.0, 717.0, 270.0, 'Interstellar', 160.0,\n",
       "       112.0, 2.2, 550.0, 40.0, 25.0, 1100.0, 956.0, 590.0, 205.0, 120.0,\n",
       "       85.0, 8.2], dtype=object)"
      ]
     },
     "execution_count": 40,
     "metadata": {},
     "output_type": "execute_result"
    }
   ],
   "source": [
    "raw_data_df['Highest achieved altitude'].unique()"
   ]
  },
  {
   "cell_type": "code",
   "execution_count": 41,
   "metadata": {},
   "outputs": [
    {
     "data": {
      "text/plain": [
       "count          62\n",
       "unique         36\n",
       "top       Orbital\n",
       "freq           15\n",
       "Name: Highest achieved altitude, dtype: object"
      ]
     },
     "execution_count": 41,
     "metadata": {},
     "output_type": "execute_result"
    }
   ],
   "source": [
    "raw_data_df['Highest achieved altitude'].describe()"
   ]
  },
  {
   "cell_type": "markdown",
   "metadata": {},
   "source": [
    "## Number of Rocket Launches"
   ]
  },
  {
   "cell_type": "code",
   "execution_count": 42,
   "metadata": {},
   "outputs": [
    {
     "data": {
      "text/plain": [
       "count     59\n",
       "unique    53\n",
       "top        2\n",
       "freq       4\n",
       "Name: Number of rocket launches, dtype: object"
      ]
     },
     "execution_count": 42,
     "metadata": {},
     "output_type": "execute_result"
    }
   ],
   "source": [
    "raw_data_df['Number of rocket launches'].describe()"
   ]
  },
  {
   "cell_type": "code",
   "execution_count": 43,
   "metadata": {},
   "outputs": [
    {
     "data": {
      "text/plain": [
       "array([230, 10, 3, 6, 27, nan, 1, '28', '>3000', '67', '371', '2',\n",
       "       '>1200', '36', '139', '>1000', '>500', '1', '18', '150', '300',\n",
       "       '0', '1 (2015)', '3500+', '17', '7', '~10', '5', '>30', '1600+',\n",
       "       '7500+', '2000+', '1000+', '500+', '151', '50+', '26', '22', '20+',\n",
       "       '3', '100 (approximately)', '11', '8', '233', '27', '35', '<200',\n",
       "       '<65', '32', '4', 12, 2, 13, 4], dtype=object)"
      ]
     },
     "execution_count": 43,
     "metadata": {},
     "output_type": "execute_result"
    }
   ],
   "source": [
    "raw_data_df['Number of rocket launches'].unique()"
   ]
  },
  {
   "cell_type": "code",
   "execution_count": 44,
   "metadata": {},
   "outputs": [],
   "source": [
    "raw_data_df['Number of rocket launches'] = raw_data_df['Number of rocket launches'].map(lambda x:x.replace('<','') if isinstance(x,str) and '<' in x else x)\n",
    "raw_data_df['Number of rocket launches'] = raw_data_df['Number of rocket launches'].map(lambda x:x.replace('>','') if isinstance(x,str) and '>' in x else x)"
   ]
  },
  {
   "cell_type": "code",
   "execution_count": 45,
   "metadata": {},
   "outputs": [
    {
     "data": {
      "text/plain": [
       "array([230, 10, 3, 6, 27, nan, 1, '28', '3000', '67', '371', '2', '1200',\n",
       "       '36', '139', '1000', '500', '1', '18', '150', '300', '0',\n",
       "       '1 (2015)', '3500+', '17', '7', '~10', '5', '30', '1600+', '7500+',\n",
       "       '2000+', '1000+', '500+', '151', '50+', '26', '22', '20+', '3',\n",
       "       '100 (approximately)', '11', '8', '233', '27', '35', '200', '65',\n",
       "       '32', '4', 12, 2, 13, 4], dtype=object)"
      ]
     },
     "execution_count": 45,
     "metadata": {},
     "output_type": "execute_result"
    }
   ],
   "source": [
    "raw_data_df['Number of rocket launches'].unique()"
   ]
  },
  {
   "cell_type": "code",
   "execution_count": 46,
   "metadata": {},
   "outputs": [],
   "source": [
    "raw_data_df['Number of rocket launches'] = raw_data_df['Number of rocket launches'].map(lambda x:x.replace('+','') if isinstance(x,str) and '+' in x else x)"
   ]
  },
  {
   "cell_type": "code",
   "execution_count": 47,
   "metadata": {},
   "outputs": [
    {
     "data": {
      "text/plain": [
       "array([230, 10, 3, 6, 27, nan, 1, '28', '3000', '67', '371', '2', '1200',\n",
       "       '36', '139', '1000', '500', '1', '18', '150', '300', '0',\n",
       "       '1 (2015)', '3500', '17', '7', '~10', '5', '30', '1600', '7500',\n",
       "       '2000', '151', '50', '26', '22', '20', '3', '100 (approximately)',\n",
       "       '11', '8', '233', '27', '35', '200', '65', '32', '4', 12, 2, 13, 4],\n",
       "      dtype=object)"
      ]
     },
     "execution_count": 47,
     "metadata": {},
     "output_type": "execute_result"
    }
   ],
   "source": [
    "raw_data_df['Number of rocket launches'].unique()"
   ]
  },
  {
   "cell_type": "code",
   "execution_count": 48,
   "metadata": {},
   "outputs": [],
   "source": [
    "raw_data_df['Number of rocket launches'] = raw_data_df['Number of rocket launches'].map(lambda x:x.replace('(2015)','') if isinstance(x,str) and '(2015)' in x else x)"
   ]
  },
  {
   "cell_type": "code",
   "execution_count": 49,
   "metadata": {},
   "outputs": [],
   "source": [
    "raw_data_df['Number of rocket launches'] = raw_data_df['Number of rocket launches'].map(lambda x:x.replace('(approximately)','') if isinstance(x,str) and '(approximately)' in x else x)"
   ]
  },
  {
   "cell_type": "code",
   "execution_count": 50,
   "metadata": {},
   "outputs": [
    {
     "data": {
      "text/plain": [
       "array([230, 10, 3, 6, 27, nan, 1, '28', '3000', '67', '371', '2', '1200',\n",
       "       '36', '139', '1000', '500', '1', '18', '150', '300', '0', '1 ',\n",
       "       '3500', '17', '7', '~10', '5', '30', '1600', '7500', '2000', '151',\n",
       "       '50', '26', '22', '20', '3', '100 ', '11', '8', '233', '27', '35',\n",
       "       '200', '65', '32', '4', 12, 2, 13, 4], dtype=object)"
      ]
     },
     "execution_count": 50,
     "metadata": {},
     "output_type": "execute_result"
    }
   ],
   "source": [
    "raw_data_df['Number of rocket launches'].unique()"
   ]
  },
  {
   "cell_type": "code",
   "execution_count": 51,
   "metadata": {},
   "outputs": [],
   "source": [
    "raw_data_df['Number of rocket launches'] = raw_data_df['Number of rocket launches'].map(lambda x:x.replace('~','') if isinstance(x,str) and '~' in x else x)"
   ]
  },
  {
   "cell_type": "code",
   "execution_count": 52,
   "metadata": {},
   "outputs": [
    {
     "data": {
      "text/plain": [
       "array([230, 10, 3, 6, 27, nan, 1, '28', '3000', '67', '371', '2', '1200',\n",
       "       '36', '139', '1000', '500', '1', '18', '150', '300', '0', '1 ',\n",
       "       '3500', '17', '7', '10', '5', '30', '1600', '7500', '2000', '151',\n",
       "       '50', '26', '22', '20', '3', '100 ', '11', '8', '233', '27', '35',\n",
       "       '200', '65', '32', '4', 12, 2, 13, 4], dtype=object)"
      ]
     },
     "execution_count": 52,
     "metadata": {},
     "output_type": "execute_result"
    }
   ],
   "source": [
    "raw_data_df['Number of rocket launches'].unique()"
   ]
  },
  {
   "cell_type": "code",
   "execution_count": 53,
   "metadata": {},
   "outputs": [
    {
     "data": {
      "text/plain": [
       "(117, 15)"
      ]
     },
     "execution_count": 53,
     "metadata": {},
     "output_type": "execute_result"
    }
   ],
   "source": [
    "raw_data_df.shape"
   ]
  },
  {
   "cell_type": "markdown",
   "metadata": {},
   "source": [
    "## Adding Rotational Velocity Column"
   ]
  },
  {
   "cell_type": "code",
   "execution_count": 54,
   "metadata": {},
   "outputs": [
    {
     "data": {
      "text/plain": [
       "465.1016281228644"
      ]
     },
     "execution_count": 54,
     "metadata": {},
     "output_type": "execute_result"
    }
   ],
   "source": [
    "import math\n",
    "\n",
    "Earth_Radius = 6378137\n",
    "earth_rotational_vel = (2*math.pi*Earth_Radius)/86164\n",
    "earth_rotational_vel"
   ]
  },
  {
   "cell_type": "code",
   "execution_count": 55,
   "metadata": {},
   "outputs": [
    {
     "data": {
      "text/html": [
       "<div>\n",
       "<style scoped>\n",
       "    .dataframe tbody tr th:only-of-type {\n",
       "        vertical-align: middle;\n",
       "    }\n",
       "\n",
       "    .dataframe tbody tr th {\n",
       "        vertical-align: top;\n",
       "    }\n",
       "\n",
       "    .dataframe thead th {\n",
       "        text-align: right;\n",
       "    }\n",
       "</style>\n",
       "<table border=\"1\" class=\"dataframe\">\n",
       "  <thead>\n",
       "    <tr style=\"text-align: right;\">\n",
       "      <th></th>\n",
       "      <th>Country</th>\n",
       "      <th>Location</th>\n",
       "      <th>Coordinates</th>\n",
       "      <th>Operational date</th>\n",
       "      <th>Number of rocket launches</th>\n",
       "      <th>Heaviest rocket launched</th>\n",
       "      <th>Highest achieved altitude</th>\n",
       "      <th>Notes</th>\n",
       "      <th>Continent</th>\n",
       "      <th>coordinates (dms)</th>\n",
       "      <th>lat (dms)</th>\n",
       "      <th>long (dms)</th>\n",
       "      <th>coordinates (decimal)</th>\n",
       "      <th>lat (decimal)</th>\n",
       "      <th>long (decimal)</th>\n",
       "      <th>rotational_vel</th>\n",
       "    </tr>\n",
       "  </thead>\n",
       "  <tbody>\n",
       "    <tr>\n",
       "      <th>0</th>\n",
       "      <td>French Algeria</td>\n",
       "      <td>Centre interarmées d'essais d'engins spéciaux ...</td>\n",
       "      <td>31°05′58″N 2°50′09″W﻿ / ﻿31.09951°N 2.83581°W</td>\n",
       "      <td>1947–1967</td>\n",
       "      <td>230</td>\n",
       "      <td>18000.0</td>\n",
       "      <td>Orbital</td>\n",
       "      <td>Operated by France.[1]</td>\n",
       "      <td>Africa</td>\n",
       "      <td>31°05′58″N 2°50′09″W﻿</td>\n",
       "      <td>31°05′58″N</td>\n",
       "      <td>2°50′09″W﻿</td>\n",
       "      <td>﻿31.09951°N 2.83581°W</td>\n",
       "      <td>31.09951</td>\n",
       "      <td>-2.83581</td>\n",
       "      <td>398.253270</td>\n",
       "    </tr>\n",
       "    <tr>\n",
       "      <th>1</th>\n",
       "      <td>Algeria</td>\n",
       "      <td>Reggane</td>\n",
       "      <td>26°43′08″N 0°16′37″E﻿ / ﻿26.71895°N 0.27691°E</td>\n",
       "      <td>1961–1965</td>\n",
       "      <td>10</td>\n",
       "      <td>NaN</td>\n",
       "      <td>NaN</td>\n",
       "      <td>NaN</td>\n",
       "      <td>Africa</td>\n",
       "      <td>26°43′08″N 0°16′37″E﻿</td>\n",
       "      <td>26°43′08″N</td>\n",
       "      <td>0°16′37″E﻿</td>\n",
       "      <td>﻿26.71895°N 0.27691°E</td>\n",
       "      <td>26.71895</td>\n",
       "      <td>0.27691</td>\n",
       "      <td>415.439347</td>\n",
       "    </tr>\n",
       "    <tr>\n",
       "      <th>2</th>\n",
       "      <td>Zaire</td>\n",
       "      <td>Shaba North, Kapani Tonneo OTRAG Launch Center</td>\n",
       "      <td>7°55′33″S 28°31′40″E﻿ / ﻿7.92587°S 28.52766°E</td>\n",
       "      <td>1977–1978</td>\n",
       "      <td>3</td>\n",
       "      <td>NaN</td>\n",
       "      <td>50.0</td>\n",
       "      <td>German OTRAG rockets.[2]</td>\n",
       "      <td>Africa</td>\n",
       "      <td>7°55′33″S 28°31′40″E﻿</td>\n",
       "      <td>7°55′33″S</td>\n",
       "      <td>28°31′40″E﻿</td>\n",
       "      <td>﻿7.92587°S 28.52766°E</td>\n",
       "      <td>-7.92587</td>\n",
       "      <td>28.52766</td>\n",
       "      <td>460.658654</td>\n",
       "    </tr>\n",
       "  </tbody>\n",
       "</table>\n",
       "</div>"
      ],
      "text/plain": [
       "          Country                                           Location  \\\n",
       "0  French Algeria  Centre interarmées d'essais d'engins spéciaux ...   \n",
       "1         Algeria                                            Reggane   \n",
       "2           Zaire     Shaba North, Kapani Tonneo OTRAG Launch Center   \n",
       "\n",
       "                                     Coordinates Operational date  \\\n",
       "0  31°05′58″N 2°50′09″W﻿ / ﻿31.09951°N 2.83581°W        1947–1967   \n",
       "1  26°43′08″N 0°16′37″E﻿ / ﻿26.71895°N 0.27691°E        1961–1965   \n",
       "2  7°55′33″S 28°31′40″E﻿ / ﻿7.92587°S 28.52766°E        1977–1978   \n",
       "\n",
       "  Number of rocket launches  Heaviest rocket launched  \\\n",
       "0                       230                   18000.0   \n",
       "1                        10                       NaN   \n",
       "2                         3                       NaN   \n",
       "\n",
       "  Highest achieved altitude                     Notes Continent  \\\n",
       "0                   Orbital    Operated by France.[1]    Africa   \n",
       "1                       NaN                       NaN    Africa   \n",
       "2                      50.0  German OTRAG rockets.[2]    Africa   \n",
       "\n",
       "        coordinates (dms)   lat (dms)   long (dms)   coordinates (decimal)  \\\n",
       "0  31°05′58″N 2°50′09″W﻿   31°05′58″N   2°50′09″W﻿   ﻿31.09951°N 2.83581°W   \n",
       "1  26°43′08″N 0°16′37″E﻿   26°43′08″N   0°16′37″E﻿   ﻿26.71895°N 0.27691°E   \n",
       "2  7°55′33″S 28°31′40″E﻿    7°55′33″S  28°31′40″E﻿   ﻿7.92587°S 28.52766°E   \n",
       "\n",
       "  lat (decimal) long (decimal)  rotational_vel  \n",
       "0      31.09951       -2.83581      398.253270  \n",
       "1      26.71895        0.27691      415.439347  \n",
       "2      -7.92587       28.52766      460.658654  "
      ]
     },
     "execution_count": 55,
     "metadata": {},
     "output_type": "execute_result"
    }
   ],
   "source": [
    "raw_data_df['rotational_vel'] = raw_data_df['lat (decimal)'].map(lambda x: earth_rotational_vel*math.cos(math.radians(float(x))))\n",
    "raw_data_df.head(3)"
   ]
  },
  {
   "cell_type": "markdown",
   "metadata": {},
   "source": [
    "## Operational Date\n",
    "### Creating Year Opened, Year Closed Columns"
   ]
  },
  {
   "cell_type": "code",
   "execution_count": 56,
   "metadata": {},
   "outputs": [],
   "source": [
    "# Saw this one row in which the opened date was very long and decided to manually replace it\n",
    "raw_data_df.loc[43,'Operational date'] = '2016'"
   ]
  },
  {
   "cell_type": "code",
   "execution_count": 57,
   "metadata": {},
   "outputs": [],
   "source": [
    "raw_data_df['year opened'] = raw_data_df['Operational date'].map(lambda x: x.replace(' ','')[:4] if isinstance(x, str) else x)\n",
    "#raw_data_df['year closed'] = raw_data_df['Operational date'].map(lambda x: x.replace(' ','')[5:] if (isinstance(x, str) and len(str(x)) > 5) and '[' not in x else 'operational')"
   ]
  },
  {
   "cell_type": "code",
   "execution_count": 58,
   "metadata": {},
   "outputs": [],
   "source": [
    "raw_data_df['Operational date'] = raw_data_df['Operational date'].map(lambda x: str(x).replace('?','') if '?' in str(x) else x)\n",
    "raw_data_df['Operational date'] = raw_data_df['Operational date'].map(lambda x: str(x).replace('s','') if 's' in str(x) else x)"
   ]
  },
  {
   "cell_type": "code",
   "execution_count": 206,
   "metadata": {},
   "outputs": [],
   "source": [
    "#print(raw_data_df.loc[raw_data_df['year closed'] == '1974/2011–'])\n",
    "#raw_data_df.loc[94, 'year closed'] = 'operational'"
   ]
  },
  {
   "cell_type": "code",
   "execution_count": 227,
   "metadata": {},
   "outputs": [
    {
     "data": {
      "text/plain": [
       "'1974/2011–'"
      ]
     },
     "execution_count": 227,
     "metadata": {},
     "output_type": "execute_result"
    }
   ],
   "source": [
    "#raw_data_df.loc[94, 'year closed']"
   ]
  },
  {
   "cell_type": "code",
   "execution_count": 66,
   "metadata": {},
   "outputs": [
    {
     "data": {
      "text/plain": [
       "(111, 17)"
      ]
     },
     "execution_count": 66,
     "metadata": {},
     "output_type": "execute_result"
    }
   ],
   "source": [
    "sites_df = raw_data_df.dropna(subset=['year opened'])\n",
    "sites_df.shape"
   ]
  },
  {
   "cell_type": "code",
   "execution_count": 62,
   "metadata": {},
   "outputs": [],
   "source": [
    "# Removed a site that was To be Announced\n",
    "sites_df = sites_df.loc[~sites_df['year opened'].isin(['TBA'])]\n",
    "sites_df.to_excel(wikisites + 'launchsites_wiki/launchsites_no_year_closed.xlsx')"
   ]
  },
  {
   "cell_type": "markdown",
   "metadata": {},
   "source": [
    "## Creating Operation length Column\n",
    "\n",
    "*Year closed column was created mannually due to some complications*"
   ]
  },
  {
   "cell_type": "code",
   "execution_count": 83,
   "metadata": {},
   "outputs": [
    {
     "data": {
      "text/html": [
       "<div>\n",
       "<style scoped>\n",
       "    .dataframe tbody tr th:only-of-type {\n",
       "        vertical-align: middle;\n",
       "    }\n",
       "\n",
       "    .dataframe tbody tr th {\n",
       "        vertical-align: top;\n",
       "    }\n",
       "\n",
       "    .dataframe thead th {\n",
       "        text-align: right;\n",
       "    }\n",
       "</style>\n",
       "<table border=\"1\" class=\"dataframe\">\n",
       "  <thead>\n",
       "    <tr style=\"text-align: right;\">\n",
       "      <th></th>\n",
       "      <th>Country</th>\n",
       "      <th>Location</th>\n",
       "      <th>Coordinates</th>\n",
       "      <th>Operational date</th>\n",
       "      <th>Number of rocket launches</th>\n",
       "      <th>Heaviest rocket launched</th>\n",
       "      <th>Highest achieved altitude</th>\n",
       "      <th>Notes</th>\n",
       "      <th>Continent</th>\n",
       "      <th>coordinates (dms)</th>\n",
       "      <th>lat (dms)</th>\n",
       "      <th>long (dms)</th>\n",
       "      <th>coordinates (decimal)</th>\n",
       "      <th>lat (decimal)</th>\n",
       "      <th>long (decimal)</th>\n",
       "      <th>rotational_vel</th>\n",
       "      <th>year opened</th>\n",
       "      <th>year closed</th>\n",
       "    </tr>\n",
       "  </thead>\n",
       "  <tbody>\n",
       "    <tr>\n",
       "      <th>0</th>\n",
       "      <td>French Algeria</td>\n",
       "      <td>Centre interarmées d'essais d'engins spéciaux ...</td>\n",
       "      <td>31°05′58″N 2°50′09″W﻿ / ﻿31.09951°N 2.83581°W</td>\n",
       "      <td>1947–1967</td>\n",
       "      <td>230.0</td>\n",
       "      <td>18000.0</td>\n",
       "      <td>Orbital</td>\n",
       "      <td>Operated by France.[1]</td>\n",
       "      <td>Africa</td>\n",
       "      <td>31°05′58″N 2°50′09″W﻿</td>\n",
       "      <td>31°05′58″N</td>\n",
       "      <td>2°50′09″W﻿</td>\n",
       "      <td>﻿31.09951°N 2.83581°W</td>\n",
       "      <td>31.09951</td>\n",
       "      <td>-2.835810</td>\n",
       "      <td>398.253270</td>\n",
       "      <td>1947</td>\n",
       "      <td>1967</td>\n",
       "    </tr>\n",
       "    <tr>\n",
       "      <th>1</th>\n",
       "      <td>Algeria</td>\n",
       "      <td>Reggane</td>\n",
       "      <td>26°43′08″N 0°16′37″E﻿ / ﻿26.71895°N 0.27691°E</td>\n",
       "      <td>1961–1965</td>\n",
       "      <td>10.0</td>\n",
       "      <td>NaN</td>\n",
       "      <td>NaN</td>\n",
       "      <td>NaN</td>\n",
       "      <td>Africa</td>\n",
       "      <td>26°43′08″N 0°16′37″E﻿</td>\n",
       "      <td>26°43′08″N</td>\n",
       "      <td>0°16′37″E﻿</td>\n",
       "      <td>﻿26.71895°N 0.27691°E</td>\n",
       "      <td>26.71895</td>\n",
       "      <td>0.276910</td>\n",
       "      <td>415.439347</td>\n",
       "      <td>1961</td>\n",
       "      <td>1965</td>\n",
       "    </tr>\n",
       "    <tr>\n",
       "      <th>2</th>\n",
       "      <td>Zaire</td>\n",
       "      <td>Shaba North, Kapani Tonneo OTRAG Launch Center</td>\n",
       "      <td>7°55′33″S 28°31′40″E﻿ / ﻿7.92587°S 28.52766°E</td>\n",
       "      <td>1977–1978</td>\n",
       "      <td>3.0</td>\n",
       "      <td>NaN</td>\n",
       "      <td>50</td>\n",
       "      <td>German OTRAG rockets.[2]</td>\n",
       "      <td>Africa</td>\n",
       "      <td>7°55′33″S 28°31′40″E﻿</td>\n",
       "      <td>7°55′33″S</td>\n",
       "      <td>28°31′40″E﻿</td>\n",
       "      <td>﻿7.92587°S 28.52766°E</td>\n",
       "      <td>-7.92587</td>\n",
       "      <td>28.527660</td>\n",
       "      <td>460.658654</td>\n",
       "      <td>1977</td>\n",
       "      <td>1978</td>\n",
       "    </tr>\n",
       "    <tr>\n",
       "      <th>3</th>\n",
       "      <td>Egypt</td>\n",
       "      <td>Jabal Hamzah ballistic missile test and launch...</td>\n",
       "      <td>30°07′32.7″N 30°36′18.5″E﻿ / ﻿30.125750°N 30.6...</td>\n",
       "      <td>1962–1973</td>\n",
       "      <td>6.0</td>\n",
       "      <td>NaN</td>\n",
       "      <td>NaN</td>\n",
       "      <td>Testing SRBMs Al Zafir and Al Kahir[3][4]</td>\n",
       "      <td>Africa</td>\n",
       "      <td>30°07′32.7″N 30°36′18.5″E﻿</td>\n",
       "      <td>30°07′32.7″N</td>\n",
       "      <td>30°36′18.5″E﻿</td>\n",
       "      <td>﻿30.125750°N 30.605139°E</td>\n",
       "      <td>30.12575</td>\n",
       "      <td>30.605139</td>\n",
       "      <td>402.278464</td>\n",
       "      <td>1962</td>\n",
       "      <td>1973</td>\n",
       "    </tr>\n",
       "    <tr>\n",
       "      <th>4</th>\n",
       "      <td>Kenya</td>\n",
       "      <td>Broglio Space Centre (San Marco), Malindi</td>\n",
       "      <td>2°56′27″S 40°12′48″E﻿ / ﻿2.94080°S 40.21340°E</td>\n",
       "      <td>1964–1988</td>\n",
       "      <td>27.0</td>\n",
       "      <td>20000.0</td>\n",
       "      <td>Orbital</td>\n",
       "      <td>Scout rockets, operated by ASI and Sapienza Un...</td>\n",
       "      <td>Africa</td>\n",
       "      <td>2°56′27″S 40°12′48″E﻿</td>\n",
       "      <td>2°56′27″S</td>\n",
       "      <td>40°12′48″E﻿</td>\n",
       "      <td>﻿2.94080°S 40.21340°E</td>\n",
       "      <td>-2.94080</td>\n",
       "      <td>40.213400</td>\n",
       "      <td>464.489125</td>\n",
       "      <td>1964</td>\n",
       "      <td>1988</td>\n",
       "    </tr>\n",
       "  </tbody>\n",
       "</table>\n",
       "</div>"
      ],
      "text/plain": [
       "          Country                                           Location  \\\n",
       "0  French Algeria  Centre interarmées d'essais d'engins spéciaux ...   \n",
       "1         Algeria                                            Reggane   \n",
       "2           Zaire     Shaba North, Kapani Tonneo OTRAG Launch Center   \n",
       "3           Egypt  Jabal Hamzah ballistic missile test and launch...   \n",
       "4           Kenya          Broglio Space Centre (San Marco), Malindi   \n",
       "\n",
       "                                         Coordinates Operational date  \\\n",
       "0      31°05′58″N 2°50′09″W﻿ / ﻿31.09951°N 2.83581°W        1947–1967   \n",
       "1      26°43′08″N 0°16′37″E﻿ / ﻿26.71895°N 0.27691°E        1961–1965   \n",
       "2      7°55′33″S 28°31′40″E﻿ / ﻿7.92587°S 28.52766°E        1977–1978   \n",
       "3  30°07′32.7″N 30°36′18.5″E﻿ / ﻿30.125750°N 30.6...        1962–1973   \n",
       "4      2°56′27″S 40°12′48″E﻿ / ﻿2.94080°S 40.21340°E        1964–1988   \n",
       "\n",
       "   Number of rocket launches  Heaviest rocket launched  \\\n",
       "0                      230.0                   18000.0   \n",
       "1                       10.0                       NaN   \n",
       "2                        3.0                       NaN   \n",
       "3                        6.0                       NaN   \n",
       "4                       27.0                   20000.0   \n",
       "\n",
       "  Highest achieved altitude  \\\n",
       "0                   Orbital   \n",
       "1                       NaN   \n",
       "2                        50   \n",
       "3                       NaN   \n",
       "4                   Orbital   \n",
       "\n",
       "                                               Notes Continent  \\\n",
       "0                             Operated by France.[1]    Africa   \n",
       "1                                                NaN    Africa   \n",
       "2                           German OTRAG rockets.[2]    Africa   \n",
       "3          Testing SRBMs Al Zafir and Al Kahir[3][4]    Africa   \n",
       "4  Scout rockets, operated by ASI and Sapienza Un...    Africa   \n",
       "\n",
       "             coordinates (dms)     lat (dms)     long (dms)  \\\n",
       "0       31°05′58″N 2°50′09″W﻿     31°05′58″N     2°50′09″W﻿   \n",
       "1       26°43′08″N 0°16′37″E﻿     26°43′08″N     0°16′37″E﻿   \n",
       "2       7°55′33″S 28°31′40″E﻿      7°55′33″S    28°31′40″E﻿   \n",
       "3  30°07′32.7″N 30°36′18.5″E﻿   30°07′32.7″N  30°36′18.5″E﻿   \n",
       "4       2°56′27″S 40°12′48″E﻿      2°56′27″S    40°12′48″E﻿   \n",
       "\n",
       "       coordinates (decimal)  lat (decimal)  long (decimal)  rotational_vel  \\\n",
       "0      ﻿31.09951°N 2.83581°W       31.09951       -2.835810      398.253270   \n",
       "1      ﻿26.71895°N 0.27691°E       26.71895        0.276910      415.439347   \n",
       "2      ﻿7.92587°S 28.52766°E       -7.92587       28.527660      460.658654   \n",
       "3   ﻿30.125750°N 30.605139°E       30.12575       30.605139      402.278464   \n",
       "4      ﻿2.94080°S 40.21340°E       -2.94080       40.213400      464.489125   \n",
       "\n",
       "   year opened year closed  \n",
       "0         1947        1967  \n",
       "1         1961        1965  \n",
       "2         1977        1978  \n",
       "3         1962        1973  \n",
       "4         1964        1988  "
      ]
     },
     "execution_count": 83,
     "metadata": {},
     "output_type": "execute_result"
    }
   ],
   "source": [
    "data_df = pd.read_excel(wikisites + 'launchsites_wiki/launchsites_year_closed.xlsx',index_col=0)\n",
    "data_df.head()"
   ]
  },
  {
   "cell_type": "code",
   "execution_count": 84,
   "metadata": {},
   "outputs": [
    {
     "data": {
      "text/plain": [
       "0"
      ]
     },
     "execution_count": 84,
     "metadata": {},
     "output_type": "execute_result"
    }
   ],
   "source": [
    "data_df['year closed'].isna().sum()"
   ]
  },
  {
   "cell_type": "code",
   "execution_count": 85,
   "metadata": {},
   "outputs": [],
   "source": [
    "operation_time = []\n",
    "\n",
    "for open_y, close_y in zip(data_df['year opened'], data_df['year closed']):\n",
    "    if close_y == 'operational':\n",
    "        operation_time.append(2021 - int(open_y))\n",
    "    else:\n",
    "        operation_time.append(int(close_y) - int(open_y))"
   ]
  },
  {
   "cell_type": "code",
   "execution_count": 86,
   "metadata": {},
   "outputs": [
    {
     "data": {
      "text/plain": [
       "count    111.000000\n",
       "mean      25.459459\n",
       "std       23.974526\n",
       "min        0.000000\n",
       "25%        4.000000\n",
       "50%       19.000000\n",
       "75%       49.500000\n",
       "max       76.000000\n",
       "Name: operation length, dtype: float64"
      ]
     },
     "execution_count": 86,
     "metadata": {},
     "output_type": "execute_result"
    }
   ],
   "source": [
    "data_df['operation length'] = operation_time\n",
    "data_df['operation length'].describe()"
   ]
  },
  {
   "cell_type": "code",
   "execution_count": 79,
   "metadata": {},
   "outputs": [
    {
     "data": {
      "text/plain": [
       "'1966–[citation needed]'"
      ]
     },
     "execution_count": 79,
     "metadata": {},
     "output_type": "execute_result"
    }
   ],
   "source": [
    "data_df.iloc[61,3]"
   ]
  },
  {
   "cell_type": "code",
   "execution_count": 87,
   "metadata": {},
   "outputs": [
    {
     "data": {
      "text/html": [
       "<div>\n",
       "<style scoped>\n",
       "    .dataframe tbody tr th:only-of-type {\n",
       "        vertical-align: middle;\n",
       "    }\n",
       "\n",
       "    .dataframe tbody tr th {\n",
       "        vertical-align: top;\n",
       "    }\n",
       "\n",
       "    .dataframe thead th {\n",
       "        text-align: right;\n",
       "    }\n",
       "</style>\n",
       "<table border=\"1\" class=\"dataframe\">\n",
       "  <thead>\n",
       "    <tr style=\"text-align: right;\">\n",
       "      <th></th>\n",
       "      <th>Country</th>\n",
       "      <th>Location</th>\n",
       "      <th>Coordinates</th>\n",
       "      <th>Operational date</th>\n",
       "      <th>Number of rocket launches</th>\n",
       "      <th>Heaviest rocket launched</th>\n",
       "      <th>Highest achieved altitude</th>\n",
       "      <th>Notes</th>\n",
       "      <th>Continent</th>\n",
       "      <th>coordinates (dms)</th>\n",
       "      <th>lat (dms)</th>\n",
       "      <th>long (dms)</th>\n",
       "      <th>coordinates (decimal)</th>\n",
       "      <th>lat (decimal)</th>\n",
       "      <th>long (decimal)</th>\n",
       "      <th>rotational_vel</th>\n",
       "      <th>year opened</th>\n",
       "      <th>year closed</th>\n",
       "      <th>operation length</th>\n",
       "    </tr>\n",
       "  </thead>\n",
       "  <tbody>\n",
       "    <tr>\n",
       "      <th>80</th>\n",
       "      <td>United States</td>\n",
       "      <td>Wallops Flight Facility, Delmarva Peninsula, V...</td>\n",
       "      <td>37°50′46″N 75°28′46″W﻿ / ﻿37.84621°N 75.47938°W</td>\n",
       "      <td>1945–</td>\n",
       "      <td>1600.0</td>\n",
       "      <td>NaN</td>\n",
       "      <td>NaN</td>\n",
       "      <td>Now operated by NASA's Goddard Space Flight Ce...</td>\n",
       "      <td>North America</td>\n",
       "      <td>37°50′46″N 75°28′46″W﻿</td>\n",
       "      <td>37°50′46″N</td>\n",
       "      <td>75°28′46″W﻿</td>\n",
       "      <td>﻿37.84621°N 75.47938°W</td>\n",
       "      <td>37.84621</td>\n",
       "      <td>-75.47938</td>\n",
       "      <td>367.272354</td>\n",
       "      <td>1945</td>\n",
       "      <td>operational</td>\n",
       "      <td>76</td>\n",
       "    </tr>\n",
       "    <tr>\n",
       "      <th>81</th>\n",
       "      <td>United States</td>\n",
       "      <td>White Sands Missile Range, New Mexico</td>\n",
       "      <td>32°33′53″N 106°21′33″W﻿ / ﻿32.56460°N 106.35908°W</td>\n",
       "      <td>1945–</td>\n",
       "      <td>7500.0</td>\n",
       "      <td>NaN</td>\n",
       "      <td>NaN</td>\n",
       "      <td>Military and civilian flights. Served as alter...</td>\n",
       "      <td>North America</td>\n",
       "      <td>32°33′53″N 106°21′33″W﻿</td>\n",
       "      <td>32°33′53″N</td>\n",
       "      <td>106°21′33″W﻿</td>\n",
       "      <td>﻿32.56460°N 106.35908°W</td>\n",
       "      <td>32.56460</td>\n",
       "      <td>-106.35908</td>\n",
       "      <td>391.980729</td>\n",
       "      <td>1945</td>\n",
       "      <td>operational</td>\n",
       "      <td>76</td>\n",
       "    </tr>\n",
       "  </tbody>\n",
       "</table>\n",
       "</div>"
      ],
      "text/plain": [
       "          Country                                           Location  \\\n",
       "80  United States  Wallops Flight Facility, Delmarva Peninsula, V...   \n",
       "81  United States              White Sands Missile Range, New Mexico   \n",
       "\n",
       "                                          Coordinates Operational date  \\\n",
       "80    37°50′46″N 75°28′46″W﻿ / ﻿37.84621°N 75.47938°W            1945–   \n",
       "81  32°33′53″N 106°21′33″W﻿ / ﻿32.56460°N 106.35908°W            1945–   \n",
       "\n",
       "    Number of rocket launches  Heaviest rocket launched  \\\n",
       "80                     1600.0                       NaN   \n",
       "81                     7500.0                       NaN   \n",
       "\n",
       "   Highest achieved altitude  \\\n",
       "80                       NaN   \n",
       "81                       NaN   \n",
       "\n",
       "                                                Notes      Continent  \\\n",
       "80  Now operated by NASA's Goddard Space Flight Ce...  North America   \n",
       "81  Military and civilian flights. Served as alter...  North America   \n",
       "\n",
       "           coordinates (dms)   lat (dms)    long (dms)  \\\n",
       "80   37°50′46″N 75°28′46″W﻿   37°50′46″N   75°28′46″W﻿   \n",
       "81  32°33′53″N 106°21′33″W﻿   32°33′53″N  106°21′33″W﻿   \n",
       "\n",
       "       coordinates (decimal)  lat (decimal)  long (decimal)  rotational_vel  \\\n",
       "80    ﻿37.84621°N 75.47938°W       37.84621       -75.47938      367.272354   \n",
       "81   ﻿32.56460°N 106.35908°W       32.56460      -106.35908      391.980729   \n",
       "\n",
       "    year opened  year closed  operation length  \n",
       "80         1945  operational                76  \n",
       "81         1945  operational                76  "
      ]
     },
     "execution_count": 87,
     "metadata": {},
     "output_type": "execute_result"
    }
   ],
   "source": [
    "data_df.loc[data_df['operation length'] == 76]"
   ]
  },
  {
   "cell_type": "code",
   "execution_count": 88,
   "metadata": {},
   "outputs": [],
   "source": [
    "data_df.to_excel(wikisites + 'launchsites_wiki/launchsites_transformed.xlsx')"
   ]
  },
  {
   "cell_type": "markdown",
   "metadata": {
    "id": "-k63vRdbC2VQ"
   },
   "source": [
    "## Interactive Map\n",
    "\n",
    "The interactive map below was created from latitude and longitude values using the Tableau Public software obtained from Wikipedia's list of Rocket Launch Sites page [4]. This is a simple bubble heat map that has the geographic locations of all the launch sites in the world and the which had the most Rocket Launches. If you hover over individual bubbles you can see a field for the year that individual Launch site and a total number of rocket launch sites. During the business case study, the team can do further research on the cost of operabilition for each location and find out the reasons for some of them closing or still operating. Conclusions made will either make a case for or against Spaceport at an Equatorial location. For example, if we look at Spaceports in the Western Hemisphere, the White Sands Missile Range in New Mexico has over 7000 rocket launches to date but it's latitudinal location is at 32 degrees. On the other hand, the Guiana Space center with a latitudinal location of 5.2 only has 200 launches. Why is there such a huge difference in the two ? Maybe specific rockets for specific target orbits are being launched from one location compared to another ? Also if we take a look at the Peenemünde/Greifswalder Oie (54 degrees latitude), was launched from 3000 times. How is this number so high for a Spaceport so far from the Equator ?   Intuitively, one can also ask why it closed in 1945 while being used so frequently at such a early time in Spaceflight ? Was the reason it close an economic factor or other ? Keeping such questions in mind should help in the aid in the formation of further analysis."
   ]
  },
  {
   "cell_type": "markdown",
   "metadata": {},
   "source": [
    "Will Post on Githubpages\n",
    "https://san-wang.github.io/blog/Embed-Tableau-dashboard-into-github-page-post/\n",
    "\n",
    "Link: [Launch Site Analysis](https://public.tableau.com/shared/5MN2KZWQX?:display_count=n&:origin=viz_share_link)"
   ]
  }
 ],
 "metadata": {
  "colab": {
   "collapsed_sections": [],
   "name": "Aerospace Launch Business Data Analysis",
   "provenance": [],
   "toc_visible": true
  },
  "kernelspec": {
   "display_name": "Python 3",
   "language": "python",
   "name": "python3"
  },
  "language_info": {
   "codemirror_mode": {
    "name": "ipython",
    "version": 3
   },
   "file_extension": ".py",
   "mimetype": "text/x-python",
   "name": "python",
   "nbconvert_exporter": "python",
   "pygments_lexer": "ipython3",
   "version": "3.8.8"
  }
 },
 "nbformat": 4,
 "nbformat_minor": 4
}
