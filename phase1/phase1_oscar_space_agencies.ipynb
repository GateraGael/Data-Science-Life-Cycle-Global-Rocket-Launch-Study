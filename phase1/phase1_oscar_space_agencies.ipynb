{
 "cells": [
  {
   "cell_type": "code",
   "execution_count": 1,
   "metadata": {
    "id": "25UXr6TFgyCP"
   },
   "outputs": [
    {
     "data": {
      "text/plain": [
       "['oscar_agency_list_03_25_21.xlsx']"
      ]
     },
     "execution_count": 1,
     "metadata": {},
     "output_type": "execute_result"
    }
   ],
   "source": [
    "import os\n",
    "\n",
    "All_Data = '../Data/'\n",
    "oscar_agency_list = All_Data + 'observing_systems_capability_analysis_and_review_tool/'\n",
    "os.listdir(oscar_agency_list)"
   ]
  },
  {
   "cell_type": "markdown",
   "metadata": {
    "id": "L0N_hGQSXzVL"
   },
   "source": [
    "## First Look in Pandas\n",
    "\n",
    "The database is downloaded as an excel workbook but had to be converted to a Pandas dataframe which is is a 2-dimensional labeled data structure with columns of potentially different types. Dataframes are great ways to perform operations on rows and columns and is widely used in Data Science statistical analysis of all sorts. We will use the Pandas library to create our dataframe and perform queries for the data that we need."
   ]
  },
  {
   "cell_type": "code",
   "execution_count": 8,
   "metadata": {
    "colab": {
     "base_uri": "https://localhost:8080/"
    },
    "id": "xTSohww0-lbG",
    "outputId": "08b7d026-28d6-4c94-cbd6-f452c498eb35"
   },
   "outputs": [
    {
     "data": {
      "text/plain": [
       "Index(['Id', 'Acronym', 'Name', 'Country', 'Website', 'Logo',\n",
       "       'Spaceagency Programmes'],\n",
       "      dtype='object')"
      ]
     },
     "execution_count": 8,
     "metadata": {},
     "output_type": "execute_result"
    }
   ],
   "source": [
    "import pandas as pd\n",
    "\n",
    "# Reading in Database from Union of Concerned Scientist for Analysis\n",
    "oscar_agency_list_xlx = oscar_agency_list + '/oscar_agency_list_03_25_21.xlsx'\n",
    "\n",
    "oscar_df = pd.read_excel(oscar_agency_list_xlx)\n",
    "oscar_df.columns"
   ]
  },
  {
   "cell_type": "code",
   "execution_count": 9,
   "metadata": {
    "colab": {
     "base_uri": "https://localhost:8080/",
     "height": 534
    },
    "id": "DN3Lb2mDIIT7",
    "outputId": "6fe279a8-0bd2-4f8e-bddb-544144e313fa"
   },
   "outputs": [
    {
     "data": {
      "text/html": [
       "<div>\n",
       "<style scoped>\n",
       "    .dataframe tbody tr th:only-of-type {\n",
       "        vertical-align: middle;\n",
       "    }\n",
       "\n",
       "    .dataframe tbody tr th {\n",
       "        vertical-align: top;\n",
       "    }\n",
       "\n",
       "    .dataframe thead th {\n",
       "        text-align: right;\n",
       "    }\n",
       "</style>\n",
       "<table border=\"1\" class=\"dataframe\">\n",
       "  <thead>\n",
       "    <tr style=\"text-align: right;\">\n",
       "      <th></th>\n",
       "      <th>Id</th>\n",
       "      <th>Acronym</th>\n",
       "      <th>Name</th>\n",
       "      <th>Country</th>\n",
       "      <th>Website</th>\n",
       "      <th>Logo</th>\n",
       "      <th>Spaceagency Programmes</th>\n",
       "    </tr>\n",
       "  </thead>\n",
       "  <tbody>\n",
       "    <tr>\n",
       "      <th>0</th>\n",
       "      <td>86</td>\n",
       "      <td>21AT</td>\n",
       "      <td>Twenty First Century Aerospace Technology Co. Ltd</td>\n",
       "      <td>China</td>\n",
       "      <td>http://www.21at.com.cn/en</td>\n",
       "      <td>NaN</td>\n",
       "      <td>NaN</td>\n",
       "    </tr>\n",
       "    <tr>\n",
       "      <th>1</th>\n",
       "      <td>63</td>\n",
       "      <td>ABAE</td>\n",
       "      <td>Agencia Bolivariana para Actividades Espaciales</td>\n",
       "      <td>Venezuela, Bolivarian Republic of</td>\n",
       "      <td>http://www.abae.gob.ve</td>\n",
       "      <td>NaN</td>\n",
       "      <td>VRSS (2012-2022)</td>\n",
       "    </tr>\n",
       "    <tr>\n",
       "      <th>2</th>\n",
       "      <td>47</td>\n",
       "      <td>ACE</td>\n",
       "      <td>Agencia Chilena del Espacio</td>\n",
       "      <td>Chile</td>\n",
       "      <td>http://www.agenciaespacial.cl/</td>\n",
       "      <td>NaN</td>\n",
       "      <td>SSOT (2011-2021)</td>\n",
       "    </tr>\n",
       "    <tr>\n",
       "      <th>3</th>\n",
       "      <td>98</td>\n",
       "      <td>AEB</td>\n",
       "      <td>Agência Espacial Brasileira</td>\n",
       "      <td>Brazil</td>\n",
       "      <td>https://www.gov.br/aeb/pt-br</td>\n",
       "      <td>NaN</td>\n",
       "      <td>NaN</td>\n",
       "    </tr>\n",
       "    <tr>\n",
       "      <th>4</th>\n",
       "      <td>64</td>\n",
       "      <td>AFRL</td>\n",
       "      <td>Air Force Research Laboratory</td>\n",
       "      <td>United States of America</td>\n",
       "      <td>NaN</td>\n",
       "      <td>NaN</td>\n",
       "      <td>NaN</td>\n",
       "    </tr>\n",
       "  </tbody>\n",
       "</table>\n",
       "</div>"
      ],
      "text/plain": [
       "   Id Acronym                                               Name  \\\n",
       "0  86    21AT  Twenty First Century Aerospace Technology Co. Ltd   \n",
       "1  63    ABAE    Agencia Bolivariana para Actividades Espaciales   \n",
       "2  47     ACE                        Agencia Chilena del Espacio   \n",
       "3  98     AEB                        Agência Espacial Brasileira   \n",
       "4  64    AFRL                      Air Force Research Laboratory   \n",
       "\n",
       "                             Country                         Website  Logo  \\\n",
       "0                              China       http://www.21at.com.cn/en   NaN   \n",
       "1  Venezuela, Bolivarian Republic of          http://www.abae.gob.ve   NaN   \n",
       "2                              Chile  http://www.agenciaespacial.cl/   NaN   \n",
       "3                             Brazil    https://www.gov.br/aeb/pt-br   NaN   \n",
       "4           United States of America                             NaN   NaN   \n",
       "\n",
       "  Spaceagency Programmes  \n",
       "0                    NaN  \n",
       "1       VRSS (2012-2022)  \n",
       "2       SSOT (2011-2021)  \n",
       "3                    NaN  \n",
       "4                    NaN  "
      ]
     },
     "execution_count": 9,
     "metadata": {},
     "output_type": "execute_result"
    }
   ],
   "source": [
    "oscar_df.head(5)"
   ]
  },
  {
   "cell_type": "markdown",
   "metadata": {
    "id": "DJNBotvfWmWJ"
   },
   "source": [
    "### Pandas.Info"
   ]
  },
  {
   "cell_type": "code",
   "execution_count": 10,
   "metadata": {
    "colab": {
     "base_uri": "https://localhost:8080/"
    },
    "id": "uxUn9GN0OqnA",
    "outputId": "ea4359d1-4016-420a-902c-fc62d0b43d8f"
   },
   "outputs": [
    {
     "name": "stdout",
     "output_type": "stream",
     "text": [
      "<class 'pandas.core.frame.DataFrame'>\n",
      "RangeIndex: 90 entries, 0 to 89\n",
      "Data columns (total 7 columns):\n",
      " #   Column                  Non-Null Count  Dtype  \n",
      "---  ------                  --------------  -----  \n",
      " 0   Id                      90 non-null     int64  \n",
      " 1   Acronym                 90 non-null     object \n",
      " 2   Name                    90 non-null     object \n",
      " 3   Country                 87 non-null     object \n",
      " 4   Website                 84 non-null     object \n",
      " 5   Logo                    0 non-null      float64\n",
      " 6   Spaceagency Programmes  64 non-null     object \n",
      "dtypes: float64(1), int64(1), object(5)\n",
      "memory usage: 5.0+ KB\n"
     ]
    }
   ],
   "source": [
    "oscar_df.info()"
   ]
  },
  {
   "cell_type": "code",
   "execution_count": 11,
   "metadata": {
    "colab": {
     "base_uri": "https://localhost:8080/"
    },
    "id": "HJpHO3a2O7Nb",
    "outputId": "d7f0b437-90f6-4055-8fc2-d8d256de4e4d"
   },
   "outputs": [
    {
     "data": {
      "text/plain": [
       "Id                         0\n",
       "Acronym                    0\n",
       "Name                       0\n",
       "Country                    3\n",
       "Website                    6\n",
       "Logo                      90\n",
       "Spaceagency Programmes    26\n",
       "dtype: int64"
      ]
     },
     "execution_count": 11,
     "metadata": {},
     "output_type": "execute_result"
    }
   ],
   "source": [
    "oscar_df.isnull().sum()"
   ]
  },
  {
   "cell_type": "markdown",
   "metadata": {
    "id": "nugGN9aSRV1x"
   },
   "source": [
    "### Pandas.Describe"
   ]
  },
  {
   "cell_type": "code",
   "execution_count": 12,
   "metadata": {},
   "outputs": [
    {
     "data": {
      "text/html": [
       "<div>\n",
       "<style scoped>\n",
       "    .dataframe tbody tr th:only-of-type {\n",
       "        vertical-align: middle;\n",
       "    }\n",
       "\n",
       "    .dataframe tbody tr th {\n",
       "        vertical-align: top;\n",
       "    }\n",
       "\n",
       "    .dataframe thead th {\n",
       "        text-align: right;\n",
       "    }\n",
       "</style>\n",
       "<table border=\"1\" class=\"dataframe\">\n",
       "  <thead>\n",
       "    <tr style=\"text-align: right;\">\n",
       "      <th></th>\n",
       "      <th>Id</th>\n",
       "      <th>Logo</th>\n",
       "    </tr>\n",
       "  </thead>\n",
       "  <tbody>\n",
       "    <tr>\n",
       "      <th>count</th>\n",
       "      <td>90.000000</td>\n",
       "      <td>0.0</td>\n",
       "    </tr>\n",
       "    <tr>\n",
       "      <th>mean</th>\n",
       "      <td>50.188889</td>\n",
       "      <td>NaN</td>\n",
       "    </tr>\n",
       "    <tr>\n",
       "      <th>std</th>\n",
       "      <td>29.045448</td>\n",
       "      <td>NaN</td>\n",
       "    </tr>\n",
       "    <tr>\n",
       "      <th>min</th>\n",
       "      <td>1.000000</td>\n",
       "      <td>NaN</td>\n",
       "    </tr>\n",
       "    <tr>\n",
       "      <th>25%</th>\n",
       "      <td>25.250000</td>\n",
       "      <td>NaN</td>\n",
       "    </tr>\n",
       "    <tr>\n",
       "      <th>50%</th>\n",
       "      <td>50.500000</td>\n",
       "      <td>NaN</td>\n",
       "    </tr>\n",
       "    <tr>\n",
       "      <th>75%</th>\n",
       "      <td>75.750000</td>\n",
       "      <td>NaN</td>\n",
       "    </tr>\n",
       "    <tr>\n",
       "      <th>max</th>\n",
       "      <td>98.000000</td>\n",
       "      <td>NaN</td>\n",
       "    </tr>\n",
       "  </tbody>\n",
       "</table>\n",
       "</div>"
      ],
      "text/plain": [
       "              Id  Logo\n",
       "count  90.000000   0.0\n",
       "mean   50.188889   NaN\n",
       "std    29.045448   NaN\n",
       "min     1.000000   NaN\n",
       "25%    25.250000   NaN\n",
       "50%    50.500000   NaN\n",
       "75%    75.750000   NaN\n",
       "max    98.000000   NaN"
      ]
     },
     "execution_count": 12,
     "metadata": {},
     "output_type": "execute_result"
    }
   ],
   "source": [
    "oscar_df.describe()"
   ]
  },
  {
   "cell_type": "code",
   "execution_count": null,
   "metadata": {},
   "outputs": [],
   "source": []
  }
 ],
 "metadata": {
  "colab": {
   "collapsed_sections": [],
   "name": "Aerospace Launch Business Data Analysis",
   "provenance": [],
   "toc_visible": true
  },
  "kernelspec": {
   "display_name": "Python 3",
   "language": "python",
   "name": "python3"
  },
  "language_info": {
   "codemirror_mode": {
    "name": "ipython",
    "version": 3
   },
   "file_extension": ".py",
   "mimetype": "text/x-python",
   "name": "python",
   "nbconvert_exporter": "python",
   "pygments_lexer": "ipython3",
   "version": "3.8.8"
  }
 },
 "nbformat": 4,
 "nbformat_minor": 4
}
