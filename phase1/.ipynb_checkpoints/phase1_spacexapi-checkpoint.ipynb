{
 "cells": [
  {
   "cell_type": "markdown",
   "metadata": {
    "id": "BhL6kMJOs6wi"
   },
   "source": [
    "# Data Source - Space X API (Application Program Interface)\n",
    "\n",
    "The SpaceX API is a central location for information of most if not all things related to Space X's missions, rockets and more. Subsequent sections will demonstrate how to extract information from this source. Further explanation of how application program interfaces work is outside the scope of this report but may be searched for individually. "
   ]
  },
  {
   "cell_type": "code",
   "execution_count": null,
   "metadata": {
    "id": "6dVrB94EplVB"
   },
   "outputs": [],
   "source": [
    "import requests\n",
    "import json\n",
    "import pandas as pd"
   ]
  },
  {
   "cell_type": "markdown",
   "metadata": {
    "id": "qgGl76CiaE-L"
   },
   "source": [
    "## End Point # 1 - Launches\n",
    "https://api.spacexdata.com/v3/launches"
   ]
  },
  {
   "cell_type": "code",
   "execution_count": null,
   "metadata": {
    "id": "fkzED9HFaV-6"
   },
   "outputs": [],
   "source": [
    "# This chunk of code will let us know in which form is the original data\n",
    "url_launches = 'https://api.spacexdata.com/v3/launches'\n",
    "launches_response = requests.get(url_launches).json()\n",
    "#print(json.dumps(launches_response, indent=2))"
   ]
  },
  {
   "cell_type": "code",
   "execution_count": null,
   "metadata": {
    "colab": {
     "base_uri": "https://localhost:8080/"
    },
    "id": "-mg2tH13qM4J",
    "outputId": "8dd0d45a-88fc-4618-ef66-6557f284f579"
   },
   "outputs": [
    {
     "data": {
      "text/plain": [
       "[]"
      ]
     },
     "execution_count": 28,
     "metadata": {
      "tags": []
     },
     "output_type": "execute_result"
    }
   ],
   "source": [
    "spacex_launches['mission_id']"
   ]
  },
  {
   "cell_type": "code",
   "execution_count": null,
   "metadata": {
    "colab": {
     "base_uri": "https://localhost:8080/"
    },
    "id": "Atsv8F02bOvl",
    "outputId": "35c2db27-da2c-49a9-8dff-0490aec2847a"
   },
   "outputs": [
    {
     "name": "stdout",
     "output_type": "stream",
     "text": [
      "dict_keys(['flight_number', 'mission_name', 'mission_id', 'upcoming', 'launch_year', 'launch_date_unix', 'launch_date_utc', 'launch_date_local', 'is_tentative', 'tentative_max_precision', 'tbd', 'launch_window', 'rocket', 'ships', 'telemetry', 'launch_site', 'launch_success', 'launch_failure_details', 'links', 'details', 'static_fire_date_utc', 'static_fire_date_unix', 'timeline', 'crew'])\n"
     ]
    }
   ],
   "source": [
    "spacex_launches = launches_response[0]\n",
    "print(spacex_launches.keys())"
   ]
  },
  {
   "cell_type": "markdown",
   "metadata": {
    "id": "8RK51mAesIf5"
   },
   "source": [
    "### First Look in Pandas"
   ]
  },
  {
   "cell_type": "code",
   "execution_count": null,
   "metadata": {
    "colab": {
     "base_uri": "https://localhost:8080/",
     "height": 603
    },
    "id": "E587A8KSpCdu",
    "outputId": "8521fdbc-0c39-4b57-b0a0-97cf6a27e881"
   },
   "outputs": [
    {
     "name": "stdout",
     "output_type": "stream",
     "text": [
      "(111, 31)\n"
     ]
    },
    {
     "data": {
      "text/html": [
       "<div>\n",
       "<style scoped>\n",
       "    .dataframe tbody tr th:only-of-type {\n",
       "        vertical-align: middle;\n",
       "    }\n",
       "\n",
       "    .dataframe tbody tr th {\n",
       "        vertical-align: top;\n",
       "    }\n",
       "\n",
       "    .dataframe thead th {\n",
       "        text-align: right;\n",
       "    }\n",
       "</style>\n",
       "<table border=\"1\" class=\"dataframe\">\n",
       "  <thead>\n",
       "    <tr style=\"text-align: right;\">\n",
       "      <th></th>\n",
       "      <th>flight_number</th>\n",
       "      <th>mission_name</th>\n",
       "      <th>mission_id</th>\n",
       "      <th>upcoming</th>\n",
       "      <th>launch_year</th>\n",
       "      <th>launch_date_unix</th>\n",
       "      <th>launch_date_utc</th>\n",
       "      <th>launch_date_local</th>\n",
       "      <th>is_tentative</th>\n",
       "      <th>tentative_max_precision</th>\n",
       "      <th>tbd</th>\n",
       "      <th>launch_window</th>\n",
       "      <th>rocket</th>\n",
       "      <th>ships</th>\n",
       "      <th>telemetry</th>\n",
       "      <th>launch_site</th>\n",
       "      <th>launch_success</th>\n",
       "      <th>launch_failure_details</th>\n",
       "      <th>links</th>\n",
       "      <th>details</th>\n",
       "      <th>static_fire_date_utc</th>\n",
       "      <th>static_fire_date_unix</th>\n",
       "      <th>timeline</th>\n",
       "      <th>crew</th>\n",
       "      <th>last_date_update</th>\n",
       "      <th>last_ll_launch_date</th>\n",
       "      <th>last_ll_update</th>\n",
       "      <th>last_wiki_launch_date</th>\n",
       "      <th>last_wiki_revision</th>\n",
       "      <th>last_wiki_update</th>\n",
       "      <th>launch_date_source</th>\n",
       "    </tr>\n",
       "  </thead>\n",
       "  <tbody>\n",
       "    <tr>\n",
       "      <th>0</th>\n",
       "      <td>1</td>\n",
       "      <td>FalconSat</td>\n",
       "      <td>[]</td>\n",
       "      <td>False</td>\n",
       "      <td>2006</td>\n",
       "      <td>1143239400</td>\n",
       "      <td>2006-03-24T22:30:00.000Z</td>\n",
       "      <td>2006-03-25T10:30:00+12:00</td>\n",
       "      <td>False</td>\n",
       "      <td>hour</td>\n",
       "      <td>False</td>\n",
       "      <td>0.0</td>\n",
       "      <td>{'rocket_id': 'falcon1', 'rocket_name': 'Falco...</td>\n",
       "      <td>[]</td>\n",
       "      <td>{'flight_club': None}</td>\n",
       "      <td>{'site_id': 'kwajalein_atoll', 'site_name': 'K...</td>\n",
       "      <td>0.0</td>\n",
       "      <td>{'time': 33, 'altitude': None, 'reason': 'merl...</td>\n",
       "      <td>{'mission_patch': 'https://images2.imgbox.com/...</td>\n",
       "      <td>Engine failure at 33 seconds and loss of vehicle</td>\n",
       "      <td>2006-03-17T00:00:00.000Z</td>\n",
       "      <td>1.142554e+09</td>\n",
       "      <td>{'webcast_liftoff': 54}</td>\n",
       "      <td>None</td>\n",
       "      <td>NaN</td>\n",
       "      <td>NaN</td>\n",
       "      <td>NaN</td>\n",
       "      <td>NaN</td>\n",
       "      <td>NaN</td>\n",
       "      <td>NaN</td>\n",
       "      <td>NaN</td>\n",
       "    </tr>\n",
       "    <tr>\n",
       "      <th>1</th>\n",
       "      <td>2</td>\n",
       "      <td>DemoSat</td>\n",
       "      <td>[]</td>\n",
       "      <td>False</td>\n",
       "      <td>2007</td>\n",
       "      <td>1174439400</td>\n",
       "      <td>2007-03-21T01:10:00.000Z</td>\n",
       "      <td>2007-03-21T13:10:00+12:00</td>\n",
       "      <td>False</td>\n",
       "      <td>hour</td>\n",
       "      <td>False</td>\n",
       "      <td>0.0</td>\n",
       "      <td>{'rocket_id': 'falcon1', 'rocket_name': 'Falco...</td>\n",
       "      <td>[]</td>\n",
       "      <td>{'flight_club': None}</td>\n",
       "      <td>{'site_id': 'kwajalein_atoll', 'site_name': 'K...</td>\n",
       "      <td>0.0</td>\n",
       "      <td>{'time': 301, 'altitude': 289, 'reason': 'harm...</td>\n",
       "      <td>{'mission_patch': 'https://images2.imgbox.com/...</td>\n",
       "      <td>Successful first stage burn and transition to ...</td>\n",
       "      <td>None</td>\n",
       "      <td>NaN</td>\n",
       "      <td>{'webcast_liftoff': 60}</td>\n",
       "      <td>None</td>\n",
       "      <td>NaN</td>\n",
       "      <td>NaN</td>\n",
       "      <td>NaN</td>\n",
       "      <td>NaN</td>\n",
       "      <td>NaN</td>\n",
       "      <td>NaN</td>\n",
       "      <td>NaN</td>\n",
       "    </tr>\n",
       "    <tr>\n",
       "      <th>2</th>\n",
       "      <td>3</td>\n",
       "      <td>Trailblazer</td>\n",
       "      <td>[]</td>\n",
       "      <td>False</td>\n",
       "      <td>2008</td>\n",
       "      <td>1217734440</td>\n",
       "      <td>2008-08-03T03:34:00.000Z</td>\n",
       "      <td>2008-08-03T15:34:00+12:00</td>\n",
       "      <td>False</td>\n",
       "      <td>hour</td>\n",
       "      <td>False</td>\n",
       "      <td>0.0</td>\n",
       "      <td>{'rocket_id': 'falcon1', 'rocket_name': 'Falco...</td>\n",
       "      <td>[]</td>\n",
       "      <td>{'flight_club': None}</td>\n",
       "      <td>{'site_id': 'kwajalein_atoll', 'site_name': 'K...</td>\n",
       "      <td>0.0</td>\n",
       "      <td>{'time': 140, 'altitude': 35, 'reason': 'resid...</td>\n",
       "      <td>{'mission_patch': 'https://images2.imgbox.com/...</td>\n",
       "      <td>Residual stage 1 thrust led to collision betwe...</td>\n",
       "      <td>None</td>\n",
       "      <td>NaN</td>\n",
       "      <td>{'webcast_liftoff': 14}</td>\n",
       "      <td>None</td>\n",
       "      <td>NaN</td>\n",
       "      <td>NaN</td>\n",
       "      <td>NaN</td>\n",
       "      <td>NaN</td>\n",
       "      <td>NaN</td>\n",
       "      <td>NaN</td>\n",
       "      <td>NaN</td>\n",
       "    </tr>\n",
       "    <tr>\n",
       "      <th>3</th>\n",
       "      <td>4</td>\n",
       "      <td>RatSat</td>\n",
       "      <td>[]</td>\n",
       "      <td>False</td>\n",
       "      <td>2008</td>\n",
       "      <td>1222643700</td>\n",
       "      <td>2008-09-28T23:15:00.000Z</td>\n",
       "      <td>2008-09-28T11:15:00+12:00</td>\n",
       "      <td>False</td>\n",
       "      <td>hour</td>\n",
       "      <td>False</td>\n",
       "      <td>0.0</td>\n",
       "      <td>{'rocket_id': 'falcon1', 'rocket_name': 'Falco...</td>\n",
       "      <td>[]</td>\n",
       "      <td>{'flight_club': None}</td>\n",
       "      <td>{'site_id': 'kwajalein_atoll', 'site_name': 'K...</td>\n",
       "      <td>1.0</td>\n",
       "      <td>NaN</td>\n",
       "      <td>{'mission_patch': 'https://images2.imgbox.com/...</td>\n",
       "      <td>Ratsat was carried to orbit on the first succe...</td>\n",
       "      <td>2008-09-20T00:00:00.000Z</td>\n",
       "      <td>1.221869e+09</td>\n",
       "      <td>{'webcast_liftoff': 5}</td>\n",
       "      <td>None</td>\n",
       "      <td>NaN</td>\n",
       "      <td>NaN</td>\n",
       "      <td>NaN</td>\n",
       "      <td>NaN</td>\n",
       "      <td>NaN</td>\n",
       "      <td>NaN</td>\n",
       "      <td>NaN</td>\n",
       "    </tr>\n",
       "    <tr>\n",
       "      <th>4</th>\n",
       "      <td>5</td>\n",
       "      <td>RazakSat</td>\n",
       "      <td>[]</td>\n",
       "      <td>False</td>\n",
       "      <td>2009</td>\n",
       "      <td>1247456100</td>\n",
       "      <td>2009-07-13T03:35:00.000Z</td>\n",
       "      <td>2009-07-13T15:35:00+12:00</td>\n",
       "      <td>False</td>\n",
       "      <td>hour</td>\n",
       "      <td>False</td>\n",
       "      <td>0.0</td>\n",
       "      <td>{'rocket_id': 'falcon1', 'rocket_name': 'Falco...</td>\n",
       "      <td>[]</td>\n",
       "      <td>{'flight_club': None}</td>\n",
       "      <td>{'site_id': 'kwajalein_atoll', 'site_name': 'K...</td>\n",
       "      <td>1.0</td>\n",
       "      <td>NaN</td>\n",
       "      <td>{'mission_patch': 'https://images2.imgbox.com/...</td>\n",
       "      <td>None</td>\n",
       "      <td>None</td>\n",
       "      <td>NaN</td>\n",
       "      <td>{'webcast_liftoff': 5}</td>\n",
       "      <td>None</td>\n",
       "      <td>NaN</td>\n",
       "      <td>NaN</td>\n",
       "      <td>NaN</td>\n",
       "      <td>NaN</td>\n",
       "      <td>NaN</td>\n",
       "      <td>NaN</td>\n",
       "      <td>NaN</td>\n",
       "    </tr>\n",
       "  </tbody>\n",
       "</table>\n",
       "</div>"
      ],
      "text/plain": [
       "   flight_number mission_name  ... last_wiki_update  launch_date_source\n",
       "0              1    FalconSat  ...              NaN                 NaN\n",
       "1              2      DemoSat  ...              NaN                 NaN\n",
       "2              3  Trailblazer  ...              NaN                 NaN\n",
       "3              4       RatSat  ...              NaN                 NaN\n",
       "4              5     RazakSat  ...              NaN                 NaN\n",
       "\n",
       "[5 rows x 31 columns]"
      ]
     },
     "execution_count": 75,
     "metadata": {
      "tags": []
     },
     "output_type": "execute_result"
    }
   ],
   "source": [
    "space_x_launches_df = pd.read_json(url_launches)\n",
    "print(space_x_launches_df.shape)\n",
    "space_x_launches_df.head()"
   ]
  },
  {
   "cell_type": "markdown",
   "metadata": {
    "id": "Bu0k6vlUsUIF"
   },
   "source": [
    "#### Pandas.Info"
   ]
  },
  {
   "cell_type": "code",
   "execution_count": null,
   "metadata": {
    "colab": {
     "base_uri": "https://localhost:8080/"
    },
    "id": "IbzWL7e5qXo6",
    "outputId": "652cf572-8125-414a-ecdd-c52e4c80765c"
   },
   "outputs": [
    {
     "name": "stdout",
     "output_type": "stream",
     "text": [
      "<class 'pandas.core.frame.DataFrame'>\n",
      "RangeIndex: 111 entries, 0 to 110\n",
      "Data columns (total 31 columns):\n",
      " #   Column                   Non-Null Count  Dtype  \n",
      "---  ------                   --------------  -----  \n",
      " 0   flight_number            111 non-null    int64  \n",
      " 1   mission_name             111 non-null    object \n",
      " 2   mission_id               111 non-null    object \n",
      " 3   upcoming                 111 non-null    bool   \n",
      " 4   launch_year              111 non-null    int64  \n",
      " 5   launch_date_unix         111 non-null    int64  \n",
      " 6   launch_date_utc          111 non-null    object \n",
      " 7   launch_date_local        111 non-null    object \n",
      " 8   is_tentative             111 non-null    bool   \n",
      " 9   tentative_max_precision  111 non-null    object \n",
      " 10  tbd                      111 non-null    bool   \n",
      " 11  launch_window            98 non-null     float64\n",
      " 12  rocket                   111 non-null    object \n",
      " 13  ships                    111 non-null    object \n",
      " 14  telemetry                111 non-null    object \n",
      " 15  launch_site              111 non-null    object \n",
      " 16  launch_success           108 non-null    float64\n",
      " 17  launch_failure_details   5 non-null      object \n",
      " 18  links                    111 non-null    object \n",
      " 19  details                  102 non-null    object \n",
      " 20  static_fire_date_utc     100 non-null    object \n",
      " 21  static_fire_date_unix    100 non-null    float64\n",
      " 22  timeline                 80 non-null     object \n",
      " 23  crew                     1 non-null      object \n",
      " 24  last_date_update         27 non-null     object \n",
      " 25  last_ll_launch_date      12 non-null     object \n",
      " 26  last_ll_update           12 non-null     object \n",
      " 27  last_wiki_launch_date    27 non-null     object \n",
      " 28  last_wiki_revision       27 non-null     object \n",
      " 29  last_wiki_update         27 non-null     object \n",
      " 30  launch_date_source       27 non-null     object \n",
      "dtypes: bool(3), float64(3), int64(3), object(22)\n",
      "memory usage: 24.7+ KB\n"
     ]
    }
   ],
   "source": [
    "space_x_launches_df.info()"
   ]
  },
  {
   "cell_type": "code",
   "execution_count": null,
   "metadata": {
    "colab": {
     "base_uri": "https://localhost:8080/"
    },
    "id": "R3H0z8dhsgfr",
    "outputId": "49487ff7-8559-491d-94e3-7c84b1f8ed71"
   },
   "outputs": [
    {
     "data": {
      "text/plain": [
       "flight_number                0\n",
       "mission_name                 0\n",
       "mission_id                   0\n",
       "upcoming                     0\n",
       "launch_year                  0\n",
       "launch_date_unix             0\n",
       "launch_date_utc              0\n",
       "launch_date_local            0\n",
       "is_tentative                 0\n",
       "tentative_max_precision      0\n",
       "tbd                          0\n",
       "launch_window               13\n",
       "rocket                       0\n",
       "ships                        0\n",
       "telemetry                    0\n",
       "launch_site                  0\n",
       "launch_success               3\n",
       "launch_failure_details     106\n",
       "links                        0\n",
       "details                      9\n",
       "static_fire_date_utc        11\n",
       "static_fire_date_unix       11\n",
       "timeline                    31\n",
       "crew                       110\n",
       "last_date_update            84\n",
       "last_ll_launch_date         99\n",
       "last_ll_update              99\n",
       "last_wiki_launch_date       84\n",
       "last_wiki_revision          84\n",
       "last_wiki_update            84\n",
       "launch_date_source          84\n",
       "dtype: int64"
      ]
     },
     "execution_count": 77,
     "metadata": {
      "tags": []
     },
     "output_type": "execute_result"
    }
   ],
   "source": [
    "space_x_launches_df.isnull().sum()"
   ]
  },
  {
   "cell_type": "markdown",
   "metadata": {
    "id": "Y2is9Mfa0m0Q"
   },
   "source": [
    "#### Mission ID - Cleaning\n",
    "Needed to take a deeper dive into the mission id column. As all values came in a empty lists, it told me there there had to be some values of interest. Come to find out there actually were at least 54 rows with valid mission id's. I simply replaced the ones with no data available with 'no_id' as we definitely need to keep as many missions as we can."
   ]
  },
  {
   "cell_type": "code",
   "execution_count": null,
   "metadata": {
    "colab": {
     "base_uri": "https://localhost:8080/"
    },
    "id": "Np_zpb14tF9P",
    "outputId": "30a9dea3-4029-4a05-c2a3-0a65b21eaa72"
   },
   "outputs": [
    {
     "name": "stdout",
     "output_type": "stream",
     "text": [
      "0\n",
      "0\n"
     ]
    }
   ],
   "source": [
    "mission_id_col = []\n",
    "\n",
    "counter_1 = 0\n",
    "counter_2 = 0\n",
    "\n",
    "for i in range(space_x_launches_df.shape[0]):\n",
    "  mission_id_series = space_x_launches_df.loc[i, ['mission_id']]\n",
    "  if len(mission_id_series.values[0]) == 0:\n",
    "    mission_id_col.append('no_id')\n",
    "  elif len(mission_id_series.values[0]) == 1:\n",
    "    mission_id_col.append(mission_id_series.values[0][0])\n",
    "  else:\n",
    "    mission_id_col.append(f'{mission_id_series.values[0][0]}/{mission_id_series.values[0][1]}')"
   ]
  },
  {
   "cell_type": "code",
   "execution_count": null,
   "metadata": {
    "id": "QFpNKH6Az6ep"
   },
   "outputs": [],
   "source": [
    "space_x_launches_df['mission_id'] = mission_id_col"
   ]
  },
  {
   "cell_type": "code",
   "execution_count": null,
   "metadata": {
    "colab": {
     "base_uri": "https://localhost:8080/",
     "height": 586
    },
    "id": "Pa4O4mlZ1KL4",
    "outputId": "c2bf392e-02e0-437f-803f-e2d2852f76c4"
   },
   "outputs": [
    {
     "data": {
      "text/html": [
       "<div>\n",
       "<style scoped>\n",
       "    .dataframe tbody tr th:only-of-type {\n",
       "        vertical-align: middle;\n",
       "    }\n",
       "\n",
       "    .dataframe tbody tr th {\n",
       "        vertical-align: top;\n",
       "    }\n",
       "\n",
       "    .dataframe thead th {\n",
       "        text-align: right;\n",
       "    }\n",
       "</style>\n",
       "<table border=\"1\" class=\"dataframe\">\n",
       "  <thead>\n",
       "    <tr style=\"text-align: right;\">\n",
       "      <th></th>\n",
       "      <th>flight_number</th>\n",
       "      <th>mission_name</th>\n",
       "      <th>mission_id</th>\n",
       "      <th>upcoming</th>\n",
       "      <th>launch_year</th>\n",
       "      <th>launch_date_unix</th>\n",
       "      <th>launch_date_utc</th>\n",
       "      <th>launch_date_local</th>\n",
       "      <th>is_tentative</th>\n",
       "      <th>tentative_max_precision</th>\n",
       "      <th>tbd</th>\n",
       "      <th>launch_window</th>\n",
       "      <th>rocket</th>\n",
       "      <th>ships</th>\n",
       "      <th>telemetry</th>\n",
       "      <th>launch_site</th>\n",
       "      <th>launch_success</th>\n",
       "      <th>launch_failure_details</th>\n",
       "      <th>links</th>\n",
       "      <th>details</th>\n",
       "      <th>static_fire_date_utc</th>\n",
       "      <th>static_fire_date_unix</th>\n",
       "      <th>timeline</th>\n",
       "      <th>crew</th>\n",
       "      <th>last_date_update</th>\n",
       "      <th>last_ll_launch_date</th>\n",
       "      <th>last_ll_update</th>\n",
       "      <th>last_wiki_launch_date</th>\n",
       "      <th>last_wiki_revision</th>\n",
       "      <th>last_wiki_update</th>\n",
       "      <th>launch_date_source</th>\n",
       "    </tr>\n",
       "  </thead>\n",
       "  <tbody>\n",
       "    <tr>\n",
       "      <th>0</th>\n",
       "      <td>1</td>\n",
       "      <td>FalconSat</td>\n",
       "      <td>no_id</td>\n",
       "      <td>False</td>\n",
       "      <td>2006</td>\n",
       "      <td>1143239400</td>\n",
       "      <td>2006-03-24T22:30:00.000Z</td>\n",
       "      <td>2006-03-25T10:30:00+12:00</td>\n",
       "      <td>False</td>\n",
       "      <td>hour</td>\n",
       "      <td>False</td>\n",
       "      <td>0.0</td>\n",
       "      <td>{'rocket_id': 'falcon1', 'rocket_name': 'Falco...</td>\n",
       "      <td>[]</td>\n",
       "      <td>{'flight_club': None}</td>\n",
       "      <td>{'site_id': 'kwajalein_atoll', 'site_name': 'K...</td>\n",
       "      <td>0.0</td>\n",
       "      <td>{'time': 33, 'altitude': None, 'reason': 'merl...</td>\n",
       "      <td>{'mission_patch': 'https://images2.imgbox.com/...</td>\n",
       "      <td>Engine failure at 33 seconds and loss of vehicle</td>\n",
       "      <td>2006-03-17T00:00:00.000Z</td>\n",
       "      <td>1.142554e+09</td>\n",
       "      <td>{'webcast_liftoff': 54}</td>\n",
       "      <td>None</td>\n",
       "      <td>NaN</td>\n",
       "      <td>NaN</td>\n",
       "      <td>NaN</td>\n",
       "      <td>NaN</td>\n",
       "      <td>NaN</td>\n",
       "      <td>NaN</td>\n",
       "      <td>NaN</td>\n",
       "    </tr>\n",
       "    <tr>\n",
       "      <th>1</th>\n",
       "      <td>2</td>\n",
       "      <td>DemoSat</td>\n",
       "      <td>no_id</td>\n",
       "      <td>False</td>\n",
       "      <td>2007</td>\n",
       "      <td>1174439400</td>\n",
       "      <td>2007-03-21T01:10:00.000Z</td>\n",
       "      <td>2007-03-21T13:10:00+12:00</td>\n",
       "      <td>False</td>\n",
       "      <td>hour</td>\n",
       "      <td>False</td>\n",
       "      <td>0.0</td>\n",
       "      <td>{'rocket_id': 'falcon1', 'rocket_name': 'Falco...</td>\n",
       "      <td>[]</td>\n",
       "      <td>{'flight_club': None}</td>\n",
       "      <td>{'site_id': 'kwajalein_atoll', 'site_name': 'K...</td>\n",
       "      <td>0.0</td>\n",
       "      <td>{'time': 301, 'altitude': 289, 'reason': 'harm...</td>\n",
       "      <td>{'mission_patch': 'https://images2.imgbox.com/...</td>\n",
       "      <td>Successful first stage burn and transition to ...</td>\n",
       "      <td>None</td>\n",
       "      <td>NaN</td>\n",
       "      <td>{'webcast_liftoff': 60}</td>\n",
       "      <td>None</td>\n",
       "      <td>NaN</td>\n",
       "      <td>NaN</td>\n",
       "      <td>NaN</td>\n",
       "      <td>NaN</td>\n",
       "      <td>NaN</td>\n",
       "      <td>NaN</td>\n",
       "      <td>NaN</td>\n",
       "    </tr>\n",
       "    <tr>\n",
       "      <th>2</th>\n",
       "      <td>3</td>\n",
       "      <td>Trailblazer</td>\n",
       "      <td>no_id</td>\n",
       "      <td>False</td>\n",
       "      <td>2008</td>\n",
       "      <td>1217734440</td>\n",
       "      <td>2008-08-03T03:34:00.000Z</td>\n",
       "      <td>2008-08-03T15:34:00+12:00</td>\n",
       "      <td>False</td>\n",
       "      <td>hour</td>\n",
       "      <td>False</td>\n",
       "      <td>0.0</td>\n",
       "      <td>{'rocket_id': 'falcon1', 'rocket_name': 'Falco...</td>\n",
       "      <td>[]</td>\n",
       "      <td>{'flight_club': None}</td>\n",
       "      <td>{'site_id': 'kwajalein_atoll', 'site_name': 'K...</td>\n",
       "      <td>0.0</td>\n",
       "      <td>{'time': 140, 'altitude': 35, 'reason': 'resid...</td>\n",
       "      <td>{'mission_patch': 'https://images2.imgbox.com/...</td>\n",
       "      <td>Residual stage 1 thrust led to collision betwe...</td>\n",
       "      <td>None</td>\n",
       "      <td>NaN</td>\n",
       "      <td>{'webcast_liftoff': 14}</td>\n",
       "      <td>None</td>\n",
       "      <td>NaN</td>\n",
       "      <td>NaN</td>\n",
       "      <td>NaN</td>\n",
       "      <td>NaN</td>\n",
       "      <td>NaN</td>\n",
       "      <td>NaN</td>\n",
       "      <td>NaN</td>\n",
       "    </tr>\n",
       "    <tr>\n",
       "      <th>3</th>\n",
       "      <td>4</td>\n",
       "      <td>RatSat</td>\n",
       "      <td>no_id</td>\n",
       "      <td>False</td>\n",
       "      <td>2008</td>\n",
       "      <td>1222643700</td>\n",
       "      <td>2008-09-28T23:15:00.000Z</td>\n",
       "      <td>2008-09-28T11:15:00+12:00</td>\n",
       "      <td>False</td>\n",
       "      <td>hour</td>\n",
       "      <td>False</td>\n",
       "      <td>0.0</td>\n",
       "      <td>{'rocket_id': 'falcon1', 'rocket_name': 'Falco...</td>\n",
       "      <td>[]</td>\n",
       "      <td>{'flight_club': None}</td>\n",
       "      <td>{'site_id': 'kwajalein_atoll', 'site_name': 'K...</td>\n",
       "      <td>1.0</td>\n",
       "      <td>NaN</td>\n",
       "      <td>{'mission_patch': 'https://images2.imgbox.com/...</td>\n",
       "      <td>Ratsat was carried to orbit on the first succe...</td>\n",
       "      <td>2008-09-20T00:00:00.000Z</td>\n",
       "      <td>1.221869e+09</td>\n",
       "      <td>{'webcast_liftoff': 5}</td>\n",
       "      <td>None</td>\n",
       "      <td>NaN</td>\n",
       "      <td>NaN</td>\n",
       "      <td>NaN</td>\n",
       "      <td>NaN</td>\n",
       "      <td>NaN</td>\n",
       "      <td>NaN</td>\n",
       "      <td>NaN</td>\n",
       "    </tr>\n",
       "    <tr>\n",
       "      <th>4</th>\n",
       "      <td>5</td>\n",
       "      <td>RazakSat</td>\n",
       "      <td>no_id</td>\n",
       "      <td>False</td>\n",
       "      <td>2009</td>\n",
       "      <td>1247456100</td>\n",
       "      <td>2009-07-13T03:35:00.000Z</td>\n",
       "      <td>2009-07-13T15:35:00+12:00</td>\n",
       "      <td>False</td>\n",
       "      <td>hour</td>\n",
       "      <td>False</td>\n",
       "      <td>0.0</td>\n",
       "      <td>{'rocket_id': 'falcon1', 'rocket_name': 'Falco...</td>\n",
       "      <td>[]</td>\n",
       "      <td>{'flight_club': None}</td>\n",
       "      <td>{'site_id': 'kwajalein_atoll', 'site_name': 'K...</td>\n",
       "      <td>1.0</td>\n",
       "      <td>NaN</td>\n",
       "      <td>{'mission_patch': 'https://images2.imgbox.com/...</td>\n",
       "      <td>None</td>\n",
       "      <td>None</td>\n",
       "      <td>NaN</td>\n",
       "      <td>{'webcast_liftoff': 5}</td>\n",
       "      <td>None</td>\n",
       "      <td>NaN</td>\n",
       "      <td>NaN</td>\n",
       "      <td>NaN</td>\n",
       "      <td>NaN</td>\n",
       "      <td>NaN</td>\n",
       "      <td>NaN</td>\n",
       "      <td>NaN</td>\n",
       "    </tr>\n",
       "  </tbody>\n",
       "</table>\n",
       "</div>"
      ],
      "text/plain": [
       "   flight_number mission_name  ... last_wiki_update  launch_date_source\n",
       "0              1    FalconSat  ...              NaN                 NaN\n",
       "1              2      DemoSat  ...              NaN                 NaN\n",
       "2              3  Trailblazer  ...              NaN                 NaN\n",
       "3              4       RatSat  ...              NaN                 NaN\n",
       "4              5     RazakSat  ...              NaN                 NaN\n",
       "\n",
       "[5 rows x 31 columns]"
      ]
     },
     "execution_count": 232,
     "metadata": {
      "tags": []
     },
     "output_type": "execute_result"
    }
   ],
   "source": [
    "space_x_launches_df.head()"
   ]
  },
  {
   "cell_type": "code",
   "execution_count": null,
   "metadata": {
    "colab": {
     "base_uri": "https://localhost:8080/"
    },
    "id": "op7j7BPW16gs",
    "outputId": "61b6c8fa-f41b-4ebb-87e3-5e9872a9160d"
   },
   "outputs": [
    {
     "name": "stdout",
     "output_type": "stream",
     "text": [
      "['rocket_id', 'rocket_name', 'rocket_type', 'first_stage', 'second_stage', 'fairings']\n"
     ]
    }
   ],
   "source": [
    "keys_in_rocket = list(space_x_launches_df['rocket'][0].keys())\n",
    "print(keys_in_rocket)"
   ]
  },
  {
   "cell_type": "code",
   "execution_count": null,
   "metadata": {
    "id": "a7z5Dq8nGSOZ"
   },
   "outputs": [],
   "source": [
    "rockets_dataframe = pd.DataFrame()"
   ]
  },
  {
   "cell_type": "code",
   "execution_count": null,
   "metadata": {
    "id": "3mRw-J3iKxnG"
   },
   "outputs": [],
   "source": [
    "import sys"
   ]
  },
  {
   "cell_type": "code",
   "execution_count": null,
   "metadata": {
    "colab": {
     "base_uri": "https://localhost:8080/"
    },
    "id": "BQIP5a5_2sTz",
    "outputId": "ab4ca818-cefb-44b9-b38f-f116ad9c293b"
   },
   "outputs": [
    {
     "name": "stdout",
     "output_type": "stream",
     "text": [
      "0\n",
      "\n",
      ">>>>>cores\n",
      "#####Merlin1A\n",
      "\n",
      ">>>>>cores\n",
      "#####1\n",
      "\n",
      ">>>>>cores\n",
      "#####None\n",
      "\n",
      ">>>>>cores\n",
      "#####False\n",
      "\n",
      ">>>>>cores\n",
      "#####False\n",
      "\n",
      ">>>>>cores\n",
      "#####False\n",
      "\n",
      ">>>>>cores\n",
      "#####None\n",
      "\n",
      ">>>>>cores\n",
      "#####False\n",
      "\n",
      ">>>>>cores\n",
      "#####None\n",
      "\n",
      ">>>>>cores\n",
      "#####None\n",
      "----------------\n",
      "{'block': 1, 'payloads': [{'payload_id': 'FalconSAT-2', 'norad_id': [], 'reused': False, 'customers': ['DARPA'], 'nationality': 'United States', 'manufacturer': 'SSTL', 'payload_type': 'Satellite', 'payload_mass_kg': 20, 'payload_mass_lbs': 43, 'orbit': 'LEO', 'orbit_params': {'reference_system': 'geocentric', 'regime': 'low-earth', 'longitude': None, 'semi_major_axis_km': None, 'eccentricity': None, 'periapsis_km': 400, 'apoapsis_km': 500, 'inclination_deg': 39, 'period_min': None, 'lifespan_years': None, 'epoch': None, 'mean_motion': None, 'raan': None, 'arg_of_pericenter': None, 'mean_anomaly': None}}]}\n",
      "$$$$$$$$1\n",
      "----------------\n",
      "\n",
      ">>>>>payloads\n",
      "#####FalconSAT-2\n",
      "\n",
      "\n",
      "\n",
      ">>>>>payloads\n",
      "#####False\n",
      "\n",
      "\n",
      "\n",
      ">>>>>payloads\n",
      "#####United States\n",
      "\n",
      ">>>>>payloads\n",
      "#####SSTL\n",
      "\n",
      ">>>>>payloads\n",
      "#####Satellite\n",
      "\n",
      ">>>>>payloads\n",
      "#####20\n",
      "\n",
      ">>>>>payloads\n",
      "#####43\n",
      "\n",
      ">>>>>payloads\n",
      "#####LEO\n",
      "\n",
      "----------------\n",
      "{'reused': False, 'recovery_attempt': False, 'recovered': False, 'ship': None}\n",
      "$$$$$$$$False\n",
      "----------------\n",
      "----------------\n",
      "{'reused': False, 'recovery_attempt': False, 'recovered': False, 'ship': None}\n",
      "$$$$$$$$False\n",
      "----------------\n",
      "----------------\n",
      "{'reused': False, 'recovery_attempt': False, 'recovered': False, 'ship': None}\n",
      "$$$$$$$$False\n",
      "----------------\n",
      "----------------\n",
      "{'reused': False, 'recovery_attempt': False, 'recovered': False, 'ship': None}\n",
      "$$$$$$$$None\n",
      "----------------\n",
      "1\n",
      "\n",
      ">>>>>cores\n",
      "#####Merlin2A\n",
      "\n",
      ">>>>>cores\n",
      "#####1\n",
      "\n",
      ">>>>>cores\n",
      "#####None\n",
      "\n",
      ">>>>>cores\n",
      "#####False\n",
      "\n",
      ">>>>>cores\n",
      "#####False\n",
      "\n",
      ">>>>>cores\n",
      "#####False\n",
      "\n",
      ">>>>>cores\n",
      "#####None\n",
      "\n",
      ">>>>>cores\n",
      "#####False\n",
      "\n",
      ">>>>>cores\n",
      "#####None\n",
      "\n",
      ">>>>>cores\n",
      "#####None\n",
      "----------------\n",
      "{'block': 1, 'payloads': [{'payload_id': 'FalconSAT-2', 'norad_id': [], 'reused': False, 'customers': ['DARPA'], 'nationality': 'United States', 'manufacturer': 'SSTL', 'payload_type': 'Satellite', 'payload_mass_kg': 20, 'payload_mass_lbs': 43, 'orbit': 'LEO', 'orbit_params': {'reference_system': 'geocentric', 'regime': 'low-earth', 'longitude': None, 'semi_major_axis_km': None, 'eccentricity': None, 'periapsis_km': 400, 'apoapsis_km': 500, 'inclination_deg': 39, 'period_min': None, 'lifespan_years': None, 'epoch': None, 'mean_motion': None, 'raan': None, 'arg_of_pericenter': None, 'mean_anomaly': None}}]}\n",
      "$$$$$$$$1\n",
      "----------------\n",
      "\n",
      ">>>>>payloads\n",
      "#####FalconSAT-2\n",
      "\n",
      "\n",
      "\n",
      ">>>>>payloads\n",
      "#####False\n",
      "\n",
      "\n",
      "\n",
      ">>>>>payloads\n",
      "#####United States\n",
      "\n",
      ">>>>>payloads\n",
      "#####SSTL\n",
      "\n",
      ">>>>>payloads\n",
      "#####Satellite\n",
      "\n",
      ">>>>>payloads\n",
      "#####20\n",
      "\n",
      ">>>>>payloads\n",
      "#####43\n",
      "\n",
      ">>>>>payloads\n",
      "#####LEO\n",
      "\n",
      "----------------\n",
      "{'reused': False, 'recovery_attempt': False, 'recovered': False, 'ship': None}\n",
      "$$$$$$$$False\n",
      "----------------\n",
      "----------------\n",
      "{'reused': False, 'recovery_attempt': False, 'recovered': False, 'ship': None}\n",
      "$$$$$$$$False\n",
      "----------------\n",
      "----------------\n",
      "{'reused': False, 'recovery_attempt': False, 'recovered': False, 'ship': None}\n",
      "$$$$$$$$False\n",
      "----------------\n",
      "----------------\n",
      "{'reused': False, 'recovery_attempt': False, 'recovered': False, 'ship': None}\n",
      "$$$$$$$$None\n",
      "----------------\n",
      "2\n",
      "\n",
      ">>>>>cores\n",
      "#####Merlin1C\n",
      "\n",
      ">>>>>cores\n",
      "#####1\n",
      "\n",
      ">>>>>cores\n",
      "#####None\n",
      "\n",
      ">>>>>cores\n",
      "#####False\n",
      "\n",
      ">>>>>cores\n",
      "#####False\n",
      "\n",
      ">>>>>cores\n",
      "#####False\n",
      "\n",
      ">>>>>cores\n",
      "#####None\n",
      "\n",
      ">>>>>cores\n",
      "#####False\n",
      "\n",
      ">>>>>cores\n",
      "#####None\n",
      "\n",
      ">>>>>cores\n",
      "#####None\n",
      "----------------\n",
      "{'block': 1, 'payloads': [{'payload_id': 'FalconSAT-2', 'norad_id': [], 'reused': False, 'customers': ['DARPA'], 'nationality': 'United States', 'manufacturer': 'SSTL', 'payload_type': 'Satellite', 'payload_mass_kg': 20, 'payload_mass_lbs': 43, 'orbit': 'LEO', 'orbit_params': {'reference_system': 'geocentric', 'regime': 'low-earth', 'longitude': None, 'semi_major_axis_km': None, 'eccentricity': None, 'periapsis_km': 400, 'apoapsis_km': 500, 'inclination_deg': 39, 'period_min': None, 'lifespan_years': None, 'epoch': None, 'mean_motion': None, 'raan': None, 'arg_of_pericenter': None, 'mean_anomaly': None}}]}\n",
      "$$$$$$$$1\n",
      "----------------\n",
      "\n",
      ">>>>>payloads\n",
      "#####FalconSAT-2\n",
      "\n",
      "\n",
      "\n",
      ">>>>>payloads\n",
      "#####False\n",
      "\n",
      "\n",
      "\n",
      ">>>>>payloads\n",
      "#####United States\n",
      "\n",
      ">>>>>payloads\n",
      "#####SSTL\n",
      "\n",
      ">>>>>payloads\n",
      "#####Satellite\n",
      "\n",
      ">>>>>payloads\n",
      "#####20\n",
      "\n",
      ">>>>>payloads\n",
      "#####43\n",
      "\n",
      ">>>>>payloads\n",
      "#####LEO\n",
      "\n",
      "----------------\n",
      "{'reused': False, 'recovery_attempt': False, 'recovered': False, 'ship': None}\n",
      "$$$$$$$$False\n",
      "----------------\n",
      "----------------\n",
      "{'reused': False, 'recovery_attempt': False, 'recovered': False, 'ship': None}\n",
      "$$$$$$$$False\n",
      "----------------\n",
      "----------------\n",
      "{'reused': False, 'recovery_attempt': False, 'recovered': False, 'ship': None}\n",
      "$$$$$$$$False\n",
      "----------------\n",
      "----------------\n",
      "{'reused': False, 'recovery_attempt': False, 'recovered': False, 'ship': None}\n",
      "$$$$$$$$None\n",
      "----------------\n",
      "3\n",
      "\n",
      ">>>>>cores\n",
      "#####Merlin2C\n",
      "\n",
      ">>>>>cores\n",
      "#####1\n",
      "\n",
      ">>>>>cores\n",
      "#####None\n",
      "\n",
      ">>>>>cores\n",
      "#####False\n",
      "\n",
      ">>>>>cores\n",
      "#####False\n",
      "\n",
      ">>>>>cores\n",
      "#####False\n",
      "\n",
      ">>>>>cores\n",
      "#####None\n",
      "\n",
      ">>>>>cores\n",
      "#####False\n",
      "\n",
      ">>>>>cores\n",
      "#####None\n",
      "\n",
      ">>>>>cores\n",
      "#####None\n",
      "----------------\n",
      "{'block': 1, 'payloads': [{'payload_id': 'FalconSAT-2', 'norad_id': [], 'reused': False, 'customers': ['DARPA'], 'nationality': 'United States', 'manufacturer': 'SSTL', 'payload_type': 'Satellite', 'payload_mass_kg': 20, 'payload_mass_lbs': 43, 'orbit': 'LEO', 'orbit_params': {'reference_system': 'geocentric', 'regime': 'low-earth', 'longitude': None, 'semi_major_axis_km': None, 'eccentricity': None, 'periapsis_km': 400, 'apoapsis_km': 500, 'inclination_deg': 39, 'period_min': None, 'lifespan_years': None, 'epoch': None, 'mean_motion': None, 'raan': None, 'arg_of_pericenter': None, 'mean_anomaly': None}}]}\n",
      "$$$$$$$$1\n",
      "----------------\n",
      "\n",
      ">>>>>payloads\n",
      "#####FalconSAT-2\n",
      "\n",
      "\n",
      "\n",
      ">>>>>payloads\n",
      "#####False\n",
      "\n",
      "\n",
      "\n",
      ">>>>>payloads\n",
      "#####United States\n",
      "\n",
      ">>>>>payloads\n",
      "#####SSTL\n",
      "\n",
      ">>>>>payloads\n",
      "#####Satellite\n",
      "\n",
      ">>>>>payloads\n",
      "#####20\n",
      "\n",
      ">>>>>payloads\n",
      "#####43\n",
      "\n",
      ">>>>>payloads\n",
      "#####LEO\n",
      "\n",
      "----------------\n",
      "{'reused': False, 'recovery_attempt': False, 'recovered': False, 'ship': None}\n",
      "$$$$$$$$False\n",
      "----------------\n",
      "----------------\n",
      "{'reused': False, 'recovery_attempt': False, 'recovered': False, 'ship': None}\n",
      "$$$$$$$$False\n",
      "----------------\n",
      "----------------\n",
      "{'reused': False, 'recovery_attempt': False, 'recovered': False, 'ship': None}\n",
      "$$$$$$$$False\n",
      "----------------\n",
      "----------------\n",
      "{'reused': False, 'recovery_attempt': False, 'recovered': False, 'ship': None}\n",
      "$$$$$$$$None\n",
      "----------------\n",
      "4\n",
      "\n",
      ">>>>>cores\n",
      "#####Merlin3C\n",
      "\n",
      ">>>>>cores\n",
      "#####1\n",
      "\n",
      ">>>>>cores\n",
      "#####None\n",
      "\n",
      ">>>>>cores\n",
      "#####False\n",
      "\n",
      ">>>>>cores\n",
      "#####False\n",
      "\n",
      ">>>>>cores\n",
      "#####False\n",
      "\n",
      ">>>>>cores\n",
      "#####None\n",
      "\n",
      ">>>>>cores\n",
      "#####False\n",
      "\n",
      ">>>>>cores\n",
      "#####None\n",
      "\n",
      ">>>>>cores\n",
      "#####None\n",
      "----------------\n",
      "{'block': 1, 'payloads': [{'payload_id': 'FalconSAT-2', 'norad_id': [], 'reused': False, 'customers': ['DARPA'], 'nationality': 'United States', 'manufacturer': 'SSTL', 'payload_type': 'Satellite', 'payload_mass_kg': 20, 'payload_mass_lbs': 43, 'orbit': 'LEO', 'orbit_params': {'reference_system': 'geocentric', 'regime': 'low-earth', 'longitude': None, 'semi_major_axis_km': None, 'eccentricity': None, 'periapsis_km': 400, 'apoapsis_km': 500, 'inclination_deg': 39, 'period_min': None, 'lifespan_years': None, 'epoch': None, 'mean_motion': None, 'raan': None, 'arg_of_pericenter': None, 'mean_anomaly': None}}]}\n",
      "$$$$$$$$1\n",
      "----------------\n",
      "\n",
      ">>>>>payloads\n",
      "#####FalconSAT-2\n",
      "\n",
      "\n",
      "\n",
      ">>>>>payloads\n",
      "#####False\n",
      "\n",
      "\n",
      "\n",
      ">>>>>payloads\n",
      "#####United States\n",
      "\n",
      ">>>>>payloads\n",
      "#####SSTL\n",
      "\n",
      ">>>>>payloads\n",
      "#####Satellite\n",
      "\n",
      ">>>>>payloads\n",
      "#####20\n",
      "\n",
      ">>>>>payloads\n",
      "#####43\n",
      "\n",
      ">>>>>payloads\n",
      "#####LEO\n",
      "\n",
      "----------------\n",
      "{'reused': False, 'recovery_attempt': False, 'recovered': False, 'ship': None}\n",
      "$$$$$$$$False\n",
      "----------------\n",
      "----------------\n",
      "{'reused': False, 'recovery_attempt': False, 'recovered': False, 'ship': None}\n",
      "$$$$$$$$False\n",
      "----------------\n",
      "----------------\n",
      "{'reused': False, 'recovery_attempt': False, 'recovered': False, 'ship': None}\n",
      "$$$$$$$$False\n",
      "----------------\n",
      "----------------\n",
      "{'reused': False, 'recovery_attempt': False, 'recovered': False, 'ship': None}\n",
      "$$$$$$$$None\n",
      "----------------\n"
     ]
    }
   ],
   "source": [
    "for index in range(5):\n",
    "\n",
    "  print(index)\n",
    "\n",
    "  for keys in keys_in_rocket:\n",
    "\n",
    "    my_object = space_x_launches_df['rocket'][index][keys]\n",
    "\n",
    "    if isinstance(my_object, dict):\n",
    "      list_keys = list(my_object.keys())\n",
    "      \n",
    "      for index, keys_lev1 in enumerate(list_keys):\n",
    "\n",
    "        object_lev1 = my_object[keys_lev1]\n",
    "\n",
    "        if isinstance(object_lev1, list):\n",
    "          sub_dictionary = object_lev1[0]\n",
    "\n",
    "          for each_key, each_val in sub_dictionary.items():\n",
    "\n",
    "            print(\"\")\n",
    "            #print(each_key)\n",
    "\n",
    "            if isinstance(each_val, list):\n",
    "\n",
    "              if len(each_val) == 0:\n",
    "                print(\"\")\n",
    "\n",
    "                #print(f\"{each_key} undefined\")\n",
    "              else:\n",
    "                print(\"\")\n",
    "                #print(each_val[0])\n",
    "\n",
    "            elif isinstance(each_val, dict):\n",
    "              #print(f\"8888888888888888888888888888888888Didctionary\")\n",
    "\n",
    "              for sub_keys, sub_values in each_val.items():\n",
    "                sub_values = sub_values\n",
    "                #print(sub_keys)\n",
    "                #print(sub_values)\n",
    "                #print(f\"8888888888888888888888888888888888888888888\")\n",
    "            else:\n",
    "              #each_val\n",
    "              print(f\">>>>>{keys_lev1}\")\n",
    "              print(f\"#####{each_val}\")\n",
    "        \n",
    "        elif isinstance(each_val, dict):\n",
    "          for sub_keys, sub_values in each_val.items():\n",
    "            sub_values = sub_values\n",
    "        \n",
    "        else:\n",
    "          print(\"----------------\")\n",
    "          print(my_object)\n",
    "          print(f\"$$$$$$$${object_lev1}\")\n",
    "          print(\"----------------\")\n",
    "    else:\n",
    "      # This needs to be a row\n",
    "      rockets_dataframe.loc[index, str(keys)] = space_x_launches_df['rocket'][index][keys]\n",
    "      #print(rockets_dataframe[str(keys)])"
   ]
  },
  {
   "cell_type": "code",
   "execution_count": null,
   "metadata": {
    "colab": {
     "base_uri": "https://localhost:8080/",
     "height": 202
    },
    "id": "mTlI3FGbHNH0",
    "outputId": "e298eff6-4f53-47c0-9c29-08a32bc341e0"
   },
   "outputs": [
    {
     "data": {
      "text/html": [
       "<div>\n",
       "<style scoped>\n",
       "    .dataframe tbody tr th:only-of-type {\n",
       "        vertical-align: middle;\n",
       "    }\n",
       "\n",
       "    .dataframe tbody tr th {\n",
       "        vertical-align: top;\n",
       "    }\n",
       "\n",
       "    .dataframe thead th {\n",
       "        text-align: right;\n",
       "    }\n",
       "</style>\n",
       "<table border=\"1\" class=\"dataframe\">\n",
       "  <thead>\n",
       "    <tr style=\"text-align: right;\">\n",
       "      <th></th>\n",
       "      <th>rocket_id</th>\n",
       "      <th>rocket_name</th>\n",
       "      <th>rocket_type</th>\n",
       "    </tr>\n",
       "  </thead>\n",
       "  <tbody>\n",
       "    <tr>\n",
       "      <th>0</th>\n",
       "      <td>falcon1</td>\n",
       "      <td>Falcon 1</td>\n",
       "      <td>Merlin A</td>\n",
       "    </tr>\n",
       "    <tr>\n",
       "      <th>1</th>\n",
       "      <td>falcon1</td>\n",
       "      <td>Falcon 1</td>\n",
       "      <td>Merlin A</td>\n",
       "    </tr>\n",
       "    <tr>\n",
       "      <th>2</th>\n",
       "      <td>falcon1</td>\n",
       "      <td>Falcon 1</td>\n",
       "      <td>Merlin C</td>\n",
       "    </tr>\n",
       "    <tr>\n",
       "      <th>3</th>\n",
       "      <td>falcon1</td>\n",
       "      <td>Falcon 1</td>\n",
       "      <td>Merlin C</td>\n",
       "    </tr>\n",
       "    <tr>\n",
       "      <th>4</th>\n",
       "      <td>falcon1</td>\n",
       "      <td>Falcon 1</td>\n",
       "      <td>Merlin C</td>\n",
       "    </tr>\n",
       "  </tbody>\n",
       "</table>\n",
       "</div>"
      ],
      "text/plain": [
       "  rocket_id rocket_name rocket_type\n",
       "0   falcon1    Falcon 1    Merlin A\n",
       "1   falcon1    Falcon 1    Merlin A\n",
       "2   falcon1    Falcon 1    Merlin C\n",
       "3   falcon1    Falcon 1    Merlin C\n",
       "4   falcon1    Falcon 1    Merlin C"
      ]
     },
     "execution_count": 326,
     "metadata": {
      "tags": []
     },
     "output_type": "execute_result"
    }
   ],
   "source": [
    "rockets_dataframe.head()"
   ]
  },
  {
   "cell_type": "markdown",
   "metadata": {
    "id": "qVaKHO5HsbKI"
   },
   "source": [
    "#### Pandas.Describe"
   ]
  },
  {
   "cell_type": "markdown",
   "metadata": {
    "id": "RAiat_yGaM5y"
   },
   "source": [
    " ## Enpoint #2 - Launchpads\n",
    "\n",
    "The basic url for this API is https://api.spacexdata.com/v3/, however different endpoints can be added to the url depending on the desired information. For example, in our case we will want the Launchpds field to know which launchpads where used by different Space X launch vehicles."
   ]
  },
  {
   "cell_type": "code",
   "execution_count": null,
   "metadata": {
    "colab": {
     "base_uri": "https://localhost:8080/"
    },
    "id": "OzszXnEZLhwe",
    "outputId": "840d1436-6a1c-4fe9-b53d-1f756e3a9683"
   },
   "outputs": [
    {
     "name": "stdout",
     "output_type": "stream",
     "text": [
      "<Response [200]>\n"
     ]
    }
   ],
   "source": [
    "url = \"https://api.spacexdata.com/v3/launchpads\"\n",
    "print(requests.get(url))"
   ]
  },
  {
   "cell_type": "code",
   "execution_count": null,
   "metadata": {
    "colab": {
     "base_uri": "https://localhost:8080/"
    },
    "id": "aGy9fBhILw-c",
    "outputId": "f2299096-e828-444d-dc0b-6683027d8edf"
   },
   "outputs": [
    {
     "name": "stdout",
     "output_type": "stream",
     "text": [
      "[\n",
      "  {\n",
      "    \"id\": 5,\n",
      "    \"name\": \"VAFB SLC 3W\",\n",
      "    \"status\": \"retired\",\n",
      "    \"location\": {\n",
      "      \"name\": \"Vandenberg Air Force Base\",\n",
      "      \"region\": \"California\",\n",
      "      \"latitude\": 34.6440904,\n",
      "      \"longitude\": -120.5931438\n",
      "    },\n",
      "    \"vehicles_launched\": [\n",
      "      \"Falcon 1\"\n",
      "    ],\n",
      "    \"attempted_launches\": 0,\n",
      "    \"successful_launches\": 0,\n",
      "    \"wikipedia\": \"https://en.wikipedia.org/wiki/Vandenberg_AFB_Space_Launch_Complex_3\",\n",
      "    \"details\": \"SpaceX original west coast launch pad for Falcon 1. Performed a static fire but was never used for a launch and abandoned due to scheduling conflicts.\",\n",
      "    \"site_id\": \"vafb_slc_3w\",\n",
      "    \"site_name_long\": \"Vandenberg Air Force Base Space Launch Complex 3W\"\n",
      "  },\n",
      "  {\n",
      "    \"id\": 2,\n",
      "    \"name\": \"CCAFS SLC 40\",\n",
      "    \"status\": \"active\",\n",
      "    \"location\": {\n",
      "      \"name\": \"Cape Canaveral\",\n",
      "      \"region\": \"Florida\",\n",
      "      \"latitude\": 28.5618571,\n",
      "      \"longitude\": -80.577366\n",
      "    },\n",
      "    \"vehicles_launched\": [\n",
      "      \"Falcon 9\"\n",
      "    ],\n",
      "    \"attempted_launches\": 61,\n",
      "    \"successful_launches\": 59,\n",
      "    \"wikipedia\": \"https://en.wikipedia.org/wiki/Cape_Canaveral_Air_Force_Station_Space_Launch_Complex_40\",\n",
      "    \"details\": \"SpaceX primary Falcon 9 launch pad, where all east coast Falcon 9s launched prior to the AMOS-6 anomaly. Initially used to launch Titan rockets for Lockheed Martin. Back online since CRS-13 on 2017-12-15.\",\n",
      "    \"site_id\": \"ccafs_slc_40\",\n",
      "    \"site_name_long\": \"Cape Canaveral Air Force Station Space Launch Complex 40\"\n",
      "  },\n",
      "  {\n",
      "    \"id\": 8,\n",
      "    \"name\": \"STLS\",\n",
      "    \"status\": \"under construction\",\n",
      "    \"location\": {\n",
      "      \"name\": \"Boca Chica Village\",\n",
      "      \"region\": \"Texas\",\n",
      "      \"latitude\": 25.9972641,\n",
      "      \"longitude\": -97.1560845\n",
      "    },\n",
      "    \"vehicles_launched\": [\n",
      "      \"Falcon 9\"\n",
      "    ],\n",
      "    \"attempted_launches\": 0,\n",
      "    \"successful_launches\": 0,\n",
      "    \"wikipedia\": \"https://en.wikipedia.org/wiki/SpaceX_South_Texas_Launch_Site\",\n",
      "    \"details\": \"SpaceX new launch site currently under construction to help keep up with the Falcon 9 and Heavy manifests. Expected to be completed in late 2018. Initially will be limited to 12 flights per year, and only GTO launches.\",\n",
      "    \"site_id\": \"stls\",\n",
      "    \"site_name_long\": \"SpaceX South Texas Launch Site\"\n",
      "  },\n",
      "  {\n",
      "    \"id\": 1,\n",
      "    \"name\": \"Kwajalein Atoll\",\n",
      "    \"status\": \"retired\",\n",
      "    \"location\": {\n",
      "      \"name\": \"Omelek Island\",\n",
      "      \"region\": \"Marshall Islands\",\n",
      "      \"latitude\": 9.0477206,\n",
      "      \"longitude\": 167.7431292\n",
      "    },\n",
      "    \"vehicles_launched\": [\n",
      "      \"Falcon 1\"\n",
      "    ],\n",
      "    \"attempted_launches\": 5,\n",
      "    \"successful_launches\": 2,\n",
      "    \"wikipedia\": \"https://en.wikipedia.org/wiki/Omelek_Island\",\n",
      "    \"details\": \"SpaceX original launch site, where all of the Falcon 1 launches occured. Abandoned as SpaceX decided against upgrading the pad to support Falcon 9.\",\n",
      "    \"site_id\": \"kwajalein_atoll\",\n",
      "    \"site_name_long\": \"Kwajalein Atoll Omelek Island\"\n",
      "  },\n",
      "  {\n",
      "    \"id\": 6,\n",
      "    \"name\": \"VAFB SLC 4E\",\n",
      "    \"status\": \"active\",\n",
      "    \"location\": {\n",
      "      \"name\": \"Vandenberg Air Force Base\",\n",
      "      \"region\": \"California\",\n",
      "      \"latitude\": 34.632093,\n",
      "      \"longitude\": -120.610829\n",
      "    },\n",
      "    \"vehicles_launched\": [\n",
      "      \"Falcon 9\"\n",
      "    ],\n",
      "    \"attempted_launches\": 16,\n",
      "    \"successful_launches\": 16,\n",
      "    \"wikipedia\": \"https://en.wikipedia.org/wiki/Vandenberg_AFB_Space_Launch_Complex_4\",\n",
      "    \"details\": \"SpaceX primary west coast launch pad for polar orbits and sun synchronous orbits, primarily used for Iridium. Also intended to be capable of launching Falcon Heavy.\",\n",
      "    \"site_id\": \"vafb_slc_4e\",\n",
      "    \"site_name_long\": \"Vandenberg Air Force Base Space Launch Complex 4E\"\n",
      "  },\n",
      "  {\n",
      "    \"id\": 4,\n",
      "    \"name\": \"KSC LC 39A\",\n",
      "    \"status\": \"active\",\n",
      "    \"location\": {\n",
      "      \"name\": \"Cape Canaveral\",\n",
      "      \"region\": \"Florida\",\n",
      "      \"latitude\": 28.6080585,\n",
      "      \"longitude\": -80.6039558\n",
      "    },\n",
      "    \"vehicles_launched\": [\n",
      "      \"Falcon 9\",\n",
      "      \"Falcon Heavy\"\n",
      "    ],\n",
      "    \"attempted_launches\": 27,\n",
      "    \"successful_launches\": 26,\n",
      "    \"wikipedia\": \"https://en.wikipedia.org/wiki/Kennedy_Space_Center_Launch_Complex_39#Launch_Complex_39A\",\n",
      "    \"details\": \"NASA historic launch pad that launched most of the Saturn V and Space Shuttle missions. Initially for Falcon Heavy launches, it is now launching all of SpaceX east coast missions due to the damage from the AMOS-6 anomaly. After SLC-40 repairs are complete, it will be upgraded to support Falcon Heavy, a process which will take about two months. In the future it will launch commercial crew missions and the Interplanetary Transport System.\",\n",
      "    \"site_id\": \"ksc_lc_39a\",\n",
      "    \"site_name_long\": \"Kennedy Space Center Historic Launch Complex 39A\"\n",
      "  }\n",
      "]\n"
     ]
    }
   ],
   "source": [
    "# This will convert values from the url into json format (key value pairs) so we can use python to do some analysis with !\n",
    "r = requests.get(url)\n",
    "pretty_json = json.loads(r.text)\n",
    "print(json.dumps(pretty_json, indent=2))"
   ]
  },
  {
   "cell_type": "code",
   "execution_count": null,
   "metadata": {
    "colab": {
     "base_uri": "https://localhost:8080/"
    },
    "id": "bVhCcc7lZX1L",
    "outputId": "f0eb85c6-6125-42f7-f7cb-8b4651b4da99"
   },
   "outputs": [
    {
     "name": "stdout",
     "output_type": "stream",
     "text": [
      "VAFB SLC 3W\n",
      "CCAFS SLC 40\n",
      "STLS\n",
      "Kwajalein Atoll\n",
      "VAFB SLC 4E\n",
      "KSC LC 39A\n"
     ]
    }
   ],
   "source": [
    "# This chunk of code will let us know in which form is the original data coming in the form as\n",
    "response = requests.get(url).json()\n",
    "\n",
    "# This piece of code iterations through the list of dictionaies (datatype) to get all the names of the launch pads used by SpaceX.\n",
    "for i in response:\n",
    "  if i['name']:\n",
    "    print(i['name'])"
   ]
  },
  {
   "cell_type": "markdown",
   "metadata": {
    "id": "VI325XlbxrfM"
   },
   "source": [
    "Here we see that Space X has only used 6 different Launch Pads:\n",
    "\n",
    "1. VAFB SLC 3W - Vandenberg Air Force Base Space Launch Complex 3W\n",
    "2. CCAFS SLC 40 - Cape Canaveral Air Force Station Space Launch Complex 40\n",
    "3. STLS - SpaceX South Texas Launch Site\n",
    "4. Kwajalein Atoll - Kwajalein Atoll Omelek Island\n",
    "5. VAFB SLC 4E - Vandenberg Air Force Base Space Launch Complex 4E\n",
    "6. KSC LC 39A - Kennedy Space Center Historic Launch Complex 39A\n",
    "\n",
    "One thing to note is that the South Texas Launch site is not found in the data scrapped from Wikipedia, therefore hurting the credibility of it as a reliable source of data. A better map with more complete information may be created in later stages of the project."
   ]
  },
  {
   "cell_type": "code",
   "execution_count": null,
   "metadata": {
    "colab": {
     "base_uri": "https://localhost:8080/",
     "height": 407
    },
    "id": "m5K-iSbq0LYB",
    "outputId": "dbd1daae-f13b-43d0-8090-a315e70e8da8"
   },
   "outputs": [
    {
     "name": "stdout",
     "output_type": "stream",
     "text": [
      "{\n",
      "    \"attempted_launches\": 20,\n",
      "    \"details\": \"NASA historic launch pad that launched most of the Saturn V and Space Shuttle missions. Initially for Falcon Heavy launches, it is now launching all of SpaceX east coast missions due to the damage from the AMOS-6 anomaly. After SLC-40 repairs are complete, it will be upgraded to support Falcon Heavy, a process which will take about two months. In the future it will launch commercial crew missions and the Interplanetary Transport System.\",\n",
      "    \"id\": 4,\n",
      "    \"location\": {\n",
      "        \"latitude\": 28.6080585,\n",
      "        \"longitude\": -80.6039558,\n",
      "        \"name\": \"Cape Canaveral\",\n",
      "        \"region\": \"Florida\"\n",
      "    },\n",
      "    \"name\": \"KSC LC 39A\",\n",
      "    \"site_id\": \"ksc_lc_39a\",\n",
      "    \"site_name_long\": \"Kennedy Space Center Historic Launch Complex 39A\",\n",
      "    \"status\": \"active\",\n",
      "    \"successful_launches\": 20,\n",
      "    \"vehicles_launched\": [\n",
      "        \"Falcon 9\",\n",
      "        \"Falcon Heavy\"\n",
      "    ],\n",
      "    \"wikipedia\": \"https://en.wikipedia.org/wiki/Kennedy_Space_Center_Launch_Complex_39#Launch_Complex_39A\"\n",
      "}\n"
     ]
    }
   ],
   "source": [
    "# We can also create another request to get information on a specific launchpad\n",
    "response_ksc_lc39a = requests.get(url + \"/ksc_lc_39a\").json()\n",
    "print(json.dumps(response_ksc_lc39a, indent=4, sort_keys=True))"
   ]
  },
  {
   "cell_type": "code",
   "execution_count": null,
   "metadata": {
    "colab": {
     "base_uri": "https://localhost:8080/",
     "height": 55
    },
    "id": "cWecsxA10WXD",
    "outputId": "fedb8b54-325a-4c0d-c87f-3fd4f6c7a9ce"
   },
   "outputs": [
    {
     "data": {
      "text/plain": [
       "'NASA historic launch pad that launched most of the Saturn V and Space Shuttle missions. Initially for Falcon Heavy launches, it is now launching all of SpaceX east coast missions due to the damage from the AMOS-6 anomaly. After SLC-40 repairs are complete, it will be upgraded to support Falcon Heavy, a process which will take about two months. In the future it will launch commercial crew missions and the Interplanetary Transport System.'"
      ]
     },
     "execution_count": 11,
     "metadata": {
      "tags": []
     },
     "output_type": "execute_result"
    }
   ],
   "source": [
    "# Specific information within each dictionary can be access as keys\n",
    "response_ksc_lc39a['details']"
   ]
  },
  {
   "cell_type": "markdown",
   "metadata": {
    "id": "P1rIL66i1J0d"
   },
   "source": [
    "## Endpoint #3 -Rockets Endpoint \n",
    "In this section we will access a different endpoint within the SpaceX API to find out more information out rockets that are manufactured by Space X. Here we will do separate queries for the Falcon 9 rocket."
   ]
  },
  {
   "cell_type": "code",
   "execution_count": null,
   "metadata": {
    "colab": {
     "base_uri": "https://localhost:8080/"
    },
    "id": "K5GNJPj618fB",
    "outputId": "338512e8-6edb-4873-b1b3-0c16401863c8"
   },
   "outputs": [
    {
     "name": "stdout",
     "output_type": "stream",
     "text": [
      "{\n",
      "    \"active\": true,\n",
      "    \"boosters\": 0,\n",
      "    \"company\": \"SpaceX\",\n",
      "    \"cost_per_launch\": 50000000,\n",
      "    \"country\": \"United States\",\n",
      "    \"description\": \"Falcon 9 is a two-stage rocket designed and manufactured by SpaceX for the reliable and safe transport of satellites and the Dragon spacecraft into orbit.\",\n",
      "    \"diameter\": {\n",
      "        \"feet\": 12,\n",
      "        \"meters\": 3.7\n",
      "    },\n",
      "    \"engines\": {\n",
      "        \"engine_loss_max\": 2,\n",
      "        \"isp\": {\n",
      "            \"sea_level\": 288,\n",
      "            \"vacuum\": 312\n",
      "        },\n",
      "        \"layout\": \"octaweb\",\n",
      "        \"number\": 9,\n",
      "        \"propellant_1\": \"liquid oxygen\",\n",
      "        \"propellant_2\": \"RP-1 kerosene\",\n",
      "        \"thrust_sea_level\": {\n",
      "            \"kN\": 845,\n",
      "            \"lbf\": 190000\n",
      "        },\n",
      "        \"thrust_to_weight\": 180.1,\n",
      "        \"thrust_vacuum\": {\n",
      "            \"kN\": 914,\n",
      "            \"lbf\": 205500\n",
      "        },\n",
      "        \"type\": \"merlin\",\n",
      "        \"version\": \"1D+\"\n",
      "    },\n",
      "    \"first_flight\": \"2010-06-04\",\n",
      "    \"first_stage\": {\n",
      "        \"burn_time_sec\": 162,\n",
      "        \"engines\": 9,\n",
      "        \"fuel_amount_tons\": 385,\n",
      "        \"reusable\": true,\n",
      "        \"thrust_sea_level\": {\n",
      "            \"kN\": 7607,\n",
      "            \"lbf\": 1710000\n",
      "        },\n",
      "        \"thrust_vacuum\": {\n",
      "            \"kN\": 8227,\n",
      "            \"lbf\": 1849500\n",
      "        }\n",
      "    },\n",
      "    \"flickr_images\": [\n",
      "        \"https://farm1.staticflickr.com/929/28787338307_3453a11a77_b.jpg\",\n",
      "        \"https://farm4.staticflickr.com/3955/32915197674_eee74d81bb_b.jpg\",\n",
      "        \"https://farm1.staticflickr.com/293/32312415025_6841e30bf1_b.jpg\",\n",
      "        \"https://farm1.staticflickr.com/623/23660653516_5b6cb301d1_b.jpg\",\n",
      "        \"https://farm6.staticflickr.com/5518/31579784413_d853331601_b.jpg\",\n",
      "        \"https://farm1.staticflickr.com/745/32394687645_a9c54a34ef_b.jpg\"\n",
      "    ],\n",
      "    \"height\": {\n",
      "        \"feet\": 229.6,\n",
      "        \"meters\": 70\n",
      "    },\n",
      "    \"id\": \"falcon9\",\n",
      "    \"landing_legs\": {\n",
      "        \"material\": \"carbon fiber\",\n",
      "        \"number\": 4\n",
      "    },\n",
      "    \"mass\": {\n",
      "        \"kg\": 549054,\n",
      "        \"lb\": 1207920\n",
      "    },\n",
      "    \"name\": \"Falcon 9\",\n",
      "    \"payload_weights\": [\n",
      "        {\n",
      "            \"id\": \"leo\",\n",
      "            \"kg\": 22800,\n",
      "            \"lb\": 50265,\n",
      "            \"name\": \"Low Earth Orbit\"\n",
      "        },\n",
      "        {\n",
      "            \"id\": \"gto\",\n",
      "            \"kg\": 8300,\n",
      "            \"lb\": 18300,\n",
      "            \"name\": \"Geosynchronous Transfer Orbit\"\n",
      "        },\n",
      "        {\n",
      "            \"id\": \"mars\",\n",
      "            \"kg\": 4020,\n",
      "            \"lb\": 8860,\n",
      "            \"name\": \"Mars Orbit\"\n",
      "        }\n",
      "    ],\n",
      "    \"rocketid\": 2,\n",
      "    \"second_stage\": {\n",
      "        \"burn_time_sec\": 397,\n",
      "        \"engines\": 1,\n",
      "        \"fuel_amount_tons\": 90,\n",
      "        \"payloads\": {\n",
      "            \"composite_fairing\": {\n",
      "                \"diameter\": {\n",
      "                    \"feet\": 17.1,\n",
      "                    \"meters\": 5.2\n",
      "                },\n",
      "                \"height\": {\n",
      "                    \"feet\": 43,\n",
      "                    \"meters\": 13.1\n",
      "                }\n",
      "            },\n",
      "            \"option_1\": \"dragon\",\n",
      "            \"option_2\": \"composite fairing\"\n",
      "        },\n",
      "        \"reusable\": false,\n",
      "        \"thrust\": {\n",
      "            \"kN\": 934,\n",
      "            \"lbf\": 210000\n",
      "        }\n",
      "    },\n",
      "    \"stages\": 2,\n",
      "    \"success_rate_pct\": 97,\n",
      "    \"type\": \"rocket\",\n",
      "    \"wikipedia\": \"https://en.wikipedia.org/wiki/Falcon_9\"\n",
      "}\n"
     ]
    }
   ],
   "source": [
    "# Performing a GET Request and saving the \n",
    "# API's response within a variable\n",
    "url = \"https://api.spacexdata.com/v2/rockets/falcon9\"\n",
    "response = requests.get(url)\n",
    "response_json = response.json()\n",
    "type(response_json)\n",
    "\n",
    "print(json.dumps(response_json, indent=4, sort_keys=True))"
   ]
  },
  {
   "cell_type": "code",
   "execution_count": null,
   "metadata": {
    "colab": {
     "base_uri": "https://localhost:8080/"
    },
    "id": "qIFIgv5G2_X2",
    "outputId": "0c6247f2-924e-46a8-a88f-fbd175257da5"
   },
   "outputs": [
    {
     "name": "stdout",
     "output_type": "stream",
     "text": [
      "50000000\n"
     ]
    }
   ],
   "source": [
    "# Here we are grabbing a specific value from the dictionary. An interesting fact to know is the average cost per launch of the Falcon 9 in general.\n",
    "print(response_json[\"cost_per_launch\"])"
   ]
  },
  {
   "cell_type": "markdown",
   "metadata": {
    "id": "7CwYaPvI3ZX3"
   },
   "source": [
    "Interesting fact to note for the future analysis and data gathered either from this source others."
   ]
  },
  {
   "cell_type": "code",
   "execution_count": null,
   "metadata": {
    "colab": {
     "base_uri": "https://localhost:8080/"
    },
    "id": "1A5dm4Uy3YXH",
    "outputId": "f760d733-713d-41cb-aedc-4ca99e6a68fb"
   },
   "outputs": [
    {
     "name": "stdout",
     "output_type": "stream",
     "text": [
      "There are 3 payloads.\n"
     ]
    }
   ],
   "source": [
    "# Here we can take a look at the number of payloads that the falcon 9 can carry using the only available field \n",
    "# relating to payloads....the 'payload weights' key\n",
    "\n",
    "number_payloads = len(response_json[\"payload_weights\"])\n",
    "print(f\"There are {number_payloads} payloads.\")"
   ]
  },
  {
   "cell_type": "code",
   "execution_count": null,
   "metadata": {
    "colab": {
     "base_uri": "https://localhost:8080/"
    },
    "id": "2loiiosg3Yv_",
    "outputId": "43935d82-e1c9-4d55-df76-1c241fa510cf"
   },
   "outputs": [
    {
     "name": "stdout",
     "output_type": "stream",
     "text": [
      "The first payload weighed 22800 Kilograms\n"
     ]
    }
   ],
   "source": [
    "# Referencing the values stored within sub-dictionaries and sub-lists\n",
    "payload_weight = response_json[\"payload_weights\"][0][\"kg\"]\n",
    "print(f\"The first payload weighed {payload_weight} Kilograms\")"
   ]
  },
  {
   "cell_type": "markdown",
   "metadata": {
    "id": "W-WaJ3ijWtFX"
   },
   "source": [
    "# Geospatial Data\n",
    "\n",
    "[link text](https:// [link text](https://))\n",
    "\n",
    "https://towardsdatascience.com/how-to-work-with-big-geospatial-data-4ba919a8ffc2\n",
    "\n",
    "https://www.ogc.org/blog/1866\n"
   ]
  }
 ],
 "metadata": {
  "colab": {
   "collapsed_sections": [],
   "name": "Aerospace Launch Business Data Analysis",
   "provenance": [],
   "toc_visible": true
  },
  "kernelspec": {
   "display_name": "Python 3",
   "language": "python",
   "name": "python3"
  },
  "language_info": {
   "codemirror_mode": {
    "name": "ipython",
    "version": 3
   },
   "file_extension": ".py",
   "mimetype": "text/x-python",
   "name": "python",
   "nbconvert_exporter": "python",
   "pygments_lexer": "ipython3",
   "version": "3.8.8"
  }
 },
 "nbformat": 4,
 "nbformat_minor": 4
}
