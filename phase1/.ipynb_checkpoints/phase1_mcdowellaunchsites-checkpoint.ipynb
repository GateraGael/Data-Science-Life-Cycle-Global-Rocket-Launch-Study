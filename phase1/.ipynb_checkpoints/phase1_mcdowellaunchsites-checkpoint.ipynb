{
 "cells": [
  {
   "cell_type": "markdown",
   "metadata": {
    "id": "WZ4oHhJ-lQrP"
   },
   "source": [
    "# Extract Transform Load (ETL)\n",
    "\n",
    "The Data Science Lifecycle typically starts with Extract, read the data, often from multiple sources; Transform, clean and structure the data in the desired form;Load, write the data into a database for storage. As defined by Microsoft Azure documentation: \"Extract, transform, and load (ETL) is a data pipeline used to collect data from various sources, transform the data according to business rules, and load it inot a destination data store.[2]\" This launch business data analysis will be using data from Wikipedia's list of rocket launch sites [3], UCS (Union for Concerned Scientists) [4], SpaceX's API [5], and Jonathan McDowell's Launch Log [6] can be used in the writing of a Launch Business case report. "
   ]
  },
  {
   "cell_type": "markdown",
   "metadata": {
    "id": "tHqF7RI0gxIM"
   },
   "source": [
    "# Data Source - Jonathan McDowell's Launch Log\n",
    "\n",
    "Launch log page:\n",
    "[JSR Launch Logs Jonathan C. McDowell Launch Log](https://planet4589.org/space/log/launch.html)\n",
    "\n",
    "Direct link to raw txt file:\n",
    "[Full Master Orbital list](https://planet4589.org/space/log/launchlog.txt)"
   ]
  },
  {
   "cell_type": "code",
   "execution_count": 14,
   "metadata": {},
   "outputs": [],
   "source": [
    "import os\n",
    "import pandas as pd"
   ]
  },
  {
   "cell_type": "code",
   "execution_count": 9,
   "metadata": {
    "id": "5ANyhL_yMQvS"
   },
   "outputs": [
    {
     "name": "stdout",
     "output_type": "stream",
     "text": [
      "['LaunchLog', 'launchsites_wiki', 'observing_systems_capability_analysis_and_review_tool', 'to_scrape.md', 'union_concerned_scientists']\n"
     ]
    }
   ],
   "source": [
    "All_Data = '../Data/'\n",
    "\n",
    "print(os.listdir(All_Data))\n",
    "#Launch_Sites_Wiki_Data_xlx = All_Data + '/Launch Sites-Wiki.xlsx'"
   ]
  },
  {
   "cell_type": "markdown",
   "metadata": {
    "id": "1tKiFvXo8W8T"
   },
   "source": [
    "\n",
    "# Launch Logs\n"
   ]
  },
  {
   "cell_type": "code",
   "execution_count": 17,
   "metadata": {
    "colab": {
     "base_uri": "https://localhost:8080/"
    },
    "id": "7xFpHb5kBQ18",
    "outputId": "b1325e1b-8f3a-474a-b3b6-afffbde1e93b"
   },
   "outputs": [
    {
     "name": "stdout",
     "output_type": "stream",
     "text": [
      "['LaunchLog.csv', 'LaunchLog.xlsx']\n"
     ]
    }
   ],
   "source": [
    "print(os.listdir(launch_log_files))"
   ]
  },
  {
   "cell_type": "code",
   "execution_count": 20,
   "metadata": {
    "colab": {
     "base_uri": "https://localhost:8080/",
     "height": 406
    },
    "id": "08RkPCRyYgNk",
    "outputId": "1fb102bf-47b4-4469-c8b4-a50be5f6d8d3"
   },
   "outputs": [
    {
     "data": {
      "text/html": [
       "<div>\n",
       "<style scoped>\n",
       "    .dataframe tbody tr th:only-of-type {\n",
       "        vertical-align: middle;\n",
       "    }\n",
       "\n",
       "    .dataframe tbody tr th {\n",
       "        vertical-align: top;\n",
       "    }\n",
       "\n",
       "    .dataframe thead th {\n",
       "        text-align: right;\n",
       "    }\n",
       "</style>\n",
       "<table border=\"1\" class=\"dataframe\">\n",
       "  <thead>\n",
       "    <tr style=\"text-align: right;\">\n",
       "      <th></th>\n",
       "      <th># Launch</th>\n",
       "      <th>Year</th>\n",
       "      <th>Month</th>\n",
       "      <th>Day</th>\n",
       "      <th>(UTC)</th>\n",
       "      <th>COSPAR</th>\n",
       "      <th>PL Name</th>\n",
       "      <th>Orig PL Name</th>\n",
       "      <th>SATCAT</th>\n",
       "      <th>LV Type</th>\n",
       "      <th>LV S/N</th>\n",
       "      <th>Site</th>\n",
       "      <th>Suc</th>\n",
       "      <th>Ref</th>\n",
       "    </tr>\n",
       "  </thead>\n",
       "  <tbody>\n",
       "    <tr>\n",
       "      <th>0</th>\n",
       "      <td>1957 ALP</td>\n",
       "      <td>1957.0</td>\n",
       "      <td>Oct</td>\n",
       "      <td>4.0</td>\n",
       "      <td>1900-03-20 08:34:00</td>\n",
       "      <td>1957 ALP 2</td>\n",
       "      <td>1-y ISZ</td>\n",
       "      <td>PS-1</td>\n",
       "      <td>S00002</td>\n",
       "      <td>Sputnik 8K71PS</td>\n",
       "      <td>M1-PS</td>\n",
       "      <td>NIIP-5   LC1</td>\n",
       "      <td>S</td>\n",
       "      <td>Energiya</td>\n",
       "    </tr>\n",
       "    <tr>\n",
       "      <th>1</th>\n",
       "      <td>1957-U01</td>\n",
       "      <td>1957.0</td>\n",
       "      <td>Oct</td>\n",
       "      <td>17.0</td>\n",
       "      <td>505</td>\n",
       "      <td>1957-U01</td>\n",
       "      <td>USAF 88 Charge A</td>\n",
       "      <td>Poulter Pellet</td>\n",
       "      <td>A08258</td>\n",
       "      <td>Aerobee</td>\n",
       "      <td>USAF 88</td>\n",
       "      <td>HADC     A</td>\n",
       "      <td>S</td>\n",
       "      <td>EngSci1.58</td>\n",
       "    </tr>\n",
       "    <tr>\n",
       "      <th>2</th>\n",
       "      <td>1957 BET</td>\n",
       "      <td>1957.0</td>\n",
       "      <td>Nov</td>\n",
       "      <td>3.0</td>\n",
       "      <td>1900-01-09 14:42:00</td>\n",
       "      <td>1957 BET 1</td>\n",
       "      <td>2-y ISZ</td>\n",
       "      <td>PS-2</td>\n",
       "      <td>S00003</td>\n",
       "      <td>Sputnik 8K71PS</td>\n",
       "      <td>M1-2PS</td>\n",
       "      <td>NIIP-5   LC1</td>\n",
       "      <td>S</td>\n",
       "      <td>Grahn-WWW</td>\n",
       "    </tr>\n",
       "    <tr>\n",
       "      <th>3</th>\n",
       "      <td>1957-F01</td>\n",
       "      <td>1957.0</td>\n",
       "      <td>Dec</td>\n",
       "      <td>6.0</td>\n",
       "      <td>1900-03-08 12:35:00</td>\n",
       "      <td>1957-F01</td>\n",
       "      <td>Vanguard</td>\n",
       "      <td>Vanguard Test Satellite</td>\n",
       "      <td>F00002</td>\n",
       "      <td>Vanguard</td>\n",
       "      <td>TV-3</td>\n",
       "      <td>CC       LC18A</td>\n",
       "      <td>F</td>\n",
       "      <td>Vang-ER9948</td>\n",
       "    </tr>\n",
       "    <tr>\n",
       "      <th>4</th>\n",
       "      <td>1958 ALP</td>\n",
       "      <td>1958.0</td>\n",
       "      <td>Feb</td>\n",
       "      <td>1.0</td>\n",
       "      <td>1900-01-14 11:56:00</td>\n",
       "      <td>1958 ALP</td>\n",
       "      <td>Explorer 1</td>\n",
       "      <td>Explorer 1</td>\n",
       "      <td>S00004</td>\n",
       "      <td>Jupiter C</td>\n",
       "      <td>RS-29    UE</td>\n",
       "      <td>CC       LC26A</td>\n",
       "      <td>S</td>\n",
       "      <td>JunoFam</td>\n",
       "    </tr>\n",
       "    <tr>\n",
       "      <th>...</th>\n",
       "      <td>...</td>\n",
       "      <td>...</td>\n",
       "      <td>...</td>\n",
       "      <td>...</td>\n",
       "      <td>...</td>\n",
       "      <td>...</td>\n",
       "      <td>...</td>\n",
       "      <td>...</td>\n",
       "      <td>...</td>\n",
       "      <td>...</td>\n",
       "      <td>...</td>\n",
       "      <td>...</td>\n",
       "      <td>...</td>\n",
       "      <td>...</td>\n",
       "    </tr>\n",
       "    <tr>\n",
       "      <th>95</th>\n",
       "      <td>1960-F10</td>\n",
       "      <td>1960.0</td>\n",
       "      <td>Aug</td>\n",
       "      <td>18.0</td>\n",
       "      <td>1958</td>\n",
       "      <td>1960-F10</td>\n",
       "      <td>Courier 1A</td>\n",
       "      <td>Courier 1A</td>\n",
       "      <td>F00111</td>\n",
       "      <td>Thor Ablestar</td>\n",
       "      <td>262/AB004</td>\n",
       "      <td>CC       LC17B</td>\n",
       "      <td>F</td>\n",
       "      <td>Wire</td>\n",
       "    </tr>\n",
       "    <tr>\n",
       "      <th>96</th>\n",
       "      <td>1960 LAM</td>\n",
       "      <td>1960.0</td>\n",
       "      <td>Aug</td>\n",
       "      <td>19.0</td>\n",
       "      <td>1900-02-04 04:06:00</td>\n",
       "      <td>1960 LAM 1</td>\n",
       "      <td>Korabl'-Sputnik-2</td>\n",
       "      <td>Vostok-1 No. 2</td>\n",
       "      <td>S00055</td>\n",
       "      <td>Vostok 8K72</td>\n",
       "      <td>L1-12</td>\n",
       "      <td>NIIP-5   LC1</td>\n",
       "      <td>S</td>\n",
       "      <td>NezavB</td>\n",
       "    </tr>\n",
       "    <tr>\n",
       "      <th>97</th>\n",
       "      <td>1960 MU</td>\n",
       "      <td>1960.0</td>\n",
       "      <td>Sep</td>\n",
       "      <td>13.0</td>\n",
       "      <td>1900-04-01 05:39:00</td>\n",
       "      <td>1960 MU</td>\n",
       "      <td>Discoverer 15</td>\n",
       "      <td>CORONA C-10</td>\n",
       "      <td>S00057</td>\n",
       "      <td>Thor Agena A</td>\n",
       "      <td>246/FTV 1058</td>\n",
       "      <td>V        75-3-5</td>\n",
       "      <td>S</td>\n",
       "      <td>VCR</td>\n",
       "    </tr>\n",
       "    <tr>\n",
       "      <th>98</th>\n",
       "      <td>NaN</td>\n",
       "      <td>NaN</td>\n",
       "      <td>NaN</td>\n",
       "      <td>NaN</td>\n",
       "      <td>NaN</td>\n",
       "      <td>1960 MU</td>\n",
       "      <td>Discoverer Optical Beacon</td>\n",
       "      <td>SAO Optical Tracking</td>\n",
       "      <td>A00060</td>\n",
       "      <td>NaN</td>\n",
       "      <td>NaN</td>\n",
       "      <td>NaN</td>\n",
       "      <td>NaN</td>\n",
       "      <td>NaN</td>\n",
       "    </tr>\n",
       "    <tr>\n",
       "      <th>99</th>\n",
       "      <td>NaN</td>\n",
       "      <td>NaN</td>\n",
       "      <td>NaN</td>\n",
       "      <td>NaN</td>\n",
       "      <td>NaN</td>\n",
       "      <td>1960 MU</td>\n",
       "      <td>SRV 106</td>\n",
       "      <td>SRV</td>\n",
       "      <td>A00062</td>\n",
       "      <td>NaN</td>\n",
       "      <td>NaN</td>\n",
       "      <td>NaN</td>\n",
       "      <td>NaN</td>\n",
       "      <td>NaN</td>\n",
       "    </tr>\n",
       "  </tbody>\n",
       "</table>\n",
       "<p>100 rows × 14 columns</p>\n",
       "</div>"
      ],
      "text/plain": [
       "    # Launch    Year Month   Day                (UTC)      COSPAR  \\\n",
       "0   1957 ALP  1957.0   Oct   4.0  1900-03-20 08:34:00  1957 ALP 2   \n",
       "1   1957-U01  1957.0   Oct  17.0                  505    1957-U01   \n",
       "2   1957 BET  1957.0   Nov   3.0  1900-01-09 14:42:00  1957 BET 1   \n",
       "3   1957-F01  1957.0   Dec   6.0  1900-03-08 12:35:00    1957-F01   \n",
       "4   1958 ALP  1958.0   Feb   1.0  1900-01-14 11:56:00    1958 ALP   \n",
       "..       ...     ...   ...   ...                  ...         ...   \n",
       "95  1960-F10  1960.0   Aug  18.0                 1958    1960-F10   \n",
       "96  1960 LAM  1960.0   Aug  19.0  1900-02-04 04:06:00  1960 LAM 1   \n",
       "97   1960 MU  1960.0   Sep  13.0  1900-04-01 05:39:00     1960 MU   \n",
       "98       NaN     NaN   NaN   NaN                  NaN     1960 MU   \n",
       "99       NaN     NaN   NaN   NaN                  NaN     1960 MU   \n",
       "\n",
       "                      PL Name             Orig PL Name  SATCAT  \\\n",
       "0                     1-y ISZ                     PS-1  S00002   \n",
       "1            USAF 88 Charge A           Poulter Pellet  A08258   \n",
       "2                     2-y ISZ                     PS-2  S00003   \n",
       "3                    Vanguard  Vanguard Test Satellite  F00002   \n",
       "4                  Explorer 1               Explorer 1  S00004   \n",
       "..                        ...                      ...     ...   \n",
       "95                 Courier 1A               Courier 1A  F00111   \n",
       "96          Korabl'-Sputnik-2           Vostok-1 No. 2  S00055   \n",
       "97              Discoverer 15              CORONA C-10  S00057   \n",
       "98  Discoverer Optical Beacon     SAO Optical Tracking  A00060   \n",
       "99                    SRV 106                      SRV  A00062   \n",
       "\n",
       "           LV Type        LV S/N             Site  Suc          Ref  \n",
       "0   Sputnik 8K71PS         M1-PS     NIIP-5   LC1    S     Energiya  \n",
       "1          Aerobee       USAF 88       HADC     A    S   EngSci1.58  \n",
       "2   Sputnik 8K71PS        M1-2PS     NIIP-5   LC1    S    Grahn-WWW  \n",
       "3         Vanguard          TV-3   CC       LC18A    F  Vang-ER9948  \n",
       "4        Jupiter C   RS-29    UE   CC       LC26A    S      JunoFam  \n",
       "..             ...           ...              ...  ...          ...  \n",
       "95   Thor Ablestar     262/AB004   CC       LC17B    F         Wire  \n",
       "96     Vostok 8K72         L1-12     NIIP-5   LC1    S       NezavB  \n",
       "97    Thor Agena A  246/FTV 1058  V        75-3-5    S          VCR  \n",
       "98             NaN           NaN              NaN  NaN          NaN  \n",
       "99             NaN           NaN              NaN  NaN          NaN  \n",
       "\n",
       "[100 rows x 14 columns]"
      ]
     },
     "execution_count": 20,
     "metadata": {},
     "output_type": "execute_result"
    }
   ],
   "source": [
    "launch_log_files = All_Data + 'LaunchLog' #/Launch Sites-Wiki.xlsx'\n",
    "#print(os.listdir(launch_log_files))\n",
    "launchlog = pd.read_excel(launch_log_files + '/LaunchLog.xlsx')\n",
    "launchlog.head(100)"
   ]
  },
  {
   "cell_type": "code",
   "execution_count": 22,
   "metadata": {
    "id": "VlWLs90kESig"
   },
   "outputs": [
    {
     "data": {
      "text/plain": [
       "# Launch        6620\n",
       "Year            6620\n",
       "Month           6620\n",
       "Day             6620\n",
       "(UTC)           6631\n",
       "COSPAR             0\n",
       "PL Name            0\n",
       "Orig PL Name       0\n",
       "SATCAT             0\n",
       "LV Type         6620\n",
       "LV S/N          6620\n",
       "Site            6620\n",
       "Suc             6620\n",
       "Ref             6620\n",
       "dtype: int64"
      ]
     },
     "execution_count": 22,
     "metadata": {},
     "output_type": "execute_result"
    }
   ],
   "source": [
    "launchlog.isnull().sum()"
   ]
  }
 ],
 "metadata": {
  "colab": {
   "collapsed_sections": [],
   "name": "Aerospace Launch Business Data Analysis",
   "provenance": [],
   "toc_visible": true
  },
  "kernelspec": {
   "display_name": "Python 3",
   "language": "python",
   "name": "python3"
  },
  "language_info": {
   "codemirror_mode": {
    "name": "ipython",
    "version": 3
   },
   "file_extension": ".py",
   "mimetype": "text/x-python",
   "name": "python",
   "nbconvert_exporter": "python",
   "pygments_lexer": "ipython3",
   "version": "3.8.8"
  }
 },
 "nbformat": 4,
 "nbformat_minor": 4
}
