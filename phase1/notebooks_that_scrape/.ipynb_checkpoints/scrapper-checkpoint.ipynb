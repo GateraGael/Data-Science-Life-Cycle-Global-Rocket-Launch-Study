{
 "cells": [
  {
   "cell_type": "markdown",
   "id": "e2b5fd97-1734-420e-9a5a-f8d7f6721c8a",
   "metadata": {},
   "source": [
    "# University Of Twente Databases\n",
    "\n",
    "They have a few intersting tables.\n",
    "1. All Databases\n",
    "[UTwente All Satellites](https://webapps.itc.utwente.nl/sensor/default.aspx?view=allsatellites)\n",
    "\n",
    "2. All Sensors Databases\n",
    "\n",
    "Not sure how we will use the sensors database but might be useful, only scrapped the all satellites."
   ]
  },
  {
   "cell_type": "code",
   "execution_count": 1,
   "id": "cd44fc00-7ddf-4f04-8e2c-af2072d6bf09",
   "metadata": {},
   "outputs": [],
   "source": [
    "# Import necessary packages\n",
    "from bs4 import BeautifulSoup\n",
    "import requests\n",
    "import pandas as pd\n",
    "import re\n",
    "\n",
    "# Site URL\n",
    "url=\"https://webapps.itc.utwente.nl/sensor/default.aspx?view=allsatellites\""
   ]
  },
  {
   "cell_type": "code",
   "execution_count": 2,
   "id": "aae5cf4f-9b48-48fc-bc43-5d5070698dec",
   "metadata": {},
   "outputs": [],
   "source": [
    "# Make a GET request to fetch the raw HTML content\n",
    "html_content = requests.get(url).text\n",
    "\n",
    "# Parse HTML code for the entire site\n",
    "soup = BeautifulSoup(html_content, \"lxml\")"
   ]
  },
  {
   "cell_type": "code",
   "execution_count": 4,
   "id": "f68da525-6b65-4380-94b2-6c158b1bd204",
   "metadata": {},
   "outputs": [
    {
     "name": "stdout",
     "output_type": "stream",
     "text": [
      "Number of tables on site:  1\n"
     ]
    }
   ],
   "source": [
    "# On site there are 3 tables with the class \"wikitable\"\n",
    "# The following line will generate a list of HTML content for each table\n",
    "gdp = soup.find_all(\"table\", attrs={\"class\": \"sdbtable\"})\n",
    "print(\"Number of tables on site: \",len(gdp))"
   ]
  },
  {
   "cell_type": "code",
   "execution_count": 5,
   "id": "69cde3dd-1026-474c-9a48-13fcf63e952a",
   "metadata": {},
   "outputs": [
    {
     "name": "stdout",
     "output_type": "stream",
     "text": [
      "['Name', 'Orbit Type', 'Orbit Height (km)', 'Repeat Cycle (days)', 'Launched in', 'Out of service since', 'Organisation']\n"
     ]
    }
   ],
   "source": [
    "# Lets go ahead and scrape first table with HTML code gdp[0]\n",
    "table1 = gdp[0]\n",
    "# the head will form our column names\n",
    "body = table1.find_all(\"tr\")\n",
    "# Head values (Column names) are the first items of the body list\n",
    "head = body[0] # 0th item is the header row\n",
    "body_rows = body[1:] # All other items becomes the rest of the rows\n",
    "\n",
    "# Lets now iterate through the head HTML code and make list of clean headings\n",
    "\n",
    "# Declare empty list to keep Columns names\n",
    "headings = []\n",
    "for item in head.find_all(\"th\"): # loop through all th elements\n",
    "    # convert the th elements to text and strip \"\\n\"\n",
    "    item = (item.text).rstrip(\"\\n\")\n",
    "    # append the clean column name to headings\n",
    "    headings.append(item)\n",
    "print(headings)"
   ]
  },
  {
   "cell_type": "code",
   "execution_count": 6,
   "id": "50e033b6-7905-41a1-a84d-d62dfff57507",
   "metadata": {},
   "outputs": [],
   "source": [
    "# Next is now to loop though the rest of the rows\n",
    "\n",
    "#print(body_rows[0])\n",
    "all_rows = [] # will be a list for list for all rows\n",
    "for row_num in range(len(body_rows)): # A row at a time\n",
    "    row = [] # this will old entries for one row\n",
    "    for row_item in body_rows[row_num].find_all(\"td\"): #loop through all row entries\n",
    "        # row_item.text removes the tags from the entries\n",
    "        # the following regex is to remove \\xa0 and \\n and comma from row_item.text\n",
    "        # xa0 encodes the flag, \\n is the newline and comma separates thousands in numbers\n",
    "        aa = re.sub(\"(\\xa0)|(\\n)|,\",\"\",row_item.text)\n",
    "        #append aa to row - note one row entry is being appended\n",
    "        row.append(aa)\n",
    "    # append one row to all_rows\n",
    "    all_rows.append(row)"
   ]
  },
  {
   "cell_type": "code",
   "execution_count": 7,
   "id": "a7ffe6b1-cbc0-41b7-aa6c-25872e0a2f4e",
   "metadata": {},
   "outputs": [
    {
     "data": {
      "text/html": [
       "<div>\n",
       "<style scoped>\n",
       "    .dataframe tbody tr th:only-of-type {\n",
       "        vertical-align: middle;\n",
       "    }\n",
       "\n",
       "    .dataframe tbody tr th {\n",
       "        vertical-align: top;\n",
       "    }\n",
       "\n",
       "    .dataframe thead th {\n",
       "        text-align: right;\n",
       "    }\n",
       "</style>\n",
       "<table border=\"1\" class=\"dataframe\">\n",
       "  <thead>\n",
       "    <tr style=\"text-align: right;\">\n",
       "      <th></th>\n",
       "      <th>Name</th>\n",
       "      <th>Orbit Type</th>\n",
       "      <th>Orbit Height (km)</th>\n",
       "      <th>Repeat Cycle (days)</th>\n",
       "      <th>Launched in</th>\n",
       "      <th>Out of service since</th>\n",
       "      <th>Organisation</th>\n",
       "    </tr>\n",
       "  </thead>\n",
       "  <tbody>\n",
       "    <tr>\n",
       "      <th>0</th>\n",
       "      <td>\\r                            ADEOS\\r         ...</td>\n",
       "      <td>Sun Synchronous</td>\n",
       "      <td>797</td>\n",
       "      <td>41</td>\n",
       "      <td>1996</td>\n",
       "      <td>1997</td>\n",
       "      <td>JAXA - Japan</td>\n",
       "    </tr>\n",
       "    <tr>\n",
       "      <th>1</th>\n",
       "      <td>\\r                            ADEOS-II\\r      ...</td>\n",
       "      <td>Sun Synchronous</td>\n",
       "      <td>803</td>\n",
       "      <td>4</td>\n",
       "      <td>2002</td>\n",
       "      <td>2003</td>\n",
       "      <td>JAXA - Japan</td>\n",
       "    </tr>\n",
       "    <tr>\n",
       "      <th>2</th>\n",
       "      <td>\\r                            Aeolus\\r        ...</td>\n",
       "      <td>Sun Synchronous</td>\n",
       "      <td>320</td>\n",
       "      <td>7</td>\n",
       "      <td>2018</td>\n",
       "      <td></td>\n",
       "      <td>ESA</td>\n",
       "    </tr>\n",
       "    <tr>\n",
       "      <th>3</th>\n",
       "      <td>\\r                            ALMAZ-1\\r       ...</td>\n",
       "      <td>Non Sun Synchronous</td>\n",
       "      <td>370</td>\n",
       "      <td></td>\n",
       "      <td>1991</td>\n",
       "      <td>1992</td>\n",
       "      <td>NPO - Mashinostroyeniya</td>\n",
       "    </tr>\n",
       "    <tr>\n",
       "      <th>4</th>\n",
       "      <td>\\r                            ALOS\\r          ...</td>\n",
       "      <td>Sun Synchronous</td>\n",
       "      <td>702</td>\n",
       "      <td>46</td>\n",
       "      <td>2006</td>\n",
       "      <td>2011</td>\n",
       "      <td>JAXA - Japan</td>\n",
       "    </tr>\n",
       "  </tbody>\n",
       "</table>\n",
       "</div>"
      ],
      "text/plain": [
       "                                                Name           Orbit Type  \\\n",
       "0  \\r                            ADEOS\\r         ...      Sun Synchronous   \n",
       "1  \\r                            ADEOS-II\\r      ...      Sun Synchronous   \n",
       "2  \\r                            Aeolus\\r        ...      Sun Synchronous   \n",
       "3  \\r                            ALMAZ-1\\r       ...  Non Sun Synchronous   \n",
       "4  \\r                            ALOS\\r          ...      Sun Synchronous   \n",
       "\n",
       "  Orbit Height (km) Repeat Cycle (days) Launched in Out of service since  \\\n",
       "0               797                  41        1996                 1997   \n",
       "1               803                   4        2002                 2003   \n",
       "2               320                   7        2018                        \n",
       "3               370                            1991                 1992   \n",
       "4               702                  46        2006                 2011   \n",
       "\n",
       "              Organisation  \n",
       "0             JAXA - Japan  \n",
       "1             JAXA - Japan  \n",
       "2                      ESA  \n",
       "3  NPO - Mashinostroyeniya  \n",
       "4             JAXA - Japan  "
      ]
     },
     "execution_count": 7,
     "metadata": {},
     "output_type": "execute_result"
    }
   ],
   "source": [
    "# We can now use the data on all_rowsa and headings to make a table\n",
    "# all_rows becomes our data and headings the column names\n",
    "df = pd.DataFrame(data=all_rows,columns=headings)\n",
    "df.head()"
   ]
  },
  {
   "cell_type": "code",
   "execution_count": null,
   "id": "29a6ada1-717b-43dc-a5d3-6d25de0c9489",
   "metadata": {},
   "outputs": [],
   "source": []
  }
 ],
 "metadata": {
  "kernelspec": {
   "display_name": "mlenv",
   "language": "python",
   "name": "mlenv"
  },
  "language_info": {
   "codemirror_mode": {
    "name": "ipython",
    "version": 3
   },
   "file_extension": ".py",
   "mimetype": "text/x-python",
   "name": "python",
   "nbconvert_exporter": "python",
   "pygments_lexer": "ipython3",
   "version": "3.7.10"
  }
 },
 "nbformat": 4,
 "nbformat_minor": 5
}
