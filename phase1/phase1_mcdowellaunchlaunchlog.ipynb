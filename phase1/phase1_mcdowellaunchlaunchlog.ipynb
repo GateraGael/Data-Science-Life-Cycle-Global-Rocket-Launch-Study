{
 "cells": [
  {
   "cell_type": "markdown",
   "metadata": {
    "id": "WZ4oHhJ-lQrP"
   },
   "source": [
    "# Extract Transform Load (ETL)\n",
    "\n",
    "The Data Science Lifecycle typically starts with Extract, read the data, often from multiple sources; Transform, clean and structure the data in the desired form;Load, write the data into a database for storage. As defined by Microsoft Azure documentation: \"Extract, transform, and load (ETL) is a data pipeline used to collect data from various sources, transform the data according to business rules, and load it inot a destination data store.[2]\" This launch business data analysis will be using data from Wikipedia's list of rocket launch sites [3], UCS (Union for Concerned Scientists) [4], SpaceX's API [5], and Jonathan McDowell's Launch Log [6] can be used in the writing of a Launch Business case report. "
   ]
  },
  {
   "cell_type": "markdown",
   "metadata": {
    "id": "tHqF7RI0gxIM"
   },
   "source": [
    "# Data Source - Jonathan McDowell's Launch Log\n",
    "\n",
    "Launch log page:\n",
    "[JSR Launch Logs Jonathan C. McDowell Launch Log](https://planet4589.org/space/log/launch.html)\n",
    "\n",
    "Direct link to raw txt file:\n",
    "[Full Master Orbital list](https://planet4589.org/space/log/launchlog.txt)"
   ]
  },
  {
   "cell_type": "code",
   "execution_count": 2,
   "metadata": {},
   "outputs": [],
   "source": [
    "import os\n",
    "import pandas as pd"
   ]
  },
  {
   "cell_type": "code",
   "execution_count": 3,
   "metadata": {
    "id": "5ANyhL_yMQvS"
   },
   "outputs": [],
   "source": [
    "All_Data = '../Data/'"
   ]
  },
  {
   "cell_type": "markdown",
   "metadata": {
    "id": "1tKiFvXo8W8T"
   },
   "source": [
    "\n",
    "# Launch Logs\n"
   ]
  },
  {
   "cell_type": "code",
   "execution_count": 36,
   "metadata": {
    "colab": {
     "base_uri": "https://localhost:8080/",
     "height": 406
    },
    "id": "08RkPCRyYgNk",
    "outputId": "1fb102bf-47b4-4469-c8b4-a50be5f6d8d3"
   },
   "outputs": [
    {
     "data": {
      "text/plain": [
       "Index(['# Launch', 'Year', 'Month', 'Day', '(UTC)', 'COSPAR', 'PL Name',\n",
       "       'Orig PL Name', 'SATCAT', 'LV Type', 'LV S/N', 'Site', 'Suc', 'Ref'],\n",
       "      dtype='object')"
      ]
     },
     "execution_count": 36,
     "metadata": {},
     "output_type": "execute_result"
    }
   ],
   "source": [
    "launch_log_files = All_Data + 'LaunchLog' \n",
    "\n",
    "launchlog = pd.read_csv(launch_log_files + '/LaunchLog.csv')\n",
    "launchlog.shape\n",
    "\n",
    "launchlog.columns"
   ]
  },
  {
   "cell_type": "code",
   "execution_count": 22,
   "metadata": {
    "id": "VlWLs90kESig"
   },
   "outputs": [
    {
     "data": {
      "text/plain": [
       "# Launch        6620\n",
       "Year            6620\n",
       "Month           6620\n",
       "Day             6620\n",
       "(UTC)           6631\n",
       "COSPAR             0\n",
       "PL Name            0\n",
       "Orig PL Name       0\n",
       "SATCAT             0\n",
       "LV Type         6620\n",
       "LV S/N          6620\n",
       "Site            6620\n",
       "Suc             6620\n",
       "Ref             6620\n",
       "dtype: int64"
      ]
     },
     "execution_count": 22,
     "metadata": {},
     "output_type": "execute_result"
    }
   ],
   "source": [
    "launchlog.isnull().sum()"
   ]
  },
  {
   "cell_type": "code",
   "execution_count": 30,
   "metadata": {},
   "outputs": [
    {
     "data": {
      "text/plain": [
       "# Launch        0\n",
       "Year            0\n",
       "Month           0\n",
       "Day             0\n",
       "(UTC)           0\n",
       "COSPAR          0\n",
       "PL Name         0\n",
       "Orig PL Name    0\n",
       "SATCAT          0\n",
       "LV Type         0\n",
       "LV S/N          0\n",
       "Site            0\n",
       "Suc             0\n",
       "Ref             0\n",
       "dtype: int64"
      ]
     },
     "execution_count": 30,
     "metadata": {},
     "output_type": "execute_result"
    }
   ],
   "source": [
    "new = launchlog.dropna(axis=0)\n",
    "new.isnull().sum()"
   ]
  },
  {
   "cell_type": "code",
   "execution_count": 31,
   "metadata": {},
   "outputs": [
    {
     "data": {
      "text/plain": [
       "(5997, 14)"
      ]
     },
     "execution_count": 31,
     "metadata": {},
     "output_type": "execute_result"
    }
   ],
   "source": [
    "new.shape"
   ]
  },
  {
   "cell_type": "code",
   "execution_count": 32,
   "metadata": {},
   "outputs": [
    {
     "data": {
      "text/plain": [
       "5997"
      ]
     },
     "execution_count": 32,
     "metadata": {},
     "output_type": "execute_result"
    }
   ],
   "source": []
  },
  {
   "cell_type": "code",
   "execution_count": null,
   "metadata": {},
   "outputs": [],
   "source": []
  }
 ],
 "metadata": {
  "colab": {
   "collapsed_sections": [],
   "name": "Aerospace Launch Business Data Analysis",
   "provenance": [],
   "toc_visible": true
  },
  "kernelspec": {
   "display_name": "Python 3",
   "language": "python",
   "name": "python3"
  },
  "language_info": {
   "codemirror_mode": {
    "name": "ipython",
    "version": 3
   },
   "file_extension": ".py",
   "mimetype": "text/x-python",
   "name": "python",
   "nbconvert_exporter": "python",
   "pygments_lexer": "ipython3",
   "version": "3.8.8"
  }
 },
 "nbformat": 4,
 "nbformat_minor": 4
}
